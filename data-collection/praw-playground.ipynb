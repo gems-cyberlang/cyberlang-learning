{
 "cells": [
  {
   "cell_type": "code",
   "execution_count": 32,
   "metadata": {},
   "outputs": [
    {
     "name": "stdout",
     "output_type": "stream",
     "text": [
      "Requirement already satisfied: praw in /home/ysthakur/.virtualenvs/datasci/lib/python3.11/site-packages (7.7.1)\n",
      "Requirement already satisfied: pandas in /home/ysthakur/.virtualenvs/datasci/lib/python3.11/site-packages (2.2.2)\n",
      "Requirement already satisfied: seaborn in /home/ysthakur/.virtualenvs/datasci/lib/python3.11/site-packages (0.13.2)\n",
      "Requirement already satisfied: scipy in /home/ysthakur/.virtualenvs/datasci/lib/python3.11/site-packages (1.14.0)\n",
      "Requirement already satisfied: nltk in /home/ysthakur/.virtualenvs/datasci/lib/python3.11/site-packages (3.9.1)\n",
      "Requirement already satisfied: scikit-learn in /home/ysthakur/.virtualenvs/datasci/lib/python3.11/site-packages (1.5.2)\n",
      "Requirement already satisfied: spacy in /home/ysthakur/.virtualenvs/datasci/lib/python3.11/site-packages (3.8.2)\n",
      "Requirement already satisfied: prawcore<3,>=2.1 in /home/ysthakur/.virtualenvs/datasci/lib/python3.11/site-packages (from praw) (2.4.0)\n",
      "Requirement already satisfied: update-checker>=0.18 in /home/ysthakur/.virtualenvs/datasci/lib/python3.11/site-packages (from praw) (0.18.0)\n",
      "Requirement already satisfied: websocket-client>=0.54.0 in /home/ysthakur/.virtualenvs/datasci/lib/python3.11/site-packages (from praw) (1.8.0)\n",
      "Requirement already satisfied: numpy>=1.23.2 in /home/ysthakur/.virtualenvs/datasci/lib/python3.11/site-packages (from pandas) (2.0.2)\n",
      "Requirement already satisfied: python-dateutil>=2.8.2 in /home/ysthakur/.virtualenvs/datasci/lib/python3.11/site-packages (from pandas) (2.9.0.post0)\n",
      "Requirement already satisfied: pytz>=2020.1 in /home/ysthakur/.virtualenvs/datasci/lib/python3.11/site-packages (from pandas) (2024.1)\n",
      "Requirement already satisfied: tzdata>=2022.7 in /home/ysthakur/.virtualenvs/datasci/lib/python3.11/site-packages (from pandas) (2024.1)\n",
      "Requirement already satisfied: matplotlib!=3.6.1,>=3.4 in /home/ysthakur/.virtualenvs/datasci/lib/python3.11/site-packages (from seaborn) (3.9.1)\n",
      "Requirement already satisfied: click in /home/ysthakur/.virtualenvs/datasci/lib/python3.11/site-packages (from nltk) (8.1.7)\n",
      "Requirement already satisfied: joblib in /home/ysthakur/.virtualenvs/datasci/lib/python3.11/site-packages (from nltk) (1.4.2)\n",
      "Requirement already satisfied: regex>=2021.8.3 in /home/ysthakur/.virtualenvs/datasci/lib/python3.11/site-packages (from nltk) (2024.9.11)\n",
      "Requirement already satisfied: tqdm in /home/ysthakur/.virtualenvs/datasci/lib/python3.11/site-packages (from nltk) (4.66.5)\n",
      "Requirement already satisfied: threadpoolctl>=3.1.0 in /home/ysthakur/.virtualenvs/datasci/lib/python3.11/site-packages (from scikit-learn) (3.5.0)\n",
      "Requirement already satisfied: spacy-legacy<3.1.0,>=3.0.11 in /home/ysthakur/.virtualenvs/datasci/lib/python3.11/site-packages (from spacy) (3.0.12)\n",
      "Requirement already satisfied: spacy-loggers<2.0.0,>=1.0.0 in /home/ysthakur/.virtualenvs/datasci/lib/python3.11/site-packages (from spacy) (1.0.5)\n",
      "Requirement already satisfied: murmurhash<1.1.0,>=0.28.0 in /home/ysthakur/.virtualenvs/datasci/lib/python3.11/site-packages (from spacy) (1.0.10)\n",
      "Requirement already satisfied: cymem<2.1.0,>=2.0.2 in /home/ysthakur/.virtualenvs/datasci/lib/python3.11/site-packages (from spacy) (2.0.8)\n",
      "Requirement already satisfied: preshed<3.1.0,>=3.0.2 in /home/ysthakur/.virtualenvs/datasci/lib/python3.11/site-packages (from spacy) (3.0.9)\n",
      "Requirement already satisfied: thinc<8.4.0,>=8.3.0 in /home/ysthakur/.virtualenvs/datasci/lib/python3.11/site-packages (from spacy) (8.3.2)\n",
      "Requirement already satisfied: wasabi<1.2.0,>=0.9.1 in /home/ysthakur/.virtualenvs/datasci/lib/python3.11/site-packages (from spacy) (1.1.3)\n",
      "Requirement already satisfied: srsly<3.0.0,>=2.4.3 in /home/ysthakur/.virtualenvs/datasci/lib/python3.11/site-packages (from spacy) (2.4.8)\n",
      "Requirement already satisfied: catalogue<2.1.0,>=2.0.6 in /home/ysthakur/.virtualenvs/datasci/lib/python3.11/site-packages (from spacy) (2.0.10)\n",
      "Requirement already satisfied: weasel<0.5.0,>=0.1.0 in /home/ysthakur/.virtualenvs/datasci/lib/python3.11/site-packages (from spacy) (0.4.1)\n",
      "Requirement already satisfied: typer<1.0.0,>=0.3.0 in /home/ysthakur/.virtualenvs/datasci/lib/python3.11/site-packages (from spacy) (0.12.5)\n",
      "Requirement already satisfied: requests<3.0.0,>=2.13.0 in /home/ysthakur/.virtualenvs/datasci/lib/python3.11/site-packages (from spacy) (2.31.0)\n",
      "Requirement already satisfied: pydantic!=1.8,!=1.8.1,<3.0.0,>=1.7.4 in /home/ysthakur/.virtualenvs/datasci/lib/python3.11/site-packages (from spacy) (2.9.2)\n",
      "Requirement already satisfied: jinja2 in /home/ysthakur/.virtualenvs/datasci/lib/python3.11/site-packages (from spacy) (3.1.4)\n",
      "Requirement already satisfied: setuptools in /home/ysthakur/.virtualenvs/datasci/lib/python3.11/site-packages (from spacy) (68.1.2)\n",
      "Requirement already satisfied: packaging>=20.0 in /home/ysthakur/.virtualenvs/datasci/lib/python3.11/site-packages (from spacy) (24.1)\n",
      "Requirement already satisfied: langcodes<4.0.0,>=3.2.0 in /home/ysthakur/.virtualenvs/datasci/lib/python3.11/site-packages (from spacy) (3.4.1)\n",
      "Requirement already satisfied: language-data>=1.2 in /home/ysthakur/.virtualenvs/datasci/lib/python3.11/site-packages (from langcodes<4.0.0,>=3.2.0->spacy) (1.2.0)\n",
      "Requirement already satisfied: contourpy>=1.0.1 in /home/ysthakur/.virtualenvs/datasci/lib/python3.11/site-packages (from matplotlib!=3.6.1,>=3.4->seaborn) (1.2.1)\n",
      "Requirement already satisfied: cycler>=0.10 in /home/ysthakur/.virtualenvs/datasci/lib/python3.11/site-packages (from matplotlib!=3.6.1,>=3.4->seaborn) (0.12.1)\n",
      "Requirement already satisfied: fonttools>=4.22.0 in /home/ysthakur/.virtualenvs/datasci/lib/python3.11/site-packages (from matplotlib!=3.6.1,>=3.4->seaborn) (4.53.1)\n",
      "Requirement already satisfied: kiwisolver>=1.3.1 in /home/ysthakur/.virtualenvs/datasci/lib/python3.11/site-packages (from matplotlib!=3.6.1,>=3.4->seaborn) (1.4.5)\n",
      "Requirement already satisfied: pillow>=8 in /home/ysthakur/.virtualenvs/datasci/lib/python3.11/site-packages (from matplotlib!=3.6.1,>=3.4->seaborn) (10.3.0)\n",
      "Requirement already satisfied: pyparsing>=2.3.1 in /home/ysthakur/.virtualenvs/datasci/lib/python3.11/site-packages (from matplotlib!=3.6.1,>=3.4->seaborn) (3.1.2)\n",
      "Requirement already satisfied: annotated-types>=0.6.0 in /home/ysthakur/.virtualenvs/datasci/lib/python3.11/site-packages (from pydantic!=1.8,!=1.8.1,<3.0.0,>=1.7.4->spacy) (0.7.0)\n",
      "Requirement already satisfied: pydantic-core==2.23.4 in /home/ysthakur/.virtualenvs/datasci/lib/python3.11/site-packages (from pydantic!=1.8,!=1.8.1,<3.0.0,>=1.7.4->spacy) (2.23.4)\n",
      "Requirement already satisfied: typing-extensions>=4.6.1 in /home/ysthakur/.virtualenvs/datasci/lib/python3.11/site-packages (from pydantic!=1.8,!=1.8.1,<3.0.0,>=1.7.4->spacy) (4.12.2)\n",
      "Requirement already satisfied: six>=1.5 in /home/ysthakur/.virtualenvs/datasci/lib/python3.11/site-packages (from python-dateutil>=2.8.2->pandas) (1.16.0)\n",
      "Requirement already satisfied: charset-normalizer<4,>=2 in /home/ysthakur/.virtualenvs/datasci/lib/python3.11/site-packages (from requests<3.0.0,>=2.13.0->spacy) (3.3.2)\n",
      "Requirement already satisfied: idna<4,>=2.5 in /home/ysthakur/.virtualenvs/datasci/lib/python3.11/site-packages (from requests<3.0.0,>=2.13.0->spacy) (3.7)\n",
      "Requirement already satisfied: urllib3<3,>=1.21.1 in /home/ysthakur/.virtualenvs/datasci/lib/python3.11/site-packages (from requests<3.0.0,>=2.13.0->spacy) (2.2.1)\n",
      "Requirement already satisfied: certifi>=2017.4.17 in /home/ysthakur/.virtualenvs/datasci/lib/python3.11/site-packages (from requests<3.0.0,>=2.13.0->spacy) (2024.2.2)\n",
      "Requirement already satisfied: blis<1.1.0,>=1.0.0 in /home/ysthakur/.virtualenvs/datasci/lib/python3.11/site-packages (from thinc<8.4.0,>=8.3.0->spacy) (1.0.1)\n",
      "Requirement already satisfied: confection<1.0.0,>=0.0.1 in /home/ysthakur/.virtualenvs/datasci/lib/python3.11/site-packages (from thinc<8.4.0,>=8.3.0->spacy) (0.1.5)\n",
      "Requirement already satisfied: shellingham>=1.3.0 in /home/ysthakur/.virtualenvs/datasci/lib/python3.11/site-packages (from typer<1.0.0,>=0.3.0->spacy) (1.5.4)\n",
      "Requirement already satisfied: rich>=10.11.0 in /home/ysthakur/.virtualenvs/datasci/lib/python3.11/site-packages (from typer<1.0.0,>=0.3.0->spacy) (13.7.1)\n",
      "Requirement already satisfied: cloudpathlib<1.0.0,>=0.7.0 in /home/ysthakur/.virtualenvs/datasci/lib/python3.11/site-packages (from weasel<0.5.0,>=0.1.0->spacy) (0.19.0)\n",
      "Requirement already satisfied: smart-open<8.0.0,>=5.2.1 in /home/ysthakur/.virtualenvs/datasci/lib/python3.11/site-packages (from weasel<0.5.0,>=0.1.0->spacy) (7.0.5)\n",
      "Requirement already satisfied: MarkupSafe>=2.0 in /home/ysthakur/.virtualenvs/datasci/lib/python3.11/site-packages (from jinja2->spacy) (2.1.5)\n",
      "Requirement already satisfied: marisa-trie>=0.7.7 in /home/ysthakur/.virtualenvs/datasci/lib/python3.11/site-packages (from language-data>=1.2->langcodes<4.0.0,>=3.2.0->spacy) (1.2.0)\n",
      "Requirement already satisfied: markdown-it-py>=2.2.0 in /home/ysthakur/.virtualenvs/datasci/lib/python3.11/site-packages (from rich>=10.11.0->typer<1.0.0,>=0.3.0->spacy) (3.0.0)\n",
      "Requirement already satisfied: pygments<3.0.0,>=2.13.0 in /home/ysthakur/.virtualenvs/datasci/lib/python3.11/site-packages (from rich>=10.11.0->typer<1.0.0,>=0.3.0->spacy) (2.18.0)\n",
      "Requirement already satisfied: wrapt in /home/ysthakur/.virtualenvs/datasci/lib/python3.11/site-packages (from smart-open<8.0.0,>=5.2.1->weasel<0.5.0,>=0.1.0->spacy) (1.16.0)\n",
      "Requirement already satisfied: mdurl~=0.1 in /home/ysthakur/.virtualenvs/datasci/lib/python3.11/site-packages (from markdown-it-py>=2.2.0->rich>=10.11.0->typer<1.0.0,>=0.3.0->spacy) (0.1.2)\n"
     ]
    }
   ],
   "source": [
    "!pip install praw pandas seaborn scipy nltk scikit-learn spacy"
   ]
  },
  {
   "cell_type": "code",
   "execution_count": 1,
   "metadata": {},
   "outputs": [],
   "source": [
    "import csv\n",
    "import datetime\n",
    "import matplotlib as mpl\n",
    "from matplotlib import pyplot as plt\n",
    "import numpy as np\n",
    "import pandas as pd\n",
    "import praw\n",
    "import prawcore\n",
    "import random\n",
    "import seaborn as sns\n",
    "import time\n",
    "from typing import Callable\n",
    "\n",
    "from bins import TimeRange\n",
    "from config import Config, CONFIG_FILE_NAME\n",
    "from util import *\n",
    "import validate\n",
    "\n",
    "sns.set_theme()"
   ]
  },
  {
   "cell_type": "code",
   "execution_count": 2,
   "metadata": {},
   "outputs": [],
   "source": [
    "# To ensure everything's nice and deterministic\n",
    "random.seed(0)\n",
    "np.random.seed(0)"
   ]
  },
  {
   "cell_type": "code",
   "execution_count": 3,
   "metadata": {},
   "outputs": [],
   "source": [
    "import logging\n",
    "\n",
    "# This will log everything\n",
    "LOG = True\n",
    "if LOG:\n",
    "    handler = logging.StreamHandler()\n",
    "    handler.setLevel(logging.WARN)\n",
    "    for logger_name in (\"praw\", \"prawcore\"):\n",
    "        logger = logging.getLogger(logger_name)\n",
    "        logger.setLevel(logging.DEBUG)\n",
    "        logger.addHandler(handler)"
   ]
  },
  {
   "cell_type": "code",
   "execution_count": 4,
   "metadata": {},
   "outputs": [],
   "source": [
    "# Create the Reddit instance to do all the API stuff with\n",
    "reddit = init_reddit()"
   ]
  },
  {
   "cell_type": "code",
   "execution_count": 5,
   "metadata": {},
   "outputs": [],
   "source": [
    "keywords = [\n",
    "    \"trauma\",\n",
    "    \"gaslight\",\n",
    "    \"trigger\",\n",
    "    \"toxic\",\n",
    "    \"woke\",\n",
    "    \"manipulat\",\n",
    "    \"microaggression\",\n",
    "    \"autis\",\n",
    "    \"adhd\",\n",
    "    \"ocd\",\n",
    "    \"ptsd\",\n",
    "    \"bipolar\",\n",
    "    \"anxiety\",\n",
    "    \"depress\",\n",
    "    \"psycho\",\n",
    "    \"delusion\",\n",
    "    \"delulu\",\n",
    "    \"solulu\",\n",
    "    \"addict\",\n",
    "    \"abus\",\n",
    "    \"unstable\",\n",
    "    \"narcissis\",\n",
    "    \"addict\",\n",
    "    \"neurodivergen\",\n",
    "]"
   ]
  },
  {
   "cell_type": "code",
   "execution_count": 6,
   "metadata": {},
   "outputs": [],
   "source": [
    "first_id = int(\"c000000\", 36)  # todo find the ID of the first post we want to analyze\n",
    "# Earliest post I can find: https://www.reddit.com/api/info.json?id=t1_c015001\n",
    "last_id = int(\"l000000\", 36)  # todo find the ID of the last post we want to analyze"
   ]
  },
  {
   "cell_type": "markdown",
   "metadata": {},
   "source": [
    "## Load comments"
   ]
  },
  {
   "cell_type": "code",
   "execution_count": 7,
   "metadata": {},
   "outputs": [],
   "source": [
    "runs = get_runs()\n",
    "missing_runs = validate.missing_runs(runs.keys())\n",
    "assert len(missing_runs) == 0, missing_runs"
   ]
  },
  {
   "cell_type": "code",
   "execution_count": 8,
   "metadata": {},
   "outputs": [
    {
     "data": {
      "text/html": [
       "<div>\n",
       "<style scoped>\n",
       "    .dataframe tbody tr th:only-of-type {\n",
       "        vertical-align: middle;\n",
       "    }\n",
       "\n",
       "    .dataframe tbody tr th {\n",
       "        vertical-align: top;\n",
       "    }\n",
       "\n",
       "    .dataframe thead th {\n",
       "        text-align: right;\n",
       "    }\n",
       "</style>\n",
       "<table border=\"1\" class=\"dataframe\">\n",
       "  <thead>\n",
       "    <tr style=\"text-align: right;\">\n",
       "      <th></th>\n",
       "      <th>id</th>\n",
       "      <th>time</th>\n",
       "      <th>sr_name</th>\n",
       "      <th>author_id</th>\n",
       "      <th>parent_fullname</th>\n",
       "      <th>post_id</th>\n",
       "      <th>upvotes</th>\n",
       "      <th>downvotes</th>\n",
       "      <th>body</th>\n",
       "    </tr>\n",
       "  </thead>\n",
       "  <tbody>\n",
       "    <tr>\n",
       "      <th>0</th>\n",
       "      <td>26151671549</td>\n",
       "      <td>2009-12-31 19:01:19</td>\n",
       "      <td>IAmA</td>\n",
       "      <td>NaN</td>\n",
       "      <td>t3_ak9ne</td>\n",
       "      <td>t3_ak9ne</td>\n",
       "      <td>2</td>\n",
       "      <td>0</td>\n",
       "      <td>How often do you deal with patient's nightmare...</td>\n",
       "    </tr>\n",
       "    <tr>\n",
       "      <th>1</th>\n",
       "      <td>26151671809</td>\n",
       "      <td>2009-12-31 19:06:01</td>\n",
       "      <td>WTF</td>\n",
       "      <td>3hk2x</td>\n",
       "      <td>t3_akagz</td>\n",
       "      <td>t3_akagz</td>\n",
       "      <td>6</td>\n",
       "      <td>0</td>\n",
       "      <td>Just moved to Florida this year when my husban...</td>\n",
       "    </tr>\n",
       "    <tr>\n",
       "      <th>2</th>\n",
       "      <td>26151671837</td>\n",
       "      <td>2009-12-31 19:06:34</td>\n",
       "      <td>IAmA</td>\n",
       "      <td>3p98v</td>\n",
       "      <td>t1_c0i01vs</td>\n",
       "      <td>t3_ak5n9</td>\n",
       "      <td>3</td>\n",
       "      <td>0</td>\n",
       "      <td>If I had a son and I saw him getting paid to f...</td>\n",
       "    </tr>\n",
       "    <tr>\n",
       "      <th>3</th>\n",
       "      <td>26151672754</td>\n",
       "      <td>2009-12-31 19:21:08</td>\n",
       "      <td>funny</td>\n",
       "      <td>3oimh</td>\n",
       "      <td>t1_c0i13gh</td>\n",
       "      <td>t3_akcbo</td>\n",
       "      <td>3</td>\n",
       "      <td>0</td>\n",
       "      <td>Yeah I guess it is larry miller. http://www.ad...</td>\n",
       "    </tr>\n",
       "    <tr>\n",
       "      <th>4</th>\n",
       "      <td>26151672788</td>\n",
       "      <td>2009-12-31 19:21:44</td>\n",
       "      <td>trees</td>\n",
       "      <td>3mj2p</td>\n",
       "      <td>t3_akbbc</td>\n",
       "      <td>t3_akbbc</td>\n",
       "      <td>2</td>\n",
       "      <td>0</td>\n",
       "      <td>OxyClean</td>\n",
       "    </tr>\n",
       "    <tr>\n",
       "      <th>...</th>\n",
       "      <td>...</td>\n",
       "      <td>...</td>\n",
       "      <td>...</td>\n",
       "      <td>...</td>\n",
       "      <td>...</td>\n",
       "      <td>...</td>\n",
       "      <td>...</td>\n",
       "      <td>...</td>\n",
       "      <td>...</td>\n",
       "    </tr>\n",
       "    <tr>\n",
       "      <th>1900010</th>\n",
       "      <td>33418663200</td>\n",
       "      <td>2019-12-31 18:39:04</td>\n",
       "      <td>videos</td>\n",
       "      <td>14cwr7</td>\n",
       "      <td>t3_ei3zx5</td>\n",
       "      <td>t3_ei3zx5</td>\n",
       "      <td>-4</td>\n",
       "      <td>0</td>\n",
       "      <td>It's not so much the names that are funny but ...</td>\n",
       "    </tr>\n",
       "    <tr>\n",
       "      <th>1900011</th>\n",
       "      <td>33418693376</td>\n",
       "      <td>2019-12-31 18:46:49</td>\n",
       "      <td>GonewildGBUK</td>\n",
       "      <td>57nk6h9s</td>\n",
       "      <td>t3_ei9vhh</td>\n",
       "      <td>t3_ei9vhh</td>\n",
       "      <td>0</td>\n",
       "      <td>0</td>\n",
       "      <td>Well if you need an extra cock in 2020 😜😈😈happ...</td>\n",
       "    </tr>\n",
       "    <tr>\n",
       "      <th>1900012</th>\n",
       "      <td>33418700835</td>\n",
       "      <td>2019-12-31 18:48:40</td>\n",
       "      <td>unpopularopinion</td>\n",
       "      <td>g8vguuw</td>\n",
       "      <td>t3_ei2udf</td>\n",
       "      <td>t3_ei2udf</td>\n",
       "      <td>1</td>\n",
       "      <td>0</td>\n",
       "      <td>It's also a stereotype that kids visit each pa...</td>\n",
       "    </tr>\n",
       "    <tr>\n",
       "      <th>1900013</th>\n",
       "      <td>33418710516</td>\n",
       "      <td>2019-12-31 18:51:06</td>\n",
       "      <td>AskReddit</td>\n",
       "      <td>lp3bf</td>\n",
       "      <td>t3_eiauoe</td>\n",
       "      <td>t3_eiauoe</td>\n",
       "      <td>2</td>\n",
       "      <td>0</td>\n",
       "      <td>More ass, better ass</td>\n",
       "    </tr>\n",
       "    <tr>\n",
       "      <th>1900014</th>\n",
       "      <td>33418728451</td>\n",
       "      <td>2019-12-31 18:55:43</td>\n",
       "      <td>AskReddit</td>\n",
       "      <td>43mkub6f</td>\n",
       "      <td>t1_fcon2vr</td>\n",
       "      <td>t3_eiaha6</td>\n",
       "      <td>0</td>\n",
       "      <td>0</td>\n",
       "      <td>Ouais mais je parle sur le plan politique. Soc...</td>\n",
       "    </tr>\n",
       "  </tbody>\n",
       "</table>\n",
       "<p>1900015 rows × 9 columns</p>\n",
       "</div>"
      ],
      "text/plain": [
       "                  id                time           sr_name author_id  \\\n",
       "0        26151671549 2009-12-31 19:01:19              IAmA       NaN   \n",
       "1        26151671809 2009-12-31 19:06:01               WTF     3hk2x   \n",
       "2        26151671837 2009-12-31 19:06:34              IAmA     3p98v   \n",
       "3        26151672754 2009-12-31 19:21:08             funny     3oimh   \n",
       "4        26151672788 2009-12-31 19:21:44             trees     3mj2p   \n",
       "...              ...                 ...               ...       ...   \n",
       "1900010  33418663200 2019-12-31 18:39:04            videos    14cwr7   \n",
       "1900011  33418693376 2019-12-31 18:46:49      GonewildGBUK  57nk6h9s   \n",
       "1900012  33418700835 2019-12-31 18:48:40  unpopularopinion   g8vguuw   \n",
       "1900013  33418710516 2019-12-31 18:51:06         AskReddit     lp3bf   \n",
       "1900014  33418728451 2019-12-31 18:55:43         AskReddit  43mkub6f   \n",
       "\n",
       "        parent_fullname    post_id  upvotes  downvotes  \\\n",
       "0              t3_ak9ne   t3_ak9ne        2          0   \n",
       "1              t3_akagz   t3_akagz        6          0   \n",
       "2            t1_c0i01vs   t3_ak5n9        3          0   \n",
       "3            t1_c0i13gh   t3_akcbo        3          0   \n",
       "4              t3_akbbc   t3_akbbc        2          0   \n",
       "...                 ...        ...      ...        ...   \n",
       "1900010       t3_ei3zx5  t3_ei3zx5       -4          0   \n",
       "1900011       t3_ei9vhh  t3_ei9vhh        0          0   \n",
       "1900012       t3_ei2udf  t3_ei2udf        1          0   \n",
       "1900013       t3_eiauoe  t3_eiauoe        2          0   \n",
       "1900014      t1_fcon2vr  t3_eiaha6        0          0   \n",
       "\n",
       "                                                      body  \n",
       "0        How often do you deal with patient's nightmare...  \n",
       "1        Just moved to Florida this year when my husban...  \n",
       "2        If I had a son and I saw him getting paid to f...  \n",
       "3        Yeah I guess it is larry miller. http://www.ad...  \n",
       "4                                                 OxyClean  \n",
       "...                                                    ...  \n",
       "1900010  It's not so much the names that are funny but ...  \n",
       "1900011  Well if you need an extra cock in 2020 😜😈😈happ...  \n",
       "1900012  It's also a stereotype that kids visit each pa...  \n",
       "1900013                               More ass, better ass  \n",
       "1900014  Ouais mais je parle sur le plan politique. Soc...  \n",
       "\n",
       "[1900015 rows x 9 columns]"
      ]
     },
     "execution_count": 8,
     "metadata": {},
     "output_type": "execute_result"
    }
   ],
   "source": [
    "df = load_comments(*runs.values())\n",
    "df"
   ]
  },
  {
   "cell_type": "code",
   "execution_count": 9,
   "metadata": {},
   "outputs": [
    {
     "data": {
      "text/plain": [
       "149445    26151671597\n",
       "120293    26151671665\n",
       "104026    26151672225\n",
       "279973    26151672735\n",
       "229323    26151672783\n",
       "             ...     \n",
       "16785     33418443272\n",
       "251723    33418501316\n",
       "41975     33418553272\n",
       "75558     33418632879\n",
       "355612    33418643877\n",
       "Length: 390185, dtype: int64"
      ]
     },
     "execution_count": 9,
     "metadata": {},
     "output_type": "execute_result"
    }
   ],
   "source": [
    "misses = load_misses(*runs.values())\n",
    "misses"
   ]
  },
  {
   "cell_type": "code",
   "execution_count": 10,
   "metadata": {},
   "outputs": [
    {
     "name": "stdout",
     "output_type": "stream",
     "text": [
      "✅ Found no duplicate comment IDs\n",
      "✅ Found no duplicate misses\n",
      "❌ Found out-of-order IDs (call validate.find_out_of_order_ids for more info)\n",
      "Bad rows:\n",
      "                id                time sr_name author_id parent_fullname  \\\n",
      "48111  26160647523 2010-04-02 12:35:08     WTF     3on4x        t3_blm3i   \n",
      "48112  26160647528 2010-04-02 12:35:06  canada      wlho      t1_c0ndbjm   \n",
      "\n",
      "        post_id  upvotes  downvotes  \\\n",
      "48111  t3_blm3i        2          0   \n",
      "48112  t3_blidv        2          0   \n",
      "\n",
      "                                                    body  \n",
      "48111  I just want to point out that depending on how...  \n",
      "48112  >I am for fairly strong HANDGUN laws, especial...  \n",
      "Found issues:\n",
      "- Found out-of-order IDs\n"
     ]
    }
   ],
   "source": [
    "# Sanity checks\n",
    "validate.validate(df, misses)"
   ]
  },
  {
   "cell_type": "code",
   "execution_count": 11,
   "metadata": {},
   "outputs": [
    {
     "data": {
      "text/plain": [
       "(26151671549, 'c0i12wt')"
      ]
     },
     "execution_count": 11,
     "metadata": {},
     "output_type": "execute_result"
    }
   ],
   "source": [
    "# The first ID we actually collected\n",
    "first_id_actual = df[ID].min()\n",
    "first_id_actual, to_b36(first_id_actual)"
   ]
  },
  {
   "cell_type": "code",
   "execution_count": 12,
   "metadata": {},
   "outputs": [
    {
     "data": {
      "text/plain": [
       "datetime.date(2010, 1, 1)"
      ]
     },
     "execution_count": 12,
     "metadata": {},
     "output_type": "execute_result"
    }
   ],
   "source": [
    "config = Config.load(os.path.join(runs[len(runs) - 1], CONFIG_FILE_NAME))\n",
    "config.start_date"
   ]
  },
  {
   "cell_type": "markdown",
   "metadata": {},
   "source": [
    "## Basic analysis"
   ]
  },
  {
   "cell_type": "code",
   "execution_count": 14,
   "metadata": {},
   "outputs": [],
   "source": [
    "def matches(body, keywords=keywords):\n",
    "    for keyword in keywords:\n",
    "        if keyword in body:\n",
    "            return True\n",
    "    return False"
   ]
  },
  {
   "cell_type": "code",
   "execution_count": 15,
   "metadata": {},
   "outputs": [
    {
     "data": {
      "text/html": [
       "<div>\n",
       "<style scoped>\n",
       "    .dataframe tbody tr th:only-of-type {\n",
       "        vertical-align: middle;\n",
       "    }\n",
       "\n",
       "    .dataframe tbody tr th {\n",
       "        vertical-align: top;\n",
       "    }\n",
       "\n",
       "    .dataframe thead th {\n",
       "        text-align: right;\n",
       "    }\n",
       "</style>\n",
       "<table border=\"1\" class=\"dataframe\">\n",
       "  <thead>\n",
       "    <tr style=\"text-align: right;\">\n",
       "      <th></th>\n",
       "      <th>id</th>\n",
       "      <th>time</th>\n",
       "      <th>sr_name</th>\n",
       "      <th>author_id</th>\n",
       "      <th>parent_fullname</th>\n",
       "      <th>post_id</th>\n",
       "      <th>upvotes</th>\n",
       "      <th>downvotes</th>\n",
       "      <th>body</th>\n",
       "    </tr>\n",
       "  </thead>\n",
       "  <tbody>\n",
       "    <tr>\n",
       "      <th>5</th>\n",
       "      <td>26151672838</td>\n",
       "      <td>2009-12-31 19:22:36</td>\n",
       "      <td>politics</td>\n",
       "      <td>38gp5</td>\n",
       "      <td>t3_akdh9</td>\n",
       "      <td>t3_akdh9</td>\n",
       "      <td>5</td>\n",
       "      <td>0</td>\n",
       "      <td>\"recovery\"\\n\\nhow... ironic. limbaugh was \"tak...</td>\n",
       "    </tr>\n",
       "    <tr>\n",
       "      <th>42</th>\n",
       "      <td>26151678996</td>\n",
       "      <td>2009-12-31 21:17:35</td>\n",
       "      <td>AskReddit</td>\n",
       "      <td>32hft</td>\n",
       "      <td>t3_aka68</td>\n",
       "      <td>t3_aka68</td>\n",
       "      <td>3</td>\n",
       "      <td>0</td>\n",
       "      <td>1. you use the word 'cult', which obviously ha...</td>\n",
       "    </tr>\n",
       "    <tr>\n",
       "      <th>139</th>\n",
       "      <td>26151696244</td>\n",
       "      <td>2010-01-01 04:32:09</td>\n",
       "      <td>AskReddit</td>\n",
       "      <td>3ofl5</td>\n",
       "      <td>t3_akadq</td>\n",
       "      <td>t3_akadq</td>\n",
       "      <td>1</td>\n",
       "      <td>0</td>\n",
       "      <td>hey thanks this is pretty sweet!!\\n\\ni'm not s...</td>\n",
       "    </tr>\n",
       "    <tr>\n",
       "      <th>176</th>\n",
       "      <td>26151703955</td>\n",
       "      <td>2010-01-01 09:50:08</td>\n",
       "      <td>self</td>\n",
       "      <td>3cs90</td>\n",
       "      <td>t3_akgyf</td>\n",
       "      <td>t3_akgyf</td>\n",
       "      <td>3</td>\n",
       "      <td>0</td>\n",
       "      <td>i back all this shit - \\n\\nand being one of th...</td>\n",
       "    </tr>\n",
       "    <tr>\n",
       "      <th>231</th>\n",
       "      <td>26151714823</td>\n",
       "      <td>2010-01-01 14:03:15</td>\n",
       "      <td>reddit.com</td>\n",
       "      <td>3svvz</td>\n",
       "      <td>t3_akks9</td>\n",
       "      <td>t3_akks9</td>\n",
       "      <td>1</td>\n",
       "      <td>0</td>\n",
       "      <td>my toonstorm.com review\\n\\ni am addicted to wo...</td>\n",
       "    </tr>\n",
       "    <tr>\n",
       "      <th>...</th>\n",
       "      <td>...</td>\n",
       "      <td>...</td>\n",
       "      <td>...</td>\n",
       "      <td>...</td>\n",
       "      <td>...</td>\n",
       "      <td>...</td>\n",
       "      <td>...</td>\n",
       "      <td>...</td>\n",
       "      <td>...</td>\n",
       "    </tr>\n",
       "    <tr>\n",
       "      <th>1899735</th>\n",
       "      <td>33415989588</td>\n",
       "      <td>2019-12-31 08:43:04</td>\n",
       "      <td>Libertarian</td>\n",
       "      <td>54y5eyk</td>\n",
       "      <td>t1_fcmzpho</td>\n",
       "      <td>t3_ehyabi</td>\n",
       "      <td>18</td>\n",
       "      <td>0</td>\n",
       "      <td>well by that argument, drinking and driving sh...</td>\n",
       "    </tr>\n",
       "    <tr>\n",
       "      <th>1899738</th>\n",
       "      <td>33416013315</td>\n",
       "      <td>2019-12-31 08:50:41</td>\n",
       "      <td>de</td>\n",
       "      <td>NaN</td>\n",
       "      <td>t3_ei2v2v</td>\n",
       "      <td>t3_ei2v2v</td>\n",
       "      <td>13</td>\n",
       "      <td>0</td>\n",
       "      <td>es gibt keine wirklich gute lösung für das pro...</td>\n",
       "    </tr>\n",
       "    <tr>\n",
       "      <th>1899847</th>\n",
       "      <td>33417044810</td>\n",
       "      <td>2019-12-31 12:51:45</td>\n",
       "      <td>stormbound</td>\n",
       "      <td>2i9j8gjh</td>\n",
       "      <td>t1_fcmygqz</td>\n",
       "      <td>t3_ei2mxg</td>\n",
       "      <td>2</td>\n",
       "      <td>0</td>\n",
       "      <td>i'm level 13 and hardstucked at gold3, my most...</td>\n",
       "    </tr>\n",
       "    <tr>\n",
       "      <th>1899854</th>\n",
       "      <td>33417090423</td>\n",
       "      <td>2019-12-31 13:00:43</td>\n",
       "      <td>AmItheAsshole</td>\n",
       "      <td>55gpprzc</td>\n",
       "      <td>t3_ei14kf</td>\n",
       "      <td>t3_ei14kf</td>\n",
       "      <td>5</td>\n",
       "      <td>0</td>\n",
       "      <td>nta, but i don’t think your father is either. ...</td>\n",
       "    </tr>\n",
       "    <tr>\n",
       "      <th>1899919</th>\n",
       "      <td>33417742753</td>\n",
       "      <td>2019-12-31 15:05:16</td>\n",
       "      <td>pathofexile</td>\n",
       "      <td>l3jyr</td>\n",
       "      <td>t1_fcnkvgk</td>\n",
       "      <td>t3_ei3d1u</td>\n",
       "      <td>9</td>\n",
       "      <td>0</td>\n",
       "      <td>i believe the max sound channels is 32. they p...</td>\n",
       "    </tr>\n",
       "  </tbody>\n",
       "</table>\n",
       "<p>27076 rows × 9 columns</p>\n",
       "</div>"
      ],
      "text/plain": [
       "                  id                time        sr_name author_id  \\\n",
       "5        26151672838 2009-12-31 19:22:36       politics     38gp5   \n",
       "42       26151678996 2009-12-31 21:17:35      AskReddit     32hft   \n",
       "139      26151696244 2010-01-01 04:32:09      AskReddit     3ofl5   \n",
       "176      26151703955 2010-01-01 09:50:08           self     3cs90   \n",
       "231      26151714823 2010-01-01 14:03:15     reddit.com     3svvz   \n",
       "...              ...                 ...            ...       ...   \n",
       "1899735  33415989588 2019-12-31 08:43:04    Libertarian   54y5eyk   \n",
       "1899738  33416013315 2019-12-31 08:50:41             de       NaN   \n",
       "1899847  33417044810 2019-12-31 12:51:45     stormbound  2i9j8gjh   \n",
       "1899854  33417090423 2019-12-31 13:00:43  AmItheAsshole  55gpprzc   \n",
       "1899919  33417742753 2019-12-31 15:05:16    pathofexile     l3jyr   \n",
       "\n",
       "        parent_fullname    post_id  upvotes  downvotes  \\\n",
       "5              t3_akdh9   t3_akdh9        5          0   \n",
       "42             t3_aka68   t3_aka68        3          0   \n",
       "139            t3_akadq   t3_akadq        1          0   \n",
       "176            t3_akgyf   t3_akgyf        3          0   \n",
       "231            t3_akks9   t3_akks9        1          0   \n",
       "...                 ...        ...      ...        ...   \n",
       "1899735      t1_fcmzpho  t3_ehyabi       18          0   \n",
       "1899738       t3_ei2v2v  t3_ei2v2v       13          0   \n",
       "1899847      t1_fcmygqz  t3_ei2mxg        2          0   \n",
       "1899854       t3_ei14kf  t3_ei14kf        5          0   \n",
       "1899919      t1_fcnkvgk  t3_ei3d1u        9          0   \n",
       "\n",
       "                                                      body  \n",
       "5        \"recovery\"\\n\\nhow... ironic. limbaugh was \"tak...  \n",
       "42       1. you use the word 'cult', which obviously ha...  \n",
       "139      hey thanks this is pretty sweet!!\\n\\ni'm not s...  \n",
       "176      i back all this shit - \\n\\nand being one of th...  \n",
       "231      my toonstorm.com review\\n\\ni am addicted to wo...  \n",
       "...                                                    ...  \n",
       "1899735  well by that argument, drinking and driving sh...  \n",
       "1899738  es gibt keine wirklich gute lösung für das pro...  \n",
       "1899847  i'm level 13 and hardstucked at gold3, my most...  \n",
       "1899854  nta, but i don’t think your father is either. ...  \n",
       "1899919  i believe the max sound channels is 32. they p...  \n",
       "\n",
       "[27076 rows x 9 columns]"
      ]
     },
     "execution_count": 15,
     "metadata": {},
     "output_type": "execute_result"
    }
   ],
   "source": [
    "df[BODY] = df[BODY].map(lambda body: body.lower().strip())\n",
    "matched_rows = df[df[BODY].map(matches)]\n",
    "matched_rows"
   ]
  },
  {
   "cell_type": "code",
   "execution_count": 16,
   "metadata": {},
   "outputs": [
    {
     "data": {
      "text/plain": [
       "{'trauma': 940,\n",
       " 'gaslight': 105,\n",
       " 'trigger': 2837,\n",
       " 'toxic': 1818,\n",
       " 'woke': 1452,\n",
       " 'manipulat': 1755,\n",
       " 'microaggression': 7,\n",
       " 'autis': 774,\n",
       " 'adhd': 386,\n",
       " 'ocd': 359,\n",
       " 'ptsd': 381,\n",
       " 'bipolar': 296,\n",
       " 'anxiety': 1786,\n",
       " 'depress': 4099,\n",
       " 'psycho': 3330,\n",
       " 'delusion': 986,\n",
       " 'delulu': 2,\n",
       " 'solulu': 1,\n",
       " 'addict': 2706,\n",
       " 'abus': 4694,\n",
       " 'unstable': 434,\n",
       " 'narcissis': 422,\n",
       " 'neurodivergen': 0}"
      ]
     },
     "execution_count": 16,
     "metadata": {},
     "output_type": "execute_result"
    }
   ],
   "source": [
    "{\n",
    "    keyword: len(matched_rows[matched_rows[BODY].map(lambda body: keyword in body)])\n",
    "    for keyword in keywords\n",
    "}"
   ]
  },
  {
   "cell_type": "code",
   "execution_count": 17,
   "metadata": {},
   "outputs": [
    {
     "data": {
      "image/png": "[encoded data removed]",
      "text/plain": [
       "<Figure size 640x480 with 1 Axes>"
      ]
     },
     "metadata": {},
     "output_type": "display_data"
    }
   ],
   "source": [
    "lengths = df[BODY].map(len)\n",
    "ax = sns.histplot(\n",
    "    lengths[lengths <= 10000],\n",
    "    binwidth=200,\n",
    "    # log_scale=True\n",
    ")\n",
    "ax.set(xlabel = \"Body length (characters)\")\n",
    "ax.set(yscale = \"log\");"
   ]
  },
  {
   "cell_type": "code",
   "execution_count": 18,
   "metadata": {},
   "outputs": [
    {
     "data": {
      "text/plain": [
       "44"
      ]
     },
     "execution_count": 18,
     "metadata": {},
     "output_type": "execute_result"
    }
   ],
   "source": [
    "len(df[lengths >= 10000])"
   ]
  },
  {
   "cell_type": "code",
   "execution_count": 19,
   "metadata": {},
   "outputs": [
    {
     "data": {
      "text/html": [
       "<div>\n",
       "<style scoped>\n",
       "    .dataframe tbody tr th:only-of-type {\n",
       "        vertical-align: middle;\n",
       "    }\n",
       "\n",
       "    .dataframe tbody tr th {\n",
       "        vertical-align: top;\n",
       "    }\n",
       "\n",
       "    .dataframe thead th {\n",
       "        text-align: right;\n",
       "    }\n",
       "</style>\n",
       "<table border=\"1\" class=\"dataframe\">\n",
       "  <thead>\n",
       "    <tr style=\"text-align: right;\">\n",
       "      <th></th>\n",
       "      <th>id</th>\n",
       "      <th>time</th>\n",
       "      <th>sr_name</th>\n",
       "      <th>author_id</th>\n",
       "      <th>parent_fullname</th>\n",
       "      <th>post_id</th>\n",
       "      <th>upvotes</th>\n",
       "      <th>downvotes</th>\n",
       "      <th>body</th>\n",
       "      <th>Time range</th>\n",
       "    </tr>\n",
       "  </thead>\n",
       "  <tbody>\n",
       "    <tr>\n",
       "      <th>84</th>\n",
       "      <td>26151686025</td>\n",
       "      <td>2010-01-01 00:01:14</td>\n",
       "      <td>WTF</td>\n",
       "      <td>3lzxf</td>\n",
       "      <td>t3_akc2y</td>\n",
       "      <td>t3_akc2y</td>\n",
       "      <td>1</td>\n",
       "      <td>0</td>\n",
       "      <td>ok reddit, how long do you think it will be be...</td>\n",
       "      <td>TimeRange(start_date=2010-01-01, min=50000, hi...</td>\n",
       "    </tr>\n",
       "    <tr>\n",
       "      <th>85</th>\n",
       "      <td>26151686057</td>\n",
       "      <td>2010-01-01 00:02:08</td>\n",
       "      <td>reddit.com</td>\n",
       "      <td>NaN</td>\n",
       "      <td>t1_c0i1e33</td>\n",
       "      <td>t3_akfoq</td>\n",
       "      <td>0</td>\n",
       "      <td>0</td>\n",
       "      <td>for sure, for most it was earlier and for some...</td>\n",
       "      <td>TimeRange(start_date=2010-01-01, min=50000, hi...</td>\n",
       "    </tr>\n",
       "    <tr>\n",
       "      <th>86</th>\n",
       "      <td>26151686346</td>\n",
       "      <td>2010-01-01 00:09:56</td>\n",
       "      <td>Cooking</td>\n",
       "      <td>3c248</td>\n",
       "      <td>t1_c0i13kw</td>\n",
       "      <td>t3_akdkr</td>\n",
       "      <td>2</td>\n",
       "      <td>0</td>\n",
       "      <td>new year's *day*, yes. where i'm from, pork an...</td>\n",
       "      <td>TimeRange(start_date=2010-01-01, min=50000, hi...</td>\n",
       "    </tr>\n",
       "  </tbody>\n",
       "</table>\n",
       "</div>"
      ],
      "text/plain": [
       "             id                time     sr_name author_id parent_fullname  \\\n",
       "84  26151686025 2010-01-01 00:01:14         WTF     3lzxf        t3_akc2y   \n",
       "85  26151686057 2010-01-01 00:02:08  reddit.com       NaN      t1_c0i1e33   \n",
       "86  26151686346 2010-01-01 00:09:56     Cooking     3c248      t1_c0i13kw   \n",
       "\n",
       "     post_id  upvotes  downvotes  \\\n",
       "84  t3_akc2y        1          0   \n",
       "85  t3_akfoq        0          0   \n",
       "86  t3_akdkr        2          0   \n",
       "\n",
       "                                                 body  \\\n",
       "84  ok reddit, how long do you think it will be be...   \n",
       "85  for sure, for most it was earlier and for some...   \n",
       "86  new year's *day*, yes. where i'm from, pork an...   \n",
       "\n",
       "                                           Time range  \n",
       "84  TimeRange(start_date=2010-01-01, min=50000, hi...  \n",
       "85  TimeRange(start_date=2010-01-01, min=50000, hi...  \n",
       "86  TimeRange(start_date=2010-01-01, min=50000, hi...  "
      ]
     },
     "execution_count": 19,
     "metadata": {},
     "output_type": "execute_result"
    }
   ],
   "source": [
    "# Add a \"Time range\" column to a dataframe\n",
    "import datetime\n",
    "\n",
    "TIME_RANGE = \"Time range\"\n",
    "\"\"\"Name of the column for storing time range\"\"\"\n",
    "\n",
    "def with_time_range(df):\n",
    "    dfs = []\n",
    "    for time_range in config.time_ranges:\n",
    "        start_time = datetime.datetime.combine(time_range.start_date, datetime.time(0, 0, 0))\n",
    "        end_time = datetime.datetime.combine(time_range.end_date, datetime.time(0, 0, 0))\n",
    "        filtered = df[(start_time <= df[TIME]) & (df[TIME] < end_time)].copy()\n",
    "        filtered[TIME_RANGE] = time_range\n",
    "        dfs.append(filtered)\n",
    "    return pd.concat(dfs)\n",
    "\n",
    "df = with_time_range(df)\n",
    "df.head(n=3)"
   ]
  },
  {
   "cell_type": "markdown",
   "metadata": {},
   "source": [
    "## Graphing distribution over time"
   ]
  },
  {
   "cell_type": "code",
   "execution_count": 20,
   "metadata": {},
   "outputs": [
    {
     "data": {
      "text/plain": [
       "<Axes: xlabel='time', ylabel='Count'>"
      ]
     },
     "execution_count": 20,
     "metadata": {},
     "output_type": "execute_result"
    },
    {
     "data": {
      "image/png": "[encoded data removed]",
      "text/plain": [
       "<Figure size 1300x500 with 1 Axes>"
      ]
     },
     "metadata": {},
     "output_type": "display_data"
    }
   ],
   "source": [
    "plt.figure(figsize=(13, 5))\n",
    "sns.histplot(\n",
    "    data=df,\n",
    "    x=TIME,\n",
    "    bins=[\n",
    "        mpl.dates.date2num(time_range.start_date) for time_range in config.time_ranges\n",
    "    ],\n",
    ")"
   ]
  },
  {
   "cell_type": "code",
   "execution_count": 21,
   "metadata": {},
   "outputs": [
    {
     "data": {
      "text/plain": [
       "<Axes: xlabel='id', ylabel='hit_rate'>"
      ]
     },
     "execution_count": 21,
     "metadata": {},
     "output_type": "execute_result"
    },
    {
     "data": {
      "image/png": "[encoded data removed]",
      "text/plain": [
       "<Figure size 1500x500 with 1 Axes>"
      ]
     },
     "metadata": {},
     "output_type": "display_data"
    }
   ],
   "source": [
    "# Hit rates by ID\n",
    "start = config.time_ranges[0].start_id\n",
    "end = config.time_ranges[-1].end_id\n",
    "step = int(1e8)\n",
    "\n",
    "def get_rate(curr_id):\n",
    "    next_id = curr_id + step\n",
    "    num_hits = len(df[(curr_id <= df[ID]) & (df[ID] < next_id)])\n",
    "    num_misses = len(misses[(misses > start) & (misses < next_id)])\n",
    "\n",
    "    if num_misses == 0:\n",
    "        return 0\n",
    "    return num_hits / (num_hits + num_misses)\n",
    "\n",
    "ids = np.arange(start, end, step)\n",
    "rates = np.fromiter(map(get_rate, ids), dtype=np.dtype(np.float64))\n",
    "\n",
    "rate_df = pd.DataFrame({ \"id\": ids, \"hit_rate\": rates })\n",
    "\n",
    "plt.figure(figsize=(15, 5))\n",
    "sns.lineplot(data=rate_df, x=\"id\", y=\"hit_rate\")"
   ]
  },
  {
   "cell_type": "code",
   "execution_count": 22,
   "metadata": {},
   "outputs": [
    {
     "data": {
      "text/plain": [
       "<Axes: xlabel='Date', ylabel='Hit rate'>"
      ]
     },
     "execution_count": 22,
     "metadata": {},
     "output_type": "execute_result"
    },
    {
     "data": {
      "image/png": "[encoded data removed]",
      "text/plain": [
       "<Figure size 1500x500 with 1 Axes>"
      ]
     },
     "metadata": {},
     "output_type": "display_data"
    }
   ],
   "source": [
    "# Approximate hit rate for each time range\n",
    "ranges = []\n",
    "for time_range in config.time_ranges:\n",
    "    num_hits = len(df[(time_range.start_id <= df[ID]) & (df[ID] <= time_range.end_id)])\n",
    "    num_misses = len(misses[(time_range.start_id <= misses) & (misses <= time_range.end_id)])\n",
    "    ranges.append([time_range.start_date, num_hits / (num_hits + num_misses)])\n",
    "\n",
    "data = pd.DataFrame(ranges, columns=[\"Date\", \"Hit rate\"])\n",
    "plt.figure(figsize=(15, 5))\n",
    "sns.lineplot(data, x=\"Date\", y=\"Hit rate\")"
   ]
  },
  {
   "cell_type": "code",
   "execution_count": 23,
   "metadata": {},
   "outputs": [
    {
     "data": {
      "text/plain": [
       "<Axes: xlabel='time', ylabel='Count'>"
      ]
     },
     "execution_count": 23,
     "metadata": {},
     "output_type": "execute_result"
    },
    {
     "data": {
      "image/png": "[encoded data removed]",
      "text/plain": [
       "<Figure size 1400x500 with 1 Axes>"
      ]
     },
     "metadata": {},
     "output_type": "display_data"
    }
   ],
   "source": [
    "# Number of comments by day of year\n",
    "plt.figure(figsize=(14, 5))\n",
    "sns.histplot(data=df[TIME].apply(lambda t: int(t.strftime(\"%j\"))))"
   ]
  },
  {
   "cell_type": "code",
   "execution_count": 24,
   "metadata": {},
   "outputs": [
    {
     "data": {
      "image/png": "[encoded data removed]",
      "text/plain": [
       "<Figure size 640x480 with 1 Axes>"
      ]
     },
     "metadata": {},
     "output_type": "display_data"
    }
   ],
   "source": [
    "# Number of comments by day of week (0 = Monday)\n",
    "g = sns.barplot(data=df[TIME].apply(lambda t: t.weekday()).value_counts())\n",
    "g.set_xticks(\n",
    "    g.get_xticks(),\n",
    "    labels=[\n",
    "        [\"Mon\", \"Tue\", \"Wed\", \"Thur\", \"Fri\", \"Sat\", \"Sun\"][tick]\n",
    "        for tick in g.get_xticks()\n",
    "    ],\n",
    ");"
   ]
  },
  {
   "cell_type": "markdown",
   "metadata": {},
   "source": [
    "### Are the IDs uniformly distributed?\n",
    "\n",
    "Figure out if the IDs are uniformly distributed using the Kolmogorov-Smirnov test\n",
    "\n",
    "TODO check if KS is the right test to use here. Alternatives (not sure if any of these are even applicable):\n",
    "- Chi-square (we don't have a normal distribution though)\n",
    "- Mann-Whitney U test\n",
    "- Anderson-Darling\n",
    "\n",
    "The fact that we're taking the first gotten comment as the start rather than the actual requested\n",
    "start ID might screw things up but whatever"
   ]
  },
  {
   "cell_type": "code",
   "execution_count": 25,
   "metadata": {},
   "outputs": [
    {
     "data": {
      "text/plain": [
       "<Axes: xlabel='id', ylabel='Count'>"
      ]
     },
     "execution_count": 25,
     "metadata": {},
     "output_type": "execute_result"
    },
    {
     "data": {
      "image/png": "[encoded data removed]",
      "text/plain": [
       "<Figure size 1300x500 with 1 Axes>"
      ]
     },
     "metadata": {},
     "output_type": "display_data"
    }
   ],
   "source": [
    "# Distribution of IDs\n",
    "\n",
    "plt.figure(figsize=(13, 5))\n",
    "sns.histplot(data=df[ID])"
   ]
  },
  {
   "cell_type": "code",
   "execution_count": 26,
   "metadata": {},
   "outputs": [
    {
     "name": "stdout",
     "output_type": "stream",
     "text": [
      "IDs are probably not uniformly distributed\n"
     ]
    },
    {
     "data": {
      "text/plain": [
       "KstestResult(statistic=0.6435922724371967, pvalue=0.0, statistic_location=0.29181538184077443, statistic_sign=1)"
      ]
     },
     "execution_count": 26,
     "metadata": {},
     "output_type": "execute_result"
    }
   ],
   "source": [
    "from scipy import stats\n",
    "\n",
    "# Choose alpha of 0.05\n",
    "\n",
    "ids_normalized = df[ID].map(lambda id: (id - first_id_actual) / (last_id - first_id_actual))\n",
    "res = stats.ks_1samp(ids_normalized, stats.uniform.cdf)\n",
    "if res.pvalue < 0.05:\n",
    "    print(\"IDs are probably not uniformly distributed\")\n",
    "else:\n",
    "    print(\"IDs are probably uniformly distributed\")\n",
    "res"
   ]
  },
  {
   "cell_type": "code",
   "execution_count": 27,
   "metadata": {},
   "outputs": [
    {
     "data": {
      "text/html": [
       "<div>\n",
       "<style scoped>\n",
       "    .dataframe tbody tr th:only-of-type {\n",
       "        vertical-align: middle;\n",
       "    }\n",
       "\n",
       "    .dataframe tbody tr th {\n",
       "        vertical-align: top;\n",
       "    }\n",
       "\n",
       "    .dataframe thead th {\n",
       "        text-align: right;\n",
       "    }\n",
       "</style>\n",
       "<table border=\"1\" class=\"dataframe\">\n",
       "  <thead>\n",
       "    <tr style=\"text-align: right;\">\n",
       "      <th></th>\n",
       "      <th>id</th>\n",
       "      <th>time</th>\n",
       "      <th>sr_name</th>\n",
       "      <th>author_id</th>\n",
       "      <th>parent_fullname</th>\n",
       "      <th>post_id</th>\n",
       "      <th>upvotes</th>\n",
       "      <th>downvotes</th>\n",
       "      <th>body</th>\n",
       "      <th>Time range</th>\n",
       "    </tr>\n",
       "  </thead>\n",
       "  <tbody>\n",
       "    <tr>\n",
       "      <th>84</th>\n",
       "      <td>26151686025</td>\n",
       "      <td>2010-01-01 00:01:14</td>\n",
       "      <td>WTF</td>\n",
       "      <td>3lzxf</td>\n",
       "      <td>t3_akc2y</td>\n",
       "      <td>t3_akc2y</td>\n",
       "      <td>1</td>\n",
       "      <td>0</td>\n",
       "      <td>ok reddit, how long do you think it will be be...</td>\n",
       "      <td>TimeRange(start_date=2010-01-01, min=50000, hi...</td>\n",
       "    </tr>\n",
       "  </tbody>\n",
       "</table>\n",
       "</div>"
      ],
      "text/plain": [
       "             id                time sr_name author_id parent_fullname  \\\n",
       "84  26151686025 2010-01-01 00:01:14     WTF     3lzxf        t3_akc2y   \n",
       "\n",
       "     post_id  upvotes  downvotes  \\\n",
       "84  t3_akc2y        1          0   \n",
       "\n",
       "                                                 body  \\\n",
       "84  ok reddit, how long do you think it will be be...   \n",
       "\n",
       "                                           Time range  \n",
       "84  TimeRange(start_date=2010-01-01, min=50000, hi...  "
      ]
     },
     "execution_count": 27,
     "metadata": {},
     "output_type": "execute_result"
    }
   ],
   "source": [
    "# The earliest comment we have\n",
    "df[df[ID] == df[ID].min()]"
   ]
  },
  {
   "cell_type": "code",
   "execution_count": 28,
   "metadata": {},
   "outputs": [
    {
     "data": {
      "text/plain": [
       "<Axes: >"
      ]
     },
     "execution_count": 28,
     "metadata": {},
     "output_type": "execute_result"
    },
    {
     "data": {
      "image/png": "[encoded data removed]",
      "text/plain": [
       "<Figure size 640x480 with 1 Axes>"
      ]
     },
     "metadata": {},
     "output_type": "display_data"
    }
   ],
   "source": [
    "misses.hist()"
   ]
  },
  {
   "cell_type": "code",
   "execution_count": 29,
   "metadata": {},
   "outputs": [
    {
     "data": {
      "text/plain": [
       "<Axes: ylabel='Count'>"
      ]
     },
     "execution_count": 29,
     "metadata": {},
     "output_type": "execute_result"
    },
    {
     "data": {
      "image/png": "[encoded data removed]",
      "text/plain": [
       "<Figure size 1500x500 with 1 Axes>"
      ]
     },
     "metadata": {},
     "output_type": "display_data"
    }
   ],
   "source": [
    "plt.figure(figsize=(15, 5))\n",
    "misses_actual = misses[misses >= first_id_actual]\n",
    "sns.histplot(misses_actual, binwidth=1e8)"
   ]
  },
  {
   "cell_type": "code",
   "execution_count": 30,
   "metadata": {},
   "outputs": [
    {
     "data": {
      "text/plain": [
       "<Axes: ylabel='Count'>"
      ]
     },
     "execution_count": 30,
     "metadata": {},
     "output_type": "execute_result"
    },
    {
     "data": {
      "image/png": "[encoded data removed]",
      "text/plain": [
       "<Figure size 1400x500 with 1 Axes>"
      ]
     },
     "metadata": {},
     "output_type": "display_data"
    }
   ],
   "source": [
    "# Zoom in on the middle\n",
    "# Note: The counts won't match the ones above because the bin width is different\n",
    "\n",
    "# TODO How are you supposed to filter a series?\n",
    "weirdos = misses[lambda id: id <= 3.75e10][lambda id: 3e10 <= id]\n",
    "\n",
    "plt.figure(figsize=(14, 5))\n",
    "sns.histplot(weirdos, binwidth=5e7)"
   ]
  },
  {
   "cell_type": "code",
   "execution_count": 31,
   "metadata": {},
   "outputs": [
    {
     "data": {
      "text/plain": [
       "(0.8296221676107236, 0.8296221676107236)"
      ]
     },
     "execution_count": 31,
     "metadata": {},
     "output_type": "execute_result"
    }
   ],
   "source": [
    "# What portion of the requests we made actually returned something?\n",
    "all = len(df) / (len(df) + len(misses))\n",
    "# Same as above, but don't include requests for comments with IDs that were too low\n",
    "exclude_invalid = len(df) / (len(df) + len(misses_actual))\n",
    "\n",
    "all, exclude_invalid"
   ]
  },
  {
   "cell_type": "code",
   "execution_count": 32,
   "metadata": {},
   "outputs": [
    {
     "data": {
      "text/plain": [
       "<Axes: xlabel='id', ylabel='rate'>"
      ]
     },
     "execution_count": 32,
     "metadata": {},
     "output_type": "execute_result"
    },
    {
     "data": {
      "image/png": "[encoded data removed]",
      "text/plain": [
       "<Figure size 1500x500 with 1 Axes>"
      ]
     },
     "metadata": {},
     "output_type": "display_data"
    }
   ],
   "source": [
    "# Hit rate over time\n",
    "start = first_id_actual\n",
    "end = max(df.iloc[len(df) - 1][ID],\n",
    "          misses.loc[len(misses) - 1])\n",
    "step = int(1e8)\n",
    "\n",
    "def get_rate(curr_id):\n",
    "    next_id = curr_id + step\n",
    "    hits = len(df[(curr_id <= df[ID]) & (df[ID] < next_id)])\n",
    "    num_misses = len(misses[lambda id: curr_id <= id][lambda id: id < next_id])\n",
    "\n",
    "    if num_misses == 0:\n",
    "        return 0\n",
    "    return num_misses / (hits + num_misses)\n",
    "\n",
    "ids = np.arange(start, end, step)\n",
    "rates = np.fromiter(map(get_rate, ids), dtype=np.dtype(np.float64))\n",
    "\n",
    "rate_df = pd.DataFrame({ \"id\": ids, \"rate\": rates })\n",
    "\n",
    "plt.figure(figsize=(15, 5))\n",
    "sns.lineplot(data=rate_df, x=\"id\", y=\"rate\")"
   ]
  },
  {
   "cell_type": "code",
   "execution_count": 33,
   "metadata": {},
   "outputs": [
    {
     "data": {
      "text/html": [
       "<div>\n",
       "<style scoped>\n",
       "    .dataframe tbody tr th:only-of-type {\n",
       "        vertical-align: middle;\n",
       "    }\n",
       "\n",
       "    .dataframe tbody tr th {\n",
       "        vertical-align: top;\n",
       "    }\n",
       "\n",
       "    .dataframe thead th {\n",
       "        text-align: right;\n",
       "    }\n",
       "</style>\n",
       "<table border=\"1\" class=\"dataframe\">\n",
       "  <thead>\n",
       "    <tr style=\"text-align: right;\">\n",
       "      <th></th>\n",
       "      <th>id</th>\n",
       "      <th>time</th>\n",
       "      <th>sr_name</th>\n",
       "      <th>author_id</th>\n",
       "      <th>parent_fullname</th>\n",
       "      <th>post_id</th>\n",
       "      <th>upvotes</th>\n",
       "      <th>downvotes</th>\n",
       "      <th>body</th>\n",
       "      <th>Time range</th>\n",
       "    </tr>\n",
       "  </thead>\n",
       "  <tbody>\n",
       "    <tr>\n",
       "      <th>1521313</th>\n",
       "      <td>30000000548</td>\n",
       "      <td>2018-01-03 15:46:31</td>\n",
       "      <td>CrappyDesign</td>\n",
       "      <td>kq14w</td>\n",
       "      <td>t3_7nwcxp</td>\n",
       "      <td>t3_7nwcxp</td>\n",
       "      <td>1</td>\n",
       "      <td>0</td>\n",
       "      <td>i'm a bot, *bleep*, *bloop*. someone has linke...</td>\n",
       "      <td>TimeRange(start_date=2018-01-01, min=50000, hi...</td>\n",
       "    </tr>\n",
       "    <tr>\n",
       "      <th>1521314</th>\n",
       "      <td>30000000648</td>\n",
       "      <td>2018-01-03 15:46:33</td>\n",
       "      <td>news</td>\n",
       "      <td>hpdj7</td>\n",
       "      <td>t1_ds54x1y</td>\n",
       "      <td>t3_7nuf0p</td>\n",
       "      <td>1</td>\n",
       "      <td>0</td>\n",
       "      <td>&gt; which is appointed by the mayor, i presume. ...</td>\n",
       "      <td>TimeRange(start_date=2018-01-01, min=50000, hi...</td>\n",
       "    </tr>\n",
       "    <tr>\n",
       "      <th>1521315</th>\n",
       "      <td>30000004473</td>\n",
       "      <td>2018-01-03 15:47:54</td>\n",
       "      <td>RaiBlocks</td>\n",
       "      <td>ap05j</td>\n",
       "      <td>t3_7nxj2h</td>\n",
       "      <td>t3_7nxj2h</td>\n",
       "      <td>1</td>\n",
       "      <td>0</td>\n",
       "      <td>the consensus so far has been that the raibloc...</td>\n",
       "      <td>TimeRange(start_date=2018-01-01, min=50000, hi...</td>\n",
       "    </tr>\n",
       "    <tr>\n",
       "      <th>1521316</th>\n",
       "      <td>30000008262</td>\n",
       "      <td>2018-01-03 15:49:13</td>\n",
       "      <td>fireemblem</td>\n",
       "      <td>yplc2</td>\n",
       "      <td>t3_7nx5nt</td>\n",
       "      <td>t3_7nx5nt</td>\n",
       "      <td>28</td>\n",
       "      <td>0</td>\n",
       "      <td>some of these actually fit, like saber's and i...</td>\n",
       "      <td>TimeRange(start_date=2018-01-01, min=50000, hi...</td>\n",
       "    </tr>\n",
       "    <tr>\n",
       "      <th>1521317</th>\n",
       "      <td>30000009293</td>\n",
       "      <td>2018-01-03 15:49:34</td>\n",
       "      <td>conspiracy</td>\n",
       "      <td>o10qosf</td>\n",
       "      <td>t1_ds57b7x</td>\n",
       "      <td>t3_7nwklc</td>\n",
       "      <td>1</td>\n",
       "      <td>0</td>\n",
       "      <td>thank you</td>\n",
       "      <td>TimeRange(start_date=2018-01-01, min=50000, hi...</td>\n",
       "    </tr>\n",
       "    <tr>\n",
       "      <th>...</th>\n",
       "      <td>...</td>\n",
       "      <td>...</td>\n",
       "      <td>...</td>\n",
       "      <td>...</td>\n",
       "      <td>...</td>\n",
       "      <td>...</td>\n",
       "      <td>...</td>\n",
       "      <td>...</td>\n",
       "      <td>...</td>\n",
       "      <td>...</td>\n",
       "    </tr>\n",
       "    <tr>\n",
       "      <th>1900010</th>\n",
       "      <td>33418663200</td>\n",
       "      <td>2019-12-31 18:39:04</td>\n",
       "      <td>videos</td>\n",
       "      <td>14cwr7</td>\n",
       "      <td>t3_ei3zx5</td>\n",
       "      <td>t3_ei3zx5</td>\n",
       "      <td>-4</td>\n",
       "      <td>0</td>\n",
       "      <td>it's not so much the names that are funny but ...</td>\n",
       "      <td>TimeRange(start_date=2019-10-01, min=50000, hi...</td>\n",
       "    </tr>\n",
       "    <tr>\n",
       "      <th>1900011</th>\n",
       "      <td>33418693376</td>\n",
       "      <td>2019-12-31 18:46:49</td>\n",
       "      <td>GonewildGBUK</td>\n",
       "      <td>57nk6h9s</td>\n",
       "      <td>t3_ei9vhh</td>\n",
       "      <td>t3_ei9vhh</td>\n",
       "      <td>0</td>\n",
       "      <td>0</td>\n",
       "      <td>well if you need an extra cock in 2020 😜😈😈happ...</td>\n",
       "      <td>TimeRange(start_date=2019-10-01, min=50000, hi...</td>\n",
       "    </tr>\n",
       "    <tr>\n",
       "      <th>1900012</th>\n",
       "      <td>33418700835</td>\n",
       "      <td>2019-12-31 18:48:40</td>\n",
       "      <td>unpopularopinion</td>\n",
       "      <td>g8vguuw</td>\n",
       "      <td>t3_ei2udf</td>\n",
       "      <td>t3_ei2udf</td>\n",
       "      <td>1</td>\n",
       "      <td>0</td>\n",
       "      <td>it's also a stereotype that kids visit each pa...</td>\n",
       "      <td>TimeRange(start_date=2019-10-01, min=50000, hi...</td>\n",
       "    </tr>\n",
       "    <tr>\n",
       "      <th>1900013</th>\n",
       "      <td>33418710516</td>\n",
       "      <td>2019-12-31 18:51:06</td>\n",
       "      <td>AskReddit</td>\n",
       "      <td>lp3bf</td>\n",
       "      <td>t3_eiauoe</td>\n",
       "      <td>t3_eiauoe</td>\n",
       "      <td>2</td>\n",
       "      <td>0</td>\n",
       "      <td>more ass, better ass</td>\n",
       "      <td>TimeRange(start_date=2019-10-01, min=50000, hi...</td>\n",
       "    </tr>\n",
       "    <tr>\n",
       "      <th>1900014</th>\n",
       "      <td>33418728451</td>\n",
       "      <td>2019-12-31 18:55:43</td>\n",
       "      <td>AskReddit</td>\n",
       "      <td>43mkub6f</td>\n",
       "      <td>t1_fcon2vr</td>\n",
       "      <td>t3_eiaha6</td>\n",
       "      <td>0</td>\n",
       "      <td>0</td>\n",
       "      <td>ouais mais je parle sur le plan politique. soc...</td>\n",
       "      <td>TimeRange(start_date=2019-10-01, min=50000, hi...</td>\n",
       "    </tr>\n",
       "  </tbody>\n",
       "</table>\n",
       "<p>378702 rows × 10 columns</p>\n",
       "</div>"
      ],
      "text/plain": [
       "                  id                time           sr_name author_id  \\\n",
       "1521313  30000000548 2018-01-03 15:46:31      CrappyDesign     kq14w   \n",
       "1521314  30000000648 2018-01-03 15:46:33              news     hpdj7   \n",
       "1521315  30000004473 2018-01-03 15:47:54         RaiBlocks     ap05j   \n",
       "1521316  30000008262 2018-01-03 15:49:13        fireemblem     yplc2   \n",
       "1521317  30000009293 2018-01-03 15:49:34        conspiracy   o10qosf   \n",
       "...              ...                 ...               ...       ...   \n",
       "1900010  33418663200 2019-12-31 18:39:04            videos    14cwr7   \n",
       "1900011  33418693376 2019-12-31 18:46:49      GonewildGBUK  57nk6h9s   \n",
       "1900012  33418700835 2019-12-31 18:48:40  unpopularopinion   g8vguuw   \n",
       "1900013  33418710516 2019-12-31 18:51:06         AskReddit     lp3bf   \n",
       "1900014  33418728451 2019-12-31 18:55:43         AskReddit  43mkub6f   \n",
       "\n",
       "        parent_fullname    post_id  upvotes  downvotes  \\\n",
       "1521313       t3_7nwcxp  t3_7nwcxp        1          0   \n",
       "1521314      t1_ds54x1y  t3_7nuf0p        1          0   \n",
       "1521315       t3_7nxj2h  t3_7nxj2h        1          0   \n",
       "1521316       t3_7nx5nt  t3_7nx5nt       28          0   \n",
       "1521317      t1_ds57b7x  t3_7nwklc        1          0   \n",
       "...                 ...        ...      ...        ...   \n",
       "1900010       t3_ei3zx5  t3_ei3zx5       -4          0   \n",
       "1900011       t3_ei9vhh  t3_ei9vhh        0          0   \n",
       "1900012       t3_ei2udf  t3_ei2udf        1          0   \n",
       "1900013       t3_eiauoe  t3_eiauoe        2          0   \n",
       "1900014      t1_fcon2vr  t3_eiaha6        0          0   \n",
       "\n",
       "                                                      body  \\\n",
       "1521313  i'm a bot, *bleep*, *bloop*. someone has linke...   \n",
       "1521314  > which is appointed by the mayor, i presume. ...   \n",
       "1521315  the consensus so far has been that the raibloc...   \n",
       "1521316  some of these actually fit, like saber's and i...   \n",
       "1521317                                          thank you   \n",
       "...                                                    ...   \n",
       "1900010  it's not so much the names that are funny but ...   \n",
       "1900011  well if you need an extra cock in 2020 😜😈😈happ...   \n",
       "1900012  it's also a stereotype that kids visit each pa...   \n",
       "1900013                               more ass, better ass   \n",
       "1900014  ouais mais je parle sur le plan politique. soc...   \n",
       "\n",
       "                                                Time range  \n",
       "1521313  TimeRange(start_date=2018-01-01, min=50000, hi...  \n",
       "1521314  TimeRange(start_date=2018-01-01, min=50000, hi...  \n",
       "1521315  TimeRange(start_date=2018-01-01, min=50000, hi...  \n",
       "1521316  TimeRange(start_date=2018-01-01, min=50000, hi...  \n",
       "1521317  TimeRange(start_date=2018-01-01, min=50000, hi...  \n",
       "...                                                    ...  \n",
       "1900010  TimeRange(start_date=2019-10-01, min=50000, hi...  \n",
       "1900011  TimeRange(start_date=2019-10-01, min=50000, hi...  \n",
       "1900012  TimeRange(start_date=2019-10-01, min=50000, hi...  \n",
       "1900013  TimeRange(start_date=2019-10-01, min=50000, hi...  \n",
       "1900014  TimeRange(start_date=2019-10-01, min=50000, hi...  \n",
       "\n",
       "[378702 rows x 10 columns]"
      ]
     },
     "execution_count": 33,
     "metadata": {},
     "output_type": "execute_result"
    }
   ],
   "source": [
    "df[(3e10 <= df[ID]) & (df[ID] < 3.75e10)]"
   ]
  },
  {
   "cell_type": "code",
   "execution_count": 34,
   "metadata": {},
   "outputs": [
    {
     "name": "stdout",
     "output_type": "stream",
     "text": [
      "Misses are probably not normally distributed\n"
     ]
    },
    {
     "data": {
      "text/plain": [
       "KstestResult(statistic=0.10711272388471044, pvalue=0.0, statistic_location=-0.673022862009497, statistic_sign=1)"
      ]
     },
     "execution_count": 34,
     "metadata": {},
     "output_type": "execute_result"
    }
   ],
   "source": [
    "from scipy import stats\n",
    "\n",
    "# Choose alpha of 0.05\n",
    "\n",
    "misses_normalized = (misses_actual - misses_actual.mean()) / misses_actual.std()\n",
    "\n",
    "res = stats.ks_1samp(misses_normalized, stats.norm.cdf)\n",
    "if res.pvalue < 0.05:\n",
    "    print(\"Misses are probably not normally distributed\")\n",
    "else:\n",
    "    print(\"Misses could be normally distributed\")\n",
    "res"
   ]
  },
  {
   "cell_type": "markdown",
   "metadata": {},
   "source": [
    "# Subreddits"
   ]
  },
  {
   "cell_type": "code",
   "execution_count": 35,
   "metadata": {},
   "outputs": [
    {
     "data": {
      "text/html": [
       "<div>\n",
       "<style scoped>\n",
       "    .dataframe tbody tr th:only-of-type {\n",
       "        vertical-align: middle;\n",
       "    }\n",
       "\n",
       "    .dataframe tbody tr th {\n",
       "        vertical-align: top;\n",
       "    }\n",
       "\n",
       "    .dataframe thead th {\n",
       "        text-align: right;\n",
       "    }\n",
       "</style>\n",
       "<table border=\"1\" class=\"dataframe\">\n",
       "  <thead>\n",
       "    <tr style=\"text-align: right;\">\n",
       "      <th></th>\n",
       "      <th>id</th>\n",
       "      <th>time</th>\n",
       "      <th>sr_name</th>\n",
       "      <th>author_id</th>\n",
       "      <th>parent_fullname</th>\n",
       "      <th>post_id</th>\n",
       "      <th>upvotes</th>\n",
       "      <th>downvotes</th>\n",
       "      <th>body</th>\n",
       "      <th>Time range</th>\n",
       "    </tr>\n",
       "  </thead>\n",
       "  <tbody>\n",
       "    <tr>\n",
       "      <th>85</th>\n",
       "      <td>26151686057</td>\n",
       "      <td>2010-01-01 00:02:08</td>\n",
       "      <td>reddit.com</td>\n",
       "      <td>NaN</td>\n",
       "      <td>t1_c0i1e33</td>\n",
       "      <td>t3_akfoq</td>\n",
       "      <td>0</td>\n",
       "      <td>0</td>\n",
       "      <td>for sure, for most it was earlier and for some...</td>\n",
       "      <td>TimeRange(start_date=2010-01-01, min=50000, hi...</td>\n",
       "    </tr>\n",
       "    <tr>\n",
       "      <th>99</th>\n",
       "      <td>26151688760</td>\n",
       "      <td>2010-01-01 01:11:52</td>\n",
       "      <td>reddit.com</td>\n",
       "      <td>3bws6</td>\n",
       "      <td>t3_akfle</td>\n",
       "      <td>t3_akfle</td>\n",
       "      <td>1</td>\n",
       "      <td>0</td>\n",
       "      <td>&gt;pacific mountain time zone\\n\\ngmt minus wtf?</td>\n",
       "      <td>TimeRange(start_date=2010-01-01, min=50000, hi...</td>\n",
       "    </tr>\n",
       "    <tr>\n",
       "      <th>100</th>\n",
       "      <td>26151688939</td>\n",
       "      <td>2010-01-01 01:16:14</td>\n",
       "      <td>reddit.com</td>\n",
       "      <td>3kbhj</td>\n",
       "      <td>t1_c0i0yep</td>\n",
       "      <td>t3_ak8iy</td>\n",
       "      <td>1</td>\n",
       "      <td>0</td>\n",
       "      <td>once again, excellent suggestion.</td>\n",
       "      <td>TimeRange(start_date=2010-01-01, min=50000, hi...</td>\n",
       "    </tr>\n",
       "    <tr>\n",
       "      <th>113</th>\n",
       "      <td>26151690758</td>\n",
       "      <td>2010-01-01 02:03:58</td>\n",
       "      <td>reddit.com</td>\n",
       "      <td>3ram5</td>\n",
       "      <td>t3_akgbg</td>\n",
       "      <td>t3_akgbg</td>\n",
       "      <td>1</td>\n",
       "      <td>0</td>\n",
       "      <td>genuine class</td>\n",
       "      <td>TimeRange(start_date=2010-01-01, min=50000, hi...</td>\n",
       "    </tr>\n",
       "    <tr>\n",
       "      <th>121</th>\n",
       "      <td>26151692913</td>\n",
       "      <td>2010-01-01 02:57:51</td>\n",
       "      <td>reddit.com</td>\n",
       "      <td>3sv0p</td>\n",
       "      <td>t3_ake99</td>\n",
       "      <td>t3_ake99</td>\n",
       "      <td>1</td>\n",
       "      <td>0</td>\n",
       "      <td>i could have sworn the world was doomed when g...</td>\n",
       "      <td>TimeRange(start_date=2010-01-01, min=50000, hi...</td>\n",
       "    </tr>\n",
       "    <tr>\n",
       "      <th>...</th>\n",
       "      <td>...</td>\n",
       "      <td>...</td>\n",
       "      <td>...</td>\n",
       "      <td>...</td>\n",
       "      <td>...</td>\n",
       "      <td>...</td>\n",
       "      <td>...</td>\n",
       "      <td>...</td>\n",
       "      <td>...</td>\n",
       "      <td>...</td>\n",
       "    </tr>\n",
       "    <tr>\n",
       "      <th>346446</th>\n",
       "      <td>26294850892</td>\n",
       "      <td>2011-10-28 17:37:25</td>\n",
       "      <td>reddit.com</td>\n",
       "      <td>5kdvp</td>\n",
       "      <td>t1_c2snvq4</td>\n",
       "      <td>t3_j6kft</td>\n",
       "      <td>1</td>\n",
       "      <td>0</td>\n",
       "      <td>im a slow person</td>\n",
       "      <td>TimeRange(start_date=2011-10-01, min=50000, hi...</td>\n",
       "    </tr>\n",
       "    <tr>\n",
       "      <th>348873</th>\n",
       "      <td>26296954303</td>\n",
       "      <td>2011-11-02 17:09:59</td>\n",
       "      <td>reddit.com</td>\n",
       "      <td>4w480</td>\n",
       "      <td>t3_lbnva</td>\n",
       "      <td>t3_lbnva</td>\n",
       "      <td>1</td>\n",
       "      <td>0</td>\n",
       "      <td>wait! i got this!\\n\\nspanking? no, no! wanking!</td>\n",
       "      <td>TimeRange(start_date=2011-10-01, min=50000, hi...</td>\n",
       "    </tr>\n",
       "    <tr>\n",
       "      <th>354947</th>\n",
       "      <td>26302381341</td>\n",
       "      <td>2011-11-14 16:52:02</td>\n",
       "      <td>reddit.com</td>\n",
       "      <td>37j4</td>\n",
       "      <td>t1_c2zljbv</td>\n",
       "      <td>t3_2mg72</td>\n",
       "      <td>3</td>\n",
       "      <td>0</td>\n",
       "      <td>fibonacci[7962]\\n\\n`4074803477 8997284660 1798...</td>\n",
       "      <td>TimeRange(start_date=2011-10-01, min=50000, hi...</td>\n",
       "    </tr>\n",
       "    <tr>\n",
       "      <th>361473</th>\n",
       "      <td>26308157761</td>\n",
       "      <td>2011-11-27 16:41:00</td>\n",
       "      <td>reddit.com</td>\n",
       "      <td>NaN</td>\n",
       "      <td>t1_c335gf8</td>\n",
       "      <td>t3_lfaqi</td>\n",
       "      <td>1</td>\n",
       "      <td>0</td>\n",
       "      <td>and you came back to tell me this? that is kin...</td>\n",
       "      <td>TimeRange(start_date=2011-10-01, min=50000, hi...</td>\n",
       "    </tr>\n",
       "    <tr>\n",
       "      <th>362360</th>\n",
       "      <td>26308907678</td>\n",
       "      <td>2011-11-29 04:56:06</td>\n",
       "      <td>reddit.com</td>\n",
       "      <td>4ec03</td>\n",
       "      <td>t3_l6ymu</td>\n",
       "      <td>t3_l6ymu</td>\n",
       "      <td>1</td>\n",
       "      <td>0</td>\n",
       "      <td>dubai is a monument to bullshit.</td>\n",
       "      <td>TimeRange(start_date=2011-10-01, min=50000, hi...</td>\n",
       "    </tr>\n",
       "  </tbody>\n",
       "</table>\n",
       "<p>21122 rows × 10 columns</p>\n",
       "</div>"
      ],
      "text/plain": [
       "                 id                time     sr_name author_id parent_fullname  \\\n",
       "85      26151686057 2010-01-01 00:02:08  reddit.com       NaN      t1_c0i1e33   \n",
       "99      26151688760 2010-01-01 01:11:52  reddit.com     3bws6        t3_akfle   \n",
       "100     26151688939 2010-01-01 01:16:14  reddit.com     3kbhj      t1_c0i0yep   \n",
       "113     26151690758 2010-01-01 02:03:58  reddit.com     3ram5        t3_akgbg   \n",
       "121     26151692913 2010-01-01 02:57:51  reddit.com     3sv0p        t3_ake99   \n",
       "...             ...                 ...         ...       ...             ...   \n",
       "346446  26294850892 2011-10-28 17:37:25  reddit.com     5kdvp      t1_c2snvq4   \n",
       "348873  26296954303 2011-11-02 17:09:59  reddit.com     4w480        t3_lbnva   \n",
       "354947  26302381341 2011-11-14 16:52:02  reddit.com      37j4      t1_c2zljbv   \n",
       "361473  26308157761 2011-11-27 16:41:00  reddit.com       NaN      t1_c335gf8   \n",
       "362360  26308907678 2011-11-29 04:56:06  reddit.com     4ec03        t3_l6ymu   \n",
       "\n",
       "         post_id  upvotes  downvotes  \\\n",
       "85      t3_akfoq        0          0   \n",
       "99      t3_akfle        1          0   \n",
       "100     t3_ak8iy        1          0   \n",
       "113     t3_akgbg        1          0   \n",
       "121     t3_ake99        1          0   \n",
       "...          ...      ...        ...   \n",
       "346446  t3_j6kft        1          0   \n",
       "348873  t3_lbnva        1          0   \n",
       "354947  t3_2mg72        3          0   \n",
       "361473  t3_lfaqi        1          0   \n",
       "362360  t3_l6ymu        1          0   \n",
       "\n",
       "                                                     body  \\\n",
       "85      for sure, for most it was earlier and for some...   \n",
       "99          >pacific mountain time zone\\n\\ngmt minus wtf?   \n",
       "100                     once again, excellent suggestion.   \n",
       "113                                         genuine class   \n",
       "121     i could have sworn the world was doomed when g...   \n",
       "...                                                   ...   \n",
       "346446                                   im a slow person   \n",
       "348873    wait! i got this!\\n\\nspanking? no, no! wanking!   \n",
       "354947  fibonacci[7962]\\n\\n`4074803477 8997284660 1798...   \n",
       "361473  and you came back to tell me this? that is kin...   \n",
       "362360                   dubai is a monument to bullshit.   \n",
       "\n",
       "                                               Time range  \n",
       "85      TimeRange(start_date=2010-01-01, min=50000, hi...  \n",
       "99      TimeRange(start_date=2010-01-01, min=50000, hi...  \n",
       "100     TimeRange(start_date=2010-01-01, min=50000, hi...  \n",
       "113     TimeRange(start_date=2010-01-01, min=50000, hi...  \n",
       "121     TimeRange(start_date=2010-01-01, min=50000, hi...  \n",
       "...                                                   ...  \n",
       "346446  TimeRange(start_date=2011-10-01, min=50000, hi...  \n",
       "348873  TimeRange(start_date=2011-10-01, min=50000, hi...  \n",
       "354947  TimeRange(start_date=2011-10-01, min=50000, hi...  \n",
       "361473  TimeRange(start_date=2011-10-01, min=50000, hi...  \n",
       "362360  TimeRange(start_date=2011-10-01, min=50000, hi...  \n",
       "\n",
       "[21122 rows x 10 columns]"
      ]
     },
     "execution_count": 35,
     "metadata": {},
     "output_type": "execute_result"
    }
   ],
   "source": [
    "df[df[SR_NAME] == \"reddit.com\"]"
   ]
  },
  {
   "cell_type": "code",
   "execution_count": 36,
   "metadata": {},
   "outputs": [
    {
     "data": {
      "text/plain": [
       "sr_name\n",
       "AskReddit              192443\n",
       "pics                    52891\n",
       "funny                   41546\n",
       "politics                39213\n",
       "gaming                  34883\n",
       "WTF                     25919\n",
       "leagueoflegends         22466\n",
       "worldnews               20831\n",
       "IAmA                    20352\n",
       "videos                  18055\n",
       "atheism                 17779\n",
       "nfl                     17112\n",
       "todayilearned           16838\n",
       "nba                     15419\n",
       "AdviceAnimals           15163\n",
       "trees                   14879\n",
       "soccer                  13243\n",
       "fffffffuuuuuuuuuuuu     11239\n",
       "news                    11234\n",
       "movies                  11136\n",
       "Name: count, dtype: int64"
      ]
     },
     "execution_count": 36,
     "metadata": {},
     "output_type": "execute_result"
    }
   ],
   "source": [
    "# Most popular subreddits\n",
    "df[df[SR_NAME] != \"reddit.com\"][SR_NAME].value_counts().nlargest(20)"
   ]
  },
  {
   "cell_type": "code",
   "execution_count": 11,
   "metadata": {},
   "outputs": [
    {
     "ename": "NameError",
     "evalue": "name 'TIME_RANGE' is not defined",
     "output_type": "error",
     "traceback": [
      "\u001b[0;31m---------------------------------------------------------------------------\u001b[0m",
      "\u001b[0;31mNameError\u001b[0m                                 Traceback (most recent call last)",
      "Cell \u001b[0;32mIn[11], line 4\u001b[0m\n\u001b[1;32m      1\u001b[0m \u001b[38;5;66;03m# this looks at *count* rather than percent of comments from each subreddit\u001b[39;00m\n\u001b[1;32m      2\u001b[0m \u001b[38;5;66;03m# todo fix that (oversampling thing)\u001b[39;00m\n\u001b[0;32m----> 4\u001b[0m data \u001b[38;5;241m=\u001b[39m df\u001b[38;5;241m.\u001b[39mgroupby(\u001b[43mTIME_RANGE\u001b[49m)\u001b[38;5;241m.\u001b[39mapply(\u001b[38;5;28;01mlambda\u001b[39;00m df: df[SR_NAME]\u001b[38;5;241m.\u001b[39mvalue_counts(normalize\u001b[38;5;241m=\u001b[39m\u001b[38;5;28;01mTrue\u001b[39;00m)\u001b[38;5;241m.\u001b[39mnlargest(\u001b[38;5;241m5\u001b[39m), include_groups\u001b[38;5;241m=\u001b[39m\u001b[38;5;28;01mFalse\u001b[39;00m)\n\u001b[1;32m      5\u001b[0m data \u001b[38;5;241m=\u001b[39m data\u001b[38;5;241m.\u001b[39mto_frame(\u001b[38;5;124m\"\u001b[39m\u001b[38;5;124mcount\u001b[39m\u001b[38;5;124m\"\u001b[39m)\u001b[38;5;241m.\u001b[39mreset_index()\n\u001b[1;32m      6\u001b[0m data[TIME_RANGE] \u001b[38;5;241m=\u001b[39m data[TIME_RANGE]\u001b[38;5;241m.\u001b[39mapply(\u001b[38;5;28;01mlambda\u001b[39;00m tr: tr\u001b[38;5;241m.\u001b[39mstart_date)\n",
      "\u001b[0;31mNameError\u001b[0m: name 'TIME_RANGE' is not defined"
     ]
    }
   ],
   "source": [
    "# this looks at *count* rather than percent of comments from each subreddit\n",
    "# todo fix that (oversampling thing)\n",
    "\n",
    "data = df.groupby(TIME_RANGE).apply(lambda df: df[SR_NAME].value_counts(normalize=True).nlargest(5), include_groups=False)\n",
    "data = data.to_frame(\"count\").reset_index()\n",
    "data[TIME_RANGE] = data[TIME_RANGE].apply(lambda tr: tr.start_date)\n",
    "\n",
    "plt.figure(figsize=(15, 8))\n",
    "ax = sns.lineplot(data, x=TIME_RANGE, y=\"count\", hue=SR_NAME)\n",
    "sns.move_legend(ax, \"upper left\", bbox_to_anchor=(1, 1))"
   ]
  },
  {
   "cell_type": "markdown",
   "metadata": {},
   "source": [
    "# Text cleaning"
   ]
  },
  {
   "cell_type": "code",
   "execution_count": 19,
   "metadata": {},
   "outputs": [
    {
     "name": "stdout",
     "output_type": "stream",
     "text": [
      "Requirement already satisfied: bs4 in /home/ysthakur/.virtualenvs/datasci/lib/python3.11/site-packages (0.0.2)\n",
      "Requirement already satisfied: umarkdown in /home/ysthakur/.virtualenvs/datasci/lib/python3.11/site-packages (1.6)\n",
      "Requirement already satisfied: beautifulsoup4 in /home/ysthakur/.virtualenvs/datasci/lib/python3.11/site-packages (from bs4) (4.12.3)\n",
      "Requirement already satisfied: soupsieve>1.2 in /home/ysthakur/.virtualenvs/datasci/lib/python3.11/site-packages (from beautifulsoup4->bs4) (2.6)\n"
     ]
    }
   ],
   "source": [
    "!pip install bs4 umarkdown"
   ]
  },
  {
   "cell_type": "code",
   "execution_count": 13,
   "metadata": {},
   "outputs": [
    {
     "data": {
      "text/html": [
       "<div>\n",
       "<style scoped>\n",
       "    .dataframe tbody tr th:only-of-type {\n",
       "        vertical-align: middle;\n",
       "    }\n",
       "\n",
       "    .dataframe tbody tr th {\n",
       "        vertical-align: top;\n",
       "    }\n",
       "\n",
       "    .dataframe thead th {\n",
       "        text-align: right;\n",
       "    }\n",
       "</style>\n",
       "<table border=\"1\" class=\"dataframe\">\n",
       "  <thead>\n",
       "    <tr style=\"text-align: right;\">\n",
       "      <th></th>\n",
       "      <th>body</th>\n",
       "      <th>parsed</th>\n",
       "    </tr>\n",
       "  </thead>\n",
       "  <tbody>\n",
       "    <tr>\n",
       "      <th>0</th>\n",
       "      <td>Naw man. Twist those shits together. Hells 'o ...</td>\n",
       "      <td>Naw man. Twist those shits together. Hells 'o ...</td>\n",
       "    </tr>\n",
       "    <tr>\n",
       "      <th>1</th>\n",
       "      <td>Nobody will care about you not making posts / ...</td>\n",
       "      <td>Nobody will care about you not making posts / ...</td>\n",
       "    </tr>\n",
       "    <tr>\n",
       "      <th>2</th>\n",
       "      <td>List cleaning services can be expensive, and a...</td>\n",
       "      <td>List cleaning services can be expensive, and a...</td>\n",
       "    </tr>\n",
       "    <tr>\n",
       "      <th>3</th>\n",
       "      <td>I believe in evolution and not creationism. Ho...</td>\n",
       "      <td>I believe in evolution and not creationism. Ho...</td>\n",
       "    </tr>\n",
       "    <tr>\n",
       "      <th>4</th>\n",
       "      <td>So much potential for really unpleasant jokes ...</td>\n",
       "      <td>So much potential for really unpleasant jokes ...</td>\n",
       "    </tr>\n",
       "  </tbody>\n",
       "</table>\n",
       "</div>"
      ],
      "text/plain": [
       "                                                body  \\\n",
       "0  Naw man. Twist those shits together. Hells 'o ...   \n",
       "1  Nobody will care about you not making posts / ...   \n",
       "2  List cleaning services can be expensive, and a...   \n",
       "3  I believe in evolution and not creationism. Ho...   \n",
       "4  So much potential for really unpleasant jokes ...   \n",
       "\n",
       "                                              parsed  \n",
       "0  Naw man. Twist those shits together. Hells 'o ...  \n",
       "1  Nobody will care about you not making posts / ...  \n",
       "2  List cleaning services can be expensive, and a...  \n",
       "3  I believe in evolution and not creationism. Ho...  \n",
       "4  So much potential for really unpleasant jokes ...  "
      ]
     },
     "execution_count": 13,
     "metadata": {},
     "output_type": "execute_result"
    }
   ],
   "source": [
    "from bs4 import BeautifulSoup\n",
    "from umarkdown import markdown\n",
    "\n",
    "sample_df = df.sample(n=5000, random_state=123).reset_index(drop=True)\n",
    "\n",
    "def parse_markdown(body: str):\n",
    "    html = markdown(body)\n",
    "    soup = BeautifulSoup(html, features=\"html.parser\")\n",
    "    return soup.get_text(\" \").strip()\n",
    "\n",
    "sample_df[\"parsed\"] = sample_df[BODY].map(parse_markdown)\n",
    "sample_df[[BODY, \"parsed\"]].head()"
   ]
  },
  {
   "cell_type": "code",
   "execution_count": 33,
   "metadata": {},
   "outputs": [],
   "source": [
    "from nltk.tokenize.casual import TweetTokenizer\n",
    "import re\n",
    "import unicodedata\n",
    "\n",
    "tokenizer = TweetTokenizer()\n",
    "\n",
    "\n",
    "def casual_tokenize(text: str) -> list[str]:\n",
    "    text = unicodedata.normalize(\"NFKD\", text)\n",
    "    text = re.sub(\"[uU]/[A-Za-z_-]+\", \" \", text)\n",
    "    text = re.sub(\"[rR]/[A-Za-z_.-]+\", \" \", text)\n",
    "    text = text.replace(\"\\n\", \" \")\n",
    "    text = text.replace(r\"\\n\", \" \")\n",
    "    # Kind of a dumb way to remove links but I'm like 90% sure it works\n",
    "    no_links = [\n",
    "        tok for tok in tokenizer.tokenize(text) if not re.match(\"https?://\", tok)\n",
    "    ]\n",
    "    # Remove all tokens that only contain non-word characters\n",
    "    no_symbol_tokens = [\n",
    "        tok for tok in tokenizer.tokenize(text) if re.match(\"[A-Za-z]\", tok)\n",
    "    ]\n",
    "    return no_symbol_tokens\n",
    "\n",
    "\n",
    "sample_df[\"casual_tokenized\"] = sample_df[\"parsed\"].map(casual_tokenize)"
   ]
  },
  {
   "cell_type": "code",
   "execution_count": 30,
   "metadata": {},
   "outputs": [
    {
     "data": {
      "text/plain": [
       "[\"They're\", 'go', 'to', 'the', 'mall']"
      ]
     },
     "execution_count": 30,
     "metadata": {},
     "output_type": "execute_result"
    }
   ],
   "source": [
    "from nltk.corpus import wordnet\n",
    "from nltk.stem import WordNetLemmatizer\n",
    "from nltk import pos_tag\n",
    "\n",
    "# Uncomment this the first time you run this code block\n",
    "# nltk.download(\"wordnet\")\n",
    "# nltk.download('averaged_perceptron_tagger_eng')\n",
    "\n",
    "lemmatizer = WordNetLemmatizer()\n",
    "\n",
    "tokens = casual_tokenize(\"They're going to the mall\")\n",
    "tags = pos_tag(tokens)\n",
    "\n",
    "def treebank_tag_to_wordnet_tag(tag: str):\n",
    "    if tag.startswith('J'):\n",
    "        return wordnet.ADJ\n",
    "    elif tag.startswith('V'):\n",
    "        return wordnet.VERB\n",
    "    elif tag.startswith('N'):\n",
    "        return wordnet.NOUN\n",
    "    elif tag.startswith('R'):\n",
    "        return wordnet.ADV\n",
    "    else:\n",
    "        return wordnet.NOUN\n",
    "\n",
    "# TODO this doesn't handle contractions, use spaCy instead\n",
    "[lemmatizer.lemmatize(word, treebank_tag_to_wordnet_tag(tag)) for word, tag in tags]"
   ]
  },
  {
   "cell_type": "markdown",
   "metadata": {},
   "source": [
    "# N-grams"
   ]
  },
  {
   "cell_type": "code",
   "execution_count": 101,
   "metadata": {},
   "outputs": [
    {
     "data": {
      "text/html": [
       "<div>\n",
       "<style scoped>\n",
       "    .dataframe tbody tr th:only-of-type {\n",
       "        vertical-align: middle;\n",
       "    }\n",
       "\n",
       "    .dataframe tbody tr th {\n",
       "        vertical-align: top;\n",
       "    }\n",
       "\n",
       "    .dataframe thead th {\n",
       "        text-align: right;\n",
       "    }\n",
       "</style>\n",
       "<table border=\"1\" class=\"dataframe\">\n",
       "  <thead>\n",
       "    <tr style=\"text-align: right;\">\n",
       "      <th></th>\n",
       "      <th>ngram</th>\n",
       "      <th>freq</th>\n",
       "    </tr>\n",
       "  </thead>\n",
       "  <tbody>\n",
       "    <tr>\n",
       "      <th>0</th>\n",
       "      <td>(of, the)</td>\n",
       "      <td>523</td>\n",
       "    </tr>\n",
       "    <tr>\n",
       "      <th>1</th>\n",
       "      <td>(in, the)</td>\n",
       "      <td>437</td>\n",
       "    </tr>\n",
       "    <tr>\n",
       "      <th>2</th>\n",
       "      <td>(to, be)</td>\n",
       "      <td>278</td>\n",
       "    </tr>\n",
       "    <tr>\n",
       "      <th>3</th>\n",
       "      <td>(on, the)</td>\n",
       "      <td>256</td>\n",
       "    </tr>\n",
       "    <tr>\n",
       "      <th>4</th>\n",
       "      <td>(to, the)</td>\n",
       "      <td>239</td>\n",
       "    </tr>\n",
       "    <tr>\n",
       "      <th>...</th>\n",
       "      <td>...</td>\n",
       "      <td>...</td>\n",
       "    </tr>\n",
       "    <tr>\n",
       "      <th>240420</th>\n",
       "      <td>(than, to, change)</td>\n",
       "      <td>1</td>\n",
       "    </tr>\n",
       "    <tr>\n",
       "      <th>240421</th>\n",
       "      <td>(change, a, mama's)</td>\n",
       "      <td>1</td>\n",
       "    </tr>\n",
       "    <tr>\n",
       "      <th>240422</th>\n",
       "      <td>(mama's, boy, Just)</td>\n",
       "      <td>1</td>\n",
       "    </tr>\n",
       "    <tr>\n",
       "      <th>240423</th>\n",
       "      <td>(boy, Just, keep)</td>\n",
       "      <td>1</td>\n",
       "    </tr>\n",
       "    <tr>\n",
       "      <th>240424</th>\n",
       "      <td>(Just, keep, that)</td>\n",
       "      <td>1</td>\n",
       "    </tr>\n",
       "  </tbody>\n",
       "</table>\n",
       "<p>240425 rows × 2 columns</p>\n",
       "</div>"
      ],
      "text/plain": [
       "                      ngram  freq\n",
       "0                 (of, the)   523\n",
       "1                 (in, the)   437\n",
       "2                  (to, be)   278\n",
       "3                 (on, the)   256\n",
       "4                 (to, the)   239\n",
       "...                     ...   ...\n",
       "240420   (than, to, change)     1\n",
       "240421  (change, a, mama's)     1\n",
       "240422  (mama's, boy, Just)     1\n",
       "240423    (boy, Just, keep)     1\n",
       "240424   (Just, keep, that)     1\n",
       "\n",
       "[240425 rows x 2 columns]"
      ]
     },
     "execution_count": 101,
     "metadata": {},
     "output_type": "execute_result"
    }
   ],
   "source": [
    "import itertools\n",
    "\n",
    "bigrams = nltk.bigrams(sample_df[\"casual_tokenized\"].explode())\n",
    "trigrams = nltk.trigrams(sample_df[\"casual_tokenized\"].explode())\n",
    "fdist = nltk.FreqDist(itertools.chain(bigrams, trigrams))\n",
    "ngram_df = pd.DataFrame(\n",
    "    [\n",
    "        [ngram, fdist[ngram]]\n",
    "        for ngram in fdist\n",
    "        if all(isinstance(tok, str) for tok in ngram)\n",
    "    ],\n",
    "    columns=[\"ngram\", \"freq\"],\n",
    ")\n",
    "ngram_df"
   ]
  },
  {
   "cell_type": "code",
   "execution_count": 102,
   "metadata": {},
   "outputs": [
    {
     "data": {
      "text/html": [
       "<div>\n",
       "<style scoped>\n",
       "    .dataframe tbody tr th:only-of-type {\n",
       "        vertical-align: middle;\n",
       "    }\n",
       "\n",
       "    .dataframe tbody tr th {\n",
       "        vertical-align: top;\n",
       "    }\n",
       "\n",
       "    .dataframe thead th {\n",
       "        text-align: right;\n",
       "    }\n",
       "</style>\n",
       "<table border=\"1\" class=\"dataframe\">\n",
       "  <thead>\n",
       "    <tr style=\"text-align: right;\">\n",
       "      <th></th>\n",
       "      <th>ngram</th>\n",
       "      <th>freq</th>\n",
       "    </tr>\n",
       "  </thead>\n",
       "  <tbody>\n",
       "    <tr>\n",
       "      <th>9851</th>\n",
       "      <td>(anxiety, I)</td>\n",
       "      <td>2</td>\n",
       "    </tr>\n",
       "    <tr>\n",
       "      <th>10567</th>\n",
       "      <td>(with, abusive)</td>\n",
       "      <td>2</td>\n",
       "    </tr>\n",
       "    <tr>\n",
       "      <th>10568</th>\n",
       "      <td>(abusive, MIL)</td>\n",
       "      <td>2</td>\n",
       "    </tr>\n",
       "    <tr>\n",
       "      <th>17759</th>\n",
       "      <td>(contact, with, abusive)</td>\n",
       "      <td>2</td>\n",
       "    </tr>\n",
       "    <tr>\n",
       "      <th>17760</th>\n",
       "      <td>(with, abusive, MIL)</td>\n",
       "      <td>2</td>\n",
       "    </tr>\n",
       "  </tbody>\n",
       "</table>\n",
       "</div>"
      ],
      "text/plain": [
       "                          ngram  freq\n",
       "9851               (anxiety, I)     2\n",
       "10567           (with, abusive)     2\n",
       "10568            (abusive, MIL)     2\n",
       "17759  (contact, with, abusive)     2\n",
       "17760      (with, abusive, MIL)     2"
      ]
     },
     "execution_count": 102,
     "metadata": {},
     "output_type": "execute_result"
    }
   ],
   "source": [
    "def relevant_ngram(ngram, keywords=keywords):\n",
    "    for token in ngram:\n",
    "        for kw in keywords:\n",
    "            try:\n",
    "                if kw in token:\n",
    "                    return True\n",
    "            except TypeError as e:\n",
    "                print(kw, ngram)\n",
    "                raise e\n",
    "    return False\n",
    "\n",
    "\n",
    "ngram_df[ngram_df[\"ngram\"].map(lambda ngram: relevant_ngram(ngram, keywords=[\"anx\", \"abus\"]))].head()"
   ]
  }
 ],
 "metadata": {
  "kernelspec": {
   "display_name": "datasci",
   "language": "python",
   "name": "python3"
  },
  "language_info": {
   "codemirror_mode": {
    "name": "ipython",
    "version": 3
   },
   "file_extension": ".py",
   "mimetype": "text/x-python",
   "name": "python",
   "nbconvert_exporter": "python",
   "pygments_lexer": "ipython3",
   "version": "3.11.6"
  }
 },
 "nbformat": 4,
 "nbformat_minor": 2
}
