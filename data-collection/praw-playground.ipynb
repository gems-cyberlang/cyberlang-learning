{
 "cells": [
  {
   "cell_type": "code",
   "execution_count": 1,
   "metadata": {},
   "outputs": [
    {
     "name": "stdout",
     "output_type": "stream",
     "text": [
      "Requirement already satisfied: praw in /home/ysthakur/.virtualenvs/datasci/lib/python3.11/site-packages (7.7.1)\n",
      "Requirement already satisfied: pandas in /home/ysthakur/.virtualenvs/datasci/lib/python3.11/site-packages (2.2.2)\n",
      "Requirement already satisfied: seaborn in /home/ysthakur/.virtualenvs/datasci/lib/python3.11/site-packages (0.13.2)\n",
      "Requirement already satisfied: scipy in /home/ysthakur/.virtualenvs/datasci/lib/python3.11/site-packages (1.14.0)\n",
      "Requirement already satisfied: prawcore<3,>=2.1 in /home/ysthakur/.virtualenvs/datasci/lib/python3.11/site-packages (from praw) (2.4.0)\n",
      "Requirement already satisfied: update-checker>=0.18 in /home/ysthakur/.virtualenvs/datasci/lib/python3.11/site-packages (from praw) (0.18.0)\n",
      "Requirement already satisfied: websocket-client>=0.54.0 in /home/ysthakur/.virtualenvs/datasci/lib/python3.11/site-packages (from praw) (1.8.0)\n",
      "Requirement already satisfied: numpy>=1.23.2 in /home/ysthakur/.virtualenvs/datasci/lib/python3.11/site-packages (from pandas) (1.26.4)\n",
      "Requirement already satisfied: python-dateutil>=2.8.2 in /home/ysthakur/.virtualenvs/datasci/lib/python3.11/site-packages (from pandas) (2.9.0.post0)\n",
      "Requirement already satisfied: pytz>=2020.1 in /home/ysthakur/.virtualenvs/datasci/lib/python3.11/site-packages (from pandas) (2024.1)\n",
      "Requirement already satisfied: tzdata>=2022.7 in /home/ysthakur/.virtualenvs/datasci/lib/python3.11/site-packages (from pandas) (2024.1)\n",
      "Requirement already satisfied: matplotlib!=3.6.1,>=3.4 in /home/ysthakur/.virtualenvs/datasci/lib/python3.11/site-packages (from seaborn) (3.9.1)\n",
      "Requirement already satisfied: contourpy>=1.0.1 in /home/ysthakur/.virtualenvs/datasci/lib/python3.11/site-packages (from matplotlib!=3.6.1,>=3.4->seaborn) (1.2.1)\n",
      "Requirement already satisfied: cycler>=0.10 in /home/ysthakur/.virtualenvs/datasci/lib/python3.11/site-packages (from matplotlib!=3.6.1,>=3.4->seaborn) (0.12.1)\n",
      "Requirement already satisfied: fonttools>=4.22.0 in /home/ysthakur/.virtualenvs/datasci/lib/python3.11/site-packages (from matplotlib!=3.6.1,>=3.4->seaborn) (4.53.1)\n",
      "Requirement already satisfied: kiwisolver>=1.3.1 in /home/ysthakur/.virtualenvs/datasci/lib/python3.11/site-packages (from matplotlib!=3.6.1,>=3.4->seaborn) (1.4.5)\n",
      "Requirement already satisfied: packaging>=20.0 in /home/ysthakur/.virtualenvs/datasci/lib/python3.11/site-packages (from matplotlib!=3.6.1,>=3.4->seaborn) (24.1)\n",
      "Requirement already satisfied: pillow>=8 in /home/ysthakur/.virtualenvs/datasci/lib/python3.11/site-packages (from matplotlib!=3.6.1,>=3.4->seaborn) (10.3.0)\n",
      "Requirement already satisfied: pyparsing>=2.3.1 in /home/ysthakur/.virtualenvs/datasci/lib/python3.11/site-packages (from matplotlib!=3.6.1,>=3.4->seaborn) (3.1.2)\n",
      "Requirement already satisfied: requests<3.0,>=2.6.0 in /home/ysthakur/.virtualenvs/datasci/lib/python3.11/site-packages (from prawcore<3,>=2.1->praw) (2.31.0)\n",
      "Requirement already satisfied: six>=1.5 in /home/ysthakur/.virtualenvs/datasci/lib/python3.11/site-packages (from python-dateutil>=2.8.2->pandas) (1.16.0)\n",
      "Requirement already satisfied: charset-normalizer<4,>=2 in /home/ysthakur/.virtualenvs/datasci/lib/python3.11/site-packages (from requests<3.0,>=2.6.0->prawcore<3,>=2.1->praw) (3.3.2)\n",
      "Requirement already satisfied: idna<4,>=2.5 in /home/ysthakur/.virtualenvs/datasci/lib/python3.11/site-packages (from requests<3.0,>=2.6.0->prawcore<3,>=2.1->praw) (3.7)\n",
      "Requirement already satisfied: urllib3<3,>=1.21.1 in /home/ysthakur/.virtualenvs/datasci/lib/python3.11/site-packages (from requests<3.0,>=2.6.0->prawcore<3,>=2.1->praw) (2.2.1)\n",
      "Requirement already satisfied: certifi>=2017.4.17 in /home/ysthakur/.virtualenvs/datasci/lib/python3.11/site-packages (from requests<3.0,>=2.6.0->prawcore<3,>=2.1->praw) (2024.2.2)\n"
     ]
    }
   ],
   "source": [
    "!pip install praw pandas seaborn scipy"
   ]
  },
  {
   "cell_type": "code",
   "execution_count": 2,
   "metadata": {},
   "outputs": [],
   "source": [
    "import csv\n",
    "from datetime import datetime\n",
    "import matplotlib as mpl\n",
    "from matplotlib import pyplot as plt\n",
    "import numpy as np\n",
    "import pandas as pd\n",
    "import praw\n",
    "import prawcore\n",
    "import random\n",
    "import seaborn as sns\n",
    "from typing import Callable\n",
    "\n",
    "from config import Config, CONFIG_FILE_NAME\n",
    "from util import *\n",
    "import validate\n",
    "\n",
    "sns.set_theme()"
   ]
  },
  {
   "cell_type": "code",
   "execution_count": 3,
   "metadata": {},
   "outputs": [],
   "source": [
    "# To ensure everything's nice and deterministic\n",
    "random.seed(0)\n",
    "np.random.seed(0)"
   ]
  },
  {
   "cell_type": "code",
   "execution_count": 4,
   "metadata": {},
   "outputs": [],
   "source": [
    "import logging\n",
    "\n",
    "# This will log everything\n",
    "LOG = True\n",
    "if LOG:\n",
    "    handler = logging.StreamHandler()\n",
    "    handler.setLevel(logging.WARN)\n",
    "    for logger_name in (\"praw\", \"prawcore\"):\n",
    "        logger = logging.getLogger(logger_name)\n",
    "        logger.setLevel(logging.DEBUG)\n",
    "        logger.addHandler(handler)"
   ]
  },
  {
   "cell_type": "code",
   "execution_count": 5,
   "metadata": {},
   "outputs": [],
   "source": [
    "# Create the Reddit instance to do all the API stuff with\n",
    "reddit = init_reddit()"
   ]
  },
  {
   "cell_type": "code",
   "execution_count": 6,
   "metadata": {},
   "outputs": [],
   "source": [
    "keywords = [\n",
    "    \"trauma\",\n",
    "    \"gaslight\",\n",
    "    \"trigger\",\n",
    "    \"toxic\",\n",
    "    \"woke\",\n",
    "    \"manipulat\",\n",
    "    \"microaggression\",\n",
    "    \"autis\",\n",
    "    \"adhd\",\n",
    "    \"ocd\",\n",
    "    \"ptsd\",\n",
    "    \"bipolar\",\n",
    "    \"anxiety\",\n",
    "    \"depress\",\n",
    "    \"psycho\",\n",
    "    \"delusion\",\n",
    "    \"delulu\",\n",
    "    \"solulu\",\n",
    "    \"addict\",\n",
    "    \"abus\",\n",
    "    \"unstable\",\n",
    "    \"narcissis\",\n",
    "    \"addict\",\n",
    "    \"neurodivergen\",\n",
    "]"
   ]
  },
  {
   "cell_type": "code",
   "execution_count": 7,
   "metadata": {},
   "outputs": [],
   "source": [
    "first_id = int(\"c000000\", 36)  # todo find the ID of the first post we want to analyze\n",
    "# Earliest post I can find: https://www.reddit.com/api/info.json?id=t1_c015001\n",
    "last_id = int(\"l000000\", 36)  # todo find the ID of the last post we want to analyze"
   ]
  },
  {
   "cell_type": "markdown",
   "metadata": {},
   "source": [
    "## Load comments"
   ]
  },
  {
   "cell_type": "code",
   "execution_count": 8,
   "metadata": {},
   "outputs": [],
   "source": [
    "runs = get_runs()\n",
    "missing_runs = validate.missing_runs(runs.keys())\n",
    "assert len(missing_runs) == 0, missing_runs"
   ]
  },
  {
   "cell_type": "code",
   "execution_count": 9,
   "metadata": {},
   "outputs": [
    {
     "data": {
      "text/html": [
       "<div>\n",
       "<style scoped>\n",
       "    .dataframe tbody tr th:only-of-type {\n",
       "        vertical-align: middle;\n",
       "    }\n",
       "\n",
       "    .dataframe tbody tr th {\n",
       "        vertical-align: top;\n",
       "    }\n",
       "\n",
       "    .dataframe thead th {\n",
       "        text-align: right;\n",
       "    }\n",
       "</style>\n",
       "<table border=\"1\" class=\"dataframe\">\n",
       "  <thead>\n",
       "    <tr style=\"text-align: right;\">\n",
       "      <th></th>\n",
       "      <th>id</th>\n",
       "      <th>time</th>\n",
       "      <th>sr_name</th>\n",
       "      <th>author_id</th>\n",
       "      <th>parent_fullname</th>\n",
       "      <th>post_id</th>\n",
       "      <th>upvotes</th>\n",
       "      <th>downvotes</th>\n",
       "      <th>body</th>\n",
       "    </tr>\n",
       "  </thead>\n",
       "  <tbody>\n",
       "    <tr>\n",
       "      <th>0</th>\n",
       "      <td>26151673552</td>\n",
       "      <td>2009-12-31 19:34:47</td>\n",
       "      <td>AskReddit</td>\n",
       "      <td>3qsub</td>\n",
       "      <td>t1_c0i12mx</td>\n",
       "      <td>t3_ake21</td>\n",
       "      <td>1</td>\n",
       "      <td>0</td>\n",
       "      <td>15th</td>\n",
       "    </tr>\n",
       "    <tr>\n",
       "      <th>1</th>\n",
       "      <td>26151680417</td>\n",
       "      <td>2009-12-31 21:46:41</td>\n",
       "      <td>TwoXChromosomes</td>\n",
       "      <td>NaN</td>\n",
       "      <td>t3_akctl</td>\n",
       "      <td>t3_akctl</td>\n",
       "      <td>8</td>\n",
       "      <td>0</td>\n",
       "      <td>I used to hate it. They I realized that my pro...</td>\n",
       "    </tr>\n",
       "    <tr>\n",
       "      <th>2</th>\n",
       "      <td>26151683413</td>\n",
       "      <td>2009-12-31 22:57:02</td>\n",
       "      <td>politics</td>\n",
       "      <td>3ptpj</td>\n",
       "      <td>t3_ak991</td>\n",
       "      <td>t3_ak991</td>\n",
       "      <td>1</td>\n",
       "      <td>0</td>\n",
       "      <td>its unfortunate the younger kids today, most l...</td>\n",
       "    </tr>\n",
       "    <tr>\n",
       "      <th>3</th>\n",
       "      <td>26151683711</td>\n",
       "      <td>2009-12-31 23:03:50</td>\n",
       "      <td>books</td>\n",
       "      <td>NaN</td>\n",
       "      <td>t3_akexp</td>\n",
       "      <td>t3_akexp</td>\n",
       "      <td>19</td>\n",
       "      <td>0</td>\n",
       "      <td>I've never heard of Ellroy, but the fact that ...</td>\n",
       "    </tr>\n",
       "    <tr>\n",
       "      <th>4</th>\n",
       "      <td>26151685221</td>\n",
       "      <td>2009-12-31 23:41:48</td>\n",
       "      <td>AskReddit</td>\n",
       "      <td>NaN</td>\n",
       "      <td>t1_c0i1cz0</td>\n",
       "      <td>t3_akerr</td>\n",
       "      <td>-6</td>\n",
       "      <td>0</td>\n",
       "      <td>The cake is a lie...</td>\n",
       "    </tr>\n",
       "    <tr>\n",
       "      <th>...</th>\n",
       "      <td>...</td>\n",
       "      <td>...</td>\n",
       "      <td>...</td>\n",
       "      <td>...</td>\n",
       "      <td>...</td>\n",
       "      <td>...</td>\n",
       "      <td>...</td>\n",
       "      <td>...</td>\n",
       "      <td>...</td>\n",
       "    </tr>\n",
       "    <tr>\n",
       "      <th>83339</th>\n",
       "      <td>33417439309</td>\n",
       "      <td>2019-12-31 14:09:31</td>\n",
       "      <td>MLjobs</td>\n",
       "      <td>3rw2plx6</td>\n",
       "      <td>t1_fcntyxp</td>\n",
       "      <td>t3_ei6ha7</td>\n",
       "      <td>1</td>\n",
       "      <td>0</td>\n",
       "      <td>Considering that there are more than 50 jobs o...</td>\n",
       "    </tr>\n",
       "    <tr>\n",
       "      <th>83340</th>\n",
       "      <td>33417567139</td>\n",
       "      <td>2019-12-31 14:34:28</td>\n",
       "      <td>cakeday</td>\n",
       "      <td>2wbnsgxt</td>\n",
       "      <td>t3_ei44s8</td>\n",
       "      <td>t3_ei44s8</td>\n",
       "      <td>1</td>\n",
       "      <td>0</td>\n",
       "      <td>Make it work it 2020! (Or just keep using redd...</td>\n",
       "    </tr>\n",
       "    <tr>\n",
       "      <th>83341</th>\n",
       "      <td>33417843655</td>\n",
       "      <td>2019-12-31 15:24:07</td>\n",
       "      <td>aww</td>\n",
       "      <td>3evapc3o</td>\n",
       "      <td>t1_fcnv7du</td>\n",
       "      <td>t3_ei3fuq</td>\n",
       "      <td>3</td>\n",
       "      <td>0</td>\n",
       "      <td>I was scrolling and looking for this comment. ...</td>\n",
       "    </tr>\n",
       "    <tr>\n",
       "      <th>83342</th>\n",
       "      <td>33418099004</td>\n",
       "      <td>2019-12-31 16:17:24</td>\n",
       "      <td>AusFinance</td>\n",
       "      <td>NaN</td>\n",
       "      <td>t3_ei3z8v</td>\n",
       "      <td>t3_ei3z8v</td>\n",
       "      <td>3</td>\n",
       "      <td>0</td>\n",
       "      <td>My folks have one and are pretty happy with it...</td>\n",
       "    </tr>\n",
       "    <tr>\n",
       "      <th>83343</th>\n",
       "      <td>33418228565</td>\n",
       "      <td>2019-12-31 16:49:21</td>\n",
       "      <td>HolUp</td>\n",
       "      <td>4v2q2ile</td>\n",
       "      <td>t1_fcn46gh</td>\n",
       "      <td>t3_ehw4y5</td>\n",
       "      <td>1</td>\n",
       "      <td>0</td>\n",
       "      <td>I hold no ill will</td>\n",
       "    </tr>\n",
       "  </tbody>\n",
       "</table>\n",
       "<p>83344 rows × 9 columns</p>\n",
       "</div>"
      ],
      "text/plain": [
       "                id                time          sr_name author_id  \\\n",
       "0      26151673552 2009-12-31 19:34:47        AskReddit     3qsub   \n",
       "1      26151680417 2009-12-31 21:46:41  TwoXChromosomes       NaN   \n",
       "2      26151683413 2009-12-31 22:57:02         politics     3ptpj   \n",
       "3      26151683711 2009-12-31 23:03:50            books       NaN   \n",
       "4      26151685221 2009-12-31 23:41:48        AskReddit       NaN   \n",
       "...            ...                 ...              ...       ...   \n",
       "83339  33417439309 2019-12-31 14:09:31           MLjobs  3rw2plx6   \n",
       "83340  33417567139 2019-12-31 14:34:28          cakeday  2wbnsgxt   \n",
       "83341  33417843655 2019-12-31 15:24:07              aww  3evapc3o   \n",
       "83342  33418099004 2019-12-31 16:17:24       AusFinance       NaN   \n",
       "83343  33418228565 2019-12-31 16:49:21            HolUp  4v2q2ile   \n",
       "\n",
       "      parent_fullname    post_id upvotes downvotes  \\\n",
       "0          t1_c0i12mx   t3_ake21       1         0   \n",
       "1            t3_akctl   t3_akctl       8         0   \n",
       "2            t3_ak991   t3_ak991       1         0   \n",
       "3            t3_akexp   t3_akexp      19         0   \n",
       "4          t1_c0i1cz0   t3_akerr      -6         0   \n",
       "...               ...        ...     ...       ...   \n",
       "83339      t1_fcntyxp  t3_ei6ha7       1         0   \n",
       "83340       t3_ei44s8  t3_ei44s8       1         0   \n",
       "83341      t1_fcnv7du  t3_ei3fuq       3         0   \n",
       "83342       t3_ei3z8v  t3_ei3z8v       3         0   \n",
       "83343      t1_fcn46gh  t3_ehw4y5       1         0   \n",
       "\n",
       "                                                    body  \n",
       "0                                                   15th  \n",
       "1      I used to hate it. They I realized that my pro...  \n",
       "2      its unfortunate the younger kids today, most l...  \n",
       "3      I've never heard of Ellroy, but the fact that ...  \n",
       "4                                   The cake is a lie...  \n",
       "...                                                  ...  \n",
       "83339  Considering that there are more than 50 jobs o...  \n",
       "83340  Make it work it 2020! (Or just keep using redd...  \n",
       "83341  I was scrolling and looking for this comment. ...  \n",
       "83342  My folks have one and are pretty happy with it...  \n",
       "83343                                 I hold no ill will  \n",
       "\n",
       "[83344 rows x 9 columns]"
      ]
     },
     "execution_count": 9,
     "metadata": {},
     "output_type": "execute_result"
    }
   ],
   "source": [
    "df = load_comments(*runs.values())\n",
    "df"
   ]
  },
  {
   "cell_type": "code",
   "execution_count": 10,
   "metadata": {},
   "outputs": [
    {
     "data": {
      "text/plain": [
       "14084    26151679941\n",
       "9708     26151723324\n",
       "9192     26151732623\n",
       "13259    26151764645\n",
       "8273     26151766307\n",
       "            ...     \n",
       "12238    33417724400\n",
       "12236    33417973182\n",
       "11672    33418424092\n",
       "16457    33418503754\n",
       "8373     33418632282\n",
       "Length: 17056, dtype: int64"
      ]
     },
     "execution_count": 10,
     "metadata": {},
     "output_type": "execute_result"
    }
   ],
   "source": [
    "misses = load_misses(*runs.values())\n",
    "misses"
   ]
  },
  {
   "cell_type": "code",
   "execution_count": 11,
   "metadata": {},
   "outputs": [
    {
     "name": "stdout",
     "output_type": "stream",
     "text": [
      "✅ Found no duplicate comment IDs\n",
      "✅ Found no duplicate misses\n",
      "❌ Found out-of-order IDs (call validate.find_out_of_order_ids for more info)\n",
      "Bad rows:\n",
      "                id                time          sr_name author_id  \\\n",
      "13072  26256474635 2011-07-27 22:20:24           gaming       NaN   \n",
      "13073  26256474636 2011-07-27 22:20:21  leagueoflegends     4o59k   \n",
      "\n",
      "      parent_fullname   post_id upvotes downvotes                       body  \n",
      "13072        t3_j17po  t3_j17po       1         0              boot camp ftw  \n",
      "13073        t3_j1res  t3_j1res       1         0  Welcome to Re(post)ddit!!  \n",
      "Found issues:\n",
      "- Found out-of-order IDs\n"
     ]
    }
   ],
   "source": [
    "# Sanity checks\n",
    "validate.validate(df, misses)"
   ]
  },
  {
   "cell_type": "code",
   "execution_count": 12,
   "metadata": {},
   "outputs": [
    {
     "data": {
      "text/plain": [
       "(26151673552, 'c0i14gg')"
      ]
     },
     "execution_count": 12,
     "metadata": {},
     "output_type": "execute_result"
    }
   ],
   "source": [
    "# The first ID we actually collected\n",
    "first_id_actual = df[ID].min()\n",
    "first_id_actual, to_b36(first_id_actual)"
   ]
  },
  {
   "cell_type": "code",
   "execution_count": 13,
   "metadata": {},
   "outputs": [
    {
     "data": {
      "text/plain": [
       "datetime.date(2010, 1, 1)"
      ]
     },
     "execution_count": 13,
     "metadata": {},
     "output_type": "execute_result"
    }
   ],
   "source": [
    "config = Config.load(os.path.join(runs[len(runs) - 1], CONFIG_FILE_NAME))\n",
    "config.start_date"
   ]
  },
  {
   "cell_type": "markdown",
   "metadata": {},
   "source": [
    "#### Actual analysis"
   ]
  },
  {
   "cell_type": "code",
   "execution_count": 14,
   "metadata": {},
   "outputs": [],
   "source": [
    "def matches(body, keywords=keywords):\n",
    "    for keyword in keywords:\n",
    "        if keyword in body:\n",
    "            return True\n",
    "    return False"
   ]
  },
  {
   "cell_type": "code",
   "execution_count": 15,
   "metadata": {},
   "outputs": [
    {
     "data": {
      "text/html": [
       "<div>\n",
       "<style scoped>\n",
       "    .dataframe tbody tr th:only-of-type {\n",
       "        vertical-align: middle;\n",
       "    }\n",
       "\n",
       "    .dataframe tbody tr th {\n",
       "        vertical-align: top;\n",
       "    }\n",
       "\n",
       "    .dataframe thead th {\n",
       "        text-align: right;\n",
       "    }\n",
       "</style>\n",
       "<table border=\"1\" class=\"dataframe\">\n",
       "  <thead>\n",
       "    <tr style=\"text-align: right;\">\n",
       "      <th></th>\n",
       "      <th>id</th>\n",
       "      <th>time</th>\n",
       "      <th>sr_name</th>\n",
       "      <th>author_id</th>\n",
       "      <th>parent_fullname</th>\n",
       "      <th>post_id</th>\n",
       "      <th>upvotes</th>\n",
       "      <th>downvotes</th>\n",
       "      <th>body</th>\n",
       "    </tr>\n",
       "  </thead>\n",
       "  <tbody>\n",
       "    <tr>\n",
       "      <th>1</th>\n",
       "      <td>26151680417</td>\n",
       "      <td>2009-12-31 21:46:41</td>\n",
       "      <td>TwoXChromosomes</td>\n",
       "      <td>NaN</td>\n",
       "      <td>t3_akctl</td>\n",
       "      <td>t3_akctl</td>\n",
       "      <td>8</td>\n",
       "      <td>0</td>\n",
       "      <td>i used to hate it. they i realized that my pro...</td>\n",
       "    </tr>\n",
       "    <tr>\n",
       "      <th>22</th>\n",
       "      <td>26151758649</td>\n",
       "      <td>2010-01-02 02:29:59</td>\n",
       "      <td>AskReddit</td>\n",
       "      <td>NaN</td>\n",
       "      <td>t3_akk1l</td>\n",
       "      <td>t3_akk1l</td>\n",
       "      <td>1</td>\n",
       "      <td>0</td>\n",
       "      <td>sterilize people from socioeconomic and financ...</td>\n",
       "    </tr>\n",
       "    <tr>\n",
       "      <th>128</th>\n",
       "      <td>26152214173</td>\n",
       "      <td>2010-01-07 05:44:51</td>\n",
       "      <td>atheism</td>\n",
       "      <td>NaN</td>\n",
       "      <td>t1_c0icp48</td>\n",
       "      <td>t3_amksn</td>\n",
       "      <td>15</td>\n",
       "      <td>0</td>\n",
       "      <td>no, it wasn't. it's inexcusable to be hostile ...</td>\n",
       "    </tr>\n",
       "    <tr>\n",
       "      <th>161</th>\n",
       "      <td>26152358082</td>\n",
       "      <td>2010-01-08 14:40:34</td>\n",
       "      <td>AskReddit</td>\n",
       "      <td>3lvdk</td>\n",
       "      <td>t3_an5ru</td>\n",
       "      <td>t3_an5ru</td>\n",
       "      <td>16</td>\n",
       "      <td>0</td>\n",
       "      <td>i've woken up to it a few times - middle-of-th...</td>\n",
       "    </tr>\n",
       "    <tr>\n",
       "      <th>231</th>\n",
       "      <td>26152673794</td>\n",
       "      <td>2010-01-12 02:12:53</td>\n",
       "      <td>AskReddit</td>\n",
       "      <td>3qeld</td>\n",
       "      <td>t1_c0imiej</td>\n",
       "      <td>t3_aocvm</td>\n",
       "      <td>2</td>\n",
       "      <td>0</td>\n",
       "      <td>i love gesture recognition. if you could hook ...</td>\n",
       "    </tr>\n",
       "    <tr>\n",
       "      <th>...</th>\n",
       "      <td>...</td>\n",
       "      <td>...</td>\n",
       "      <td>...</td>\n",
       "      <td>...</td>\n",
       "      <td>...</td>\n",
       "      <td>...</td>\n",
       "      <td>...</td>\n",
       "      <td>...</td>\n",
       "      <td>...</td>\n",
       "    </tr>\n",
       "    <tr>\n",
       "      <th>83215</th>\n",
       "      <td>33386996667</td>\n",
       "      <td>2019-12-27 11:29:10</td>\n",
       "      <td>pregnant</td>\n",
       "      <td>4276j3pl</td>\n",
       "      <td>t3_egb94e</td>\n",
       "      <td>t3_egb94e</td>\n",
       "      <td>2</td>\n",
       "      <td>0</td>\n",
       "      <td>i am so sorry you had to experience this. bloo...</td>\n",
       "    </tr>\n",
       "    <tr>\n",
       "      <th>83227</th>\n",
       "      <td>33388597428</td>\n",
       "      <td>2019-12-27 17:37:00</td>\n",
       "      <td>SubredditDrama</td>\n",
       "      <td>1rn1m66y</td>\n",
       "      <td>t1_fc5joz4</td>\n",
       "      <td>t3_egaki0</td>\n",
       "      <td>1</td>\n",
       "      <td>0</td>\n",
       "      <td>i think the issue about finding out your kid i...</td>\n",
       "    </tr>\n",
       "    <tr>\n",
       "      <th>83310</th>\n",
       "      <td>33411769753</td>\n",
       "      <td>2019-12-30 12:11:14</td>\n",
       "      <td>NoStupidQuestions</td>\n",
       "      <td>8hl85</td>\n",
       "      <td>t3_eho8dv</td>\n",
       "      <td>t3_eho8dv</td>\n",
       "      <td>1</td>\n",
       "      <td>0</td>\n",
       "      <td>misophonia is way more common in people with n...</td>\n",
       "    </tr>\n",
       "    <tr>\n",
       "      <th>83317</th>\n",
       "      <td>33413478055</td>\n",
       "      <td>2019-12-30 18:32:53</td>\n",
       "      <td>petfree</td>\n",
       "      <td>NaN</td>\n",
       "      <td>t1_fcl2m3e</td>\n",
       "      <td>t3_ehrk8x</td>\n",
       "      <td>14</td>\n",
       "      <td>0</td>\n",
       "      <td>it's not about making you happy or sad. it's a...</td>\n",
       "    </tr>\n",
       "    <tr>\n",
       "      <th>83328</th>\n",
       "      <td>33414854857</td>\n",
       "      <td>2019-12-31 00:31:37</td>\n",
       "      <td>pics</td>\n",
       "      <td>7yr6g</td>\n",
       "      <td>t1_fcmbtgh</td>\n",
       "      <td>t3_ehw4ix</td>\n",
       "      <td>11</td>\n",
       "      <td>0</td>\n",
       "      <td>it is messed up.\\n\\nmind you, these aren't the...</td>\n",
       "    </tr>\n",
       "  </tbody>\n",
       "</table>\n",
       "<p>1129 rows × 9 columns</p>\n",
       "</div>"
      ],
      "text/plain": [
       "                id                time            sr_name author_id  \\\n",
       "1      26151680417 2009-12-31 21:46:41    TwoXChromosomes       NaN   \n",
       "22     26151758649 2010-01-02 02:29:59          AskReddit       NaN   \n",
       "128    26152214173 2010-01-07 05:44:51            atheism       NaN   \n",
       "161    26152358082 2010-01-08 14:40:34          AskReddit     3lvdk   \n",
       "231    26152673794 2010-01-12 02:12:53          AskReddit     3qeld   \n",
       "...            ...                 ...                ...       ...   \n",
       "83215  33386996667 2019-12-27 11:29:10           pregnant  4276j3pl   \n",
       "83227  33388597428 2019-12-27 17:37:00     SubredditDrama  1rn1m66y   \n",
       "83310  33411769753 2019-12-30 12:11:14  NoStupidQuestions     8hl85   \n",
       "83317  33413478055 2019-12-30 18:32:53            petfree       NaN   \n",
       "83328  33414854857 2019-12-31 00:31:37               pics     7yr6g   \n",
       "\n",
       "      parent_fullname    post_id upvotes downvotes  \\\n",
       "1            t3_akctl   t3_akctl       8         0   \n",
       "22           t3_akk1l   t3_akk1l       1         0   \n",
       "128        t1_c0icp48   t3_amksn      15         0   \n",
       "161          t3_an5ru   t3_an5ru      16         0   \n",
       "231        t1_c0imiej   t3_aocvm       2         0   \n",
       "...               ...        ...     ...       ...   \n",
       "83215       t3_egb94e  t3_egb94e       2         0   \n",
       "83227      t1_fc5joz4  t3_egaki0       1         0   \n",
       "83310       t3_eho8dv  t3_eho8dv       1         0   \n",
       "83317      t1_fcl2m3e  t3_ehrk8x      14         0   \n",
       "83328      t1_fcmbtgh  t3_ehw4ix      11         0   \n",
       "\n",
       "                                                    body  \n",
       "1      i used to hate it. they i realized that my pro...  \n",
       "22     sterilize people from socioeconomic and financ...  \n",
       "128    no, it wasn't. it's inexcusable to be hostile ...  \n",
       "161    i've woken up to it a few times - middle-of-th...  \n",
       "231    i love gesture recognition. if you could hook ...  \n",
       "...                                                  ...  \n",
       "83215  i am so sorry you had to experience this. bloo...  \n",
       "83227  i think the issue about finding out your kid i...  \n",
       "83310  misophonia is way more common in people with n...  \n",
       "83317  it's not about making you happy or sad. it's a...  \n",
       "83328  it is messed up.\\n\\nmind you, these aren't the...  \n",
       "\n",
       "[1129 rows x 9 columns]"
      ]
     },
     "execution_count": 15,
     "metadata": {},
     "output_type": "execute_result"
    }
   ],
   "source": [
    "df[BODY] = df[BODY].map(lambda body: body.lower().strip())\n",
    "matched_rows = df[df[BODY].map(matches)]\n",
    "matched_rows"
   ]
  },
  {
   "cell_type": "code",
   "execution_count": 16,
   "metadata": {},
   "outputs": [
    {
     "data": {
      "text/plain": [
       "{'trauma': 37,\n",
       " 'gaslight': 4,\n",
       " 'trigger': 134,\n",
       " 'toxic': 72,\n",
       " 'woke': 59,\n",
       " 'manipulat': 77,\n",
       " 'microaggression': 0,\n",
       " 'autis': 32,\n",
       " 'adhd': 15,\n",
       " 'ocd': 17,\n",
       " 'ptsd': 12,\n",
       " 'bipolar': 13,\n",
       " 'anxiety': 69,\n",
       " 'depress': 167,\n",
       " 'psycho': 132,\n",
       " 'delusion': 41,\n",
       " 'delulu': 0,\n",
       " 'solulu': 0,\n",
       " 'addict': 119,\n",
       " 'abus': 194,\n",
       " 'unstable': 17,\n",
       " 'narcissis': 25,\n",
       " 'neurodivergen': 0}"
      ]
     },
     "execution_count": 16,
     "metadata": {},
     "output_type": "execute_result"
    }
   ],
   "source": [
    "{\n",
    "    keyword: len(matched_rows[matched_rows[BODY].map(lambda body: keyword in body)])\n",
    "    for keyword in keywords\n",
    "}"
   ]
  },
  {
   "cell_type": "code",
   "execution_count": 17,
   "metadata": {},
   "outputs": [
    {
     "data": {
      "image/png": "[encoded data removed]",
      "text/plain": [
       "<Figure size 640x480 with 1 Axes>"
      ]
     },
     "metadata": {},
     "output_type": "display_data"
    }
   ],
   "source": [
    "lengths = df[BODY].map(len)\n",
    "ax = sns.histplot(\n",
    "    lengths, # lengths[lengths <= 10000],\n",
    "    binwidth=200,\n",
    "    # log_scale=True\n",
    ")\n",
    "ax.set(xlabel = \"Body length (characters)\")\n",
    "ax.set(yscale = \"log\");"
   ]
  },
  {
   "cell_type": "code",
   "execution_count": 18,
   "metadata": {},
   "outputs": [
    {
     "data": {
      "text/html": [
       "<div>\n",
       "<style scoped>\n",
       "    .dataframe tbody tr th:only-of-type {\n",
       "        vertical-align: middle;\n",
       "    }\n",
       "\n",
       "    .dataframe tbody tr th {\n",
       "        vertical-align: top;\n",
       "    }\n",
       "\n",
       "    .dataframe thead th {\n",
       "        text-align: right;\n",
       "    }\n",
       "</style>\n",
       "<table border=\"1\" class=\"dataframe\">\n",
       "  <thead>\n",
       "    <tr style=\"text-align: right;\">\n",
       "      <th></th>\n",
       "      <th>id</th>\n",
       "      <th>time</th>\n",
       "      <th>sr_name</th>\n",
       "      <th>author_id</th>\n",
       "      <th>parent_fullname</th>\n",
       "      <th>post_id</th>\n",
       "      <th>upvotes</th>\n",
       "      <th>downvotes</th>\n",
       "      <th>body</th>\n",
       "    </tr>\n",
       "  </thead>\n",
       "  <tbody>\n",
       "    <tr>\n",
       "      <th>54721</th>\n",
       "      <td>28645578802</td>\n",
       "      <td>2016-07-25 21:20:49</td>\n",
       "      <td>Thread_crawler</td>\n",
       "      <td>zq5r6</td>\n",
       "      <td>t3_4uk1w1</td>\n",
       "      <td>t3_4uk1w1</td>\n",
       "      <td>1</td>\n",
       "      <td>0</td>\n",
       "      <td>f0nqzwj2hs55zaca0atd3cibzxfs7ee9ltlewgxpfeqn/b...</td>\n",
       "    </tr>\n",
       "  </tbody>\n",
       "</table>\n",
       "</div>"
      ],
      "text/plain": [
       "                id                time         sr_name author_id  \\\n",
       "54721  28645578802 2016-07-25 21:20:49  Thread_crawler     zq5r6   \n",
       "\n",
       "      parent_fullname    post_id upvotes downvotes  \\\n",
       "54721       t3_4uk1w1  t3_4uk1w1       1         0   \n",
       "\n",
       "                                                    body  \n",
       "54721  f0nqzwj2hs55zaca0atd3cibzxfs7ee9ltlewgxpfeqn/b...  "
      ]
     },
     "execution_count": 18,
     "metadata": {},
     "output_type": "execute_result"
    }
   ],
   "source": [
    "df[lengths >= 10000]"
   ]
  },
  {
   "cell_type": "markdown",
   "metadata": {},
   "source": [
    "### Graphing distribution over time"
   ]
  },
  {
   "cell_type": "code",
   "execution_count": 22,
   "metadata": {},
   "outputs": [
    {
     "data": {
      "text/plain": [
       "<Axes: xlabel='time', ylabel='Count'>"
      ]
     },
     "execution_count": 22,
     "metadata": {},
     "output_type": "execute_result"
    },
    {
     "data": {
      "image/png": "[encoded data removed]",
      "text/plain": [
       "<Figure size 1300x500 with 1 Axes>"
      ]
     },
     "metadata": {},
     "output_type": "display_data"
    }
   ],
   "source": [
    "plt.figure(figsize=(13, 5))\n",
    "sns.histplot(\n",
    "    data=df,\n",
    "    x=TIME,\n",
    "    bins=[\n",
    "        mpl.dates.date2num(time_range.start_date) for time_range in config.time_ranges\n",
    "    ],\n",
    ")"
   ]
  },
  {
   "cell_type": "code",
   "execution_count": 23,
   "metadata": {},
   "outputs": [
    {
     "data": {
      "text/plain": [
       "<Axes: xlabel='time', ylabel='Count'>"
      ]
     },
     "execution_count": 23,
     "metadata": {},
     "output_type": "execute_result"
    },
    {
     "data": {
      "image/png": "[encoded data removed]",
      "text/plain": [
       "<Figure size 1400x500 with 1 Axes>"
      ]
     },
     "metadata": {},
     "output_type": "display_data"
    }
   ],
   "source": [
    "# Number of comments by day of year\n",
    "plt.figure(figsize=(14, 5))\n",
    "sns.histplot(data=df[TIME].apply(lambda t: int(t.strftime(\"%j\"))))"
   ]
  },
  {
   "cell_type": "code",
   "execution_count": 24,
   "metadata": {},
   "outputs": [
    {
     "data": {
      "image/png": "[encoded data removed]",
      "text/plain": [
       "<Figure size 640x480 with 1 Axes>"
      ]
     },
     "metadata": {},
     "output_type": "display_data"
    }
   ],
   "source": [
    "# Number of comments by day of week (0 = Monday)\n",
    "g = sns.barplot(data=df[TIME].apply(lambda t: t.weekday()).value_counts())\n",
    "g.set_xticks(\n",
    "    g.get_xticks(),\n",
    "    labels=[\n",
    "        [\"Mon\", \"Tue\", \"Wed\", \"Thur\", \"Fri\", \"Sat\", \"Sun\"][tick]\n",
    "        for tick in g.get_xticks()\n",
    "    ],\n",
    ");"
   ]
  },
  {
   "cell_type": "markdown",
   "metadata": {},
   "source": [
    "### Are the IDs uniformly distributed?\n",
    "\n",
    "Figure out if the IDs are uniformly distributed using the Kolmogorov-Smirnov test\n",
    "\n",
    "TODO check if KS is the right test to use here. Alternatives (not sure if any of these are even applicable):\n",
    "- Chi-square (we don't have a normal distribution though)\n",
    "- Mann-Whitney U test\n",
    "- Anderson-Darling\n",
    "\n",
    "The fact that we're taking the first gotten comment as the start rather than the actual requested\n",
    "start ID might screw things up but whatever"
   ]
  },
  {
   "cell_type": "code",
   "execution_count": 40,
   "metadata": {},
   "outputs": [
    {
     "data": {
      "text/plain": [
       "<Axes: xlabel='id', ylabel='Count'>"
      ]
     },
     "execution_count": 40,
     "metadata": {},
     "output_type": "execute_result"
    },
    {
     "data": {
      "image/png": "[encoded data removed]",
      "text/plain": [
       "<Figure size 1300x500 with 1 Axes>"
      ]
     },
     "metadata": {},
     "output_type": "display_data"
    }
   ],
   "source": [
    "# Distribution of IDs\n",
    "\n",
    "plt.figure(figsize=(13, 5))\n",
    "sns.histplot(data=df[ID])"
   ]
  },
  {
   "cell_type": "code",
   "execution_count": 26,
   "metadata": {},
   "outputs": [
    {
     "name": "stdout",
     "output_type": "stream",
     "text": [
      "IDs are probably not uniformly distributed\n"
     ]
    },
    {
     "data": {
      "text/plain": [
       "KstestResult(statistic=0.6427633969950372, pvalue=0.0, statistic_location=0.2837700067292861, statistic_sign=1)"
      ]
     },
     "execution_count": 26,
     "metadata": {},
     "output_type": "execute_result"
    }
   ],
   "source": [
    "from scipy import stats\n",
    "\n",
    "# Choose alpha of 0.05\n",
    "\n",
    "ids_normalized = df[ID].map(lambda id: (id - first_id_actual) / (last_id - first_id_actual))\n",
    "res = stats.ks_1samp(ids_normalized, stats.uniform.cdf)\n",
    "if res.pvalue < 0.05:\n",
    "    print(\"IDs are probably not uniformly distributed\")\n",
    "else:\n",
    "    print(\"IDs are probably uniformly distributed\")\n",
    "res"
   ]
  },
  {
   "cell_type": "code",
   "execution_count": 27,
   "metadata": {},
   "outputs": [
    {
     "data": {
      "text/html": [
       "<div>\n",
       "<style scoped>\n",
       "    .dataframe tbody tr th:only-of-type {\n",
       "        vertical-align: middle;\n",
       "    }\n",
       "\n",
       "    .dataframe tbody tr th {\n",
       "        vertical-align: top;\n",
       "    }\n",
       "\n",
       "    .dataframe thead th {\n",
       "        text-align: right;\n",
       "    }\n",
       "</style>\n",
       "<table border=\"1\" class=\"dataframe\">\n",
       "  <thead>\n",
       "    <tr style=\"text-align: right;\">\n",
       "      <th></th>\n",
       "      <th>id</th>\n",
       "      <th>time</th>\n",
       "      <th>sr_name</th>\n",
       "      <th>author_id</th>\n",
       "      <th>parent_fullname</th>\n",
       "      <th>post_id</th>\n",
       "      <th>upvotes</th>\n",
       "      <th>downvotes</th>\n",
       "      <th>body</th>\n",
       "    </tr>\n",
       "  </thead>\n",
       "  <tbody>\n",
       "    <tr>\n",
       "      <th>0</th>\n",
       "      <td>26151673552</td>\n",
       "      <td>2009-12-31 19:34:47</td>\n",
       "      <td>AskReddit</td>\n",
       "      <td>3qsub</td>\n",
       "      <td>t1_c0i12mx</td>\n",
       "      <td>t3_ake21</td>\n",
       "      <td>1</td>\n",
       "      <td>0</td>\n",
       "      <td>15th</td>\n",
       "    </tr>\n",
       "  </tbody>\n",
       "</table>\n",
       "</div>"
      ],
      "text/plain": [
       "            id                time    sr_name author_id parent_fullname  \\\n",
       "0  26151673552 2009-12-31 19:34:47  AskReddit     3qsub      t1_c0i12mx   \n",
       "\n",
       "    post_id upvotes downvotes  body  \n",
       "0  t3_ake21       1         0  15th  "
      ]
     },
     "execution_count": 27,
     "metadata": {},
     "output_type": "execute_result"
    }
   ],
   "source": [
    "# The earliest comment we have\n",
    "df[df[ID] == df[ID].min()]"
   ]
  },
  {
   "cell_type": "code",
   "execution_count": 28,
   "metadata": {},
   "outputs": [
    {
     "data": {
      "text/plain": [
       "<Axes: >"
      ]
     },
     "execution_count": 28,
     "metadata": {},
     "output_type": "execute_result"
    },
    {
     "data": {
      "image/png": "[encoded data removed]",
      "text/plain": [
       "<Figure size 640x480 with 1 Axes>"
      ]
     },
     "metadata": {},
     "output_type": "display_data"
    }
   ],
   "source": [
    "misses.hist()"
   ]
  },
  {
   "cell_type": "code",
   "execution_count": 29,
   "metadata": {},
   "outputs": [
    {
     "data": {
      "text/plain": [
       "<Axes: ylabel='Count'>"
      ]
     },
     "execution_count": 29,
     "metadata": {},
     "output_type": "execute_result"
    },
    {
     "data": {
      "image/png": "[encoded data removed]",
      "text/plain": [
       "<Figure size 1500x500 with 1 Axes>"
      ]
     },
     "metadata": {},
     "output_type": "display_data"
    }
   ],
   "source": [
    "plt.figure(figsize=(15, 5))\n",
    "misses_actual = misses[misses >= first_id_actual]\n",
    "sns.histplot(misses_actual, binwidth=1e8)"
   ]
  },
  {
   "cell_type": "code",
   "execution_count": 30,
   "metadata": {},
   "outputs": [
    {
     "data": {
      "text/plain": [
       "<Axes: ylabel='Count'>"
      ]
     },
     "execution_count": 30,
     "metadata": {},
     "output_type": "execute_result"
    },
    {
     "data": {
      "image/png": "[encoded data removed]",
      "text/plain": [
       "<Figure size 1400x500 with 1 Axes>"
      ]
     },
     "metadata": {},
     "output_type": "display_data"
    }
   ],
   "source": [
    "# Zoom in on the middle\n",
    "# Note: The counts won't match the ones above because the bin width is different\n",
    "\n",
    "# TODO How are you supposed to filter a series?\n",
    "weirdos = misses[lambda id: id <= 3.75e10][lambda id: 3e10 <= id]\n",
    "\n",
    "plt.figure(figsize=(14, 5))\n",
    "sns.histplot(weirdos, binwidth=5e7)"
   ]
  },
  {
   "cell_type": "code",
   "execution_count": 31,
   "metadata": {},
   "outputs": [
    {
     "data": {
      "text/plain": [
       "(0.8301195219123506, 0.8301195219123506)"
      ]
     },
     "execution_count": 31,
     "metadata": {},
     "output_type": "execute_result"
    }
   ],
   "source": [
    "# What portion of the requests we made actually returned something?\n",
    "all = len(df) / (len(df) + len(misses))\n",
    "# Same as above, but don't include requests for comments with IDs that were too low\n",
    "exclude_invalid = len(df) / (len(df) + len(misses_actual))\n",
    "\n",
    "all, exclude_invalid"
   ]
  },
  {
   "cell_type": "code",
   "execution_count": 32,
   "metadata": {},
   "outputs": [
    {
     "data": {
      "text/plain": [
       "<Axes: xlabel='id', ylabel='rate'>"
      ]
     },
     "execution_count": 32,
     "metadata": {},
     "output_type": "execute_result"
    },
    {
     "data": {
      "image/png": "[encoded data removed]",
      "text/plain": [
       "<Figure size 1500x500 with 1 Axes>"
      ]
     },
     "metadata": {},
     "output_type": "display_data"
    }
   ],
   "source": [
    "# Hit rate over time\n",
    "start = first_id_actual\n",
    "end = max(df.iloc[len(df) - 1][ID],\n",
    "          misses.loc[len(misses) - 1])\n",
    "step = int(1e8)\n",
    "\n",
    "def get_rate(curr_id):\n",
    "    next_id = curr_id + step\n",
    "    hits = len(df[(curr_id <= df[ID]) & (df[ID] < next_id)])\n",
    "    num_misses = len(misses[lambda id: curr_id <= id][lambda id: id < next_id])\n",
    "\n",
    "    if num_misses == 0:\n",
    "        return 0\n",
    "    return num_misses / (hits + num_misses)\n",
    "\n",
    "ids = np.arange(start, end, step)\n",
    "rates = np.fromiter(map(get_rate, ids), dtype=np.dtype(np.float64))\n",
    "\n",
    "rate_df = pd.DataFrame({ \"id\": ids, \"rate\": rates })\n",
    "\n",
    "plt.figure(figsize=(15, 5))\n",
    "sns.lineplot(data=rate_df, x=\"id\", y=\"rate\")"
   ]
  },
  {
   "cell_type": "code",
   "execution_count": 33,
   "metadata": {},
   "outputs": [
    {
     "data": {
      "text/html": [
       "<div>\n",
       "<style scoped>\n",
       "    .dataframe tbody tr th:only-of-type {\n",
       "        vertical-align: middle;\n",
       "    }\n",
       "\n",
       "    .dataframe tbody tr th {\n",
       "        vertical-align: top;\n",
       "    }\n",
       "\n",
       "    .dataframe thead th {\n",
       "        text-align: right;\n",
       "    }\n",
       "</style>\n",
       "<table border=\"1\" class=\"dataframe\">\n",
       "  <thead>\n",
       "    <tr style=\"text-align: right;\">\n",
       "      <th></th>\n",
       "      <th>id</th>\n",
       "      <th>time</th>\n",
       "      <th>sr_name</th>\n",
       "      <th>author_id</th>\n",
       "      <th>parent_fullname</th>\n",
       "      <th>post_id</th>\n",
       "      <th>upvotes</th>\n",
       "      <th>downvotes</th>\n",
       "      <th>body</th>\n",
       "    </tr>\n",
       "  </thead>\n",
       "  <tbody>\n",
       "    <tr>\n",
       "      <th>66762</th>\n",
       "      <td>30000367469</td>\n",
       "      <td>2018-01-03 17:57:15</td>\n",
       "      <td>AskTechnology</td>\n",
       "      <td>dcx10</td>\n",
       "      <td>t3_7nvz9g</td>\n",
       "      <td>t3_7nvz9g</td>\n",
       "      <td>0</td>\n",
       "      <td>0</td>\n",
       "      <td>even 90% relative humidity is perfectly good f...</td>\n",
       "    </tr>\n",
       "    <tr>\n",
       "      <th>66763</th>\n",
       "      <td>30000458987</td>\n",
       "      <td>2018-01-03 18:34:00</td>\n",
       "      <td>baseball</td>\n",
       "      <td>12c64x</td>\n",
       "      <td>t1_ds5he8i</td>\n",
       "      <td>t3_7nym1i</td>\n",
       "      <td>1</td>\n",
       "      <td>0</td>\n",
       "      <td>[please](https://www.youtube.com/watch?v=bhoev...</td>\n",
       "    </tr>\n",
       "    <tr>\n",
       "      <th>66764</th>\n",
       "      <td>30000498957</td>\n",
       "      <td>2018-01-03 18:50:11</td>\n",
       "      <td>BloomToken</td>\n",
       "      <td>such0</td>\n",
       "      <td>t1_ds5gaz9</td>\n",
       "      <td>t3_7nx70b</td>\n",
       "      <td>3</td>\n",
       "      <td>0</td>\n",
       "      <td>facepalm</td>\n",
       "    </tr>\n",
       "    <tr>\n",
       "      <th>66765</th>\n",
       "      <td>30000564883</td>\n",
       "      <td>2018-01-03 19:17:20</td>\n",
       "      <td>goodyearwelt</td>\n",
       "      <td>4udr8</td>\n",
       "      <td>t1_ds5ig08</td>\n",
       "      <td>t3_7nntec</td>\n",
       "      <td>1</td>\n",
       "      <td>0</td>\n",
       "      <td>no, admittedly i’m basing my opinions largely ...</td>\n",
       "    </tr>\n",
       "    <tr>\n",
       "      <th>66766</th>\n",
       "      <td>30000715666</td>\n",
       "      <td>2018-01-03 20:21:30</td>\n",
       "      <td>FireEmblemHeroes</td>\n",
       "      <td>japq6</td>\n",
       "      <td>t1_ds5nfhv</td>\n",
       "      <td>t3_7nzdvk</td>\n",
       "      <td>8</td>\n",
       "      <td>0</td>\n",
       "      <td>too true. too true.</td>\n",
       "    </tr>\n",
       "    <tr>\n",
       "      <th>...</th>\n",
       "      <td>...</td>\n",
       "      <td>...</td>\n",
       "      <td>...</td>\n",
       "      <td>...</td>\n",
       "      <td>...</td>\n",
       "      <td>...</td>\n",
       "      <td>...</td>\n",
       "      <td>...</td>\n",
       "      <td>...</td>\n",
       "    </tr>\n",
       "    <tr>\n",
       "      <th>83339</th>\n",
       "      <td>33417439309</td>\n",
       "      <td>2019-12-31 14:09:31</td>\n",
       "      <td>MLjobs</td>\n",
       "      <td>3rw2plx6</td>\n",
       "      <td>t1_fcntyxp</td>\n",
       "      <td>t3_ei6ha7</td>\n",
       "      <td>1</td>\n",
       "      <td>0</td>\n",
       "      <td>considering that there are more than 50 jobs o...</td>\n",
       "    </tr>\n",
       "    <tr>\n",
       "      <th>83340</th>\n",
       "      <td>33417567139</td>\n",
       "      <td>2019-12-31 14:34:28</td>\n",
       "      <td>cakeday</td>\n",
       "      <td>2wbnsgxt</td>\n",
       "      <td>t3_ei44s8</td>\n",
       "      <td>t3_ei44s8</td>\n",
       "      <td>1</td>\n",
       "      <td>0</td>\n",
       "      <td>make it work it 2020! (or just keep using redd...</td>\n",
       "    </tr>\n",
       "    <tr>\n",
       "      <th>83341</th>\n",
       "      <td>33417843655</td>\n",
       "      <td>2019-12-31 15:24:07</td>\n",
       "      <td>aww</td>\n",
       "      <td>3evapc3o</td>\n",
       "      <td>t1_fcnv7du</td>\n",
       "      <td>t3_ei3fuq</td>\n",
       "      <td>3</td>\n",
       "      <td>0</td>\n",
       "      <td>i was scrolling and looking for this comment. ...</td>\n",
       "    </tr>\n",
       "    <tr>\n",
       "      <th>83342</th>\n",
       "      <td>33418099004</td>\n",
       "      <td>2019-12-31 16:17:24</td>\n",
       "      <td>AusFinance</td>\n",
       "      <td>NaN</td>\n",
       "      <td>t3_ei3z8v</td>\n",
       "      <td>t3_ei3z8v</td>\n",
       "      <td>3</td>\n",
       "      <td>0</td>\n",
       "      <td>my folks have one and are pretty happy with it...</td>\n",
       "    </tr>\n",
       "    <tr>\n",
       "      <th>83343</th>\n",
       "      <td>33418228565</td>\n",
       "      <td>2019-12-31 16:49:21</td>\n",
       "      <td>HolUp</td>\n",
       "      <td>4v2q2ile</td>\n",
       "      <td>t1_fcn46gh</td>\n",
       "      <td>t3_ehw4y5</td>\n",
       "      <td>1</td>\n",
       "      <td>0</td>\n",
       "      <td>i hold no ill will</td>\n",
       "    </tr>\n",
       "  </tbody>\n",
       "</table>\n",
       "<p>16582 rows × 9 columns</p>\n",
       "</div>"
      ],
      "text/plain": [
       "                id                time           sr_name author_id  \\\n",
       "66762  30000367469 2018-01-03 17:57:15     AskTechnology     dcx10   \n",
       "66763  30000458987 2018-01-03 18:34:00          baseball    12c64x   \n",
       "66764  30000498957 2018-01-03 18:50:11        BloomToken     such0   \n",
       "66765  30000564883 2018-01-03 19:17:20      goodyearwelt     4udr8   \n",
       "66766  30000715666 2018-01-03 20:21:30  FireEmblemHeroes     japq6   \n",
       "...            ...                 ...               ...       ...   \n",
       "83339  33417439309 2019-12-31 14:09:31            MLjobs  3rw2plx6   \n",
       "83340  33417567139 2019-12-31 14:34:28           cakeday  2wbnsgxt   \n",
       "83341  33417843655 2019-12-31 15:24:07               aww  3evapc3o   \n",
       "83342  33418099004 2019-12-31 16:17:24        AusFinance       NaN   \n",
       "83343  33418228565 2019-12-31 16:49:21             HolUp  4v2q2ile   \n",
       "\n",
       "      parent_fullname    post_id upvotes downvotes  \\\n",
       "66762       t3_7nvz9g  t3_7nvz9g       0         0   \n",
       "66763      t1_ds5he8i  t3_7nym1i       1         0   \n",
       "66764      t1_ds5gaz9  t3_7nx70b       3         0   \n",
       "66765      t1_ds5ig08  t3_7nntec       1         0   \n",
       "66766      t1_ds5nfhv  t3_7nzdvk       8         0   \n",
       "...               ...        ...     ...       ...   \n",
       "83339      t1_fcntyxp  t3_ei6ha7       1         0   \n",
       "83340       t3_ei44s8  t3_ei44s8       1         0   \n",
       "83341      t1_fcnv7du  t3_ei3fuq       3         0   \n",
       "83342       t3_ei3z8v  t3_ei3z8v       3         0   \n",
       "83343      t1_fcn46gh  t3_ehw4y5       1         0   \n",
       "\n",
       "                                                    body  \n",
       "66762  even 90% relative humidity is perfectly good f...  \n",
       "66763  [please](https://www.youtube.com/watch?v=bhoev...  \n",
       "66764                                           facepalm  \n",
       "66765  no, admittedly i’m basing my opinions largely ...  \n",
       "66766                                too true. too true.  \n",
       "...                                                  ...  \n",
       "83339  considering that there are more than 50 jobs o...  \n",
       "83340  make it work it 2020! (or just keep using redd...  \n",
       "83341  i was scrolling and looking for this comment. ...  \n",
       "83342  my folks have one and are pretty happy with it...  \n",
       "83343                                 i hold no ill will  \n",
       "\n",
       "[16582 rows x 9 columns]"
      ]
     },
     "execution_count": 33,
     "metadata": {},
     "output_type": "execute_result"
    }
   ],
   "source": [
    "df[(3e10 <= df[ID]) & (df[ID] < 3.75e10)]"
   ]
  },
  {
   "cell_type": "code",
   "execution_count": 34,
   "metadata": {},
   "outputs": [
    {
     "name": "stdout",
     "output_type": "stream",
     "text": [
      "Misses are probably not normally distributed\n"
     ]
    },
    {
     "data": {
      "text/plain": [
       "KstestResult(statistic=0.1075538091625271, pvalue=2.854139287095712e-172, statistic_location=-0.6708848589597322, statistic_sign=1)"
      ]
     },
     "execution_count": 34,
     "metadata": {},
     "output_type": "execute_result"
    }
   ],
   "source": [
    "from scipy import stats\n",
    "\n",
    "# Choose alpha of 0.05\n",
    "\n",
    "misses_normalized = misses_actual.map(\n",
    "    lambda id: (id - misses_actual.mean()) / (misses_actual.std())\n",
    ")\n",
    "res = stats.ks_1samp(misses_normalized, stats.norm.cdf)\n",
    "if res.pvalue < 0.05:\n",
    "    print(\"Misses are probably not normally distributed\")\n",
    "else:\n",
    "    print(\"Misses could be normally distributed\")\n",
    "res"
   ]
  },
  {
   "cell_type": "markdown",
   "metadata": {},
   "source": [
    "## Subreddits"
   ]
  },
  {
   "cell_type": "code",
   "execution_count": 35,
   "metadata": {},
   "outputs": [
    {
     "data": {
      "text/html": [
       "<div>\n",
       "<style scoped>\n",
       "    .dataframe tbody tr th:only-of-type {\n",
       "        vertical-align: middle;\n",
       "    }\n",
       "\n",
       "    .dataframe tbody tr th {\n",
       "        vertical-align: top;\n",
       "    }\n",
       "\n",
       "    .dataframe thead th {\n",
       "        text-align: right;\n",
       "    }\n",
       "</style>\n",
       "<table border=\"1\" class=\"dataframe\">\n",
       "  <thead>\n",
       "    <tr style=\"text-align: right;\">\n",
       "      <th></th>\n",
       "      <th>id</th>\n",
       "      <th>time</th>\n",
       "      <th>sr_name</th>\n",
       "      <th>author_id</th>\n",
       "      <th>parent_fullname</th>\n",
       "      <th>post_id</th>\n",
       "      <th>upvotes</th>\n",
       "      <th>downvotes</th>\n",
       "      <th>body</th>\n",
       "    </tr>\n",
       "  </thead>\n",
       "  <tbody>\n",
       "    <tr>\n",
       "      <th>51</th>\n",
       "      <td>26151871588</td>\n",
       "      <td>2010-01-03 15:30:40</td>\n",
       "      <td>reddit.com</td>\n",
       "      <td>NaN</td>\n",
       "      <td>t1_c0i5cyv</td>\n",
       "      <td>t3_al438</td>\n",
       "      <td>4</td>\n",
       "      <td>0</td>\n",
       "      <td>no, it's the record where they take into accou...</td>\n",
       "    </tr>\n",
       "    <tr>\n",
       "      <th>88</th>\n",
       "      <td>26152075672</td>\n",
       "      <td>2010-01-05 18:28:04</td>\n",
       "      <td>reddit.com</td>\n",
       "      <td>1f0kz</td>\n",
       "      <td>t1_c0i9pzd</td>\n",
       "      <td>t3_alxuf</td>\n",
       "      <td>3</td>\n",
       "      <td>0</td>\n",
       "      <td>my dog was pretty tough, i'm thinking he can f...</td>\n",
       "    </tr>\n",
       "    <tr>\n",
       "      <th>111</th>\n",
       "      <td>26152155904</td>\n",
       "      <td>2010-01-06 15:07:54</td>\n",
       "      <td>reddit.com</td>\n",
       "      <td>39c3v</td>\n",
       "      <td>t3_amc7o</td>\n",
       "      <td>t3_amc7o</td>\n",
       "      <td>1</td>\n",
       "      <td>0</td>\n",
       "      <td>can someone, anyone explain russell brand's se...</td>\n",
       "    </tr>\n",
       "    <tr>\n",
       "      <th>124</th>\n",
       "      <td>26152206094</td>\n",
       "      <td>2010-01-07 02:19:21</td>\n",
       "      <td>reddit.com</td>\n",
       "      <td>359bi</td>\n",
       "      <td>t1_c0icjcp</td>\n",
       "      <td>t3_amkgy</td>\n",
       "      <td>6</td>\n",
       "      <td>0</td>\n",
       "      <td>yessss!</td>\n",
       "    </tr>\n",
       "    <tr>\n",
       "      <th>150</th>\n",
       "      <td>26152304024</td>\n",
       "      <td>2010-01-07 23:51:02</td>\n",
       "      <td>reddit.com</td>\n",
       "      <td>3e38s</td>\n",
       "      <td>t3_amzrt</td>\n",
       "      <td>t3_amzrt</td>\n",
       "      <td>8</td>\n",
       "      <td>0</td>\n",
       "      <td>lolwut?</td>\n",
       "    </tr>\n",
       "    <tr>\n",
       "      <th>...</th>\n",
       "      <td>...</td>\n",
       "      <td>...</td>\n",
       "      <td>...</td>\n",
       "      <td>...</td>\n",
       "      <td>...</td>\n",
       "      <td>...</td>\n",
       "      <td>...</td>\n",
       "      <td>...</td>\n",
       "      <td>...</td>\n",
       "    </tr>\n",
       "    <tr>\n",
       "      <th>14932</th>\n",
       "      <td>26289115215</td>\n",
       "      <td>2011-10-16 01:11:30</td>\n",
       "      <td>reddit.com</td>\n",
       "      <td>5gny7</td>\n",
       "      <td>t1_c2rsh9o</td>\n",
       "      <td>t3_ldjgr</td>\n",
       "      <td>1</td>\n",
       "      <td>0</td>\n",
       "      <td>touché</td>\n",
       "    </tr>\n",
       "    <tr>\n",
       "      <th>14936</th>\n",
       "      <td>26289234597</td>\n",
       "      <td>2011-10-16 11:50:47</td>\n",
       "      <td>reddit.com</td>\n",
       "      <td>NaN</td>\n",
       "      <td>t1_c2rxit9</td>\n",
       "      <td>t3_le2pq</td>\n",
       "      <td>3</td>\n",
       "      <td>0</td>\n",
       "      <td>being a close minded retard?\\n\\nthat's a downv...</td>\n",
       "    </tr>\n",
       "    <tr>\n",
       "      <th>14941</th>\n",
       "      <td>26289299626</td>\n",
       "      <td>2011-10-16 15:01:30</td>\n",
       "      <td>reddit.com</td>\n",
       "      <td>61t1s</td>\n",
       "      <td>t1_c2ryh95</td>\n",
       "      <td>t3_le3b7</td>\n",
       "      <td>0</td>\n",
       "      <td>0</td>\n",
       "      <td>rights are a social contruct. \"natural rights\"...</td>\n",
       "    </tr>\n",
       "    <tr>\n",
       "      <th>14958</th>\n",
       "      <td>26289671202</td>\n",
       "      <td>2011-10-17 12:52:35</td>\n",
       "      <td>reddit.com</td>\n",
       "      <td>54xeu</td>\n",
       "      <td>t1_c2s6pgf</td>\n",
       "      <td>t3_lf91m</td>\n",
       "      <td>1</td>\n",
       "      <td>0</td>\n",
       "      <td>not bad</td>\n",
       "    </tr>\n",
       "    <tr>\n",
       "      <th>14962</th>\n",
       "      <td>26289764719</td>\n",
       "      <td>2011-10-17 16:18:55</td>\n",
       "      <td>reddit.com</td>\n",
       "      <td>4tegc</td>\n",
       "      <td>t1_c2s8s8v</td>\n",
       "      <td>t3_lfh72</td>\n",
       "      <td>2</td>\n",
       "      <td>0</td>\n",
       "      <td>agreed.  making me squint to read the text = n...</td>\n",
       "    </tr>\n",
       "  </tbody>\n",
       "</table>\n",
       "<p>890 rows × 9 columns</p>\n",
       "</div>"
      ],
      "text/plain": [
       "                id                time     sr_name author_id parent_fullname  \\\n",
       "51     26151871588 2010-01-03 15:30:40  reddit.com       NaN      t1_c0i5cyv   \n",
       "88     26152075672 2010-01-05 18:28:04  reddit.com     1f0kz      t1_c0i9pzd   \n",
       "111    26152155904 2010-01-06 15:07:54  reddit.com     39c3v        t3_amc7o   \n",
       "124    26152206094 2010-01-07 02:19:21  reddit.com     359bi      t1_c0icjcp   \n",
       "150    26152304024 2010-01-07 23:51:02  reddit.com     3e38s        t3_amzrt   \n",
       "...            ...                 ...         ...       ...             ...   \n",
       "14932  26289115215 2011-10-16 01:11:30  reddit.com     5gny7      t1_c2rsh9o   \n",
       "14936  26289234597 2011-10-16 11:50:47  reddit.com       NaN      t1_c2rxit9   \n",
       "14941  26289299626 2011-10-16 15:01:30  reddit.com     61t1s      t1_c2ryh95   \n",
       "14958  26289671202 2011-10-17 12:52:35  reddit.com     54xeu      t1_c2s6pgf   \n",
       "14962  26289764719 2011-10-17 16:18:55  reddit.com     4tegc      t1_c2s8s8v   \n",
       "\n",
       "        post_id upvotes downvotes  \\\n",
       "51     t3_al438       4         0   \n",
       "88     t3_alxuf       3         0   \n",
       "111    t3_amc7o       1         0   \n",
       "124    t3_amkgy       6         0   \n",
       "150    t3_amzrt       8         0   \n",
       "...         ...     ...       ...   \n",
       "14932  t3_ldjgr       1         0   \n",
       "14936  t3_le2pq       3         0   \n",
       "14941  t3_le3b7       0         0   \n",
       "14958  t3_lf91m       1         0   \n",
       "14962  t3_lfh72       2         0   \n",
       "\n",
       "                                                    body  \n",
       "51     no, it's the record where they take into accou...  \n",
       "88     my dog was pretty tough, i'm thinking he can f...  \n",
       "111    can someone, anyone explain russell brand's se...  \n",
       "124                                              yessss!  \n",
       "150                                              lolwut?  \n",
       "...                                                  ...  \n",
       "14932                                             touché  \n",
       "14936  being a close minded retard?\\n\\nthat's a downv...  \n",
       "14941  rights are a social contruct. \"natural rights\"...  \n",
       "14958                                            not bad  \n",
       "14962  agreed.  making me squint to read the text = n...  \n",
       "\n",
       "[890 rows x 9 columns]"
      ]
     },
     "execution_count": 35,
     "metadata": {},
     "output_type": "execute_result"
    }
   ],
   "source": [
    "df[df[SR_NAME] == \"reddit.com\"]"
   ]
  },
  {
   "cell_type": "code",
   "execution_count": 36,
   "metadata": {},
   "outputs": [
    {
     "data": {
      "text/plain": [
       "sr_name\n",
       "AskReddit              8478\n",
       "pics                   2327\n",
       "funny                  1855\n",
       "politics               1722\n",
       "gaming                 1491\n",
       "WTF                    1142\n",
       "leagueoflegends         929\n",
       "worldnews               922\n",
       "IAmA                    893\n",
       "reddit.com              890\n",
       "videos                  846\n",
       "atheism                 830\n",
       "todayilearned           766\n",
       "nfl                     763\n",
       "AdviceAnimals           698\n",
       "nba                     697\n",
       "trees                   665\n",
       "soccer                  576\n",
       "news                    505\n",
       "fffffffuuuuuuuuuuuu     495\n",
       "Name: count, dtype: int64"
      ]
     },
     "execution_count": 36,
     "metadata": {},
     "output_type": "execute_result"
    }
   ],
   "source": [
    "# Most popular subreddits\n",
    "df[SR_NAME].value_counts().nlargest(20)"
   ]
  }
 ],
 "metadata": {
  "kernelspec": {
   "display_name": "Python 3",
   "language": "python",
   "name": "python3"
  },
  "language_info": {
   "codemirror_mode": {
    "name": "ipython",
    "version": 3
   },
   "file_extension": ".py",
   "mimetype": "text/x-python",
   "name": "python",
   "nbconvert_exporter": "python",
   "pygments_lexer": "ipython3",
   "version": "3.11.6"
  }
 },
 "nbformat": 4,
 "nbformat_minor": 2
}
