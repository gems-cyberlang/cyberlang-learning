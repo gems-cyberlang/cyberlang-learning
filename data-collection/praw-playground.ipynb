{
 "cells": [
  {
   "cell_type": "code",
   "execution_count": 1,
   "metadata": {},
   "outputs": [
    {
     "name": "stdout",
     "output_type": "stream",
     "text": [
      "Requirement already satisfied: praw in /home/ysthakur/.virtualenvs/datasci/lib/python3.11/site-packages (7.7.1)\n",
      "Requirement already satisfied: pandas in /home/ysthakur/.virtualenvs/datasci/lib/python3.11/site-packages (2.2.2)\n",
      "Requirement already satisfied: seaborn in /home/ysthakur/.virtualenvs/datasci/lib/python3.11/site-packages (0.13.2)\n",
      "Requirement already satisfied: scipy in /home/ysthakur/.virtualenvs/datasci/lib/python3.11/site-packages (1.14.0)\n",
      "Requirement already satisfied: nltk in /home/ysthakur/.virtualenvs/datasci/lib/python3.11/site-packages (3.9.1)\n",
      "Requirement already satisfied: scikit-learn in /home/ysthakur/.virtualenvs/datasci/lib/python3.11/site-packages (1.5.2)\n",
      "Requirement already satisfied: spacy in /home/ysthakur/.virtualenvs/datasci/lib/python3.11/site-packages (3.8.2)\n",
      "Requirement already satisfied: polars in /home/ysthakur/.virtualenvs/datasci/lib/python3.11/site-packages (1.14.0)\n",
      "Requirement already satisfied: prawcore<3,>=2.1 in /home/ysthakur/.virtualenvs/datasci/lib/python3.11/site-packages (from praw) (2.4.0)\n",
      "Requirement already satisfied: update-checker>=0.18 in /home/ysthakur/.virtualenvs/datasci/lib/python3.11/site-packages (from praw) (0.18.0)\n",
      "Requirement already satisfied: websocket-client>=0.54.0 in /home/ysthakur/.virtualenvs/datasci/lib/python3.11/site-packages (from praw) (1.8.0)\n",
      "Requirement already satisfied: numpy>=1.23.2 in /home/ysthakur/.virtualenvs/datasci/lib/python3.11/site-packages (from pandas) (2.0.2)\n",
      "Requirement already satisfied: python-dateutil>=2.8.2 in /home/ysthakur/.virtualenvs/datasci/lib/python3.11/site-packages (from pandas) (2.9.0.post0)\n",
      "Requirement already satisfied: pytz>=2020.1 in /home/ysthakur/.virtualenvs/datasci/lib/python3.11/site-packages (from pandas) (2024.1)\n",
      "Requirement already satisfied: tzdata>=2022.7 in /home/ysthakur/.virtualenvs/datasci/lib/python3.11/site-packages (from pandas) (2024.1)\n",
      "Requirement already satisfied: matplotlib!=3.6.1,>=3.4 in /home/ysthakur/.virtualenvs/datasci/lib/python3.11/site-packages (from seaborn) (3.9.1)\n",
      "Requirement already satisfied: click in /home/ysthakur/.virtualenvs/datasci/lib/python3.11/site-packages (from nltk) (8.1.7)\n",
      "Requirement already satisfied: joblib in /home/ysthakur/.virtualenvs/datasci/lib/python3.11/site-packages (from nltk) (1.4.2)\n",
      "Requirement already satisfied: regex>=2021.8.3 in /home/ysthakur/.virtualenvs/datasci/lib/python3.11/site-packages (from nltk) (2024.9.11)\n",
      "Requirement already satisfied: tqdm in /home/ysthakur/.virtualenvs/datasci/lib/python3.11/site-packages (from nltk) (4.66.5)\n",
      "Requirement already satisfied: threadpoolctl>=3.1.0 in /home/ysthakur/.virtualenvs/datasci/lib/python3.11/site-packages (from scikit-learn) (3.5.0)\n",
      "Requirement already satisfied: spacy-legacy<3.1.0,>=3.0.11 in /home/ysthakur/.virtualenvs/datasci/lib/python3.11/site-packages (from spacy) (3.0.12)\n",
      "Requirement already satisfied: spacy-loggers<2.0.0,>=1.0.0 in /home/ysthakur/.virtualenvs/datasci/lib/python3.11/site-packages (from spacy) (1.0.5)\n",
      "Requirement already satisfied: murmurhash<1.1.0,>=0.28.0 in /home/ysthakur/.virtualenvs/datasci/lib/python3.11/site-packages (from spacy) (1.0.10)\n",
      "Requirement already satisfied: cymem<2.1.0,>=2.0.2 in /home/ysthakur/.virtualenvs/datasci/lib/python3.11/site-packages (from spacy) (2.0.8)\n",
      "Requirement already satisfied: preshed<3.1.0,>=3.0.2 in /home/ysthakur/.virtualenvs/datasci/lib/python3.11/site-packages (from spacy) (3.0.9)\n",
      "Requirement already satisfied: thinc<8.4.0,>=8.3.0 in /home/ysthakur/.virtualenvs/datasci/lib/python3.11/site-packages (from spacy) (8.3.2)\n",
      "Requirement already satisfied: wasabi<1.2.0,>=0.9.1 in /home/ysthakur/.virtualenvs/datasci/lib/python3.11/site-packages (from spacy) (1.1.3)\n",
      "Requirement already satisfied: srsly<3.0.0,>=2.4.3 in /home/ysthakur/.virtualenvs/datasci/lib/python3.11/site-packages (from spacy) (2.4.8)\n",
      "Requirement already satisfied: catalogue<2.1.0,>=2.0.6 in /home/ysthakur/.virtualenvs/datasci/lib/python3.11/site-packages (from spacy) (2.0.10)\n",
      "Requirement already satisfied: weasel<0.5.0,>=0.1.0 in /home/ysthakur/.virtualenvs/datasci/lib/python3.11/site-packages (from spacy) (0.4.1)\n",
      "Requirement already satisfied: typer<1.0.0,>=0.3.0 in /home/ysthakur/.virtualenvs/datasci/lib/python3.11/site-packages (from spacy) (0.12.5)\n",
      "Requirement already satisfied: requests<3.0.0,>=2.13.0 in /home/ysthakur/.virtualenvs/datasci/lib/python3.11/site-packages (from spacy) (2.31.0)\n",
      "Requirement already satisfied: pydantic!=1.8,!=1.8.1,<3.0.0,>=1.7.4 in /home/ysthakur/.virtualenvs/datasci/lib/python3.11/site-packages (from spacy) (2.9.2)\n",
      "Requirement already satisfied: jinja2 in /home/ysthakur/.virtualenvs/datasci/lib/python3.11/site-packages (from spacy) (3.1.4)\n",
      "Requirement already satisfied: setuptools in /home/ysthakur/.virtualenvs/datasci/lib/python3.11/site-packages (from spacy) (68.1.2)\n",
      "Requirement already satisfied: packaging>=20.0 in /home/ysthakur/.virtualenvs/datasci/lib/python3.11/site-packages (from spacy) (24.1)\n",
      "Requirement already satisfied: langcodes<4.0.0,>=3.2.0 in /home/ysthakur/.virtualenvs/datasci/lib/python3.11/site-packages (from spacy) (3.4.1)\n",
      "Requirement already satisfied: language-data>=1.2 in /home/ysthakur/.virtualenvs/datasci/lib/python3.11/site-packages (from langcodes<4.0.0,>=3.2.0->spacy) (1.2.0)\n",
      "Requirement already satisfied: contourpy>=1.0.1 in /home/ysthakur/.virtualenvs/datasci/lib/python3.11/site-packages (from matplotlib!=3.6.1,>=3.4->seaborn) (1.2.1)\n",
      "Requirement already satisfied: cycler>=0.10 in /home/ysthakur/.virtualenvs/datasci/lib/python3.11/site-packages (from matplotlib!=3.6.1,>=3.4->seaborn) (0.12.1)\n",
      "Requirement already satisfied: fonttools>=4.22.0 in /home/ysthakur/.virtualenvs/datasci/lib/python3.11/site-packages (from matplotlib!=3.6.1,>=3.4->seaborn) (4.53.1)\n",
      "Requirement already satisfied: kiwisolver>=1.3.1 in /home/ysthakur/.virtualenvs/datasci/lib/python3.11/site-packages (from matplotlib!=3.6.1,>=3.4->seaborn) (1.4.5)\n",
      "Requirement already satisfied: pillow>=8 in /home/ysthakur/.virtualenvs/datasci/lib/python3.11/site-packages (from matplotlib!=3.6.1,>=3.4->seaborn) (10.3.0)\n",
      "Requirement already satisfied: pyparsing>=2.3.1 in /home/ysthakur/.virtualenvs/datasci/lib/python3.11/site-packages (from matplotlib!=3.6.1,>=3.4->seaborn) (3.1.2)\n",
      "Requirement already satisfied: annotated-types>=0.6.0 in /home/ysthakur/.virtualenvs/datasci/lib/python3.11/site-packages (from pydantic!=1.8,!=1.8.1,<3.0.0,>=1.7.4->spacy) (0.7.0)\n",
      "Requirement already satisfied: pydantic-core==2.23.4 in /home/ysthakur/.virtualenvs/datasci/lib/python3.11/site-packages (from pydantic!=1.8,!=1.8.1,<3.0.0,>=1.7.4->spacy) (2.23.4)\n",
      "Requirement already satisfied: typing-extensions>=4.6.1 in /home/ysthakur/.virtualenvs/datasci/lib/python3.11/site-packages (from pydantic!=1.8,!=1.8.1,<3.0.0,>=1.7.4->spacy) (4.12.2)\n",
      "Requirement already satisfied: six>=1.5 in /home/ysthakur/.virtualenvs/datasci/lib/python3.11/site-packages (from python-dateutil>=2.8.2->pandas) (1.16.0)\n",
      "Requirement already satisfied: charset-normalizer<4,>=2 in /home/ysthakur/.virtualenvs/datasci/lib/python3.11/site-packages (from requests<3.0.0,>=2.13.0->spacy) (3.3.2)\n",
      "Requirement already satisfied: idna<4,>=2.5 in /home/ysthakur/.virtualenvs/datasci/lib/python3.11/site-packages (from requests<3.0.0,>=2.13.0->spacy) (3.7)\n",
      "Requirement already satisfied: urllib3<3,>=1.21.1 in /home/ysthakur/.virtualenvs/datasci/lib/python3.11/site-packages (from requests<3.0.0,>=2.13.0->spacy) (2.2.1)\n",
      "Requirement already satisfied: certifi>=2017.4.17 in /home/ysthakur/.virtualenvs/datasci/lib/python3.11/site-packages (from requests<3.0.0,>=2.13.0->spacy) (2024.2.2)\n",
      "Requirement already satisfied: blis<1.1.0,>=1.0.0 in /home/ysthakur/.virtualenvs/datasci/lib/python3.11/site-packages (from thinc<8.4.0,>=8.3.0->spacy) (1.0.1)\n",
      "Requirement already satisfied: confection<1.0.0,>=0.0.1 in /home/ysthakur/.virtualenvs/datasci/lib/python3.11/site-packages (from thinc<8.4.0,>=8.3.0->spacy) (0.1.5)\n",
      "Requirement already satisfied: shellingham>=1.3.0 in /home/ysthakur/.virtualenvs/datasci/lib/python3.11/site-packages (from typer<1.0.0,>=0.3.0->spacy) (1.5.4)\n",
      "Requirement already satisfied: rich>=10.11.0 in /home/ysthakur/.virtualenvs/datasci/lib/python3.11/site-packages (from typer<1.0.0,>=0.3.0->spacy) (13.7.1)\n",
      "Requirement already satisfied: cloudpathlib<1.0.0,>=0.7.0 in /home/ysthakur/.virtualenvs/datasci/lib/python3.11/site-packages (from weasel<0.5.0,>=0.1.0->spacy) (0.19.0)\n",
      "Requirement already satisfied: smart-open<8.0.0,>=5.2.1 in /home/ysthakur/.virtualenvs/datasci/lib/python3.11/site-packages (from weasel<0.5.0,>=0.1.0->spacy) (7.0.5)\n",
      "Requirement already satisfied: MarkupSafe>=2.0 in /home/ysthakur/.virtualenvs/datasci/lib/python3.11/site-packages (from jinja2->spacy) (2.1.5)\n",
      "Requirement already satisfied: marisa-trie>=0.7.7 in /home/ysthakur/.virtualenvs/datasci/lib/python3.11/site-packages (from language-data>=1.2->langcodes<4.0.0,>=3.2.0->spacy) (1.2.0)\n",
      "Requirement already satisfied: markdown-it-py>=2.2.0 in /home/ysthakur/.virtualenvs/datasci/lib/python3.11/site-packages (from rich>=10.11.0->typer<1.0.0,>=0.3.0->spacy) (3.0.0)\n",
      "Requirement already satisfied: pygments<3.0.0,>=2.13.0 in /home/ysthakur/.virtualenvs/datasci/lib/python3.11/site-packages (from rich>=10.11.0->typer<1.0.0,>=0.3.0->spacy) (2.18.0)\n",
      "Requirement already satisfied: wrapt in /home/ysthakur/.virtualenvs/datasci/lib/python3.11/site-packages (from smart-open<8.0.0,>=5.2.1->weasel<0.5.0,>=0.1.0->spacy) (1.16.0)\n",
      "Requirement already satisfied: mdurl~=0.1 in /home/ysthakur/.virtualenvs/datasci/lib/python3.11/site-packages (from markdown-it-py>=2.2.0->rich>=10.11.0->typer<1.0.0,>=0.3.0->spacy) (0.1.2)\n"
     ]
    }
   ],
   "source": [
    "!pip install praw pandas seaborn scipy nltk scikit-learn spacy polars"
   ]
  },
  {
   "cell_type": "code",
   "execution_count": 2,
   "metadata": {},
   "outputs": [],
   "source": [
    "import csv\n",
    "import datetime\n",
    "import matplotlib as mpl\n",
    "from matplotlib import pyplot as plt\n",
    "import numpy as np\n",
    "import pandas as pd\n",
    "import praw\n",
    "import prawcore\n",
    "import random\n",
    "import seaborn as sns\n",
    "import time\n",
    "from typing import Callable\n",
    "\n",
    "from config import Config, CONFIG_FILE_NAME\n",
    "from util import *\n",
    "import validate\n",
    "\n",
    "sns.set_theme()"
   ]
  },
  {
   "cell_type": "code",
   "execution_count": 3,
   "metadata": {},
   "outputs": [],
   "source": [
    "# To ensure everything's nice and deterministic\n",
    "random.seed(0)\n",
    "np.random.seed(0)"
   ]
  },
  {
   "cell_type": "code",
   "execution_count": 4,
   "metadata": {},
   "outputs": [],
   "source": [
    "import logging\n",
    "\n",
    "# This will log everything\n",
    "LOG = True\n",
    "if LOG:\n",
    "    handler = logging.StreamHandler()\n",
    "    handler.setLevel(logging.WARN)\n",
    "    for logger_name in (\"praw\", \"prawcore\"):\n",
    "        logger = logging.getLogger(logger_name)\n",
    "        logger.setLevel(logging.DEBUG)\n",
    "        logger.addHandler(handler)"
   ]
  },
  {
   "cell_type": "code",
   "execution_count": 5,
   "metadata": {},
   "outputs": [
    {
     "name": "stderr",
     "output_type": "stream",
     "text": [
      "Version 7.7.1 of praw is outdated. Version 7.8.1 was released Friday October 25, 2024.\n"
     ]
    }
   ],
   "source": [
    "# Create the Reddit instance to do all the API stuff with\n",
    "reddit = init_reddit()"
   ]
  },
  {
   "cell_type": "code",
   "execution_count": 6,
   "metadata": {},
   "outputs": [],
   "source": [
    "keywords = [\n",
    "    r\"trauma\",\n",
    "    r\"gaslight\",\n",
    "    r\"trigger\",\n",
    "    r\"toxic\",\n",
    "    r\"manipulat\",\n",
    "    r\"microaggression\",\n",
    "    r\"autis\",\n",
    "    r\"adhd\",\n",
    "    r\"ocd\",\n",
    "    r\"ptsd\",\n",
    "    r\"bipolar\",\n",
    "    r\"anxiety\",\n",
    "    r\"depress\",\n",
    "    r\"psycho\",\n",
    "    r\"delusion\",\n",
    "    r\"addict\",\n",
    "    r\"abus\",\n",
    "    r\"unstable\",\n",
    "    r\"narcissis\",\n",
    "    r\"addict\",\n",
    "    r\"neurodivergen\",\n",
    "]"
   ]
  },
  {
   "cell_type": "code",
   "execution_count": 7,
   "metadata": {},
   "outputs": [],
   "source": [
    "first_id = int(\"c000000\", 36)  # todo find the ID of the first post we want to analyze\n",
    "# Earliest post I can find: https://www.reddit.com/api/info.json?id=t1_c015001\n",
    "last_id = int(\"l000000\", 36)  # todo find the ID of the last post we want to analyze"
   ]
  },
  {
   "cell_type": "markdown",
   "metadata": {},
   "source": [
    "## Load comments"
   ]
  },
  {
   "cell_type": "code",
   "execution_count": 8,
   "metadata": {},
   "outputs": [
    {
     "data": {
      "text/html": [
       "<div>\n",
       "<style scoped>\n",
       "    .dataframe tbody tr th:only-of-type {\n",
       "        vertical-align: middle;\n",
       "    }\n",
       "\n",
       "    .dataframe tbody tr th {\n",
       "        vertical-align: top;\n",
       "    }\n",
       "\n",
       "    .dataframe thead th {\n",
       "        text-align: right;\n",
       "    }\n",
       "</style>\n",
       "<table border=\"1\" class=\"dataframe\">\n",
       "  <thead>\n",
       "    <tr style=\"text-align: right;\">\n",
       "      <th></th>\n",
       "      <th>index</th>\n",
       "      <th>id</th>\n",
       "      <th>time</th>\n",
       "      <th>sr_name</th>\n",
       "      <th>author_id</th>\n",
       "      <th>parent_fullname</th>\n",
       "      <th>post_id</th>\n",
       "      <th>upvotes</th>\n",
       "      <th>downvotes</th>\n",
       "      <th>body</th>\n",
       "    </tr>\n",
       "  </thead>\n",
       "  <tbody>\n",
       "    <tr>\n",
       "      <th>0</th>\n",
       "      <td>1312726</td>\n",
       "      <td>26151671549</td>\n",
       "      <td>2009-12-31 19:01:19</td>\n",
       "      <td>IAmA</td>\n",
       "      <td>NaN</td>\n",
       "      <td>63325828058</td>\n",
       "      <td>17741786</td>\n",
       "      <td>2</td>\n",
       "      <td>0</td>\n",
       "      <td>How often do you deal with patient's nightmare...</td>\n",
       "    </tr>\n",
       "    <tr>\n",
       "      <th>1</th>\n",
       "      <td>229570</td>\n",
       "      <td>26151671809</td>\n",
       "      <td>2009-12-31 19:06:01</td>\n",
       "      <td>WTF</td>\n",
       "      <td>5.858025e+06</td>\n",
       "      <td>63325829123</td>\n",
       "      <td>17742851</td>\n",
       "      <td>6</td>\n",
       "      <td>0</td>\n",
       "      <td>Just moved to Florida this year when my husban...</td>\n",
       "    </tr>\n",
       "    <tr>\n",
       "      <th>2</th>\n",
       "      <td>170811</td>\n",
       "      <td>26151671837</td>\n",
       "      <td>2009-12-31 19:06:34</td>\n",
       "      <td>IAmA</td>\n",
       "      <td>6.217231e+06</td>\n",
       "      <td>26151623560</td>\n",
       "      <td>17736597</td>\n",
       "      <td>3</td>\n",
       "      <td>0</td>\n",
       "      <td>If I had a son and I saw him getting paid to f...</td>\n",
       "    </tr>\n",
       "    <tr>\n",
       "      <th>3</th>\n",
       "      <td>807551</td>\n",
       "      <td>26151672754</td>\n",
       "      <td>2009-12-31 19:21:08</td>\n",
       "      <td>funny</td>\n",
       "      <td>6.182729e+06</td>\n",
       "      <td>26151672257</td>\n",
       "      <td>17745252</td>\n",
       "      <td>3</td>\n",
       "      <td>0</td>\n",
       "      <td>Yeah I guess it is larry miller. http://www.ad...</td>\n",
       "    </tr>\n",
       "    <tr>\n",
       "      <th>4</th>\n",
       "      <td>1617433</td>\n",
       "      <td>26151672788</td>\n",
       "      <td>2009-12-31 19:21:44</td>\n",
       "      <td>trees</td>\n",
       "      <td>6.090001e+06</td>\n",
       "      <td>63325830216</td>\n",
       "      <td>17743944</td>\n",
       "      <td>2</td>\n",
       "      <td>0</td>\n",
       "      <td>OxyClean</td>\n",
       "    </tr>\n",
       "    <tr>\n",
       "      <th>...</th>\n",
       "      <td>...</td>\n",
       "      <td>...</td>\n",
       "      <td>...</td>\n",
       "      <td>...</td>\n",
       "      <td>...</td>\n",
       "      <td>...</td>\n",
       "      <td>...</td>\n",
       "      <td>...</td>\n",
       "      <td>...</td>\n",
       "      <td>...</td>\n",
       "    </tr>\n",
       "    <tr>\n",
       "      <th>1900010</th>\n",
       "      <td>1181681</td>\n",
       "      <td>33418663200</td>\n",
       "      <td>2019-12-31 18:39:04</td>\n",
       "      <td>videos</td>\n",
       "      <td>6.778696e+07</td>\n",
       "      <td>2279968051865</td>\n",
       "      <td>876946073</td>\n",
       "      <td>-4</td>\n",
       "      <td>0</td>\n",
       "      <td>It's not so much the names that are funny but ...</td>\n",
       "    </tr>\n",
       "    <tr>\n",
       "      <th>1900011</th>\n",
       "      <td>580174</td>\n",
       "      <td>33418693376</td>\n",
       "      <td>2019-12-31 18:46:49</td>\n",
       "      <td>GonewildGBUK</td>\n",
       "      <td>4.084829e+11</td>\n",
       "      <td>2279968326053</td>\n",
       "      <td>877220261</td>\n",
       "      <td>0</td>\n",
       "      <td>0</td>\n",
       "      <td>Well if you need an extra cock in 2020 😜😈😈happ...</td>\n",
       "    </tr>\n",
       "    <tr>\n",
       "      <th>1900012</th>\n",
       "      <td>1891974</td>\n",
       "      <td>33418700835</td>\n",
       "      <td>2019-12-31 18:48:40</td>\n",
       "      <td>unpopularopinion</td>\n",
       "      <td>3.536510e+10</td>\n",
       "      <td>2279967998019</td>\n",
       "      <td>876892227</td>\n",
       "      <td>1</td>\n",
       "      <td>0</td>\n",
       "      <td>It's also a stereotype that kids visit each pa...</td>\n",
       "    </tr>\n",
       "    <tr>\n",
       "      <th>1900013</th>\n",
       "      <td>1654668</td>\n",
       "      <td>33418710516</td>\n",
       "      <td>2019-12-31 18:51:06</td>\n",
       "      <td>AskReddit</td>\n",
       "      <td>3.644264e+07</td>\n",
       "      <td>2279968371662</td>\n",
       "      <td>877265870</td>\n",
       "      <td>2</td>\n",
       "      <td>0</td>\n",
       "      <td>More ass, better ass</td>\n",
       "    </tr>\n",
       "    <tr>\n",
       "      <th>1900014</th>\n",
       "      <td>1803658</td>\n",
       "      <td>33418728451</td>\n",
       "      <td>2019-12-31 18:55:43</td>\n",
       "      <td>AskReddit</td>\n",
       "      <td>3.213523e+11</td>\n",
       "      <td>33418716759</td>\n",
       "      <td>877248510</td>\n",
       "      <td>0</td>\n",
       "      <td>0</td>\n",
       "      <td>Ouais mais je parle sur le plan politique. Soc...</td>\n",
       "    </tr>\n",
       "  </tbody>\n",
       "</table>\n",
       "<p>1900015 rows × 10 columns</p>\n",
       "</div>"
      ],
      "text/plain": [
       "           index           id                time           sr_name  \\\n",
       "0        1312726  26151671549 2009-12-31 19:01:19              IAmA   \n",
       "1         229570  26151671809 2009-12-31 19:06:01               WTF   \n",
       "2         170811  26151671837 2009-12-31 19:06:34              IAmA   \n",
       "3         807551  26151672754 2009-12-31 19:21:08             funny   \n",
       "4        1617433  26151672788 2009-12-31 19:21:44             trees   \n",
       "...          ...          ...                 ...               ...   \n",
       "1900010  1181681  33418663200 2019-12-31 18:39:04            videos   \n",
       "1900011   580174  33418693376 2019-12-31 18:46:49      GonewildGBUK   \n",
       "1900012  1891974  33418700835 2019-12-31 18:48:40  unpopularopinion   \n",
       "1900013  1654668  33418710516 2019-12-31 18:51:06         AskReddit   \n",
       "1900014  1803658  33418728451 2019-12-31 18:55:43         AskReddit   \n",
       "\n",
       "            author_id  parent_fullname    post_id  upvotes  downvotes  \\\n",
       "0                 NaN      63325828058   17741786        2          0   \n",
       "1        5.858025e+06      63325829123   17742851        6          0   \n",
       "2        6.217231e+06      26151623560   17736597        3          0   \n",
       "3        6.182729e+06      26151672257   17745252        3          0   \n",
       "4        6.090001e+06      63325830216   17743944        2          0   \n",
       "...               ...              ...        ...      ...        ...   \n",
       "1900010  6.778696e+07    2279968051865  876946073       -4          0   \n",
       "1900011  4.084829e+11    2279968326053  877220261        0          0   \n",
       "1900012  3.536510e+10    2279967998019  876892227        1          0   \n",
       "1900013  3.644264e+07    2279968371662  877265870        2          0   \n",
       "1900014  3.213523e+11      33418716759  877248510        0          0   \n",
       "\n",
       "                                                      body  \n",
       "0        How often do you deal with patient's nightmare...  \n",
       "1        Just moved to Florida this year when my husban...  \n",
       "2        If I had a son and I saw him getting paid to f...  \n",
       "3        Yeah I guess it is larry miller. http://www.ad...  \n",
       "4                                                 OxyClean  \n",
       "...                                                    ...  \n",
       "1900010  It's not so much the names that are funny but ...  \n",
       "1900011  Well if you need an extra cock in 2020 😜😈😈happ...  \n",
       "1900012  It's also a stereotype that kids visit each pa...  \n",
       "1900013                               More ass, better ass  \n",
       "1900014  Ouais mais je parle sur le plan politique. Soc...  \n",
       "\n",
       "[1900015 rows x 10 columns]"
      ]
     },
     "execution_count": 8,
     "metadata": {},
     "output_type": "execute_result"
    }
   ],
   "source": [
    "df, misses = load_data()\n",
    "df"
   ]
  },
  {
   "cell_type": "code",
   "execution_count": 9,
   "metadata": {},
   "outputs": [
    {
     "data": {
      "text/plain": [
       "0         26151671597\n",
       "1         26151671665\n",
       "2         26151672225\n",
       "3         26151672735\n",
       "4         26151672783\n",
       "             ...     \n",
       "390180    33418443272\n",
       "390181    33418501316\n",
       "390182    33418553272\n",
       "390183    33418632879\n",
       "390184    33418643877\n",
       "Name: id, Length: 390185, dtype: int64"
      ]
     },
     "execution_count": 9,
     "metadata": {},
     "output_type": "execute_result"
    }
   ],
   "source": [
    "misses"
   ]
  },
  {
   "cell_type": "code",
   "execution_count": 10,
   "metadata": {},
   "outputs": [
    {
     "name": "stdout",
     "output_type": "stream",
     "text": [
      "✅ Found no duplicate comment IDs\n",
      "✅ Found no duplicate misses\n",
      "Everything good\n"
     ]
    }
   ],
   "source": [
    "# Sanity checks\n",
    "validate.validate(df, misses)"
   ]
  },
  {
   "cell_type": "code",
   "execution_count": 11,
   "metadata": {},
   "outputs": [
    {
     "data": {
      "text/plain": [
       "(np.int64(26151671549), 'c0i12wt')"
      ]
     },
     "execution_count": 11,
     "metadata": {},
     "output_type": "execute_result"
    }
   ],
   "source": [
    "# The first ID we actually collected\n",
    "first_id_actual = df[ID].min()\n",
    "first_id_actual, to_b36(first_id_actual)"
   ]
  },
  {
   "cell_type": "code",
   "execution_count": 23,
   "metadata": {},
   "outputs": [
    {
     "data": {
      "text/plain": [
       "datetime.date(2010, 1, 1)"
      ]
     },
     "execution_count": 23,
     "metadata": {},
     "output_type": "execute_result"
    }
   ],
   "source": [
    "config = Config.load(os.path.join(\"out\", \"run_0\", CONFIG_FILE_NAME))\n",
    "config.start_date"
   ]
  },
  {
   "cell_type": "markdown",
   "metadata": {},
   "source": [
    "## Basic analysis"
   ]
  },
  {
   "cell_type": "code",
   "execution_count": 13,
   "metadata": {},
   "outputs": [
    {
     "data": {
      "text/plain": [
       "{'trauma': 940,\n",
       " 'gaslight': 105,\n",
       " 'trigger': 2837,\n",
       " 'toxic': 1818,\n",
       " 'manipulat': 1755,\n",
       " 'microaggression': 7,\n",
       " 'autis': 774,\n",
       " 'adhd': 386,\n",
       " 'ocd': 359,\n",
       " 'ptsd': 381,\n",
       " 'bipolar': 296,\n",
       " 'anxiety': 1786,\n",
       " 'depress': 4099,\n",
       " 'psycho': 3330,\n",
       " 'delusion': 986,\n",
       " 'addict': 2706,\n",
       " 'abus': 4694,\n",
       " 'unstable': 434,\n",
       " 'narcissis': 422,\n",
       " 'neurodivergen': 0}"
      ]
     },
     "execution_count": 13,
     "metadata": {},
     "output_type": "execute_result"
    }
   ],
   "source": [
    "kw_counts = {}\n",
    "for kw in keywords:\n",
    "    kw_counts[kw] = len(df[df[BODY].str.contains(re.compile(kw, flags=re.IGNORECASE))])\n",
    "kw_counts"
   ]
  },
  {
   "cell_type": "code",
   "execution_count": 14,
   "metadata": {},
   "outputs": [
    {
     "data": {
      "text/html": [
       "<div><style>\n",
       ".dataframe > thead > tr,\n",
       ".dataframe > tbody > tr {\n",
       "  text-align: right;\n",
       "  white-space: pre-wrap;\n",
       "}\n",
       "</style>\n",
       "<small>shape: (1_900_015, 10)</small><table border=\"1\" class=\"dataframe\"><thead><tr><th>index</th><th>id</th><th>time</th><th>sr_name</th><th>author_id</th><th>parent_fullname</th><th>post_id</th><th>upvotes</th><th>downvotes</th><th>body</th></tr><tr><td>i64</td><td>i64</td><td>datetime[ns]</td><td>str</td><td>f64</td><td>i64</td><td>i64</td><td>i64</td><td>i64</td><td>str</td></tr></thead><tbody><tr><td>1312726</td><td>26151671549</td><td>2009-12-31&nbsp;19:01:19</td><td>&quot;IAmA&quot;</td><td>null</td><td>63325828058</td><td>17741786</td><td>2</td><td>0</td><td>&quot;How&nbsp;often&nbsp;do&nbsp;you&nbsp;deal&nbsp;with&nbsp;pat…</td></tr><tr><td>229570</td><td>26151671809</td><td>2009-12-31&nbsp;19:06:01</td><td>&quot;WTF&quot;</td><td>5.858025e6</td><td>63325829123</td><td>17742851</td><td>6</td><td>0</td><td>&quot;Just&nbsp;moved&nbsp;to&nbsp;Florida&nbsp;this&nbsp;yea…</td></tr><tr><td>170811</td><td>26151671837</td><td>2009-12-31&nbsp;19:06:34</td><td>&quot;IAmA&quot;</td><td>6.217231e6</td><td>26151623560</td><td>17736597</td><td>3</td><td>0</td><td>&quot;If&nbsp;I&nbsp;had&nbsp;a&nbsp;son&nbsp;and&nbsp;I&nbsp;saw&nbsp;him&nbsp;g…</td></tr><tr><td>807551</td><td>26151672754</td><td>2009-12-31&nbsp;19:21:08</td><td>&quot;funny&quot;</td><td>6.182729e6</td><td>26151672257</td><td>17745252</td><td>3</td><td>0</td><td>&quot;Yeah&nbsp;I&nbsp;guess&nbsp;it&nbsp;is&nbsp;larry&nbsp;mille…</td></tr><tr><td>1617433</td><td>26151672788</td><td>2009-12-31&nbsp;19:21:44</td><td>&quot;trees&quot;</td><td>6.090001e6</td><td>63325830216</td><td>17743944</td><td>2</td><td>0</td><td>&quot;OxyClean&quot;</td></tr><tr><td>&hellip;</td><td>&hellip;</td><td>&hellip;</td><td>&hellip;</td><td>&hellip;</td><td>&hellip;</td><td>&hellip;</td><td>&hellip;</td><td>&hellip;</td><td>&hellip;</td></tr><tr><td>1181681</td><td>33418663200</td><td>2019-12-31&nbsp;18:39:04</td><td>&quot;videos&quot;</td><td>6.7786963e7</td><td>2279968051865</td><td>876946073</td><td>-4</td><td>0</td><td>&quot;It&#x27;s&nbsp;not&nbsp;so&nbsp;much&nbsp;the&nbsp;names&nbsp;tha…</td></tr><tr><td>580174</td><td>33418693376</td><td>2019-12-31&nbsp;18:46:49</td><td>&quot;GonewildGBUK&quot;</td><td>4.0848e11</td><td>2279968326053</td><td>877220261</td><td>0</td><td>0</td><td>&quot;Well&nbsp;if&nbsp;you&nbsp;need&nbsp;an&nbsp;extra&nbsp;cock…</td></tr><tr><td>1891974</td><td>33418700835</td><td>2019-12-31&nbsp;18:48:40</td><td>&quot;unpopularopinion&quot;</td><td>3.5365e10</td><td>2279967998019</td><td>876892227</td><td>1</td><td>0</td><td>&quot;It&#x27;s&nbsp;also&nbsp;a&nbsp;stereotype&nbsp;that&nbsp;ki…</td></tr><tr><td>1654668</td><td>33418710516</td><td>2019-12-31&nbsp;18:51:06</td><td>&quot;AskReddit&quot;</td><td>3.6442635e7</td><td>2279968371662</td><td>877265870</td><td>2</td><td>0</td><td>&quot;More&nbsp;ass,&nbsp;better&nbsp;ass&quot;</td></tr><tr><td>1803658</td><td>33418728451</td><td>2019-12-31&nbsp;18:55:43</td><td>&quot;AskReddit&quot;</td><td>3.2135e11</td><td>33418716759</td><td>877248510</td><td>0</td><td>0</td><td>&quot;Ouais&nbsp;mais&nbsp;je&nbsp;parle&nbsp;sur&nbsp;le&nbsp;pla…</td></tr></tbody></table></div>"
      ],
      "text/plain": [
       "shape: (1_900_015, 10)\n",
       "┌─────────┬────────────┬────────────┬────────────┬───┬───────────┬─────────┬───────────┬───────────┐\n",
       "│ index   ┆ id         ┆ time       ┆ sr_name    ┆ … ┆ post_id   ┆ upvotes ┆ downvotes ┆ body      │\n",
       "│ ---     ┆ ---        ┆ ---        ┆ ---        ┆   ┆ ---       ┆ ---     ┆ ---       ┆ ---       │\n",
       "│ i64     ┆ i64        ┆ datetime[n ┆ str        ┆   ┆ i64       ┆ i64     ┆ i64       ┆ str       │\n",
       "│         ┆            ┆ s]         ┆            ┆   ┆           ┆         ┆           ┆           │\n",
       "╞═════════╪════════════╪════════════╪════════════╪═══╪═══════════╪═════════╪═══════════╪═══════════╡\n",
       "│ 1312726 ┆ 2615167154 ┆ 2009-12-31 ┆ IAmA       ┆ … ┆ 17741786  ┆ 2       ┆ 0         ┆ How often │\n",
       "│         ┆ 9          ┆ 19:01:19   ┆            ┆   ┆           ┆         ┆           ┆ do you    │\n",
       "│         ┆            ┆            ┆            ┆   ┆           ┆         ┆           ┆ deal with │\n",
       "│         ┆            ┆            ┆            ┆   ┆           ┆         ┆           ┆ pat…      │\n",
       "│ 229570  ┆ 2615167180 ┆ 2009-12-31 ┆ WTF        ┆ … ┆ 17742851  ┆ 6       ┆ 0         ┆ Just      │\n",
       "│         ┆ 9          ┆ 19:06:01   ┆            ┆   ┆           ┆         ┆           ┆ moved to  │\n",
       "│         ┆            ┆            ┆            ┆   ┆           ┆         ┆           ┆ Florida   │\n",
       "│         ┆            ┆            ┆            ┆   ┆           ┆         ┆           ┆ this yea… │\n",
       "│ 170811  ┆ 2615167183 ┆ 2009-12-31 ┆ IAmA       ┆ … ┆ 17736597  ┆ 3       ┆ 0         ┆ If I had  │\n",
       "│         ┆ 7          ┆ 19:06:34   ┆            ┆   ┆           ┆         ┆           ┆ a son and │\n",
       "│         ┆            ┆            ┆            ┆   ┆           ┆         ┆           ┆ I saw him │\n",
       "│         ┆            ┆            ┆            ┆   ┆           ┆         ┆           ┆ g…        │\n",
       "│ 807551  ┆ 2615167275 ┆ 2009-12-31 ┆ funny      ┆ … ┆ 17745252  ┆ 3       ┆ 0         ┆ Yeah I    │\n",
       "│         ┆ 4          ┆ 19:21:08   ┆            ┆   ┆           ┆         ┆           ┆ guess it  │\n",
       "│         ┆            ┆            ┆            ┆   ┆           ┆         ┆           ┆ is larry  │\n",
       "│         ┆            ┆            ┆            ┆   ┆           ┆         ┆           ┆ mille…    │\n",
       "│ 1617433 ┆ 2615167278 ┆ 2009-12-31 ┆ trees      ┆ … ┆ 17743944  ┆ 2       ┆ 0         ┆ OxyClean  │\n",
       "│         ┆ 8          ┆ 19:21:44   ┆            ┆   ┆           ┆         ┆           ┆           │\n",
       "│ …       ┆ …          ┆ …          ┆ …          ┆ … ┆ …         ┆ …       ┆ …         ┆ …         │\n",
       "│ 1181681 ┆ 3341866320 ┆ 2019-12-31 ┆ videos     ┆ … ┆ 876946073 ┆ -4      ┆ 0         ┆ It's not  │\n",
       "│         ┆ 0          ┆ 18:39:04   ┆            ┆   ┆           ┆         ┆           ┆ so much   │\n",
       "│         ┆            ┆            ┆            ┆   ┆           ┆         ┆           ┆ the names │\n",
       "│         ┆            ┆            ┆            ┆   ┆           ┆         ┆           ┆ tha…      │\n",
       "│ 580174  ┆ 3341869337 ┆ 2019-12-31 ┆ GonewildGB ┆ … ┆ 877220261 ┆ 0       ┆ 0         ┆ Well if   │\n",
       "│         ┆ 6          ┆ 18:46:49   ┆ UK         ┆   ┆           ┆         ┆           ┆ you need  │\n",
       "│         ┆            ┆            ┆            ┆   ┆           ┆         ┆           ┆ an extra  │\n",
       "│         ┆            ┆            ┆            ┆   ┆           ┆         ┆           ┆ cock…     │\n",
       "│ 1891974 ┆ 3341870083 ┆ 2019-12-31 ┆ unpopularo ┆ … ┆ 876892227 ┆ 1       ┆ 0         ┆ It's also │\n",
       "│         ┆ 5          ┆ 18:48:40   ┆ pinion     ┆   ┆           ┆         ┆           ┆ a stereot │\n",
       "│         ┆            ┆            ┆            ┆   ┆           ┆         ┆           ┆ ype that  │\n",
       "│         ┆            ┆            ┆            ┆   ┆           ┆         ┆           ┆ ki…       │\n",
       "│ 1654668 ┆ 3341871051 ┆ 2019-12-31 ┆ AskReddit  ┆ … ┆ 877265870 ┆ 2       ┆ 0         ┆ More ass, │\n",
       "│         ┆ 6          ┆ 18:51:06   ┆            ┆   ┆           ┆         ┆           ┆ better    │\n",
       "│         ┆            ┆            ┆            ┆   ┆           ┆         ┆           ┆ ass       │\n",
       "│ 1803658 ┆ 3341872845 ┆ 2019-12-31 ┆ AskReddit  ┆ … ┆ 877248510 ┆ 0       ┆ 0         ┆ Ouais     │\n",
       "│         ┆ 1          ┆ 18:55:43   ┆            ┆   ┆           ┆         ┆           ┆ mais je   │\n",
       "│         ┆            ┆            ┆            ┆   ┆           ┆         ┆           ┆ parle sur │\n",
       "│         ┆            ┆            ┆            ┆   ┆           ┆         ┆           ┆ le pla…   │\n",
       "└─────────┴────────────┴────────────┴────────────┴───┴───────────┴─────────┴───────────┴───────────┘"
      ]
     },
     "execution_count": 14,
     "metadata": {},
     "output_type": "execute_result"
    }
   ],
   "source": [
    "import polars as pl\n",
    "\n",
    "pl_df = pl.from_pandas(df)\n",
    "pl_df"
   ]
  },
  {
   "cell_type": "code",
   "execution_count": 15,
   "metadata": {},
   "outputs": [
    {
     "data": {
      "text/plain": [
       "{'trauma': 940,\n",
       " 'gaslight': 105,\n",
       " 'trigger': 2837,\n",
       " 'toxic': 1818,\n",
       " 'manipulat': 1755,\n",
       " 'microaggression': 7,\n",
       " 'autis': 774,\n",
       " 'adhd': 386,\n",
       " 'ocd': 359,\n",
       " 'ptsd': 381,\n",
       " 'bipolar': 296,\n",
       " 'anxiety': 1786,\n",
       " 'depress': 4099,\n",
       " 'psycho': 3330,\n",
       " 'delusion': 986,\n",
       " 'addict': 2706,\n",
       " 'abus': 4694,\n",
       " 'unstable': 434,\n",
       " 'narcissis': 422,\n",
       " 'neurodivergen': 0}"
      ]
     },
     "execution_count": 15,
     "metadata": {},
     "output_type": "execute_result"
    }
   ],
   "source": [
    "kw_counts = {}\n",
    "for kw in keywords:\n",
    "    kw_counts[kw] = len(pl_df.filter(pl.col(BODY).str.contains(\"(?i)\" + kw)))\n",
    "\n",
    "kw_counts"
   ]
  },
  {
   "cell_type": "code",
   "execution_count": 16,
   "metadata": {},
   "outputs": [
    {
     "data": {
      "image/png": "[encoded data removed]",
      "text/plain": [
       "<Figure size 640x480 with 1 Axes>"
      ]
     },
     "metadata": {},
     "output_type": "display_data"
    }
   ],
   "source": [
    "lengths = df[BODY].map(len)\n",
    "ax = sns.histplot(\n",
    "    lengths[lengths <= 10000],\n",
    "    binwidth=200,\n",
    "    # log_scale=True\n",
    ")\n",
    "ax.set(xlabel = \"Body length (characters)\")\n",
    "ax.set(yscale = \"log\");"
   ]
  },
  {
   "cell_type": "code",
   "execution_count": 17,
   "metadata": {},
   "outputs": [
    {
     "data": {
      "text/plain": [
       "45"
      ]
     },
     "execution_count": 17,
     "metadata": {},
     "output_type": "execute_result"
    }
   ],
   "source": [
    "len(df[lengths >= 10000])"
   ]
  },
  {
   "cell_type": "code",
   "execution_count": 24,
   "metadata": {},
   "outputs": [
    {
     "data": {
      "text/html": [
       "<div>\n",
       "<style scoped>\n",
       "    .dataframe tbody tr th:only-of-type {\n",
       "        vertical-align: middle;\n",
       "    }\n",
       "\n",
       "    .dataframe tbody tr th {\n",
       "        vertical-align: top;\n",
       "    }\n",
       "\n",
       "    .dataframe thead th {\n",
       "        text-align: right;\n",
       "    }\n",
       "</style>\n",
       "<table border=\"1\" class=\"dataframe\">\n",
       "  <thead>\n",
       "    <tr style=\"text-align: right;\">\n",
       "      <th></th>\n",
       "      <th>index</th>\n",
       "      <th>id</th>\n",
       "      <th>time</th>\n",
       "      <th>sr_name</th>\n",
       "      <th>author_id</th>\n",
       "      <th>parent_fullname</th>\n",
       "      <th>post_id</th>\n",
       "      <th>upvotes</th>\n",
       "      <th>downvotes</th>\n",
       "      <th>body</th>\n",
       "      <th>Time range</th>\n",
       "    </tr>\n",
       "  </thead>\n",
       "  <tbody>\n",
       "    <tr>\n",
       "      <th>84</th>\n",
       "      <td>1774866</td>\n",
       "      <td>26151686025</td>\n",
       "      <td>2010-01-01 00:01:14</td>\n",
       "      <td>WTF</td>\n",
       "      <td>6065187.0</td>\n",
       "      <td>63325831210</td>\n",
       "      <td>17744938</td>\n",
       "      <td>1</td>\n",
       "      <td>0</td>\n",
       "      <td>Ok reddit, how long do you think it will be be...</td>\n",
       "      <td>TimeRange(start_id=26151671487, end_id=2616049...</td>\n",
       "    </tr>\n",
       "    <tr>\n",
       "      <th>85</th>\n",
       "      <td>1187572</td>\n",
       "      <td>26151686057</td>\n",
       "      <td>2010-01-01 00:02:08</td>\n",
       "      <td>reddit.com</td>\n",
       "      <td>NaN</td>\n",
       "      <td>26151686031</td>\n",
       "      <td>17749610</td>\n",
       "      <td>0</td>\n",
       "      <td>0</td>\n",
       "      <td>For sure, for most it was earlier and for some...</td>\n",
       "      <td>TimeRange(start_id=26151671487, end_id=2616049...</td>\n",
       "    </tr>\n",
       "    <tr>\n",
       "      <th>86</th>\n",
       "      <td>730869</td>\n",
       "      <td>26151686346</td>\n",
       "      <td>2010-01-01 00:09:56</td>\n",
       "      <td>Cooking</td>\n",
       "      <td>5601464.0</td>\n",
       "      <td>26151672416</td>\n",
       "      <td>17746875</td>\n",
       "      <td>2</td>\n",
       "      <td>0</td>\n",
       "      <td>New Year's *Day*, yes. Where I'm from, pork an...</td>\n",
       "      <td>TimeRange(start_id=26151671487, end_id=2616049...</td>\n",
       "    </tr>\n",
       "  </tbody>\n",
       "</table>\n",
       "</div>"
      ],
      "text/plain": [
       "      index           id                time     sr_name  author_id  \\\n",
       "84  1774866  26151686025 2010-01-01 00:01:14         WTF  6065187.0   \n",
       "85  1187572  26151686057 2010-01-01 00:02:08  reddit.com        NaN   \n",
       "86   730869  26151686346 2010-01-01 00:09:56     Cooking  5601464.0   \n",
       "\n",
       "    parent_fullname   post_id  upvotes  downvotes  \\\n",
       "84      63325831210  17744938        1          0   \n",
       "85      26151686031  17749610        0          0   \n",
       "86      26151672416  17746875        2          0   \n",
       "\n",
       "                                                 body  \\\n",
       "84  Ok reddit, how long do you think it will be be...   \n",
       "85  For sure, for most it was earlier and for some...   \n",
       "86  New Year's *Day*, yes. Where I'm from, pork an...   \n",
       "\n",
       "                                           Time range  \n",
       "84  TimeRange(start_id=26151671487, end_id=2616049...  \n",
       "85  TimeRange(start_id=26151671487, end_id=2616049...  \n",
       "86  TimeRange(start_id=26151671487, end_id=2616049...  "
      ]
     },
     "execution_count": 24,
     "metadata": {},
     "output_type": "execute_result"
    }
   ],
   "source": [
    "# Add a \"Time range\" column to a dataframe\n",
    "import datetime\n",
    "\n",
    "TIME_RANGE = \"Time range\"\n",
    "\"\"\"Name of the column for storing time range\"\"\"\n",
    "\n",
    "def with_time_range(df):\n",
    "    dfs = []\n",
    "    for time_range in config.time_ranges:\n",
    "        start_time = datetime.datetime.combine(time_range.start_date, datetime.time(0, 0, 0))\n",
    "        end_time = datetime.datetime.combine(time_range.end_date, datetime.time(0, 0, 0))\n",
    "        filtered = df[(start_time <= df[TIME]) & (df[TIME] < end_time)].copy()\n",
    "        filtered[TIME_RANGE] = time_range\n",
    "        dfs.append(filtered)\n",
    "    return pd.concat(dfs)\n",
    "\n",
    "with_time_range(df).head(n=3)"
   ]
  },
  {
   "cell_type": "markdown",
   "metadata": {},
   "source": [
    "## Graphing distribution over time"
   ]
  },
  {
   "cell_type": "code",
   "execution_count": 25,
   "metadata": {},
   "outputs": [
    {
     "data": {
      "text/plain": [
       "<Axes: xlabel='time', ylabel='Count'>"
      ]
     },
     "execution_count": 25,
     "metadata": {},
     "output_type": "execute_result"
    },
    {
     "data": {
      "image/png": "[encoded data removed]",
      "text/plain": [
       "<Figure size 1300x500 with 1 Axes>"
      ]
     },
     "metadata": {},
     "output_type": "display_data"
    }
   ],
   "source": [
    "plt.figure(figsize=(13, 5))\n",
    "sns.histplot(\n",
    "    data=df,\n",
    "    x=TIME,\n",
    "    bins=[\n",
    "        mpl.dates.date2num(time_range.start_date) for time_range in config.time_ranges\n",
    "    ],\n",
    ")"
   ]
  },
  {
   "cell_type": "code",
   "execution_count": 26,
   "metadata": {},
   "outputs": [
    {
     "data": {
      "text/plain": [
       "<Axes: xlabel='id', ylabel='hit_rate'>"
      ]
     },
     "execution_count": 26,
     "metadata": {},
     "output_type": "execute_result"
    },
    {
     "data": {
      "image/png": "[encoded data removed]",
      "text/plain": [
       "<Figure size 1500x500 with 1 Axes>"
      ]
     },
     "metadata": {},
     "output_type": "display_data"
    }
   ],
   "source": [
    "# Hit rates by ID\n",
    "start = config.time_ranges[0].start_id\n",
    "end = config.time_ranges[-1].end_id\n",
    "step = int(1e8)\n",
    "\n",
    "def get_rate(curr_id):\n",
    "    next_id = curr_id + step\n",
    "    num_hits = len(df[(curr_id <= df[ID]) & (df[ID] < next_id)])\n",
    "    num_misses = len(misses[(misses > start) & (misses < next_id)])\n",
    "\n",
    "    if num_misses == 0:\n",
    "        return 0\n",
    "    return num_hits / (num_hits + num_misses)\n",
    "\n",
    "ids = np.arange(start, end, step)\n",
    "rates = np.fromiter(map(get_rate, ids), dtype=np.dtype(np.float64))\n",
    "\n",
    "rate_df = pd.DataFrame({ \"id\": ids, \"hit_rate\": rates })\n",
    "\n",
    "plt.figure(figsize=(15, 5))\n",
    "sns.lineplot(data=rate_df, x=\"id\", y=\"hit_rate\")"
   ]
  },
  {
   "cell_type": "code",
   "execution_count": 27,
   "metadata": {},
   "outputs": [
    {
     "data": {
      "text/plain": [
       "<Axes: xlabel='Date', ylabel='Hit rate'>"
      ]
     },
     "execution_count": 27,
     "metadata": {},
     "output_type": "execute_result"
    },
    {
     "data": {
      "image/png": "[encoded data removed]",
      "text/plain": [
       "<Figure size 1500x500 with 1 Axes>"
      ]
     },
     "metadata": {},
     "output_type": "display_data"
    }
   ],
   "source": [
    "# Approximate hit rate for each time range\n",
    "ranges = []\n",
    "for time_range in config.time_ranges:\n",
    "    num_hits = len(df[(time_range.start_id <= df[ID]) & (df[ID] <= time_range.end_id)])\n",
    "    num_misses = len(\n",
    "        misses[(time_range.start_id <= misses) & (misses <= time_range.end_id)]\n",
    "    )\n",
    "    ranges.append(\n",
    "        [\n",
    "            time_range.start_date,\n",
    "            num_hits / (num_hits + num_misses) if num_hits > 0 else 0,\n",
    "        ]\n",
    "    )\n",
    "\n",
    "data = pd.DataFrame(ranges, columns=[\"Date\", \"Hit rate\"])\n",
    "plt.figure(figsize=(15, 5))\n",
    "sns.lineplot(data, x=\"Date\", y=\"Hit rate\")"
   ]
  },
  {
   "cell_type": "code",
   "execution_count": 28,
   "metadata": {},
   "outputs": [
    {
     "data": {
      "text/plain": [
       "<Axes: xlabel='time', ylabel='Count'>"
      ]
     },
     "execution_count": 28,
     "metadata": {},
     "output_type": "execute_result"
    },
    {
     "data": {
      "image/png": "[encoded data removed]",
      "text/plain": [
       "<Figure size 1400x500 with 1 Axes>"
      ]
     },
     "metadata": {},
     "output_type": "display_data"
    }
   ],
   "source": [
    "# Number of comments by day of year\n",
    "plt.figure(figsize=(14, 5))\n",
    "sns.histplot(data=df[TIME].apply(lambda t: int(t.strftime(\"%j\"))))"
   ]
  },
  {
   "cell_type": "code",
   "execution_count": 29,
   "metadata": {},
   "outputs": [
    {
     "data": {
      "image/png": "[encoded data removed]",
      "text/plain": [
       "<Figure size 640x480 with 1 Axes>"
      ]
     },
     "metadata": {},
     "output_type": "display_data"
    }
   ],
   "source": [
    "# Number of comments by day of week (0 = Monday)\n",
    "g = sns.barplot(data=df[TIME].apply(lambda t: t.weekday()).value_counts())\n",
    "g.set_xticks(\n",
    "    g.get_xticks(),\n",
    "    labels=[\n",
    "        [\"Mon\", \"Tue\", \"Wed\", \"Thur\", \"Fri\", \"Sat\", \"Sun\"][tick]\n",
    "        for tick in g.get_xticks()\n",
    "    ],\n",
    ");"
   ]
  },
  {
   "cell_type": "code",
   "execution_count": 30,
   "metadata": {},
   "outputs": [
    {
     "data": {
      "text/plain": [
       "<Axes: xlabel='id', ylabel='Count'>"
      ]
     },
     "execution_count": 30,
     "metadata": {},
     "output_type": "execute_result"
    },
    {
     "data": {
      "image/png": "[encoded data removed]",
      "text/plain": [
       "<Figure size 1500x500 with 1 Axes>"
      ]
     },
     "metadata": {},
     "output_type": "display_data"
    }
   ],
   "source": [
    "plt.figure(figsize=(15, 5))\n",
    "misses_actual = misses[misses >= first_id_actual]\n",
    "sns.histplot(misses_actual, binwidth=1e8)"
   ]
  },
  {
   "cell_type": "code",
   "execution_count": 31,
   "metadata": {},
   "outputs": [
    {
     "data": {
      "text/plain": [
       "<Axes: xlabel='id', ylabel='Count'>"
      ]
     },
     "execution_count": 31,
     "metadata": {},
     "output_type": "execute_result"
    },
    {
     "data": {
      "image/png": "[encoded data removed]",
      "text/plain": [
       "<Figure size 1400x500 with 1 Axes>"
      ]
     },
     "metadata": {},
     "output_type": "display_data"
    }
   ],
   "source": [
    "# Zoom in on the middle\n",
    "# Note: The counts won't match the ones above because the bin width is different\n",
    "\n",
    "# TODO How are you supposed to filter a series?\n",
    "weirdos = misses[lambda id: id <= 3.75e10][lambda id: 3e10 <= id]\n",
    "\n",
    "plt.figure(figsize=(14, 5))\n",
    "sns.histplot(weirdos, binwidth=5e7)"
   ]
  },
  {
   "cell_type": "code",
   "execution_count": 32,
   "metadata": {},
   "outputs": [
    {
     "data": {
      "text/plain": [
       "(0.8296284167321631, 0.8296284167321631)"
      ]
     },
     "execution_count": 32,
     "metadata": {},
     "output_type": "execute_result"
    }
   ],
   "source": [
    "# What portion of the requests we made actually returned something?\n",
    "all = len(df) / (len(df) + len(misses))\n",
    "# Same as above, but don't include requests for comments with IDs that were too low\n",
    "exclude_invalid = len(df) / (len(df) + len(misses_actual))\n",
    "\n",
    "all, exclude_invalid"
   ]
  },
  {
   "cell_type": "code",
   "execution_count": 33,
   "metadata": {},
   "outputs": [
    {
     "data": {
      "text/plain": [
       "<Axes: xlabel='id', ylabel='rate'>"
      ]
     },
     "execution_count": 33,
     "metadata": {},
     "output_type": "execute_result"
    },
    {
     "data": {
      "image/png": "[encoded data removed]",
      "text/plain": [
       "<Figure size 1500x500 with 1 Axes>"
      ]
     },
     "metadata": {},
     "output_type": "display_data"
    }
   ],
   "source": [
    "# Hit rate over time\n",
    "start = first_id_actual\n",
    "end = max(df.iloc[len(df) - 1][ID],\n",
    "          misses.loc[len(misses) - 1])\n",
    "step = int(1e8)\n",
    "\n",
    "def get_rate(curr_id):\n",
    "    next_id = curr_id + step\n",
    "    hits = len(df[(curr_id <= df[ID]) & (df[ID] < next_id)])\n",
    "    num_misses = len(misses[lambda id: curr_id <= id][lambda id: id < next_id])\n",
    "\n",
    "    if num_misses == 0:\n",
    "        return 0\n",
    "    return num_misses / (hits + num_misses)\n",
    "\n",
    "ids = np.arange(start, end, step)\n",
    "rates = np.fromiter(map(get_rate, ids), dtype=np.dtype(np.float64))\n",
    "\n",
    "rate_df = pd.DataFrame({ \"id\": ids, \"rate\": rates })\n",
    "\n",
    "plt.figure(figsize=(15, 5))\n",
    "sns.lineplot(data=rate_df, x=\"id\", y=\"rate\")"
   ]
  },
  {
   "cell_type": "code",
   "execution_count": 34,
   "metadata": {},
   "outputs": [
    {
     "data": {
      "text/html": [
       "<div>\n",
       "<style scoped>\n",
       "    .dataframe tbody tr th:only-of-type {\n",
       "        vertical-align: middle;\n",
       "    }\n",
       "\n",
       "    .dataframe tbody tr th {\n",
       "        vertical-align: top;\n",
       "    }\n",
       "\n",
       "    .dataframe thead th {\n",
       "        text-align: right;\n",
       "    }\n",
       "</style>\n",
       "<table border=\"1\" class=\"dataframe\">\n",
       "  <thead>\n",
       "    <tr style=\"text-align: right;\">\n",
       "      <th></th>\n",
       "      <th>index</th>\n",
       "      <th>id</th>\n",
       "      <th>time</th>\n",
       "      <th>sr_name</th>\n",
       "      <th>author_id</th>\n",
       "      <th>parent_fullname</th>\n",
       "      <th>post_id</th>\n",
       "      <th>upvotes</th>\n",
       "      <th>downvotes</th>\n",
       "      <th>body</th>\n",
       "    </tr>\n",
       "  </thead>\n",
       "  <tbody>\n",
       "    <tr>\n",
       "      <th>1521313</th>\n",
       "      <td>260214</td>\n",
       "      <td>30000000548</td>\n",
       "      <td>2018-01-03 15:46:31</td>\n",
       "      <td>CrappyDesign</td>\n",
       "      <td>3.480685e+07</td>\n",
       "      <td>2279554509949</td>\n",
       "      <td>463404157</td>\n",
       "      <td>1</td>\n",
       "      <td>0</td>\n",
       "      <td>I'm a bot, *bleep*, *bloop*. Someone has linke...</td>\n",
       "    </tr>\n",
       "    <tr>\n",
       "      <th>1521314</th>\n",
       "      <td>1330205</td>\n",
       "      <td>30000000648</td>\n",
       "      <td>2018-01-03 15:46:33</td>\n",
       "      <td>news</td>\n",
       "      <td>2.973741e+07</td>\n",
       "      <td>29999850838</td>\n",
       "      <td>463313545</td>\n",
       "      <td>1</td>\n",
       "      <td>0</td>\n",
       "      <td>&gt; Which is appointed by the mayor, I presume. ...</td>\n",
       "    </tr>\n",
       "    <tr>\n",
       "      <th>1521315</th>\n",
       "      <td>641602</td>\n",
       "      <td>30000004473</td>\n",
       "      <td>2018-01-03 15:47:54</td>\n",
       "      <td>RaiBlocks</td>\n",
       "      <td>1.796276e+07</td>\n",
       "      <td>2279554564553</td>\n",
       "      <td>463458761</td>\n",
       "      <td>1</td>\n",
       "      <td>0</td>\n",
       "      <td>The consensus so far has been that the RaiBloc...</td>\n",
       "    </tr>\n",
       "    <tr>\n",
       "      <th>1521316</th>\n",
       "      <td>1618699</td>\n",
       "      <td>30000008262</td>\n",
       "      <td>2018-01-03 15:49:13</td>\n",
       "      <td>fireemblem</td>\n",
       "      <td>5.830099e+07</td>\n",
       "      <td>2279554547177</td>\n",
       "      <td>463441385</td>\n",
       "      <td>28</td>\n",
       "      <td>0</td>\n",
       "      <td>Some of these actually fit, like Saber's and I...</td>\n",
       "    </tr>\n",
       "    <tr>\n",
       "      <th>1521317</th>\n",
       "      <td>223135</td>\n",
       "      <td>30000009293</td>\n",
       "      <td>2018-01-03 15:49:34</td>\n",
       "      <td>conspiracy</td>\n",
       "      <td>5.230449e+10</td>\n",
       "      <td>29999962509</td>\n",
       "      <td>463414080</td>\n",
       "      <td>1</td>\n",
       "      <td>0</td>\n",
       "      <td>Thank you</td>\n",
       "    </tr>\n",
       "    <tr>\n",
       "      <th>...</th>\n",
       "      <td>...</td>\n",
       "      <td>...</td>\n",
       "      <td>...</td>\n",
       "      <td>...</td>\n",
       "      <td>...</td>\n",
       "      <td>...</td>\n",
       "      <td>...</td>\n",
       "      <td>...</td>\n",
       "      <td>...</td>\n",
       "      <td>...</td>\n",
       "    </tr>\n",
       "    <tr>\n",
       "      <th>1900010</th>\n",
       "      <td>1181681</td>\n",
       "      <td>33418663200</td>\n",
       "      <td>2019-12-31 18:39:04</td>\n",
       "      <td>videos</td>\n",
       "      <td>6.778696e+07</td>\n",
       "      <td>2279968051865</td>\n",
       "      <td>876946073</td>\n",
       "      <td>-4</td>\n",
       "      <td>0</td>\n",
       "      <td>It's not so much the names that are funny but ...</td>\n",
       "    </tr>\n",
       "    <tr>\n",
       "      <th>1900011</th>\n",
       "      <td>580174</td>\n",
       "      <td>33418693376</td>\n",
       "      <td>2019-12-31 18:46:49</td>\n",
       "      <td>GonewildGBUK</td>\n",
       "      <td>4.084829e+11</td>\n",
       "      <td>2279968326053</td>\n",
       "      <td>877220261</td>\n",
       "      <td>0</td>\n",
       "      <td>0</td>\n",
       "      <td>Well if you need an extra cock in 2020 😜😈😈happ...</td>\n",
       "    </tr>\n",
       "    <tr>\n",
       "      <th>1900012</th>\n",
       "      <td>1891974</td>\n",
       "      <td>33418700835</td>\n",
       "      <td>2019-12-31 18:48:40</td>\n",
       "      <td>unpopularopinion</td>\n",
       "      <td>3.536510e+10</td>\n",
       "      <td>2279967998019</td>\n",
       "      <td>876892227</td>\n",
       "      <td>1</td>\n",
       "      <td>0</td>\n",
       "      <td>It's also a stereotype that kids visit each pa...</td>\n",
       "    </tr>\n",
       "    <tr>\n",
       "      <th>1900013</th>\n",
       "      <td>1654668</td>\n",
       "      <td>33418710516</td>\n",
       "      <td>2019-12-31 18:51:06</td>\n",
       "      <td>AskReddit</td>\n",
       "      <td>3.644264e+07</td>\n",
       "      <td>2279968371662</td>\n",
       "      <td>877265870</td>\n",
       "      <td>2</td>\n",
       "      <td>0</td>\n",
       "      <td>More ass, better ass</td>\n",
       "    </tr>\n",
       "    <tr>\n",
       "      <th>1900014</th>\n",
       "      <td>1803658</td>\n",
       "      <td>33418728451</td>\n",
       "      <td>2019-12-31 18:55:43</td>\n",
       "      <td>AskReddit</td>\n",
       "      <td>3.213523e+11</td>\n",
       "      <td>33418716759</td>\n",
       "      <td>877248510</td>\n",
       "      <td>0</td>\n",
       "      <td>0</td>\n",
       "      <td>Ouais mais je parle sur le plan politique. Soc...</td>\n",
       "    </tr>\n",
       "  </tbody>\n",
       "</table>\n",
       "<p>378702 rows × 10 columns</p>\n",
       "</div>"
      ],
      "text/plain": [
       "           index           id                time           sr_name  \\\n",
       "1521313   260214  30000000548 2018-01-03 15:46:31      CrappyDesign   \n",
       "1521314  1330205  30000000648 2018-01-03 15:46:33              news   \n",
       "1521315   641602  30000004473 2018-01-03 15:47:54         RaiBlocks   \n",
       "1521316  1618699  30000008262 2018-01-03 15:49:13        fireemblem   \n",
       "1521317   223135  30000009293 2018-01-03 15:49:34        conspiracy   \n",
       "...          ...          ...                 ...               ...   \n",
       "1900010  1181681  33418663200 2019-12-31 18:39:04            videos   \n",
       "1900011   580174  33418693376 2019-12-31 18:46:49      GonewildGBUK   \n",
       "1900012  1891974  33418700835 2019-12-31 18:48:40  unpopularopinion   \n",
       "1900013  1654668  33418710516 2019-12-31 18:51:06         AskReddit   \n",
       "1900014  1803658  33418728451 2019-12-31 18:55:43         AskReddit   \n",
       "\n",
       "            author_id  parent_fullname    post_id  upvotes  downvotes  \\\n",
       "1521313  3.480685e+07    2279554509949  463404157        1          0   \n",
       "1521314  2.973741e+07      29999850838  463313545        1          0   \n",
       "1521315  1.796276e+07    2279554564553  463458761        1          0   \n",
       "1521316  5.830099e+07    2279554547177  463441385       28          0   \n",
       "1521317  5.230449e+10      29999962509  463414080        1          0   \n",
       "...               ...              ...        ...      ...        ...   \n",
       "1900010  6.778696e+07    2279968051865  876946073       -4          0   \n",
       "1900011  4.084829e+11    2279968326053  877220261        0          0   \n",
       "1900012  3.536510e+10    2279967998019  876892227        1          0   \n",
       "1900013  3.644264e+07    2279968371662  877265870        2          0   \n",
       "1900014  3.213523e+11      33418716759  877248510        0          0   \n",
       "\n",
       "                                                      body  \n",
       "1521313  I'm a bot, *bleep*, *bloop*. Someone has linke...  \n",
       "1521314  > Which is appointed by the mayor, I presume. ...  \n",
       "1521315  The consensus so far has been that the RaiBloc...  \n",
       "1521316  Some of these actually fit, like Saber's and I...  \n",
       "1521317                                         Thank you   \n",
       "...                                                    ...  \n",
       "1900010  It's not so much the names that are funny but ...  \n",
       "1900011  Well if you need an extra cock in 2020 😜😈😈happ...  \n",
       "1900012  It's also a stereotype that kids visit each pa...  \n",
       "1900013                               More ass, better ass  \n",
       "1900014  Ouais mais je parle sur le plan politique. Soc...  \n",
       "\n",
       "[378702 rows x 10 columns]"
      ]
     },
     "execution_count": 34,
     "metadata": {},
     "output_type": "execute_result"
    }
   ],
   "source": [
    "df[(3e10 <= df[ID]) & (df[ID] < 3.75e10)]"
   ]
  },
  {
   "cell_type": "markdown",
   "metadata": {},
   "source": [
    "# Subreddits"
   ]
  },
  {
   "cell_type": "code",
   "execution_count": 35,
   "metadata": {},
   "outputs": [
    {
     "data": {
      "text/html": [
       "<div>\n",
       "<style scoped>\n",
       "    .dataframe tbody tr th:only-of-type {\n",
       "        vertical-align: middle;\n",
       "    }\n",
       "\n",
       "    .dataframe tbody tr th {\n",
       "        vertical-align: top;\n",
       "    }\n",
       "\n",
       "    .dataframe thead th {\n",
       "        text-align: right;\n",
       "    }\n",
       "</style>\n",
       "<table border=\"1\" class=\"dataframe\">\n",
       "  <thead>\n",
       "    <tr style=\"text-align: right;\">\n",
       "      <th></th>\n",
       "      <th>index</th>\n",
       "      <th>id</th>\n",
       "      <th>time</th>\n",
       "      <th>sr_name</th>\n",
       "      <th>author_id</th>\n",
       "      <th>parent_fullname</th>\n",
       "      <th>post_id</th>\n",
       "      <th>upvotes</th>\n",
       "      <th>downvotes</th>\n",
       "      <th>body</th>\n",
       "    </tr>\n",
       "  </thead>\n",
       "  <tbody>\n",
       "    <tr>\n",
       "      <th>12</th>\n",
       "      <td>1078711</td>\n",
       "      <td>26151673760</td>\n",
       "      <td>2009-12-31 19:38:15</td>\n",
       "      <td>reddit.com</td>\n",
       "      <td>2985100.0</td>\n",
       "      <td>26151673010</td>\n",
       "      <td>17745483</td>\n",
       "      <td>7</td>\n",
       "      <td>0</td>\n",
       "      <td>I read it as lupus. I need glasses.</td>\n",
       "    </tr>\n",
       "    <tr>\n",
       "      <th>16</th>\n",
       "      <td>276111</td>\n",
       "      <td>26151674830</td>\n",
       "      <td>2009-12-31 19:57:29</td>\n",
       "      <td>reddit.com</td>\n",
       "      <td>NaN</td>\n",
       "      <td>26151662557</td>\n",
       "      <td>17740330</td>\n",
       "      <td>30</td>\n",
       "      <td>0</td>\n",
       "      <td>&gt;That's just not cool.\\n\\nYes it was. You simp...</td>\n",
       "    </tr>\n",
       "    <tr>\n",
       "      <th>17</th>\n",
       "      <td>1565301</td>\n",
       "      <td>26151674897</td>\n",
       "      <td>2009-12-31 19:58:41</td>\n",
       "      <td>reddit.com</td>\n",
       "      <td>2791174.0</td>\n",
       "      <td>63325827406</td>\n",
       "      <td>17741134</td>\n",
       "      <td>1</td>\n",
       "      <td>0</td>\n",
       "      <td>I currently live in an area where TWC will be ...</td>\n",
       "    </tr>\n",
       "    <tr>\n",
       "      <th>38</th>\n",
       "      <td>342729</td>\n",
       "      <td>26151677781</td>\n",
       "      <td>2009-12-31 20:54:20</td>\n",
       "      <td>reddit.com</td>\n",
       "      <td>5978942.0</td>\n",
       "      <td>26151659618</td>\n",
       "      <td>17738932</td>\n",
       "      <td>0</td>\n",
       "      <td>0</td>\n",
       "      <td>It's hard to figure out what's right or wrong ...</td>\n",
       "    </tr>\n",
       "    <tr>\n",
       "      <th>39</th>\n",
       "      <td>1149930</td>\n",
       "      <td>26151677962</td>\n",
       "      <td>2009-12-31 20:57:39</td>\n",
       "      <td>reddit.com</td>\n",
       "      <td>5608406.0</td>\n",
       "      <td>63325821979</td>\n",
       "      <td>17735707</td>\n",
       "      <td>5</td>\n",
       "      <td>0</td>\n",
       "      <td>OH MY GOD. A BOOK HAS THE WORD NARWHAL IN IT!!...</td>\n",
       "    </tr>\n",
       "    <tr>\n",
       "      <th>...</th>\n",
       "      <td>...</td>\n",
       "      <td>...</td>\n",
       "      <td>...</td>\n",
       "      <td>...</td>\n",
       "      <td>...</td>\n",
       "      <td>...</td>\n",
       "      <td>...</td>\n",
       "      <td>...</td>\n",
       "      <td>...</td>\n",
       "      <td>...</td>\n",
       "    </tr>\n",
       "    <tr>\n",
       "      <th>346446</th>\n",
       "      <td>1102767</td>\n",
       "      <td>26294850892</td>\n",
       "      <td>2011-10-28 17:37:25</td>\n",
       "      <td>reddit.com</td>\n",
       "      <td>9349189.0</td>\n",
       "      <td>26290463836</td>\n",
       "      <td>32219129</td>\n",
       "      <td>1</td>\n",
       "      <td>0</td>\n",
       "      <td>im a slow person</td>\n",
       "    </tr>\n",
       "    <tr>\n",
       "      <th>348873</th>\n",
       "      <td>1311050</td>\n",
       "      <td>26296954303</td>\n",
       "      <td>2011-11-02 17:09:59</td>\n",
       "      <td>reddit.com</td>\n",
       "      <td>8216928.0</td>\n",
       "      <td>63343902358</td>\n",
       "      <td>35816086</td>\n",
       "      <td>1</td>\n",
       "      <td>0</td>\n",
       "      <td>Wait! I got this!\\n\\nSpanking? No, no! WANKING!</td>\n",
       "    </tr>\n",
       "    <tr>\n",
       "      <th>354947</th>\n",
       "      <td>1783221</td>\n",
       "      <td>26302381341</td>\n",
       "      <td>2011-11-14 16:52:02</td>\n",
       "      <td>reddit.com</td>\n",
       "      <td>149728.0</td>\n",
       "      <td>26302111771</td>\n",
       "      <td>4406654</td>\n",
       "      <td>3</td>\n",
       "      <td>0</td>\n",
       "      <td>fibonacci[7962]\\n\\n`4074803477 8997284660 1798...</td>\n",
       "    </tr>\n",
       "    <tr>\n",
       "      <th>361473</th>\n",
       "      <td>1091088</td>\n",
       "      <td>26308157761</td>\n",
       "      <td>2011-11-27 16:41:00</td>\n",
       "      <td>reddit.com</td>\n",
       "      <td>NaN</td>\n",
       "      <td>26308079972</td>\n",
       "      <td>35985690</td>\n",
       "      <td>1</td>\n",
       "      <td>0</td>\n",
       "      <td>And you came back to tell me this? That is kin...</td>\n",
       "    </tr>\n",
       "    <tr>\n",
       "      <th>362360</th>\n",
       "      <td>378614</td>\n",
       "      <td>26308907678</td>\n",
       "      <td>2011-11-29 04:56:06</td>\n",
       "      <td>reddit.com</td>\n",
       "      <td>7387203.0</td>\n",
       "      <td>63343683030</td>\n",
       "      <td>35596758</td>\n",
       "      <td>1</td>\n",
       "      <td>0</td>\n",
       "      <td>Dubai is a monument to bullshit.</td>\n",
       "    </tr>\n",
       "  </tbody>\n",
       "</table>\n",
       "<p>21133 rows × 10 columns</p>\n",
       "</div>"
      ],
      "text/plain": [
       "          index           id                time     sr_name  author_id  \\\n",
       "12      1078711  26151673760 2009-12-31 19:38:15  reddit.com  2985100.0   \n",
       "16       276111  26151674830 2009-12-31 19:57:29  reddit.com        NaN   \n",
       "17      1565301  26151674897 2009-12-31 19:58:41  reddit.com  2791174.0   \n",
       "38       342729  26151677781 2009-12-31 20:54:20  reddit.com  5978942.0   \n",
       "39      1149930  26151677962 2009-12-31 20:57:39  reddit.com  5608406.0   \n",
       "...         ...          ...                 ...         ...        ...   \n",
       "346446  1102767  26294850892 2011-10-28 17:37:25  reddit.com  9349189.0   \n",
       "348873  1311050  26296954303 2011-11-02 17:09:59  reddit.com  8216928.0   \n",
       "354947  1783221  26302381341 2011-11-14 16:52:02  reddit.com   149728.0   \n",
       "361473  1091088  26308157761 2011-11-27 16:41:00  reddit.com        NaN   \n",
       "362360   378614  26308907678 2011-11-29 04:56:06  reddit.com  7387203.0   \n",
       "\n",
       "        parent_fullname   post_id  upvotes  downvotes  \\\n",
       "12          26151673010  17745483        7          0   \n",
       "16          26151662557  17740330       30          0   \n",
       "17          63325827406  17741134        1          0   \n",
       "38          26151659618  17738932        0          0   \n",
       "39          63325821979  17735707        5          0   \n",
       "...                 ...       ...      ...        ...   \n",
       "346446      26290463836  32219129        1          0   \n",
       "348873      63343902358  35816086        1          0   \n",
       "354947      26302111771   4406654        3          0   \n",
       "361473      26308079972  35985690        1          0   \n",
       "362360      63343683030  35596758        1          0   \n",
       "\n",
       "                                                     body  \n",
       "12                    I read it as lupus. I need glasses.  \n",
       "16      >That's just not cool.\\n\\nYes it was. You simp...  \n",
       "17      I currently live in an area where TWC will be ...  \n",
       "38      It's hard to figure out what's right or wrong ...  \n",
       "39      OH MY GOD. A BOOK HAS THE WORD NARWHAL IN IT!!...  \n",
       "...                                                   ...  \n",
       "346446                                   im a slow person  \n",
       "348873    Wait! I got this!\\n\\nSpanking? No, no! WANKING!  \n",
       "354947  fibonacci[7962]\\n\\n`4074803477 8997284660 1798...  \n",
       "361473  And you came back to tell me this? That is kin...  \n",
       "362360                   Dubai is a monument to bullshit.  \n",
       "\n",
       "[21133 rows x 10 columns]"
      ]
     },
     "execution_count": 35,
     "metadata": {},
     "output_type": "execute_result"
    }
   ],
   "source": [
    "df[df[SR_NAME] == \"reddit.com\"]"
   ]
  },
  {
   "cell_type": "code",
   "execution_count": 36,
   "metadata": {},
   "outputs": [
    {
     "data": {
      "text/plain": [
       "sr_name\n",
       "AskReddit              192458\n",
       "pics                    52898\n",
       "funny                   41548\n",
       "politics                39221\n",
       "gaming                  34886\n",
       "WTF                     25923\n",
       "leagueoflegends         22466\n",
       "worldnews               20832\n",
       "IAmA                    20358\n",
       "videos                  18055\n",
       "atheism                 17781\n",
       "nfl                     17112\n",
       "todayilearned           16838\n",
       "nba                     15419\n",
       "AdviceAnimals           15163\n",
       "trees                   14880\n",
       "soccer                  13243\n",
       "fffffffuuuuuuuuuuuu     11240\n",
       "news                    11234\n",
       "movies                  11137\n",
       "Name: count, dtype: int64"
      ]
     },
     "execution_count": 36,
     "metadata": {},
     "output_type": "execute_result"
    }
   ],
   "source": [
    "# Most popular subreddits\n",
    "df[df[SR_NAME] != \"reddit.com\"][SR_NAME].value_counts().nlargest(20)"
   ]
  },
  {
   "cell_type": "code",
   "execution_count": 37,
   "metadata": {},
   "outputs": [
    {
     "data": {
      "image/png": "[encoded data removed]",
      "text/plain": [
       "<Figure size 1500x800 with 1 Axes>"
      ]
     },
     "metadata": {},
     "output_type": "display_data"
    }
   ],
   "source": [
    "# this looks at *count* rather than percent of comments from each subreddit\n",
    "# todo fix that (oversampling thing)\n",
    "\n",
    "data = (\n",
    "    with_time_range(df)\n",
    "    .groupby(TIME_RANGE)\n",
    "    .apply(\n",
    "        lambda df: df[SR_NAME].value_counts(normalize=True).nlargest(2),\n",
    "        include_groups=False,\n",
    "    )\n",
    ")\n",
    "data = data.to_frame(\"count\").reset_index()\n",
    "data[TIME_RANGE] = data[TIME_RANGE].apply(lambda tr: tr.start_date)\n",
    "\n",
    "plt.figure(figsize=(15, 8))\n",
    "ax = sns.lineplot(data, x=TIME_RANGE, y=\"count\", hue=SR_NAME)\n",
    "sns.move_legend(ax, \"upper left\", bbox_to_anchor=(1, 1))"
   ]
  },
  {
   "cell_type": "markdown",
   "metadata": {},
   "source": [
    "# Text cleaning"
   ]
  },
  {
   "cell_type": "code",
   "execution_count": 38,
   "metadata": {},
   "outputs": [],
   "source": [
    "# Doing this stuff on all comments is slow, so let's just try it on a small sample\n",
    "sample_df = pl.from_pandas(df.sample(n=5000, random_state=123).reset_index(drop=True))"
   ]
  },
  {
   "cell_type": "code",
   "execution_count": 39,
   "metadata": {},
   "outputs": [
    {
     "name": "stderr",
     "output_type": "stream",
     "text": [
      "/usr/lib/python3.11/pty.py:89: RuntimeWarning: Using fork() can cause Polars to deadlock in the child process.\n",
      "In addition, using fork() with Python in general is a recipe for mysterious\n",
      "deadlocks and crashes.\n",
      "\n",
      "The most likely reason you are seeing this error is because you are using the\n",
      "multiprocessing module on Linux, which uses fork() by default. This will be\n",
      "fixed in Python 3.14. Until then, you want to use the \"spawn\" context instead.\n",
      "\n",
      "See https://docs.pola.rs/user-guide/misc/multiprocessing/ for details.\n",
      "\n",
      "  pid, fd = os.forkpty()\n"
     ]
    },
    {
     "name": "stdout",
     "output_type": "stream",
     "text": [
      "Requirement already satisfied: bs4 in /home/ysthakur/.virtualenvs/datasci/lib/python3.11/site-packages (0.0.2)\n",
      "Requirement already satisfied: umarkdown in /home/ysthakur/.virtualenvs/datasci/lib/python3.11/site-packages (1.6)\n",
      "Requirement already satisfied: beautifulsoup4 in /home/ysthakur/.virtualenvs/datasci/lib/python3.11/site-packages (from bs4) (4.12.3)\n",
      "Requirement already satisfied: soupsieve>1.2 in /home/ysthakur/.virtualenvs/datasci/lib/python3.11/site-packages (from beautifulsoup4->bs4) (2.6)\n"
     ]
    }
   ],
   "source": [
    "# umarkdown and BeautifulSoup let us Markdown\n",
    "!pip install bs4 umarkdown"
   ]
  },
  {
   "cell_type": "code",
   "execution_count": 40,
   "metadata": {},
   "outputs": [],
   "source": [
    "from bs4 import BeautifulSoup\n",
    "from umarkdown import markdown\n",
    "\n",
    "def parse_markdown(body: str):\n",
    "    html = markdown(body)\n",
    "    soup = BeautifulSoup(html, features=\"html.parser\")\n",
    "    return soup.get_text(\" \").strip()"
   ]
  },
  {
   "cell_type": "code",
   "execution_count": 41,
   "metadata": {},
   "outputs": [
    {
     "name": "stdout",
     "output_type": "stream",
     "text": [
      "Requirement already satisfied: lingua-language-detector in /home/ysthakur/.virtualenvs/datasci/lib/python3.11/site-packages (2.0.2)\n"
     ]
    }
   ],
   "source": [
    "!pip install lingua-language-detector"
   ]
  },
  {
   "cell_type": "code",
   "execution_count": 42,
   "metadata": {},
   "outputs": [
    {
     "name": "stdout",
     "output_type": "stream",
     "text": [
      "Detected language: Language.PORTUGUESE\n"
     ]
    },
    {
     "data": {
      "text/plain": [
       "[ConfidenceValue(language=Language.PORTUGUESE, value=0.37761832674056983),\n",
       " ConfidenceValue(language=Language.SPANISH, value=0.2309219807291187),\n",
       " ConfidenceValue(language=Language.GERMAN, value=0.20455744953575436),\n",
       " ConfidenceValue(language=Language.ENGLISH, value=0.18690224299455727)]"
      ]
     },
     "execution_count": 42,
     "metadata": {},
     "output_type": "execute_result"
    }
   ],
   "source": [
    "# Filter out non-English comments\n",
    "# TODO actually do it\n",
    "\n",
    "from lingua import Language, LanguageDetectorBuilder\n",
    "\n",
    "# Most popular languages gotten from\n",
    "# https://towardsdatascience.com/the-most-popular-languages-on-reddit-analyzed-with-snowflake-and-a-java-udtf-4e58c8ba473c\n",
    "detector = LanguageDetectorBuilder.from_languages(\n",
    "    Language.ENGLISH, Language.GERMAN, Language.SPANISH, Language.PORTUGUESE\n",
    ").build()\n",
    "\n",
    "text = \"spam\"\n",
    "\n",
    "print(\"Detected language:\", detector.detect_language_of(text))\n",
    "detector.compute_language_confidence_values(text)"
   ]
  },
  {
   "cell_type": "code",
   "execution_count": 43,
   "metadata": {},
   "outputs": [
    {
     "data": {
      "text/html": [
       "<div><style>\n",
       ".dataframe > thead > tr,\n",
       ".dataframe > tbody > tr {\n",
       "  text-align: right;\n",
       "  white-space: pre-wrap;\n",
       "}\n",
       "</style>\n",
       "<small>shape: (5_000, 11)</small><table border=\"1\" class=\"dataframe\"><thead><tr><th>index</th><th>id</th><th>time</th><th>sr_name</th><th>author_id</th><th>parent_fullname</th><th>post_id</th><th>upvotes</th><th>downvotes</th><th>body</th><th>parsed</th></tr><tr><td>i64</td><td>i64</td><td>datetime[ns]</td><td>str</td><td>f64</td><td>i64</td><td>i64</td><td>i64</td><td>i64</td><td>str</td><td>str</td></tr></thead><tbody><tr><td>478576</td><td>26592340459</td><td>2013-01-06&nbsp;22:32:21</td><td>&quot;BicyclingCirclejerk&quot;</td><td>1.6522115e7</td><td>26584054277</td><td>69840606</td><td>2</td><td>0</td><td>&quot;Naw&nbsp;man.&nbsp;Twist&nbsp;those&nbsp;shits&nbsp;tog…</td><td>&quot;Naw&nbsp;man.&nbsp;Twist&nbsp;those&nbsp;shits&nbsp;tog…</td></tr><tr><td>563429</td><td>30896293581</td><td>2018-10-01&nbsp;10:03:30</td><td>&quot;mcgill&quot;</td><td>6.1596347e7</td><td>2279669661633</td><td>578555841</td><td>31</td><td>0</td><td>&quot;Nobody&nbsp;will&nbsp;care&nbsp;about&nbsp;you&nbsp;not…</td><td>&quot;Nobody&nbsp;will&nbsp;care&nbsp;about&nbsp;you&nbsp;not…</td></tr><tr><td>1530760</td><td>29346653412</td><td>2017-05-09&nbsp;14:35:56</td><td>&quot;Emailmarketing&quot;</td><td>6.5771643e7</td><td>2279470710462</td><td>379604670</td><td>1</td><td>0</td><td>&quot;List&nbsp;cleaning&nbsp;services&nbsp;can&nbsp;be&nbsp;…</td><td>&quot;List&nbsp;cleaning&nbsp;services&nbsp;can&nbsp;be&nbsp;…</td></tr><tr><td>1455903</td><td>29125535052</td><td>2017-02-13&nbsp;05:06:17</td><td>&quot;science&quot;</td><td>6.6502927e7</td><td>2279443139868</td><td>352034076</td><td>1</td><td>0</td><td>&quot;I&nbsp;believe&nbsp;in&nbsp;evolution&nbsp;and&nbsp;not…</td><td>&quot;I&nbsp;believe&nbsp;in&nbsp;evolution&nbsp;and&nbsp;not…</td></tr><tr><td>930437</td><td>30457347967</td><td>2018-05-28&nbsp;10:13:21</td><td>&quot;worldnews&quot;</td><td>1.4005328e7</td><td>2279612994289</td><td>521888497</td><td>2</td><td>0</td><td>&quot;So&nbsp;much&nbsp;potential&nbsp;for&nbsp;really&nbsp;u…</td><td>&quot;So&nbsp;much&nbsp;potential&nbsp;for&nbsp;really&nbsp;u…</td></tr><tr><td>&hellip;</td><td>&hellip;</td><td>&hellip;</td><td>&hellip;</td><td>&hellip;</td><td>&hellip;</td><td>&hellip;</td><td>&hellip;</td><td>&hellip;</td><td>&hellip;</td><td>&hellip;</td></tr><tr><td>384808</td><td>30513128081</td><td>2018-06-13&nbsp;19:28:31</td><td>&quot;taxpros&quot;</td><td>1.5549515e7</td><td>2279619154014</td><td>528048222</td><td>1</td><td>0</td><td>&quot;I&nbsp;think&nbsp;my&nbsp;state(NV)&nbsp;requires&nbsp;…</td><td>&quot;I&nbsp;think&nbsp;my&nbsp;state(NV)&nbsp;requires&nbsp;…</td></tr><tr><td>1805686</td><td>27797809554</td><td>2015-05-30&nbsp;14:46:18</td><td>&quot;HotPeppers&quot;</td><td>9.932152e6</td><td>27796949301</td><td>194347247</td><td>1</td><td>0</td><td>&quot;Easier&nbsp;said&nbsp;than&nbsp;done&nbsp;in&nbsp;my&nbsp;ar…</td><td>&quot;Easier&nbsp;said&nbsp;than&nbsp;done&nbsp;in&nbsp;my&nbsp;ar…</td></tr><tr><td>1752660</td><td>29088203875</td><td>2017-01-29&nbsp;13:56:13</td><td>&quot;paragon&quot;</td><td>null</td><td>29087442331</td><td>347312558</td><td>1</td><td>0</td><td>&quot;I&nbsp;might&nbsp;be&nbsp;in&nbsp;minority,&nbsp;but&nbsp;I&nbsp;…</td><td>&quot;I&nbsp;might&nbsp;be&nbsp;in&nbsp;minority,&nbsp;but&nbsp;I&nbsp;…</td></tr><tr><td>834722</td><td>26413922088</td><td>2012-05-30&nbsp;14:31:06</td><td>&quot;diablo3&quot;</td><td>8.451947e6</td><td>26413477673</td><td>50911054</td><td>1</td><td>0</td><td>&quot;Why&nbsp;are&nbsp;you&nbsp;talking&nbsp;about&nbsp;rele…</td><td>&quot;Why&nbsp;are&nbsp;you&nbsp;talking&nbsp;about&nbsp;rele…</td></tr><tr><td>970495</td><td>28495949062</td><td>2016-05-17&nbsp;22:59:15</td><td>&quot;relationships&quot;</td><td>1.7583941e7</td><td>2279366179555</td><td>275073763</td><td>2</td><td>0</td><td>&quot;Check&nbsp;out&nbsp;/r/justnomil.&nbsp;Their&nbsp;…</td><td>&quot;Check&nbsp;out&nbsp;/r/justnomil.&nbsp;Their&nbsp;…</td></tr></tbody></table></div>"
      ],
      "text/plain": [
       "shape: (5_000, 11)\n",
       "┌─────────┬────────────┬────────────┬────────────┬───┬─────────┬───────────┬───────────┬───────────┐\n",
       "│ index   ┆ id         ┆ time       ┆ sr_name    ┆ … ┆ upvotes ┆ downvotes ┆ body      ┆ parsed    │\n",
       "│ ---     ┆ ---        ┆ ---        ┆ ---        ┆   ┆ ---     ┆ ---       ┆ ---       ┆ ---       │\n",
       "│ i64     ┆ i64        ┆ datetime[n ┆ str        ┆   ┆ i64     ┆ i64       ┆ str       ┆ str       │\n",
       "│         ┆            ┆ s]         ┆            ┆   ┆         ┆           ┆           ┆           │\n",
       "╞═════════╪════════════╪════════════╪════════════╪═══╪═════════╪═══════════╪═══════════╪═══════════╡\n",
       "│ 478576  ┆ 2659234045 ┆ 2013-01-06 ┆ BicyclingC ┆ … ┆ 2       ┆ 0         ┆ Naw man.  ┆ Naw man.  │\n",
       "│         ┆ 9          ┆ 22:32:21   ┆ irclejerk  ┆   ┆         ┆           ┆ Twist     ┆ Twist     │\n",
       "│         ┆            ┆            ┆            ┆   ┆         ┆           ┆ those     ┆ those     │\n",
       "│         ┆            ┆            ┆            ┆   ┆         ┆           ┆ shits     ┆ shits     │\n",
       "│         ┆            ┆            ┆            ┆   ┆         ┆           ┆ tog…      ┆ tog…      │\n",
       "│ 563429  ┆ 3089629358 ┆ 2018-10-01 ┆ mcgill     ┆ … ┆ 31      ┆ 0         ┆ Nobody    ┆ Nobody    │\n",
       "│         ┆ 1          ┆ 10:03:30   ┆            ┆   ┆         ┆           ┆ will care ┆ will care │\n",
       "│         ┆            ┆            ┆            ┆   ┆         ┆           ┆ about you ┆ about you │\n",
       "│         ┆            ┆            ┆            ┆   ┆         ┆           ┆ not…      ┆ not…      │\n",
       "│ 1530760 ┆ 2934665341 ┆ 2017-05-09 ┆ Emailmarke ┆ … ┆ 1       ┆ 0         ┆ List      ┆ List      │\n",
       "│         ┆ 2          ┆ 14:35:56   ┆ ting       ┆   ┆         ┆           ┆ cleaning  ┆ cleaning  │\n",
       "│         ┆            ┆            ┆            ┆   ┆         ┆           ┆ services  ┆ services  │\n",
       "│         ┆            ┆            ┆            ┆   ┆         ┆           ┆ can be …  ┆ can be …  │\n",
       "│ 1455903 ┆ 2912553505 ┆ 2017-02-13 ┆ science    ┆ … ┆ 1       ┆ 0         ┆ I believe ┆ I believe │\n",
       "│         ┆ 2          ┆ 05:06:17   ┆            ┆   ┆         ┆           ┆ in        ┆ in        │\n",
       "│         ┆            ┆            ┆            ┆   ┆         ┆           ┆ evolution ┆ evolution │\n",
       "│         ┆            ┆            ┆            ┆   ┆         ┆           ┆ and not…  ┆ and not…  │\n",
       "│ 930437  ┆ 3045734796 ┆ 2018-05-28 ┆ worldnews  ┆ … ┆ 2       ┆ 0         ┆ So much   ┆ So much   │\n",
       "│         ┆ 7          ┆ 10:13:21   ┆            ┆   ┆         ┆           ┆ potential ┆ potential │\n",
       "│         ┆            ┆            ┆            ┆   ┆         ┆           ┆ for       ┆ for       │\n",
       "│         ┆            ┆            ┆            ┆   ┆         ┆           ┆ really u… ┆ really u… │\n",
       "│ …       ┆ …          ┆ …          ┆ …          ┆ … ┆ …       ┆ …         ┆ …         ┆ …         │\n",
       "│ 384808  ┆ 3051312808 ┆ 2018-06-13 ┆ taxpros    ┆ … ┆ 1       ┆ 0         ┆ I think   ┆ I think   │\n",
       "│         ┆ 1          ┆ 19:28:31   ┆            ┆   ┆         ┆           ┆ my        ┆ my        │\n",
       "│         ┆            ┆            ┆            ┆   ┆         ┆           ┆ state(NV) ┆ state(NV) │\n",
       "│         ┆            ┆            ┆            ┆   ┆         ┆           ┆ requires  ┆ requires  │\n",
       "│         ┆            ┆            ┆            ┆   ┆         ┆           ┆ …         ┆ …         │\n",
       "│ 1805686 ┆ 2779780955 ┆ 2015-05-30 ┆ HotPeppers ┆ … ┆ 1       ┆ 0         ┆ Easier    ┆ Easier    │\n",
       "│         ┆ 4          ┆ 14:46:18   ┆            ┆   ┆         ┆           ┆ said than ┆ said than │\n",
       "│         ┆            ┆            ┆            ┆   ┆         ┆           ┆ done in   ┆ done in   │\n",
       "│         ┆            ┆            ┆            ┆   ┆         ┆           ┆ my ar…    ┆ my ar…    │\n",
       "│ 1752660 ┆ 2908820387 ┆ 2017-01-29 ┆ paragon    ┆ … ┆ 1       ┆ 0         ┆ I might   ┆ I might   │\n",
       "│         ┆ 5          ┆ 13:56:13   ┆            ┆   ┆         ┆           ┆ be in     ┆ be in     │\n",
       "│         ┆            ┆            ┆            ┆   ┆         ┆           ┆ minority, ┆ minority, │\n",
       "│         ┆            ┆            ┆            ┆   ┆         ┆           ┆ but I …   ┆ but I …   │\n",
       "│ 834722  ┆ 2641392208 ┆ 2012-05-30 ┆ diablo3    ┆ … ┆ 1       ┆ 0         ┆ Why are   ┆ Why are   │\n",
       "│         ┆ 8          ┆ 14:31:06   ┆            ┆   ┆         ┆           ┆ you       ┆ you       │\n",
       "│         ┆            ┆            ┆            ┆   ┆         ┆           ┆ talking   ┆ talking   │\n",
       "│         ┆            ┆            ┆            ┆   ┆         ┆           ┆ about     ┆ about     │\n",
       "│         ┆            ┆            ┆            ┆   ┆         ┆           ┆ rele…     ┆ rele…     │\n",
       "│ 970495  ┆ 2849594906 ┆ 2016-05-17 ┆ relationsh ┆ … ┆ 2       ┆ 0         ┆ Check out ┆ Check out │\n",
       "│         ┆ 2          ┆ 22:59:15   ┆ ips        ┆   ┆         ┆           ┆ /r/justno ┆ /r/justno │\n",
       "│         ┆            ┆            ┆            ┆   ┆         ┆           ┆ mil.      ┆ mil.      │\n",
       "│         ┆            ┆            ┆            ┆   ┆         ┆           ┆ Their …   ┆ Their …   │\n",
       "└─────────┴────────────┴────────────┴────────────┴───┴─────────┴───────────┴───────────┴───────────┘"
      ]
     },
     "execution_count": 43,
     "metadata": {},
     "output_type": "execute_result"
    }
   ],
   "source": [
    "sample_df = sample_df.with_columns(parsed=pl.col(BODY).map_elements(parse_markdown, return_dtype=pl.String))\n",
    "sample_df"
   ]
  },
  {
   "cell_type": "code",
   "execution_count": 44,
   "metadata": {},
   "outputs": [],
   "source": [
    "from nltk.tokenize.casual import TweetTokenizer\n",
    "import re\n",
    "import unicodedata\n",
    "\n",
    "tokenizer = TweetTokenizer()\n",
    "\n",
    "\n",
    "def casual_tokenize(text: str) -> str:\n",
    "    text = unicodedata.normalize(\"NFKD\", text)\n",
    "    text = re.sub(\"[uU]/[A-Za-z_-]+\", \" \", text)\n",
    "    text = re.sub(\"[rR]/[A-Za-z_.-]+\", \" \", text)\n",
    "    text = text.replace(\"\\n\", \" \")\n",
    "    text = text.replace(r\"\\n\", \" \")\n",
    "    # Kind of a dumb way to remove links but I'm like 90% sure it works\n",
    "    no_links = [\n",
    "        tok for tok in tokenizer.tokenize(text) if not re.match(\"https?://\", tok)\n",
    "    ]\n",
    "    # Remove all tokens that only contain non-word characters\n",
    "    no_symbol_tokens = [\n",
    "        tok for tok in tokenizer.tokenize(text) if re.match(\"[A-Za-z]\", tok)\n",
    "    ]\n",
    "    return \" \".join(no_symbol_tokens)"
   ]
  },
  {
   "cell_type": "code",
   "execution_count": 45,
   "metadata": {},
   "outputs": [
    {
     "data": {
      "text/html": [
       "<div><style>\n",
       ".dataframe > thead > tr,\n",
       ".dataframe > tbody > tr {\n",
       "  text-align: right;\n",
       "  white-space: pre-wrap;\n",
       "}\n",
       "</style>\n",
       "<small>shape: (5_000, 12)</small><table border=\"1\" class=\"dataframe\"><thead><tr><th>index</th><th>id</th><th>time</th><th>sr_name</th><th>author_id</th><th>parent_fullname</th><th>post_id</th><th>upvotes</th><th>downvotes</th><th>body</th><th>parsed</th><th>tokenized</th></tr><tr><td>i64</td><td>i64</td><td>datetime[ns]</td><td>str</td><td>f64</td><td>i64</td><td>i64</td><td>i64</td><td>i64</td><td>str</td><td>str</td><td>str</td></tr></thead><tbody><tr><td>478576</td><td>26592340459</td><td>2013-01-06&nbsp;22:32:21</td><td>&quot;BicyclingCirclejerk&quot;</td><td>1.6522115e7</td><td>26584054277</td><td>69840606</td><td>2</td><td>0</td><td>&quot;Naw&nbsp;man.&nbsp;Twist&nbsp;those&nbsp;shits&nbsp;tog…</td><td>&quot;Naw&nbsp;man.&nbsp;Twist&nbsp;those&nbsp;shits&nbsp;tog…</td><td>&quot;Naw&nbsp;man&nbsp;Twist&nbsp;those&nbsp;shits&nbsp;toge…</td></tr><tr><td>563429</td><td>30896293581</td><td>2018-10-01&nbsp;10:03:30</td><td>&quot;mcgill&quot;</td><td>6.1596347e7</td><td>2279669661633</td><td>578555841</td><td>31</td><td>0</td><td>&quot;Nobody&nbsp;will&nbsp;care&nbsp;about&nbsp;you&nbsp;not…</td><td>&quot;Nobody&nbsp;will&nbsp;care&nbsp;about&nbsp;you&nbsp;not…</td><td>&quot;Nobody&nbsp;will&nbsp;care&nbsp;about&nbsp;you&nbsp;not…</td></tr><tr><td>1530760</td><td>29346653412</td><td>2017-05-09&nbsp;14:35:56</td><td>&quot;Emailmarketing&quot;</td><td>6.5771643e7</td><td>2279470710462</td><td>379604670</td><td>1</td><td>0</td><td>&quot;List&nbsp;cleaning&nbsp;services&nbsp;can&nbsp;be&nbsp;…</td><td>&quot;List&nbsp;cleaning&nbsp;services&nbsp;can&nbsp;be&nbsp;…</td><td>&quot;List&nbsp;cleaning&nbsp;services&nbsp;can&nbsp;be&nbsp;…</td></tr><tr><td>1455903</td><td>29125535052</td><td>2017-02-13&nbsp;05:06:17</td><td>&quot;science&quot;</td><td>6.6502927e7</td><td>2279443139868</td><td>352034076</td><td>1</td><td>0</td><td>&quot;I&nbsp;believe&nbsp;in&nbsp;evolution&nbsp;and&nbsp;not…</td><td>&quot;I&nbsp;believe&nbsp;in&nbsp;evolution&nbsp;and&nbsp;not…</td><td>&quot;I&nbsp;believe&nbsp;in&nbsp;evolution&nbsp;and&nbsp;not…</td></tr><tr><td>930437</td><td>30457347967</td><td>2018-05-28&nbsp;10:13:21</td><td>&quot;worldnews&quot;</td><td>1.4005328e7</td><td>2279612994289</td><td>521888497</td><td>2</td><td>0</td><td>&quot;So&nbsp;much&nbsp;potential&nbsp;for&nbsp;really&nbsp;u…</td><td>&quot;So&nbsp;much&nbsp;potential&nbsp;for&nbsp;really&nbsp;u…</td><td>&quot;So&nbsp;much&nbsp;potential&nbsp;for&nbsp;really&nbsp;u…</td></tr><tr><td>&hellip;</td><td>&hellip;</td><td>&hellip;</td><td>&hellip;</td><td>&hellip;</td><td>&hellip;</td><td>&hellip;</td><td>&hellip;</td><td>&hellip;</td><td>&hellip;</td><td>&hellip;</td><td>&hellip;</td></tr><tr><td>384808</td><td>30513128081</td><td>2018-06-13&nbsp;19:28:31</td><td>&quot;taxpros&quot;</td><td>1.5549515e7</td><td>2279619154014</td><td>528048222</td><td>1</td><td>0</td><td>&quot;I&nbsp;think&nbsp;my&nbsp;state(NV)&nbsp;requires&nbsp;…</td><td>&quot;I&nbsp;think&nbsp;my&nbsp;state(NV)&nbsp;requires&nbsp;…</td><td>&quot;I&nbsp;think&nbsp;my&nbsp;state&nbsp;NV&nbsp;requires&nbsp;y…</td></tr><tr><td>1805686</td><td>27797809554</td><td>2015-05-30&nbsp;14:46:18</td><td>&quot;HotPeppers&quot;</td><td>9.932152e6</td><td>27796949301</td><td>194347247</td><td>1</td><td>0</td><td>&quot;Easier&nbsp;said&nbsp;than&nbsp;done&nbsp;in&nbsp;my&nbsp;ar…</td><td>&quot;Easier&nbsp;said&nbsp;than&nbsp;done&nbsp;in&nbsp;my&nbsp;ar…</td><td>&quot;Easier&nbsp;said&nbsp;than&nbsp;done&nbsp;in&nbsp;my&nbsp;ar…</td></tr><tr><td>1752660</td><td>29088203875</td><td>2017-01-29&nbsp;13:56:13</td><td>&quot;paragon&quot;</td><td>null</td><td>29087442331</td><td>347312558</td><td>1</td><td>0</td><td>&quot;I&nbsp;might&nbsp;be&nbsp;in&nbsp;minority,&nbsp;but&nbsp;I&nbsp;…</td><td>&quot;I&nbsp;might&nbsp;be&nbsp;in&nbsp;minority,&nbsp;but&nbsp;I&nbsp;…</td><td>&quot;I&nbsp;might&nbsp;be&nbsp;in&nbsp;minority&nbsp;but&nbsp;I&nbsp;d…</td></tr><tr><td>834722</td><td>26413922088</td><td>2012-05-30&nbsp;14:31:06</td><td>&quot;diablo3&quot;</td><td>8.451947e6</td><td>26413477673</td><td>50911054</td><td>1</td><td>0</td><td>&quot;Why&nbsp;are&nbsp;you&nbsp;talking&nbsp;about&nbsp;rele…</td><td>&quot;Why&nbsp;are&nbsp;you&nbsp;talking&nbsp;about&nbsp;rele…</td><td>&quot;Why&nbsp;are&nbsp;you&nbsp;talking&nbsp;about&nbsp;rele…</td></tr><tr><td>970495</td><td>28495949062</td><td>2016-05-17&nbsp;22:59:15</td><td>&quot;relationships&quot;</td><td>1.7583941e7</td><td>2279366179555</td><td>275073763</td><td>2</td><td>0</td><td>&quot;Check&nbsp;out&nbsp;/r/justnomil.&nbsp;Their&nbsp;…</td><td>&quot;Check&nbsp;out&nbsp;/r/justnomil.&nbsp;Their&nbsp;…</td><td>&quot;Check&nbsp;out&nbsp;Their&nbsp;side&nbsp;bar&nbsp;It&#x27;s&nbsp;…</td></tr></tbody></table></div>"
      ],
      "text/plain": [
       "shape: (5_000, 12)\n",
       "┌─────────┬────────────┬───────────┬───────────┬───┬───────────┬───────────┬───────────┬───────────┐\n",
       "│ index   ┆ id         ┆ time      ┆ sr_name   ┆ … ┆ downvotes ┆ body      ┆ parsed    ┆ tokenized │\n",
       "│ ---     ┆ ---        ┆ ---       ┆ ---       ┆   ┆ ---       ┆ ---       ┆ ---       ┆ ---       │\n",
       "│ i64     ┆ i64        ┆ datetime[ ┆ str       ┆   ┆ i64       ┆ str       ┆ str       ┆ str       │\n",
       "│         ┆            ┆ ns]       ┆           ┆   ┆           ┆           ┆           ┆           │\n",
       "╞═════════╪════════════╪═══════════╪═══════════╪═══╪═══════════╪═══════════╪═══════════╪═══════════╡\n",
       "│ 478576  ┆ 2659234045 ┆ 2013-01-0 ┆ Bicycling ┆ … ┆ 0         ┆ Naw man.  ┆ Naw man.  ┆ Naw man   │\n",
       "│         ┆ 9          ┆ 6         ┆ Circlejer ┆   ┆           ┆ Twist     ┆ Twist     ┆ Twist     │\n",
       "│         ┆            ┆ 22:32:21  ┆ k         ┆   ┆           ┆ those     ┆ those     ┆ those     │\n",
       "│         ┆            ┆           ┆           ┆   ┆           ┆ shits     ┆ shits     ┆ shits     │\n",
       "│         ┆            ┆           ┆           ┆   ┆           ┆ tog…      ┆ tog…      ┆ toge…     │\n",
       "│ 563429  ┆ 3089629358 ┆ 2018-10-0 ┆ mcgill    ┆ … ┆ 0         ┆ Nobody    ┆ Nobody    ┆ Nobody    │\n",
       "│         ┆ 1          ┆ 1         ┆           ┆   ┆           ┆ will care ┆ will care ┆ will care │\n",
       "│         ┆            ┆ 10:03:30  ┆           ┆   ┆           ┆ about you ┆ about you ┆ about you │\n",
       "│         ┆            ┆           ┆           ┆   ┆           ┆ not…      ┆ not…      ┆ not…      │\n",
       "│ 1530760 ┆ 2934665341 ┆ 2017-05-0 ┆ Emailmark ┆ … ┆ 0         ┆ List      ┆ List      ┆ List      │\n",
       "│         ┆ 2          ┆ 9         ┆ eting     ┆   ┆           ┆ cleaning  ┆ cleaning  ┆ cleaning  │\n",
       "│         ┆            ┆ 14:35:56  ┆           ┆   ┆           ┆ services  ┆ services  ┆ services  │\n",
       "│         ┆            ┆           ┆           ┆   ┆           ┆ can be …  ┆ can be …  ┆ can be …  │\n",
       "│ 1455903 ┆ 2912553505 ┆ 2017-02-1 ┆ science   ┆ … ┆ 0         ┆ I believe ┆ I believe ┆ I believe │\n",
       "│         ┆ 2          ┆ 3         ┆           ┆   ┆           ┆ in        ┆ in        ┆ in        │\n",
       "│         ┆            ┆ 05:06:17  ┆           ┆   ┆           ┆ evolution ┆ evolution ┆ evolution │\n",
       "│         ┆            ┆           ┆           ┆   ┆           ┆ and not…  ┆ and not…  ┆ and not…  │\n",
       "│ 930437  ┆ 3045734796 ┆ 2018-05-2 ┆ worldnews ┆ … ┆ 0         ┆ So much   ┆ So much   ┆ So much   │\n",
       "│         ┆ 7          ┆ 8         ┆           ┆   ┆           ┆ potential ┆ potential ┆ potential │\n",
       "│         ┆            ┆ 10:13:21  ┆           ┆   ┆           ┆ for       ┆ for       ┆ for       │\n",
       "│         ┆            ┆           ┆           ┆   ┆           ┆ really u… ┆ really u… ┆ really u… │\n",
       "│ …       ┆ …          ┆ …         ┆ …         ┆ … ┆ …         ┆ …         ┆ …         ┆ …         │\n",
       "│ 384808  ┆ 3051312808 ┆ 2018-06-1 ┆ taxpros   ┆ … ┆ 0         ┆ I think   ┆ I think   ┆ I think   │\n",
       "│         ┆ 1          ┆ 3         ┆           ┆   ┆           ┆ my        ┆ my        ┆ my state  │\n",
       "│         ┆            ┆ 19:28:31  ┆           ┆   ┆           ┆ state(NV) ┆ state(NV) ┆ NV        │\n",
       "│         ┆            ┆           ┆           ┆   ┆           ┆ requires  ┆ requires  ┆ requires  │\n",
       "│         ┆            ┆           ┆           ┆   ┆           ┆ …         ┆ …         ┆ y…        │\n",
       "│ 1805686 ┆ 2779780955 ┆ 2015-05-3 ┆ HotPepper ┆ … ┆ 0         ┆ Easier    ┆ Easier    ┆ Easier    │\n",
       "│         ┆ 4          ┆ 0         ┆ s         ┆   ┆           ┆ said than ┆ said than ┆ said than │\n",
       "│         ┆            ┆ 14:46:18  ┆           ┆   ┆           ┆ done in   ┆ done in   ┆ done in   │\n",
       "│         ┆            ┆           ┆           ┆   ┆           ┆ my ar…    ┆ my ar…    ┆ my ar…    │\n",
       "│ 1752660 ┆ 2908820387 ┆ 2017-01-2 ┆ paragon   ┆ … ┆ 0         ┆ I might   ┆ I might   ┆ I might   │\n",
       "│         ┆ 5          ┆ 9         ┆           ┆   ┆           ┆ be in     ┆ be in     ┆ be in     │\n",
       "│         ┆            ┆ 13:56:13  ┆           ┆   ┆           ┆ minority, ┆ minority, ┆ minority  │\n",
       "│         ┆            ┆           ┆           ┆   ┆           ┆ but I …   ┆ but I …   ┆ but I d…  │\n",
       "│ 834722  ┆ 2641392208 ┆ 2012-05-3 ┆ diablo3   ┆ … ┆ 0         ┆ Why are   ┆ Why are   ┆ Why are   │\n",
       "│         ┆ 8          ┆ 0         ┆           ┆   ┆           ┆ you       ┆ you       ┆ you       │\n",
       "│         ┆            ┆ 14:31:06  ┆           ┆   ┆           ┆ talking   ┆ talking   ┆ talking   │\n",
       "│         ┆            ┆           ┆           ┆   ┆           ┆ about     ┆ about     ┆ about     │\n",
       "│         ┆            ┆           ┆           ┆   ┆           ┆ rele…     ┆ rele…     ┆ rele…     │\n",
       "│ 970495  ┆ 2849594906 ┆ 2016-05-1 ┆ relations ┆ … ┆ 0         ┆ Check out ┆ Check out ┆ Check out │\n",
       "│         ┆ 2          ┆ 7         ┆ hips      ┆   ┆           ┆ /r/justno ┆ /r/justno ┆ Their     │\n",
       "│         ┆            ┆ 22:59:15  ┆           ┆   ┆           ┆ mil.      ┆ mil.      ┆ side bar  │\n",
       "│         ┆            ┆           ┆           ┆   ┆           ┆ Their …   ┆ Their …   ┆ It's …    │\n",
       "└─────────┴────────────┴───────────┴───────────┴───┴───────────┴───────────┴───────────┴───────────┘"
      ]
     },
     "execution_count": 45,
     "metadata": {},
     "output_type": "execute_result"
    }
   ],
   "source": [
    "sample_df.with_columns(tokenized=pl.col(BODY).map_elements(casual_tokenize, return_dtype=pl.String))"
   ]
  },
  {
   "cell_type": "code",
   "execution_count": 46,
   "metadata": {},
   "outputs": [
    {
     "ename": "TypeError",
     "evalue": "tokens: expected a list of strings, got a string",
     "output_type": "error",
     "traceback": [
      "\u001b[0;31m---------------------------------------------------------------------------\u001b[0m",
      "\u001b[0;31mTypeError\u001b[0m                                 Traceback (most recent call last)",
      "Cell \u001b[0;32mIn[46], line 12\u001b[0m\n\u001b[1;32m      9\u001b[0m lemmatizer \u001b[38;5;241m=\u001b[39m WordNetLemmatizer()\n\u001b[1;32m     11\u001b[0m tokens \u001b[38;5;241m=\u001b[39m casual_tokenize(\u001b[38;5;124m\"\u001b[39m\u001b[38;5;124mThey\u001b[39m\u001b[38;5;124m'\u001b[39m\u001b[38;5;124mre going to the mall\u001b[39m\u001b[38;5;124m\"\u001b[39m)\n\u001b[0;32m---> 12\u001b[0m tags \u001b[38;5;241m=\u001b[39m \u001b[43mpos_tag\u001b[49m\u001b[43m(\u001b[49m\u001b[43mtokens\u001b[49m\u001b[43m)\u001b[49m\n\u001b[1;32m     14\u001b[0m \u001b[38;5;28;01mdef\u001b[39;00m \u001b[38;5;21mtreebank_tag_to_wordnet_tag\u001b[39m(tag: \u001b[38;5;28mstr\u001b[39m):\n\u001b[1;32m     15\u001b[0m     \u001b[38;5;28;01mif\u001b[39;00m tag\u001b[38;5;241m.\u001b[39mstartswith(\u001b[38;5;124m'\u001b[39m\u001b[38;5;124mJ\u001b[39m\u001b[38;5;124m'\u001b[39m):\n",
      "File \u001b[0;32m~/.virtualenvs/datasci/lib/python3.11/site-packages/nltk/tag/__init__.py:169\u001b[0m, in \u001b[0;36mpos_tag\u001b[0;34m(tokens, tagset, lang)\u001b[0m\n\u001b[1;32m    144\u001b[0m \u001b[38;5;250m\u001b[39m\u001b[38;5;124;03m\"\"\"\u001b[39;00m\n\u001b[1;32m    145\u001b[0m \u001b[38;5;124;03mUse NLTK's currently recommended part of speech tagger to\u001b[39;00m\n\u001b[1;32m    146\u001b[0m \u001b[38;5;124;03mtag the given list of tokens.\u001b[39;00m\n\u001b[0;32m   (...)\u001b[0m\n\u001b[1;32m    166\u001b[0m \u001b[38;5;124;03m:rtype: list(tuple(str, str))\u001b[39;00m\n\u001b[1;32m    167\u001b[0m \u001b[38;5;124;03m\"\"\"\u001b[39;00m\n\u001b[1;32m    168\u001b[0m tagger \u001b[38;5;241m=\u001b[39m _get_tagger(lang)\n\u001b[0;32m--> 169\u001b[0m \u001b[38;5;28;01mreturn\u001b[39;00m \u001b[43m_pos_tag\u001b[49m\u001b[43m(\u001b[49m\u001b[43mtokens\u001b[49m\u001b[43m,\u001b[49m\u001b[43m \u001b[49m\u001b[43mtagset\u001b[49m\u001b[43m,\u001b[49m\u001b[43m \u001b[49m\u001b[43mtagger\u001b[49m\u001b[43m,\u001b[49m\u001b[43m \u001b[49m\u001b[43mlang\u001b[49m\u001b[43m)\u001b[49m\n",
      "File \u001b[0;32m~/.virtualenvs/datasci/lib/python3.11/site-packages/nltk/tag/__init__.py:123\u001b[0m, in \u001b[0;36m_pos_tag\u001b[0;34m(tokens, tagset, tagger, lang)\u001b[0m\n\u001b[1;32m    121\u001b[0m \u001b[38;5;66;03m# Throws Error if tokens is of string type\u001b[39;00m\n\u001b[1;32m    122\u001b[0m \u001b[38;5;28;01melif\u001b[39;00m \u001b[38;5;28misinstance\u001b[39m(tokens, \u001b[38;5;28mstr\u001b[39m):\n\u001b[0;32m--> 123\u001b[0m     \u001b[38;5;28;01mraise\u001b[39;00m \u001b[38;5;167;01mTypeError\u001b[39;00m(\u001b[38;5;124m\"\u001b[39m\u001b[38;5;124mtokens: expected a list of strings, got a string\u001b[39m\u001b[38;5;124m\"\u001b[39m)\n\u001b[1;32m    125\u001b[0m \u001b[38;5;28;01melse\u001b[39;00m:\n\u001b[1;32m    126\u001b[0m     tagged_tokens \u001b[38;5;241m=\u001b[39m tagger\u001b[38;5;241m.\u001b[39mtag(tokens)\n",
      "\u001b[0;31mTypeError\u001b[0m: tokens: expected a list of strings, got a string"
     ]
    }
   ],
   "source": [
    "from nltk.corpus import wordnet\n",
    "from nltk.stem import WordNetLemmatizer\n",
    "from nltk import pos_tag\n",
    "\n",
    "# Uncomment this the first time you run this code block\n",
    "# nltk.download(\"wordnet\")\n",
    "# nltk.download('averaged_perceptron_tagger_eng')\n",
    "\n",
    "lemmatizer = WordNetLemmatizer()\n",
    "\n",
    "tokens = casual_tokenize(\"They're going to the mall\")\n",
    "tags = pos_tag(tokens)\n",
    "\n",
    "def treebank_tag_to_wordnet_tag(tag: str):\n",
    "    if tag.startswith('J'):\n",
    "        return wordnet.ADJ\n",
    "    elif tag.startswith('V'):\n",
    "        return wordnet.VERB\n",
    "    elif tag.startswith('N'):\n",
    "        return wordnet.NOUN\n",
    "    elif tag.startswith('R'):\n",
    "        return wordnet.ADV\n",
    "    else:\n",
    "        return wordnet.NOUN\n",
    "\n",
    "# TODO this doesn't handle contractions, use spaCy instead\n",
    "[lemmatizer.lemmatize(word, treebank_tag_to_wordnet_tag(tag)) for word, tag in tags]"
   ]
  },
  {
   "cell_type": "markdown",
   "metadata": {},
   "source": [
    "# N-grams"
   ]
  },
  {
   "cell_type": "code",
   "execution_count": null,
   "metadata": {},
   "outputs": [
    {
     "ename": "ColumnNotFoundError",
     "evalue": "\"casual_tokenized\" not found",
     "output_type": "error",
     "traceback": [
      "\u001b[0;31m---------------------------------------------------------------------------\u001b[0m",
      "\u001b[0;31mColumnNotFoundError\u001b[0m                       Traceback (most recent call last)",
      "\u001b[0;32m/tmp/ipykernel_21299/3516116070.py\u001b[0m in \u001b[0;36m?\u001b[0;34m()\u001b[0m\n\u001b[1;32m      1\u001b[0m \u001b[0;32mimport\u001b[0m \u001b[0mitertools\u001b[0m\u001b[0;34m\u001b[0m\u001b[0;34m\u001b[0m\u001b[0m\n\u001b[1;32m      2\u001b[0m \u001b[0;32mimport\u001b[0m \u001b[0mnltk\u001b[0m\u001b[0;34m\u001b[0m\u001b[0;34m\u001b[0m\u001b[0m\n\u001b[1;32m      3\u001b[0m \u001b[0;34m\u001b[0m\u001b[0m\n\u001b[0;32m----> 4\u001b[0;31m \u001b[0mbigrams\u001b[0m \u001b[0;34m=\u001b[0m \u001b[0mitertools\u001b[0m\u001b[0;34m.\u001b[0m\u001b[0mchain\u001b[0m\u001b[0;34m.\u001b[0m\u001b[0mfrom_iterable\u001b[0m\u001b[0;34m(\u001b[0m\u001b[0msample_df\u001b[0m\u001b[0;34m[\u001b[0m\u001b[0;34m\"casual_tokenized\"\u001b[0m\u001b[0;34m]\u001b[0m\u001b[0;34m.\u001b[0m\u001b[0mmap\u001b[0m\u001b[0;34m(\u001b[0m\u001b[0mnltk\u001b[0m\u001b[0;34m.\u001b[0m\u001b[0mbigrams\u001b[0m\u001b[0;34m)\u001b[0m\u001b[0;34m)\u001b[0m\u001b[0;34m\u001b[0m\u001b[0;34m\u001b[0m\u001b[0m\n\u001b[0m\u001b[1;32m      5\u001b[0m \u001b[0mtrigrams\u001b[0m \u001b[0;34m=\u001b[0m \u001b[0mitertools\u001b[0m\u001b[0;34m.\u001b[0m\u001b[0mchain\u001b[0m\u001b[0;34m.\u001b[0m\u001b[0mfrom_iterable\u001b[0m\u001b[0;34m(\u001b[0m\u001b[0msample_df\u001b[0m\u001b[0;34m[\u001b[0m\u001b[0;34m\"casual_tokenized\"\u001b[0m\u001b[0;34m]\u001b[0m\u001b[0;34m.\u001b[0m\u001b[0mmap\u001b[0m\u001b[0;34m(\u001b[0m\u001b[0mnltk\u001b[0m\u001b[0;34m.\u001b[0m\u001b[0mtrigrams\u001b[0m\u001b[0;34m)\u001b[0m\u001b[0;34m)\u001b[0m\u001b[0;34m\u001b[0m\u001b[0;34m\u001b[0m\u001b[0m\n\u001b[1;32m      6\u001b[0m \u001b[0mfdist\u001b[0m \u001b[0;34m=\u001b[0m \u001b[0mnltk\u001b[0m\u001b[0;34m.\u001b[0m\u001b[0mFreqDist\u001b[0m\u001b[0;34m(\u001b[0m\u001b[0mitertools\u001b[0m\u001b[0;34m.\u001b[0m\u001b[0mchain\u001b[0m\u001b[0;34m(\u001b[0m\u001b[0mbigrams\u001b[0m\u001b[0;34m,\u001b[0m \u001b[0mtrigrams\u001b[0m\u001b[0;34m)\u001b[0m\u001b[0;34m)\u001b[0m\u001b[0;34m\u001b[0m\u001b[0;34m\u001b[0m\u001b[0m\n\u001b[1;32m      7\u001b[0m ngram_df = pd.DataFrame(\n",
      "\u001b[0;32m~/.virtualenvs/datasci/lib/python3.11/site-packages/polars/dataframe/frame.py\u001b[0m in \u001b[0;36m?\u001b[0;34m(self, key)\u001b[0m\n\u001b[1;32m   1350\u001b[0m         \u001b[0;31m│\u001b[0m \u001b[0;36m2\u001b[0m\u001b[0;31m \u001b[0m\u001b[0;31m \u001b[0m\u001b[0;31m \u001b[0m\u001b[0;31m┆\u001b[0m \u001b[0;36m5\u001b[0m\u001b[0;31m \u001b[0m\u001b[0;31m \u001b[0m\u001b[0;31m \u001b[0m\u001b[0;31m┆\u001b[0m \u001b[0;36m3\u001b[0m\u001b[0;31m \u001b[0m\u001b[0;31m \u001b[0m\u001b[0;31m \u001b[0m\u001b[0;31m│\u001b[0m\u001b[0;34m\u001b[0m\u001b[0;34m\u001b[0m\u001b[0m\n\u001b[1;32m   1351\u001b[0m         \u001b[0;31m│\u001b[0m \u001b[0;36m3\u001b[0m\u001b[0;31m \u001b[0m\u001b[0;31m \u001b[0m\u001b[0;31m \u001b[0m\u001b[0;31m┆\u001b[0m \u001b[0;36m6\u001b[0m\u001b[0;31m \u001b[0m\u001b[0;31m \u001b[0m\u001b[0;31m \u001b[0m\u001b[0;31m┆\u001b[0m \u001b[0;36m2\u001b[0m\u001b[0;31m \u001b[0m\u001b[0;31m \u001b[0m\u001b[0;31m \u001b[0m\u001b[0;31m│\u001b[0m\u001b[0;34m\u001b[0m\u001b[0;34m\u001b[0m\u001b[0m\n\u001b[1;32m   1352\u001b[0m         \u001b[0;31m└\u001b[0m\u001b[0;31m─\u001b[0m\u001b[0;31m─\u001b[0m\u001b[0;31m─\u001b[0m\u001b[0;31m─\u001b[0m\u001b[0;31m─\u001b[0m\u001b[0;31m┴\u001b[0m\u001b[0;31m─\u001b[0m\u001b[0;31m─\u001b[0m\u001b[0;31m─\u001b[0m\u001b[0;31m─\u001b[0m\u001b[0;31m─\u001b[0m\u001b[0;31m┴\u001b[0m\u001b[0;31m─\u001b[0m\u001b[0;31m─\u001b[0m\u001b[0;31m─\u001b[0m\u001b[0;31m─\u001b[0m\u001b[0;31m─\u001b[0m\u001b[0;31m┘\u001b[0m\u001b[0;34m\u001b[0m\u001b[0;34m\u001b[0m\u001b[0m\n\u001b[1;32m   1353\u001b[0m         \"\"\"\n\u001b[0;32m-> 1354\u001b[0;31m         \u001b[0;32mreturn\u001b[0m \u001b[0mget_df_item_by_key\u001b[0m\u001b[0;34m(\u001b[0m\u001b[0mself\u001b[0m\u001b[0;34m,\u001b[0m \u001b[0mkey\u001b[0m\u001b[0;34m)\u001b[0m\u001b[0;34m\u001b[0m\u001b[0;34m\u001b[0m\u001b[0m\n\u001b[0m",
      "\u001b[0;32m~/.virtualenvs/datasci/lib/python3.11/site-packages/polars/_utils/getitem.py\u001b[0m in \u001b[0;36m?\u001b[0;34m(df, key)\u001b[0m\n\u001b[1;32m    159\u001b[0m     \u001b[0;31m# Single string input, e.g. df[\"a\"]\u001b[0m\u001b[0;34m\u001b[0m\u001b[0;34m\u001b[0m\u001b[0m\n\u001b[1;32m    160\u001b[0m     \u001b[0;32mif\u001b[0m \u001b[0misinstance\u001b[0m\u001b[0;34m(\u001b[0m\u001b[0mkey\u001b[0m\u001b[0;34m,\u001b[0m \u001b[0mstr\u001b[0m\u001b[0;34m)\u001b[0m\u001b[0;34m:\u001b[0m\u001b[0;34m\u001b[0m\u001b[0;34m\u001b[0m\u001b[0m\n\u001b[1;32m    161\u001b[0m         \u001b[0;31m# This case is required because empty strings are otherwise treated\u001b[0m\u001b[0;34m\u001b[0m\u001b[0;34m\u001b[0m\u001b[0m\n\u001b[1;32m    162\u001b[0m         \u001b[0;31m# as an empty Sequence in `_select_rows`\u001b[0m\u001b[0;34m\u001b[0m\u001b[0;34m\u001b[0m\u001b[0m\n\u001b[0;32m--> 163\u001b[0;31m         \u001b[0;32mreturn\u001b[0m \u001b[0mdf\u001b[0m\u001b[0;34m.\u001b[0m\u001b[0mget_column\u001b[0m\u001b[0;34m(\u001b[0m\u001b[0mkey\u001b[0m\u001b[0;34m)\u001b[0m\u001b[0;34m\u001b[0m\u001b[0;34m\u001b[0m\u001b[0m\n\u001b[0m\u001b[1;32m    164\u001b[0m \u001b[0;34m\u001b[0m\u001b[0m\n\u001b[1;32m    165\u001b[0m     \u001b[0;31m# Single input - df[1] - or multiple inputs - df[\"a\", \"b\", \"c\"]\u001b[0m\u001b[0;34m\u001b[0m\u001b[0;34m\u001b[0m\u001b[0m\n\u001b[1;32m    166\u001b[0m     \u001b[0;32mtry\u001b[0m\u001b[0;34m:\u001b[0m\u001b[0;34m\u001b[0m\u001b[0;34m\u001b[0m\u001b[0m\n",
      "\u001b[0;32m~/.virtualenvs/datasci/lib/python3.11/site-packages/polars/dataframe/frame.py\u001b[0m in \u001b[0;36m?\u001b[0;34m(self, name, default)\u001b[0m\n\u001b[1;32m   7915\u001b[0m         \u001b[0;32mtry\u001b[0m\u001b[0;34m:\u001b[0m\u001b[0;34m\u001b[0m\u001b[0;34m\u001b[0m\u001b[0m\n\u001b[1;32m   7916\u001b[0m             \u001b[0;32mreturn\u001b[0m \u001b[0mwrap_s\u001b[0m\u001b[0;34m(\u001b[0m\u001b[0mself\u001b[0m\u001b[0;34m.\u001b[0m\u001b[0m_df\u001b[0m\u001b[0;34m.\u001b[0m\u001b[0mget_column\u001b[0m\u001b[0;34m(\u001b[0m\u001b[0mname\u001b[0m\u001b[0;34m)\u001b[0m\u001b[0;34m)\u001b[0m\u001b[0;34m\u001b[0m\u001b[0;34m\u001b[0m\u001b[0m\n\u001b[1;32m   7917\u001b[0m         \u001b[0;32mexcept\u001b[0m \u001b[0mColumnNotFoundError\u001b[0m\u001b[0;34m:\u001b[0m\u001b[0;34m\u001b[0m\u001b[0;34m\u001b[0m\u001b[0m\n\u001b[1;32m   7918\u001b[0m             \u001b[0;32mif\u001b[0m \u001b[0mdefault\u001b[0m \u001b[0;32mis\u001b[0m \u001b[0mno_default\u001b[0m\u001b[0;34m:\u001b[0m\u001b[0;34m\u001b[0m\u001b[0;34m\u001b[0m\u001b[0m\n\u001b[0;32m-> 7919\u001b[0;31m                 \u001b[0;32mraise\u001b[0m\u001b[0;34m\u001b[0m\u001b[0;34m\u001b[0m\u001b[0m\n\u001b[0m\u001b[1;32m   7920\u001b[0m             \u001b[0;32mreturn\u001b[0m \u001b[0mdefault\u001b[0m\u001b[0;34m\u001b[0m\u001b[0;34m\u001b[0m\u001b[0m\n",
      "\u001b[0;31mColumnNotFoundError\u001b[0m: \"casual_tokenized\" not found"
     ]
    }
   ],
   "source": [
    "import itertools\n",
    "import nltk\n",
    "\n",
    "bigrams = itertools.chain.from_iterable(sample_df[\"casual_tokenized\"].map(nltk.bigrams))\n",
    "trigrams = itertools.chain.from_iterable(sample_df[\"casual_tokenized\"].map(nltk.trigrams))\n",
    "fdist = nltk.FreqDist(itertools.chain(bigrams, trigrams))\n",
    "ngram_df = pd.DataFrame(\n",
    "    [\n",
    "        [ngram, fdist[ngram]]\n",
    "        for ngram in fdist\n",
    "        if all(isinstance(tok, str) for tok in ngram)\n",
    "    ],\n",
    "    columns=[\"ngram\", \"freq\"],\n",
    ")\n",
    "ngram_df"
   ]
  },
  {
   "cell_type": "code",
   "execution_count": 43,
   "metadata": {},
   "outputs": [
    {
     "data": {
      "text/html": [
       "<div>\n",
       "<style scoped>\n",
       "    .dataframe tbody tr th:only-of-type {\n",
       "        vertical-align: middle;\n",
       "    }\n",
       "\n",
       "    .dataframe tbody tr th {\n",
       "        vertical-align: top;\n",
       "    }\n",
       "\n",
       "    .dataframe thead th {\n",
       "        text-align: right;\n",
       "    }\n",
       "</style>\n",
       "<table border=\"1\" class=\"dataframe\">\n",
       "  <thead>\n",
       "    <tr style=\"text-align: right;\">\n",
       "      <th></th>\n",
       "      <th>ngram</th>\n",
       "      <th>freq</th>\n",
       "    </tr>\n",
       "  </thead>\n",
       "  <tbody>\n",
       "    <tr>\n",
       "      <th>12388</th>\n",
       "      <td>(the, abuse)</td>\n",
       "      <td>2</td>\n",
       "    </tr>\n",
       "    <tr>\n",
       "      <th>12389</th>\n",
       "      <td>(abuse, of)</td>\n",
       "      <td>2</td>\n",
       "    </tr>\n",
       "    <tr>\n",
       "      <th>15304</th>\n",
       "      <td>(an, abusive)</td>\n",
       "      <td>2</td>\n",
       "    </tr>\n",
       "    <tr>\n",
       "      <th>18770</th>\n",
       "      <td>(violence, the, abuse)</td>\n",
       "      <td>2</td>\n",
       "    </tr>\n",
       "    <tr>\n",
       "      <th>18771</th>\n",
       "      <td>(the, abuse, of)</td>\n",
       "      <td>2</td>\n",
       "    </tr>\n",
       "  </tbody>\n",
       "</table>\n",
       "</div>"
      ],
      "text/plain": [
       "                        ngram  freq\n",
       "12388            (the, abuse)     2\n",
       "12389             (abuse, of)     2\n",
       "15304           (an, abusive)     2\n",
       "18770  (violence, the, abuse)     2\n",
       "18771        (the, abuse, of)     2"
      ]
     },
     "execution_count": 43,
     "metadata": {},
     "output_type": "execute_result"
    }
   ],
   "source": [
    "def relevant_ngram(ngram, keywords=keywords):\n",
    "    for token in ngram:\n",
    "        for kw in keywords:\n",
    "            try:\n",
    "                if kw in token:\n",
    "                    return True\n",
    "            except TypeError as e:\n",
    "                print(kw, ngram)\n",
    "                raise e\n",
    "    return False\n",
    "\n",
    "\n",
    "ngram_df[ngram_df[\"ngram\"].map(lambda ngram: relevant_ngram(ngram, keywords=[\"anx\", \"abus\"]))].head()"
   ]
  },
  {
   "cell_type": "markdown",
   "metadata": {},
   "source": [
    "# Contextual embeddings"
   ]
  },
  {
   "cell_type": "code",
   "execution_count": 38,
   "metadata": {},
   "outputs": [
    {
     "name": "stdout",
     "output_type": "stream",
     "text": [
      "Requirement already satisfied: transformers in /home/ysthakur/.virtualenvs/datasci/lib/python3.11/site-packages (4.46.2)\n",
      "Requirement already satisfied: filelock in /home/ysthakur/.virtualenvs/datasci/lib/python3.11/site-packages (from transformers) (3.16.1)\n",
      "Requirement already satisfied: huggingface-hub<1.0,>=0.23.2 in /home/ysthakur/.virtualenvs/datasci/lib/python3.11/site-packages (from transformers) (0.26.2)\n",
      "Requirement already satisfied: numpy>=1.17 in /home/ysthakur/.virtualenvs/datasci/lib/python3.11/site-packages (from transformers) (2.0.2)\n",
      "Requirement already satisfied: packaging>=20.0 in /home/ysthakur/.virtualenvs/datasci/lib/python3.11/site-packages (from transformers) (24.1)\n",
      "Requirement already satisfied: pyyaml>=5.1 in /home/ysthakur/.virtualenvs/datasci/lib/python3.11/site-packages (from transformers) (6.0.1)\n",
      "Requirement already satisfied: regex!=2019.12.17 in /home/ysthakur/.virtualenvs/datasci/lib/python3.11/site-packages (from transformers) (2024.9.11)\n",
      "Requirement already satisfied: requests in /home/ysthakur/.virtualenvs/datasci/lib/python3.11/site-packages (from transformers) (2.31.0)\n",
      "Requirement already satisfied: safetensors>=0.4.1 in /home/ysthakur/.virtualenvs/datasci/lib/python3.11/site-packages (from transformers) (0.4.5)\n",
      "Requirement already satisfied: tokenizers<0.21,>=0.20 in /home/ysthakur/.virtualenvs/datasci/lib/python3.11/site-packages (from transformers) (0.20.3)\n",
      "Requirement already satisfied: tqdm>=4.27 in /home/ysthakur/.virtualenvs/datasci/lib/python3.11/site-packages (from transformers) (4.66.5)\n",
      "Requirement already satisfied: fsspec>=2023.5.0 in /home/ysthakur/.virtualenvs/datasci/lib/python3.11/site-packages (from huggingface-hub<1.0,>=0.23.2->transformers) (2024.10.0)\n",
      "Requirement already satisfied: typing-extensions>=3.7.4.3 in /home/ysthakur/.virtualenvs/datasci/lib/python3.11/site-packages (from huggingface-hub<1.0,>=0.23.2->transformers) (4.12.2)\n",
      "Requirement already satisfied: charset-normalizer<4,>=2 in /home/ysthakur/.virtualenvs/datasci/lib/python3.11/site-packages (from requests->transformers) (3.3.2)\n",
      "Requirement already satisfied: idna<4,>=2.5 in /home/ysthakur/.virtualenvs/datasci/lib/python3.11/site-packages (from requests->transformers) (3.7)\n",
      "Requirement already satisfied: urllib3<3,>=1.21.1 in /home/ysthakur/.virtualenvs/datasci/lib/python3.11/site-packages (from requests->transformers) (2.2.1)\n",
      "Requirement already satisfied: certifi>=2017.4.17 in /home/ysthakur/.virtualenvs/datasci/lib/python3.11/site-packages (from requests->transformers) (2024.2.2)\n"
     ]
    }
   ],
   "source": [
    "!pip install transformers"
   ]
  },
  {
   "cell_type": "code",
   "execution_count": 19,
   "metadata": {},
   "outputs": [
    {
     "name": "stderr",
     "output_type": "stream",
     "text": [
      "/usr/lib/python3.11/pty.py:89: RuntimeWarning: Using fork() can cause Polars to deadlock in the child process.\n",
      "In addition, using fork() with Python in general is a recipe for mysterious\n",
      "deadlocks and crashes.\n",
      "\n",
      "The most likely reason you are seeing this error is because you are using the\n",
      "multiprocessing module on Linux, which uses fork() by default. This will be\n",
      "fixed in Python 3.14. Until then, you want to use the \"spawn\" context instead.\n",
      "\n",
      "See https://docs.pola.rs/user-guide/misc/multiprocessing/ for details.\n",
      "\n",
      "  pid, fd = os.forkpty()\n"
     ]
    },
    {
     "name": "stdout",
     "output_type": "stream",
     "text": [
      "Looking in indexes: https://download.pytorch.org/whl/cu118\n",
      "Requirement already satisfied: torch in /home/ysthakur/.virtualenvs/datasci/lib/python3.11/site-packages (2.5.1+cu118)\n",
      "Requirement already satisfied: torchvision in /home/ysthakur/.virtualenvs/datasci/lib/python3.11/site-packages (0.20.1+cu118)\n",
      "Requirement already satisfied: torchaudio in /home/ysthakur/.virtualenvs/datasci/lib/python3.11/site-packages (2.5.1+cu118)\n",
      "Requirement already satisfied: filelock in /home/ysthakur/.virtualenvs/datasci/lib/python3.11/site-packages (from torch) (3.16.1)\n",
      "Requirement already satisfied: typing-extensions>=4.8.0 in /home/ysthakur/.virtualenvs/datasci/lib/python3.11/site-packages (from torch) (4.12.2)\n",
      "Requirement already satisfied: networkx in /home/ysthakur/.virtualenvs/datasci/lib/python3.11/site-packages (from torch) (3.2.1)\n",
      "Requirement already satisfied: jinja2 in /home/ysthakur/.virtualenvs/datasci/lib/python3.11/site-packages (from torch) (3.1.4)\n",
      "Requirement already satisfied: fsspec in /home/ysthakur/.virtualenvs/datasci/lib/python3.11/site-packages (from torch) (2024.10.0)\n",
      "Requirement already satisfied: nvidia-cuda-nvrtc-cu11==11.8.89 in /home/ysthakur/.virtualenvs/datasci/lib/python3.11/site-packages (from torch) (11.8.89)\n",
      "Requirement already satisfied: nvidia-cuda-runtime-cu11==11.8.89 in /home/ysthakur/.virtualenvs/datasci/lib/python3.11/site-packages (from torch) (11.8.89)\n",
      "Requirement already satisfied: nvidia-cuda-cupti-cu11==11.8.87 in /home/ysthakur/.virtualenvs/datasci/lib/python3.11/site-packages (from torch) (11.8.87)\n",
      "Requirement already satisfied: nvidia-cudnn-cu11==9.1.0.70 in /home/ysthakur/.virtualenvs/datasci/lib/python3.11/site-packages (from torch) (9.1.0.70)\n",
      "Requirement already satisfied: nvidia-cublas-cu11==11.11.3.6 in /home/ysthakur/.virtualenvs/datasci/lib/python3.11/site-packages (from torch) (11.11.3.6)\n",
      "Requirement already satisfied: nvidia-cufft-cu11==10.9.0.58 in /home/ysthakur/.virtualenvs/datasci/lib/python3.11/site-packages (from torch) (10.9.0.58)\n",
      "Requirement already satisfied: nvidia-curand-cu11==10.3.0.86 in /home/ysthakur/.virtualenvs/datasci/lib/python3.11/site-packages (from torch) (10.3.0.86)\n",
      "Requirement already satisfied: nvidia-cusolver-cu11==11.4.1.48 in /home/ysthakur/.virtualenvs/datasci/lib/python3.11/site-packages (from torch) (11.4.1.48)\n",
      "Requirement already satisfied: nvidia-cusparse-cu11==11.7.5.86 in /home/ysthakur/.virtualenvs/datasci/lib/python3.11/site-packages (from torch) (11.7.5.86)\n",
      "Requirement already satisfied: nvidia-nccl-cu11==2.21.5 in /home/ysthakur/.virtualenvs/datasci/lib/python3.11/site-packages (from torch) (2.21.5)\n",
      "Requirement already satisfied: nvidia-nvtx-cu11==11.8.86 in /home/ysthakur/.virtualenvs/datasci/lib/python3.11/site-packages (from torch) (11.8.86)\n",
      "Requirement already satisfied: triton==3.1.0 in /home/ysthakur/.virtualenvs/datasci/lib/python3.11/site-packages (from torch) (3.1.0)\n",
      "Requirement already satisfied: sympy==1.13.1 in /home/ysthakur/.virtualenvs/datasci/lib/python3.11/site-packages (from torch) (1.13.1)\n",
      "Requirement already satisfied: mpmath<1.4,>=1.1.0 in /home/ysthakur/.virtualenvs/datasci/lib/python3.11/site-packages (from sympy==1.13.1->torch) (1.3.0)\n",
      "Requirement already satisfied: numpy in /home/ysthakur/.virtualenvs/datasci/lib/python3.11/site-packages (from torchvision) (2.0.2)\n",
      "Requirement already satisfied: pillow!=8.3.*,>=5.3.0 in /home/ysthakur/.virtualenvs/datasci/lib/python3.11/site-packages (from torchvision) (10.3.0)\n",
      "Requirement already satisfied: MarkupSafe>=2.0 in /home/ysthakur/.virtualenvs/datasci/lib/python3.11/site-packages (from jinja2->torch) (2.1.5)\n"
     ]
    }
   ],
   "source": [
    "!pip3 install torch torchvision torchaudio --index-url https://download.pytorch.org/whl/cu118"
   ]
  },
  {
   "cell_type": "code",
   "execution_count": 48,
   "metadata": {},
   "outputs": [
    {
     "name": "stderr",
     "output_type": "stream",
     "text": [
      "/home/ysthakur/.virtualenvs/datasci/lib/python3.11/site-packages/tqdm/auto.py:21: TqdmWarning: IProgress not found. Please update jupyter and ipywidgets. See https://ipywidgets.readthedocs.io/en/stable/user_install.html\n",
      "  from .autonotebook import tqdm as notebook_tqdm\n"
     ]
    }
   ],
   "source": [
    "import torch\n",
    "from transformers import BertModel, BertTokenizer\n",
    "\n",
    "# From https://medium.com/@r3d_robot/getting-contextualized-word-embeddings-with-bert-20798d8b43a4\n",
    "model = BertModel.from_pretrained(\n",
    "    \"bert-base-uncased\",\n",
    "    output_hidden_states=True,\n",
    ")\n",
    "tokenizer = BertTokenizer.from_pretrained(\"bert-base-uncased\")\n",
    "\n",
    "\n",
    "def bert_text_preparation(text, tokenizer):\n",
    "    \"\"\"\n",
    "    Preprocesses text input in a way that BERT can interpret.\n",
    "    \"\"\"\n",
    "    marked_text = \"[CLS] \" + text + \" [SEP]\"\n",
    "    tokenized_text = tokenizer.tokenize(marked_text)\n",
    "    indexed_tokens = tokenizer.convert_tokens_to_ids(tokenized_text)\n",
    "    segments_ids = [1] * len(indexed_tokens)  # convert inputs to tensors\n",
    "    tokens_tensor = torch.tensor([indexed_tokens])\n",
    "    segments_tensor = torch.tensor([segments_ids])\n",
    "    return tokenized_text, tokens_tensor, segments_tensor\n",
    "\n",
    "\n",
    "def get_bert_embeddings(tokens_tensor, segments_tensor):\n",
    "    \"\"\"\n",
    "    Obtains BERT embeddings for tokens.\n",
    "    \"\"\"\n",
    "    # gradient calculation id disabled\n",
    "    with torch.no_grad():\n",
    "        # obtain hidden states\n",
    "        outputs = model(tokens_tensor, segments_tensor)\n",
    "        hidden_states = outputs[2]  # concatenate the tensors for all layers\n",
    "    # use \"stack\" to create new dimension in tensor\n",
    "    token_embeddings = torch.stack(hidden_states, dim=0)\n",
    "    # remove dimension 1, the \"batches\"\n",
    "    token_embeddings = torch.squeeze(token_embeddings, dim=1)\n",
    "    # swap dimensions 0 and 1 so we can loop over tokens\n",
    "    token_embeddings = token_embeddings.permute(1, 0, 2)\n",
    "    # intialized list to store embeddings\n",
    "    token_vecs_sum = []  # \"token_embeddings\" is a [Y x 12 x 768] tensor\n",
    "    # where Y is the number of tokens in the sentence    # loop over tokens in sentence\n",
    "    for token in token_embeddings:  # \"token\" is a [12 x 768] tensor\n",
    "        # sum the vectors from the last four layers\n",
    "        sum_vec = torch.sum(token[-4:], dim=0)\n",
    "        token_vecs_sum.append(sum_vec)\n",
    "    return token_vecs_sum"
   ]
  },
  {
   "cell_type": "code",
   "execution_count": 49,
   "metadata": {},
   "outputs": [],
   "source": [
    "sentences = [\n",
    "    \"bank\",\n",
    "    \"he eventually sold the shares back to the bank at a premium.\",\n",
    "    \"the bank strongly resisted cutting interest rates.\",\n",
    "    \"the bank will supply and buy back foreign currency.\",\n",
    "    \"the bank is pressing us for repayment of the loan.\",\n",
    "    \"the bank left its lending rates unchanged.\",\n",
    "    \"the river flowed over the bank.\",\n",
    "    \"tall, luxuriant plants grew along the river bank.\",\n",
    "    \"his soldiers were arrayed along the river bank.\",\n",
    "    \"wild flowers adorned the river bank.\",\n",
    "    \"two fox cubs romped playfully on the river bank.\",\n",
    "    \"the jewels were kept in a bank vault.\",\n",
    "    \"you can stow your jewellery away in the bank.\",\n",
    "    \"most of the money was in storage in bank vaults.\",\n",
    "    \"the diamonds are shut away in a bank vault somewhere.\",\n",
    "    \"thieves broke into the bank vault.\",\n",
    "    \"can I bank on your support?\",\n",
    "    \"you can bank on him to hand you a reasonable bill for your services.\",\n",
    "    \"don't bank on your friends to help you out of trouble.\",\n",
    "    \"you can bank on me when you need money.\",\n",
    "    \"i bank on your help.\",\n",
    "]\n",
    "\n",
    "from collections import OrderedDict\n",
    "\n",
    "context_embeddings = []\n",
    "context_tokens = []\n",
    "context_sentences = []\n",
    "\n",
    "just_trauma = (\n",
    "    pl_df.lazy()\n",
    "    .filter(pl.col(BODY).str.contains(\"trauma\"))\n",
    "    .select(BODY)\n",
    "    .collect()\n",
    "    .to_series()\n",
    ")\n",
    "\n",
    "for sentence in just_trauma:\n",
    "    tokenized_text, tokens_tensor, segments_tensors = bert_text_preparation(\n",
    "        sentence, tokenizer\n",
    "    )\n",
    "    # todo handle long sentences\n",
    "    if tokens_tensor.size(dim=1) > 512:\n",
    "        continue\n",
    "    list_token_embeddings = get_bert_embeddings(tokens_tensor, segments_tensors)\n",
    "    # make ordered dictionary to keep track of the position of each   word\n",
    "    tokens = OrderedDict()\n",
    "    # loop over tokens in sensitive sentence\n",
    "    for token in tokenized_text[1:-1]:\n",
    "        # TODO account for subword tokenization\n",
    "        if token != \"trauma\":\n",
    "            continue\n",
    "        # keep track of position of word and whether it occurs multiple times\n",
    "        if token in tokens:\n",
    "            tokens[token] += 1\n",
    "        else:\n",
    "            tokens[token] = 1  # compute the position of the current token\n",
    "        token_indices = [i for i, t in enumerate(tokenized_text) if t == token]\n",
    "        current_index = token_indices[\n",
    "            tokens[token] - 1\n",
    "        ]  # get the corresponding embedding\n",
    "        token_vec = list_token_embeddings[current_index]\n",
    "\n",
    "        # save values\n",
    "        context_tokens.append(token)\n",
    "        context_embeddings.append(token_vec)\n",
    "        context_sentences.append(sentence)"
   ]
  },
  {
   "cell_type": "code",
   "execution_count": 50,
   "metadata": {},
   "outputs": [],
   "source": [
    "# For visualizing at https://projector.tensorflow.org/\n",
    "\n",
    "import csv\n",
    "\n",
    "with open(\"metadata_output.tsv\", \"w+\") as file_metadata, open(\n",
    "    \"embeddings_small.tsv\", \"w+\"\n",
    ") as tsvfile:\n",
    "    writer = csv.writer(tsvfile, delimiter=\"\\t\")\n",
    "    for token, embedding, sentence in zip(\n",
    "        context_tokens, context_embeddings, context_sentences\n",
    "    ):\n",
    "        if token != \"trauma\":\n",
    "            continue\n",
    "        file_metadata.write(sentence + \"\\n\")\n",
    "        writer.writerow(embedding.numpy())"
   ]
  },
  {
   "cell_type": "code",
   "execution_count": 51,
   "metadata": {},
   "outputs": [
    {
     "name": "stdout",
     "output_type": "stream",
     "text": [
      "Converged after 27 iterations.\n"
     ]
    },
    {
     "data": {
      "text/plain": [
       "44    45\n",
       "9     38\n",
       "22    33\n",
       "10    31\n",
       "4     29\n",
       "21    24\n",
       "35    23\n",
       "18    23\n",
       "31    22\n",
       "37    21\n",
       "17    20\n",
       "29    18\n",
       "7     18\n",
       "6     18\n",
       "26    18\n",
       "28    16\n",
       "15    16\n",
       "32    16\n",
       "23    15\n",
       "40    14\n",
       "8     14\n",
       "49    14\n",
       "38    13\n",
       "41    13\n",
       "27    13\n",
       "34    12\n",
       "16    11\n",
       "46    11\n",
       "11    10\n",
       "20    10\n",
       "3     10\n",
       "1     10\n",
       "45    10\n",
       "2      8\n",
       "13     8\n",
       "5      8\n",
       "25     7\n",
       "39     7\n",
       "30     6\n",
       "0      6\n",
       "47     5\n",
       "19     5\n",
       "48     5\n",
       "24     4\n",
       "14     4\n",
       "42     4\n",
       "12     4\n",
       "33     3\n",
       "43     3\n",
       "36     2\n",
       "Name: count, dtype: int64"
      ]
     },
     "execution_count": 51,
     "metadata": {},
     "output_type": "execute_result"
    }
   ],
   "source": [
    "# Clustering\n",
    "from sklearn.cluster import *\n",
    "\n",
    "trauma_embeddings_with_inds = [\n",
    "    (i, embedding)\n",
    "    for i, embedding in enumerate(context_embeddings)\n",
    "    if context_tokens[i] == \"trauma\"\n",
    "]\n",
    "trauma_embeddings = [embedding for i, embedding in trauma_embeddings_with_inds]\n",
    "\n",
    "# clustering = DBSCAN(eps=0.01, min_samples=2).fit(trauma_embeddings)\n",
    "# clustering = HDBSCAN(min_cluster_size=5).fit(trauma_embeddings)\n",
    "# clustering = OPTICS().fit(trauma_embeddings)\n",
    "# clustering = KMeans().fit(trauma_embeddings)\n",
    "clustering = AffinityPropagation(verbose=True).fit(trauma_embeddings)\n",
    "pd.Series(clustering.labels_).value_counts()"
   ]
  },
  {
   "cell_type": "code",
   "execution_count": 52,
   "metadata": {},
   "outputs": [],
   "source": [
    "# For visualizing at https://projector.tensorflow.org/\n",
    "\n",
    "import csv\n",
    "\n",
    "with open(\"metadata_output.tsv\", \"w+\") as file_metadata, open(\n",
    "    \"embeddings_small.tsv\", \"w+\"\n",
    ") as tsvfile:\n",
    "    file_metadata.write(\"Sentence\\tCluster\\n\")\n",
    "    writer = csv.writer(tsvfile, delimiter=\"\\t\")\n",
    "    for (i, embedding), cluster in zip(trauma_embeddings_with_inds, clustering.labels_):\n",
    "        token = context_tokens[i]\n",
    "        sentence = context_sentences[i]\n",
    "        if token != \"trauma\":\n",
    "            continue\n",
    "        file_metadata.write(f\"{sentence}\\t{cluster}\\n\")\n",
    "        writer.writerow(embedding.numpy())"
   ]
  }
 ],
 "metadata": {
  "kernelspec": {
   "display_name": "datasci",
   "language": "python",
   "name": "python3"
  },
  "language_info": {
   "codemirror_mode": {
    "name": "ipython",
    "version": 3
   },
   "file_extension": ".py",
   "mimetype": "text/x-python",
   "name": "python",
   "nbconvert_exporter": "python",
   "pygments_lexer": "ipython3",
   "version": "3.11.6"
  }
 },
 "nbformat": 4,
 "nbformat_minor": 2
}
