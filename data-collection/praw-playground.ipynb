{
 "cells": [
  {
   "cell_type": "code",
   "execution_count": 1,
   "metadata": {},
   "outputs": [
    {
     "name": "stdout",
     "output_type": "stream",
     "text": [
      "Requirement already satisfied: praw in /home/ysthakur/.virtualenvs/datasci/lib/python3.11/site-packages (7.7.1)\n",
      "Requirement already satisfied: pandas in /home/ysthakur/.virtualenvs/datasci/lib/python3.11/site-packages (2.2.2)\n",
      "Requirement already satisfied: seaborn in /home/ysthakur/.virtualenvs/datasci/lib/python3.11/site-packages (0.13.2)\n",
      "Requirement already satisfied: scipy in /home/ysthakur/.virtualenvs/datasci/lib/python3.11/site-packages (1.14.0)\n",
      "Requirement already satisfied: prawcore<3,>=2.1 in /home/ysthakur/.virtualenvs/datasci/lib/python3.11/site-packages (from praw) (2.4.0)\n",
      "Requirement already satisfied: update-checker>=0.18 in /home/ysthakur/.virtualenvs/datasci/lib/python3.11/site-packages (from praw) (0.18.0)\n",
      "Requirement already satisfied: websocket-client>=0.54.0 in /home/ysthakur/.virtualenvs/datasci/lib/python3.11/site-packages (from praw) (1.8.0)\n",
      "Requirement already satisfied: numpy>=1.23.2 in /home/ysthakur/.virtualenvs/datasci/lib/python3.11/site-packages (from pandas) (1.26.4)\n",
      "Requirement already satisfied: python-dateutil>=2.8.2 in /home/ysthakur/.virtualenvs/datasci/lib/python3.11/site-packages (from pandas) (2.9.0.post0)\n",
      "Requirement already satisfied: pytz>=2020.1 in /home/ysthakur/.virtualenvs/datasci/lib/python3.11/site-packages (from pandas) (2024.1)\n",
      "Requirement already satisfied: tzdata>=2022.7 in /home/ysthakur/.virtualenvs/datasci/lib/python3.11/site-packages (from pandas) (2024.1)\n",
      "Requirement already satisfied: matplotlib!=3.6.1,>=3.4 in /home/ysthakur/.virtualenvs/datasci/lib/python3.11/site-packages (from seaborn) (3.9.1)\n",
      "Requirement already satisfied: contourpy>=1.0.1 in /home/ysthakur/.virtualenvs/datasci/lib/python3.11/site-packages (from matplotlib!=3.6.1,>=3.4->seaborn) (1.2.1)\n",
      "Requirement already satisfied: cycler>=0.10 in /home/ysthakur/.virtualenvs/datasci/lib/python3.11/site-packages (from matplotlib!=3.6.1,>=3.4->seaborn) (0.12.1)\n",
      "Requirement already satisfied: fonttools>=4.22.0 in /home/ysthakur/.virtualenvs/datasci/lib/python3.11/site-packages (from matplotlib!=3.6.1,>=3.4->seaborn) (4.53.1)\n",
      "Requirement already satisfied: kiwisolver>=1.3.1 in /home/ysthakur/.virtualenvs/datasci/lib/python3.11/site-packages (from matplotlib!=3.6.1,>=3.4->seaborn) (1.4.5)\n",
      "Requirement already satisfied: packaging>=20.0 in /home/ysthakur/.virtualenvs/datasci/lib/python3.11/site-packages (from matplotlib!=3.6.1,>=3.4->seaborn) (24.1)\n",
      "Requirement already satisfied: pillow>=8 in /home/ysthakur/.virtualenvs/datasci/lib/python3.11/site-packages (from matplotlib!=3.6.1,>=3.4->seaborn) (10.3.0)\n",
      "Requirement already satisfied: pyparsing>=2.3.1 in /home/ysthakur/.virtualenvs/datasci/lib/python3.11/site-packages (from matplotlib!=3.6.1,>=3.4->seaborn) (3.1.2)\n",
      "Requirement already satisfied: requests<3.0,>=2.6.0 in /home/ysthakur/.virtualenvs/datasci/lib/python3.11/site-packages (from prawcore<3,>=2.1->praw) (2.31.0)\n",
      "Requirement already satisfied: six>=1.5 in /home/ysthakur/.virtualenvs/datasci/lib/python3.11/site-packages (from python-dateutil>=2.8.2->pandas) (1.16.0)\n",
      "Requirement already satisfied: charset-normalizer<4,>=2 in /home/ysthakur/.virtualenvs/datasci/lib/python3.11/site-packages (from requests<3.0,>=2.6.0->prawcore<3,>=2.1->praw) (3.3.2)\n",
      "Requirement already satisfied: idna<4,>=2.5 in /home/ysthakur/.virtualenvs/datasci/lib/python3.11/site-packages (from requests<3.0,>=2.6.0->prawcore<3,>=2.1->praw) (3.7)\n",
      "Requirement already satisfied: urllib3<3,>=1.21.1 in /home/ysthakur/.virtualenvs/datasci/lib/python3.11/site-packages (from requests<3.0,>=2.6.0->prawcore<3,>=2.1->praw) (2.2.1)\n",
      "Requirement already satisfied: certifi>=2017.4.17 in /home/ysthakur/.virtualenvs/datasci/lib/python3.11/site-packages (from requests<3.0,>=2.6.0->prawcore<3,>=2.1->praw) (2024.2.2)\n"
     ]
    }
   ],
   "source": [
    "!pip install praw pandas seaborn scipy"
   ]
  },
  {
   "cell_type": "code",
   "execution_count": 2,
   "metadata": {},
   "outputs": [],
   "source": [
    "import csv\n",
    "from datetime import datetime\n",
    "from matplotlib import pyplot as plt\n",
    "import numpy as np\n",
    "import pandas as pd\n",
    "import praw\n",
    "import prawcore\n",
    "import random\n",
    "import seaborn as sns\n",
    "from typing import Callable\n",
    "\n",
    "from util import *\n",
    "import validate\n",
    "\n",
    "sns.set_theme()"
   ]
  },
  {
   "cell_type": "code",
   "execution_count": 3,
   "metadata": {},
   "outputs": [],
   "source": [
    "import logging\n",
    "\n",
    "# This will log everything\n",
    "LOG = True\n",
    "if LOG:\n",
    "    handler = logging.StreamHandler()\n",
    "    handler.setLevel(logging.WARN)\n",
    "    for logger_name in (\"praw\", \"prawcore\"):\n",
    "        logger = logging.getLogger(logger_name)\n",
    "        logger.setLevel(logging.DEBUG)\n",
    "        logger.addHandler(handler)"
   ]
  },
  {
   "cell_type": "code",
   "execution_count": 4,
   "metadata": {},
   "outputs": [],
   "source": [
    "# Create the Reddit instance to do all the API stuff with\n",
    "reddit = init_reddit()"
   ]
  },
  {
   "cell_type": "code",
   "execution_count": 5,
   "metadata": {},
   "outputs": [],
   "source": [
    "keywords = [\n",
    "    \"trauma\",\n",
    "    \"gaslight\",\n",
    "    \"trigger\",\n",
    "    \"toxic\",\n",
    "    \"woke\",\n",
    "    \"manipulat\",\n",
    "    \"microaggression\",\n",
    "    \"autis\",\n",
    "    \"adhd\",\n",
    "    \"ocd\",\n",
    "    \"ptsd\",\n",
    "    \"bipolar\",\n",
    "    \"anxiety\",\n",
    "    \"depress\",\n",
    "    \"psycho\",\n",
    "    \"delusion\",\n",
    "    \"delulu\",\n",
    "    \"solulu\",\n",
    "    \"addict\",\n",
    "    \"abus\",\n",
    "    \"unstable\",\n",
    "    \"narcissis\",\n",
    "    \"addict\",\n",
    "    \"neurodivergen\",\n",
    "]"
   ]
  },
  {
   "cell_type": "code",
   "execution_count": 6,
   "metadata": {},
   "outputs": [],
   "source": [
    "first_id = int(\"c000000\", 36)  # todo find the ID of the first post we want to analyze\n",
    "# Earliest post I can find: https://www.reddit.com/api/info.json?id=t1_c015001\n",
    "last_id = int(\"l000000\", 36)  # todo find the ID of the last post we want to analyze"
   ]
  },
  {
   "cell_type": "markdown",
   "metadata": {},
   "source": [
    "## Load comments"
   ]
  },
  {
   "cell_type": "code",
   "execution_count": 7,
   "metadata": {},
   "outputs": [],
   "source": [
    "runs = get_runs()\n",
    "missing_runs = validate.missing_runs(runs.keys())\n",
    "assert len(missing_runs) == 0, missing_runs"
   ]
  },
  {
   "cell_type": "code",
   "execution_count": 8,
   "metadata": {},
   "outputs": [
    {
     "data": {
      "text/html": [
       "<div>\n",
       "<style scoped>\n",
       "    .dataframe tbody tr th:only-of-type {\n",
       "        vertical-align: middle;\n",
       "    }\n",
       "\n",
       "    .dataframe tbody tr th {\n",
       "        vertical-align: top;\n",
       "    }\n",
       "\n",
       "    .dataframe thead th {\n",
       "        text-align: right;\n",
       "    }\n",
       "</style>\n",
       "<table border=\"1\" class=\"dataframe\">\n",
       "  <thead>\n",
       "    <tr style=\"text-align: right;\">\n",
       "      <th></th>\n",
       "      <th>id</th>\n",
       "      <th>time</th>\n",
       "      <th>sr_name</th>\n",
       "      <th>author_id</th>\n",
       "      <th>parent_fullname</th>\n",
       "      <th>post_id</th>\n",
       "      <th>upvotes</th>\n",
       "      <th>downvotes</th>\n",
       "      <th>body</th>\n",
       "    </tr>\n",
       "  </thead>\n",
       "  <tbody>\n",
       "    <tr>\n",
       "      <th>0</th>\n",
       "      <td>26151673552</td>\n",
       "      <td>2009-12-31 19:34:47</td>\n",
       "      <td>AskReddit</td>\n",
       "      <td>3qsub</td>\n",
       "      <td>t1_c0i12mx</td>\n",
       "      <td>t3_ake21</td>\n",
       "      <td>1</td>\n",
       "      <td>0</td>\n",
       "      <td>15th</td>\n",
       "    </tr>\n",
       "    <tr>\n",
       "      <th>1</th>\n",
       "      <td>26151680417</td>\n",
       "      <td>2009-12-31 21:46:41</td>\n",
       "      <td>TwoXChromosomes</td>\n",
       "      <td>NaN</td>\n",
       "      <td>t3_akctl</td>\n",
       "      <td>t3_akctl</td>\n",
       "      <td>8</td>\n",
       "      <td>0</td>\n",
       "      <td>I used to hate it. They I realized that my pro...</td>\n",
       "    </tr>\n",
       "    <tr>\n",
       "      <th>2</th>\n",
       "      <td>26151683711</td>\n",
       "      <td>2009-12-31 23:03:50</td>\n",
       "      <td>books</td>\n",
       "      <td>NaN</td>\n",
       "      <td>t3_akexp</td>\n",
       "      <td>t3_akexp</td>\n",
       "      <td>16</td>\n",
       "      <td>0</td>\n",
       "      <td>I've never heard of Ellroy, but the fact that ...</td>\n",
       "    </tr>\n",
       "    <tr>\n",
       "      <th>3</th>\n",
       "      <td>26151685221</td>\n",
       "      <td>2009-12-31 23:41:48</td>\n",
       "      <td>AskReddit</td>\n",
       "      <td>NaN</td>\n",
       "      <td>t1_c0i1cz0</td>\n",
       "      <td>t3_akerr</td>\n",
       "      <td>-5</td>\n",
       "      <td>0</td>\n",
       "      <td>The cake is a lie...</td>\n",
       "    </tr>\n",
       "    <tr>\n",
       "      <th>4</th>\n",
       "      <td>26151694942</td>\n",
       "      <td>2010-01-01 03:52:38</td>\n",
       "      <td>IAmA</td>\n",
       "      <td>3oypp</td>\n",
       "      <td>t1_c0i1km5</td>\n",
       "      <td>t3_ak6bq</td>\n",
       "      <td>1</td>\n",
       "      <td>0</td>\n",
       "      <td>In case you haven't noticed, being male anywhe...</td>\n",
       "    </tr>\n",
       "    <tr>\n",
       "      <th>...</th>\n",
       "      <td>...</td>\n",
       "      <td>...</td>\n",
       "      <td>...</td>\n",
       "      <td>...</td>\n",
       "      <td>...</td>\n",
       "      <td>...</td>\n",
       "      <td>...</td>\n",
       "      <td>...</td>\n",
       "      <td>...</td>\n",
       "    </tr>\n",
       "    <tr>\n",
       "      <th>20082</th>\n",
       "      <td>32819689542</td>\n",
       "      <td>2019-10-06 12:07:06</td>\n",
       "      <td>BoomBeach</td>\n",
       "      <td>NaN</td>\n",
       "      <td>t1_f2rzb3u</td>\n",
       "      <td>t3_ddjei6</td>\n",
       "      <td>2</td>\n",
       "      <td>0</td>\n",
       "      <td>Just irritating that our task force owner work...</td>\n",
       "    </tr>\n",
       "    <tr>\n",
       "      <th>20083</th>\n",
       "      <td>32822239511</td>\n",
       "      <td>2019-10-06 17:03:06</td>\n",
       "      <td>Cardinals</td>\n",
       "      <td>6vl9o55</td>\n",
       "      <td>t3_de6zzz</td>\n",
       "      <td>t3_de6zzz</td>\n",
       "      <td>9</td>\n",
       "      <td>0</td>\n",
       "      <td>At least he took 3 more pitches than DeJong...</td>\n",
       "    </tr>\n",
       "    <tr>\n",
       "      <th>20084</th>\n",
       "      <td>32822995485</td>\n",
       "      <td>2019-10-06 19:02:48</td>\n",
       "      <td>nfl</td>\n",
       "      <td>15gqsb</td>\n",
       "      <td>t1_f2txorq</td>\n",
       "      <td>t3_de8elz</td>\n",
       "      <td>2</td>\n",
       "      <td>0</td>\n",
       "      <td>If ya'll shame the Pats, I'm cool with a Gulf ...</td>\n",
       "    </tr>\n",
       "    <tr>\n",
       "      <th>20085</th>\n",
       "      <td>32824085316</td>\n",
       "      <td>2019-10-06 23:52:16</td>\n",
       "      <td>nfl</td>\n",
       "      <td>15l21j</td>\n",
       "      <td>t1_f2uldv8</td>\n",
       "      <td>t3_debhfs</td>\n",
       "      <td>1</td>\n",
       "      <td>0</td>\n",
       "      <td>After the last season of Mahomes? Yeah, it is ...</td>\n",
       "    </tr>\n",
       "    <tr>\n",
       "      <th>20086</th>\n",
       "      <td>32824990906</td>\n",
       "      <td>2019-10-07 07:06:29</td>\n",
       "      <td>GhostRecon</td>\n",
       "      <td>13epw3</td>\n",
       "      <td>t1_f2v5dr1</td>\n",
       "      <td>t3_degopi</td>\n",
       "      <td>1</td>\n",
       "      <td>0</td>\n",
       "      <td>No, I think they're the ones you have to buy. ...</td>\n",
       "    </tr>\n",
       "  </tbody>\n",
       "</table>\n",
       "<p>20087 rows × 9 columns</p>\n",
       "</div>"
      ],
      "text/plain": [
       "                id                time          sr_name author_id  \\\n",
       "0      26151673552 2009-12-31 19:34:47        AskReddit     3qsub   \n",
       "1      26151680417 2009-12-31 21:46:41  TwoXChromosomes       NaN   \n",
       "2      26151683711 2009-12-31 23:03:50            books       NaN   \n",
       "3      26151685221 2009-12-31 23:41:48        AskReddit       NaN   \n",
       "4      26151694942 2010-01-01 03:52:38             IAmA     3oypp   \n",
       "...            ...                 ...              ...       ...   \n",
       "20082  32819689542 2019-10-06 12:07:06        BoomBeach       NaN   \n",
       "20083  32822239511 2019-10-06 17:03:06        Cardinals   6vl9o55   \n",
       "20084  32822995485 2019-10-06 19:02:48              nfl    15gqsb   \n",
       "20085  32824085316 2019-10-06 23:52:16              nfl    15l21j   \n",
       "20086  32824990906 2019-10-07 07:06:29       GhostRecon    13epw3   \n",
       "\n",
       "      parent_fullname    post_id  upvotes  downvotes  \\\n",
       "0          t1_c0i12mx   t3_ake21        1          0   \n",
       "1            t3_akctl   t3_akctl        8          0   \n",
       "2            t3_akexp   t3_akexp       16          0   \n",
       "3          t1_c0i1cz0   t3_akerr       -5          0   \n",
       "4          t1_c0i1km5   t3_ak6bq        1          0   \n",
       "...               ...        ...      ...        ...   \n",
       "20082      t1_f2rzb3u  t3_ddjei6        2          0   \n",
       "20083       t3_de6zzz  t3_de6zzz        9          0   \n",
       "20084      t1_f2txorq  t3_de8elz        2          0   \n",
       "20085      t1_f2uldv8  t3_debhfs        1          0   \n",
       "20086      t1_f2v5dr1  t3_degopi        1          0   \n",
       "\n",
       "                                                    body  \n",
       "0                                                   15th  \n",
       "1      I used to hate it. They I realized that my pro...  \n",
       "2      I've never heard of Ellroy, but the fact that ...  \n",
       "3                                   The cake is a lie...  \n",
       "4      In case you haven't noticed, being male anywhe...  \n",
       "...                                                  ...  \n",
       "20082  Just irritating that our task force owner work...  \n",
       "20083     At least he took 3 more pitches than DeJong...  \n",
       "20084  If ya'll shame the Pats, I'm cool with a Gulf ...  \n",
       "20085  After the last season of Mahomes? Yeah, it is ...  \n",
       "20086  No, I think they're the ones you have to buy. ...  \n",
       "\n",
       "[20087 rows x 9 columns]"
      ]
     },
     "execution_count": 8,
     "metadata": {},
     "output_type": "execute_result"
    }
   ],
   "source": [
    "df = load_comments(*runs.values())\n",
    "df"
   ]
  },
  {
   "cell_type": "code",
   "execution_count": 9,
   "metadata": {},
   "outputs": [
    {
     "data": {
      "text/plain": [
       "465     26151679941\n",
       "256     26151764645\n",
       "376     26151796128\n",
       "402     26151809713\n",
       "1843    26151847380\n",
       "           ...     \n",
       "3593    32812940464\n",
       "3591    32817744019\n",
       "3604    32818602318\n",
       "3609    32820092297\n",
       "3608    32820776324\n",
       "Length: 3613, dtype: int64"
      ]
     },
     "execution_count": 9,
     "metadata": {},
     "output_type": "execute_result"
    }
   ],
   "source": [
    "misses = load_misses(*runs.values())\n",
    "misses"
   ]
  },
  {
   "cell_type": "code",
   "execution_count": 10,
   "metadata": {},
   "outputs": [
    {
     "name": "stdout",
     "output_type": "stream",
     "text": [
      "✅ Found no duplicate comment IDs\n",
      "✅ Found no duplicate misses\n",
      "✅ Found no out-of-order IDs\n",
      "Everything good\n"
     ]
    }
   ],
   "source": [
    "# Sanity checks\n",
    "validate.validate(df, misses)"
   ]
  },
  {
   "cell_type": "code",
   "execution_count": 35,
   "metadata": {},
   "outputs": [
    {
     "data": {
      "text/plain": [
       "(26151673552, 'c0i14gg')"
      ]
     },
     "execution_count": 35,
     "metadata": {},
     "output_type": "execute_result"
    }
   ],
   "source": [
    "# The first ID we actually collected\n",
    "first_id_actual = df[ID].min()\n",
    "first_id_actual, to_b36(first_id_actual)"
   ]
  },
  {
   "cell_type": "markdown",
   "metadata": {},
   "source": [
    "#### Actual analysis"
   ]
  },
  {
   "cell_type": "code",
   "execution_count": 12,
   "metadata": {},
   "outputs": [],
   "source": [
    "def matches(body, keywords=keywords):\n",
    "    for keyword in keywords:\n",
    "        if keyword in body:\n",
    "            return True\n",
    "    return False"
   ]
  },
  {
   "cell_type": "code",
   "execution_count": 13,
   "metadata": {},
   "outputs": [
    {
     "data": {
      "text/html": [
       "<div>\n",
       "<style scoped>\n",
       "    .dataframe tbody tr th:only-of-type {\n",
       "        vertical-align: middle;\n",
       "    }\n",
       "\n",
       "    .dataframe tbody tr th {\n",
       "        vertical-align: top;\n",
       "    }\n",
       "\n",
       "    .dataframe thead th {\n",
       "        text-align: right;\n",
       "    }\n",
       "</style>\n",
       "<table border=\"1\" class=\"dataframe\">\n",
       "  <thead>\n",
       "    <tr style=\"text-align: right;\">\n",
       "      <th></th>\n",
       "      <th>id</th>\n",
       "      <th>time</th>\n",
       "      <th>sr_name</th>\n",
       "      <th>author_id</th>\n",
       "      <th>parent_fullname</th>\n",
       "      <th>post_id</th>\n",
       "      <th>upvotes</th>\n",
       "      <th>downvotes</th>\n",
       "      <th>body</th>\n",
       "    </tr>\n",
       "  </thead>\n",
       "  <tbody>\n",
       "    <tr>\n",
       "      <th>1</th>\n",
       "      <td>26151680417</td>\n",
       "      <td>2009-12-31 21:46:41</td>\n",
       "      <td>TwoXChromosomes</td>\n",
       "      <td>NaN</td>\n",
       "      <td>t3_akctl</td>\n",
       "      <td>t3_akctl</td>\n",
       "      <td>8</td>\n",
       "      <td>0</td>\n",
       "      <td>i used to hate it. they i realized that my pro...</td>\n",
       "    </tr>\n",
       "    <tr>\n",
       "      <th>11</th>\n",
       "      <td>26151758649</td>\n",
       "      <td>2010-01-02 02:29:59</td>\n",
       "      <td>AskReddit</td>\n",
       "      <td>NaN</td>\n",
       "      <td>t3_akk1l</td>\n",
       "      <td>t3_akk1l</td>\n",
       "      <td>1</td>\n",
       "      <td>0</td>\n",
       "      <td>sterilize people from socioeconomic and financ...</td>\n",
       "    </tr>\n",
       "    <tr>\n",
       "      <th>103</th>\n",
       "      <td>26152214173</td>\n",
       "      <td>2010-01-07 05:44:51</td>\n",
       "      <td>atheism</td>\n",
       "      <td>NaN</td>\n",
       "      <td>t1_c0icp48</td>\n",
       "      <td>t3_amksn</td>\n",
       "      <td>14</td>\n",
       "      <td>0</td>\n",
       "      <td>no, it wasn't. it's inexcusable to be hostile ...</td>\n",
       "    </tr>\n",
       "    <tr>\n",
       "      <th>124</th>\n",
       "      <td>26152358082</td>\n",
       "      <td>2010-01-08 14:40:34</td>\n",
       "      <td>AskReddit</td>\n",
       "      <td>3lvdk</td>\n",
       "      <td>t3_an5ru</td>\n",
       "      <td>t3_an5ru</td>\n",
       "      <td>15</td>\n",
       "      <td>0</td>\n",
       "      <td>i've woken up to it a few times - middle-of-th...</td>\n",
       "    </tr>\n",
       "    <tr>\n",
       "      <th>167</th>\n",
       "      <td>26152673794</td>\n",
       "      <td>2010-01-12 02:12:53</td>\n",
       "      <td>AskReddit</td>\n",
       "      <td>3qeld</td>\n",
       "      <td>t1_c0imiej</td>\n",
       "      <td>t3_aocvm</td>\n",
       "      <td>2</td>\n",
       "      <td>0</td>\n",
       "      <td>i love gesture recognition. if you could hook ...</td>\n",
       "    </tr>\n",
       "    <tr>\n",
       "      <th>...</th>\n",
       "      <td>...</td>\n",
       "      <td>...</td>\n",
       "      <td>...</td>\n",
       "      <td>...</td>\n",
       "      <td>...</td>\n",
       "      <td>...</td>\n",
       "      <td>...</td>\n",
       "      <td>...</td>\n",
       "      <td>...</td>\n",
       "    </tr>\n",
       "    <tr>\n",
       "      <th>19691</th>\n",
       "      <td>32777487381</td>\n",
       "      <td>2019-09-30 22:45:23</td>\n",
       "      <td>BigBrother</td>\n",
       "      <td>ehk9zo9</td>\n",
       "      <td>t1_f1zq07l</td>\n",
       "      <td>t3_db8cld</td>\n",
       "      <td>4</td>\n",
       "      <td>0</td>\n",
       "      <td>yeah i predicted theyd get christie out way so...</td>\n",
       "    </tr>\n",
       "    <tr>\n",
       "      <th>19696</th>\n",
       "      <td>32777510941</td>\n",
       "      <td>2019-09-30 22:51:23</td>\n",
       "      <td>funny</td>\n",
       "      <td>2tkze9ct</td>\n",
       "      <td>t3_dblxw1</td>\n",
       "      <td>t3_dblxw1</td>\n",
       "      <td>5</td>\n",
       "      <td>0</td>\n",
       "      <td>*\"obesity often leads to depression...\"*</td>\n",
       "    </tr>\n",
       "    <tr>\n",
       "      <th>19713</th>\n",
       "      <td>32777595744</td>\n",
       "      <td>2019-09-30 23:13:28</td>\n",
       "      <td>microgrowery</td>\n",
       "      <td>NaN</td>\n",
       "      <td>t1_f22w6uf</td>\n",
       "      <td>t3_dblrt8</td>\n",
       "      <td>2</td>\n",
       "      <td>0</td>\n",
       "      <td>you're so right. i've been thinking about this...</td>\n",
       "    </tr>\n",
       "    <tr>\n",
       "      <th>19766</th>\n",
       "      <td>32777903797</td>\n",
       "      <td>2019-10-01 00:51:46</td>\n",
       "      <td>abusiverelationships</td>\n",
       "      <td>45nblm7a</td>\n",
       "      <td>t3_dbhldc</td>\n",
       "      <td>t3_dbhldc</td>\n",
       "      <td>3</td>\n",
       "      <td>0</td>\n",
       "      <td>put downs are not normal or healthy, they're j...</td>\n",
       "    </tr>\n",
       "    <tr>\n",
       "      <th>20011</th>\n",
       "      <td>32780781400</td>\n",
       "      <td>2019-10-01 16:04:16</td>\n",
       "      <td>AmItheAsshole</td>\n",
       "      <td>1z6yb3pt</td>\n",
       "      <td>t1_f24rtoe</td>\n",
       "      <td>t3_dbufdf</td>\n",
       "      <td>8</td>\n",
       "      <td>0</td>\n",
       "      <td>there is a difference between abuse and a terr...</td>\n",
       "    </tr>\n",
       "  </tbody>\n",
       "</table>\n",
       "<p>292 rows × 9 columns</p>\n",
       "</div>"
      ],
      "text/plain": [
       "                id                time               sr_name author_id  \\\n",
       "1      26151680417 2009-12-31 21:46:41       TwoXChromosomes       NaN   \n",
       "11     26151758649 2010-01-02 02:29:59             AskReddit       NaN   \n",
       "103    26152214173 2010-01-07 05:44:51               atheism       NaN   \n",
       "124    26152358082 2010-01-08 14:40:34             AskReddit     3lvdk   \n",
       "167    26152673794 2010-01-12 02:12:53             AskReddit     3qeld   \n",
       "...            ...                 ...                   ...       ...   \n",
       "19691  32777487381 2019-09-30 22:45:23            BigBrother   ehk9zo9   \n",
       "19696  32777510941 2019-09-30 22:51:23                 funny  2tkze9ct   \n",
       "19713  32777595744 2019-09-30 23:13:28          microgrowery       NaN   \n",
       "19766  32777903797 2019-10-01 00:51:46  abusiverelationships  45nblm7a   \n",
       "20011  32780781400 2019-10-01 16:04:16         AmItheAsshole  1z6yb3pt   \n",
       "\n",
       "      parent_fullname    post_id  upvotes  downvotes  \\\n",
       "1            t3_akctl   t3_akctl        8          0   \n",
       "11           t3_akk1l   t3_akk1l        1          0   \n",
       "103        t1_c0icp48   t3_amksn       14          0   \n",
       "124          t3_an5ru   t3_an5ru       15          0   \n",
       "167        t1_c0imiej   t3_aocvm        2          0   \n",
       "...               ...        ...      ...        ...   \n",
       "19691      t1_f1zq07l  t3_db8cld        4          0   \n",
       "19696       t3_dblxw1  t3_dblxw1        5          0   \n",
       "19713      t1_f22w6uf  t3_dblrt8        2          0   \n",
       "19766       t3_dbhldc  t3_dbhldc        3          0   \n",
       "20011      t1_f24rtoe  t3_dbufdf        8          0   \n",
       "\n",
       "                                                    body  \n",
       "1      i used to hate it. they i realized that my pro...  \n",
       "11     sterilize people from socioeconomic and financ...  \n",
       "103    no, it wasn't. it's inexcusable to be hostile ...  \n",
       "124    i've woken up to it a few times - middle-of-th...  \n",
       "167    i love gesture recognition. if you could hook ...  \n",
       "...                                                  ...  \n",
       "19691  yeah i predicted theyd get christie out way so...  \n",
       "19696           *\"obesity often leads to depression...\"*  \n",
       "19713  you're so right. i've been thinking about this...  \n",
       "19766  put downs are not normal or healthy, they're j...  \n",
       "20011  there is a difference between abuse and a terr...  \n",
       "\n",
       "[292 rows x 9 columns]"
      ]
     },
     "execution_count": 13,
     "metadata": {},
     "output_type": "execute_result"
    }
   ],
   "source": [
    "df[BODY] = df[BODY].map(lambda body: body.lower().strip())\n",
    "matched_rows = df[df[BODY].map(matches)]\n",
    "matched_rows"
   ]
  },
  {
   "cell_type": "code",
   "execution_count": 14,
   "metadata": {},
   "outputs": [
    {
     "data": {
      "text/plain": [
       "{'trauma': 3,\n",
       " 'gaslight': 2,\n",
       " 'trigger': 42,\n",
       " 'toxic': 19,\n",
       " 'woke': 21,\n",
       " 'manipulat': 13,\n",
       " 'microaggression': 0,\n",
       " 'autis': 8,\n",
       " 'adhd': 10,\n",
       " 'ocd': 2,\n",
       " 'ptsd': 4,\n",
       " 'bipolar': 3,\n",
       " 'anxiety': 19,\n",
       " 'depress': 46,\n",
       " 'psycho': 35,\n",
       " 'delusion': 14,\n",
       " 'delulu': 0,\n",
       " 'solulu': 0,\n",
       " 'addict': 23,\n",
       " 'abus': 46,\n",
       " 'unstable': 3,\n",
       " 'narcissis': 1,\n",
       " 'neurodivergen': 0}"
      ]
     },
     "execution_count": 14,
     "metadata": {},
     "output_type": "execute_result"
    }
   ],
   "source": [
    "{\n",
    "    keyword: len(matched_rows[matched_rows[BODY].map(lambda body: keyword in body)])\n",
    "    for keyword in keywords\n",
    "}"
   ]
  },
  {
   "cell_type": "code",
   "execution_count": 34,
   "metadata": {},
   "outputs": [
    {
     "data": {
      "image/png": "[encoded data removed]",
      "text/plain": [
       "<Figure size 640x480 with 1 Axes>"
      ]
     },
     "metadata": {},
     "output_type": "display_data"
    }
   ],
   "source": [
    "lengths = df[BODY].map(len)\n",
    "ax = sns.histplot(\n",
    "    lengths, # lengths[lengths <= 10000],\n",
    "    binwidth=200,\n",
    "    # log_scale=True\n",
    ")\n",
    "ax.set(xlabel = \"Body length (characters)\")\n",
    "ax.set(yscale = \"log\");"
   ]
  },
  {
   "cell_type": "code",
   "execution_count": 16,
   "metadata": {},
   "outputs": [
    {
     "data": {
      "text/html": [
       "<div>\n",
       "<style scoped>\n",
       "    .dataframe tbody tr th:only-of-type {\n",
       "        vertical-align: middle;\n",
       "    }\n",
       "\n",
       "    .dataframe tbody tr th {\n",
       "        vertical-align: top;\n",
       "    }\n",
       "\n",
       "    .dataframe thead th {\n",
       "        text-align: right;\n",
       "    }\n",
       "</style>\n",
       "<table border=\"1\" class=\"dataframe\">\n",
       "  <thead>\n",
       "    <tr style=\"text-align: right;\">\n",
       "      <th></th>\n",
       "      <th>id</th>\n",
       "      <th>time</th>\n",
       "      <th>sr_name</th>\n",
       "      <th>author_id</th>\n",
       "      <th>parent_fullname</th>\n",
       "      <th>post_id</th>\n",
       "      <th>upvotes</th>\n",
       "      <th>downvotes</th>\n",
       "      <th>body</th>\n",
       "    </tr>\n",
       "  </thead>\n",
       "  <tbody>\n",
       "  </tbody>\n",
       "</table>\n",
       "</div>"
      ],
      "text/plain": [
       "Empty DataFrame\n",
       "Columns: [id, time, sr_name, author_id, parent_fullname, post_id, upvotes, downvotes, body]\n",
       "Index: []"
      ]
     },
     "execution_count": 16,
     "metadata": {},
     "output_type": "execute_result"
    }
   ],
   "source": [
    "df[lengths >= 10000]"
   ]
  },
  {
   "cell_type": "markdown",
   "metadata": {},
   "source": [
    "### Graphing distribution over time"
   ]
  },
  {
   "cell_type": "code",
   "execution_count": 17,
   "metadata": {},
   "outputs": [
    {
     "data": {
      "text/plain": [
       "<Axes: xlabel='time', ylabel='Count'>"
      ]
     },
     "execution_count": 17,
     "metadata": {},
     "output_type": "execute_result"
    },
    {
     "data": {
      "image/png": "[encoded data removed]",
      "text/plain": [
       "<Figure size 1300x500 with 1 Axes>"
      ]
     },
     "metadata": {},
     "output_type": "display_data"
    }
   ],
   "source": [
    "from datetime import timedelta\n",
    "\n",
    "plt.figure(figsize=(13, 5))\n",
    "# TODO figure out how to get binwidth to work with timedeltas\n",
    "sns.histplot(data=df, x=TIME) #, binwidth=timedelta(days=30))"
   ]
  },
  {
   "cell_type": "code",
   "execution_count": 18,
   "metadata": {},
   "outputs": [
    {
     "data": {
      "text/plain": [
       "<Axes: xlabel='time', ylabel='Count'>"
      ]
     },
     "execution_count": 18,
     "metadata": {},
     "output_type": "execute_result"
    },
    {
     "data": {
      "image/png": "[encoded data removed]",
      "text/plain": [
       "<Figure size 1400x500 with 1 Axes>"
      ]
     },
     "metadata": {},
     "output_type": "display_data"
    }
   ],
   "source": [
    "# Number of comments by day of year\n",
    "plt.figure(figsize=(14, 5))\n",
    "sns.histplot(data=df[TIME].apply(lambda t: int(t.strftime(\"%j\"))))"
   ]
  },
  {
   "cell_type": "code",
   "execution_count": 19,
   "metadata": {},
   "outputs": [
    {
     "data": {
      "image/png": "[encoded data removed]",
      "text/plain": [
       "<Figure size 640x480 with 1 Axes>"
      ]
     },
     "metadata": {},
     "output_type": "display_data"
    }
   ],
   "source": [
    "# Number of comments by day of week (0 = Monday)\n",
    "g = sns.barplot(data=df[TIME].apply(lambda t: t.weekday()).value_counts())\n",
    "g.set_xticks(\n",
    "    g.get_xticks(),\n",
    "    labels=[\n",
    "        [\"Mon\", \"Tue\", \"Wed\", \"Thur\", \"Fri\", \"Sat\", \"Sun\"][tick]\n",
    "        for tick in g.get_xticks()\n",
    "    ],\n",
    ");"
   ]
  },
  {
   "cell_type": "markdown",
   "metadata": {},
   "source": [
    "### Are the IDs uniformly distributed?\n",
    "\n",
    "Figure out if the IDs are uniformly distributed using the Kolmogorov-Smirnov test\n",
    "\n",
    "TODO check if KS is the right test to use here. Alternatives (not sure if any of these are even applicable):\n",
    "- Chi-square (we don't have a normal distribution though)\n",
    "- Mann-Whitney U test\n",
    "- Anderson-Darling\n",
    "\n",
    "The fact that we're taking the first gotten comment as the start rather than the actual requested\n",
    "start ID might screw things up but whatever"
   ]
  },
  {
   "cell_type": "code",
   "execution_count": 20,
   "metadata": {},
   "outputs": [
    {
     "data": {
      "text/plain": [
       "<Axes: xlabel='id', ylabel='Count'>"
      ]
     },
     "execution_count": 20,
     "metadata": {},
     "output_type": "execute_result"
    },
    {
     "data": {
      "image/png": "[encoded data removed]",
      "text/plain": [
       "<Figure size 1300x500 with 1 Axes>"
      ]
     },
     "metadata": {},
     "output_type": "display_data"
    }
   ],
   "source": [
    "# Distribution of IDs\n",
    "\n",
    "plt.figure(figsize=(13, 5))\n",
    "sns.histplot(data=df[ID])"
   ]
  },
  {
   "cell_type": "code",
   "execution_count": 21,
   "metadata": {},
   "outputs": [
    {
     "name": "stdout",
     "output_type": "stream",
     "text": [
      "IDs are probably not uniformly distributed\n"
     ]
    },
    {
     "data": {
      "text/plain": [
       "KstestResult(statistic=0.6659857052333975, pvalue=0.0, statistic_location=0.2827373494786053, statistic_sign=1)"
      ]
     },
     "execution_count": 21,
     "metadata": {},
     "output_type": "execute_result"
    }
   ],
   "source": [
    "from scipy import stats\n",
    "\n",
    "# Choose alpha of 0.05\n",
    "\n",
    "ids_normalized = df[ID].map(lambda id: (id - first_id_actual) / (last_id - first_id_actual))\n",
    "res = stats.ks_1samp(ids_normalized, stats.uniform.cdf)\n",
    "if res.pvalue < 0.05:\n",
    "    print(\"IDs are probably not uniformly distributed\")\n",
    "else:\n",
    "    print(\"IDs are probably uniformly distributed\")\n",
    "res"
   ]
  },
  {
   "cell_type": "code",
   "execution_count": 22,
   "metadata": {},
   "outputs": [
    {
     "data": {
      "text/html": [
       "<div>\n",
       "<style scoped>\n",
       "    .dataframe tbody tr th:only-of-type {\n",
       "        vertical-align: middle;\n",
       "    }\n",
       "\n",
       "    .dataframe tbody tr th {\n",
       "        vertical-align: top;\n",
       "    }\n",
       "\n",
       "    .dataframe thead th {\n",
       "        text-align: right;\n",
       "    }\n",
       "</style>\n",
       "<table border=\"1\" class=\"dataframe\">\n",
       "  <thead>\n",
       "    <tr style=\"text-align: right;\">\n",
       "      <th></th>\n",
       "      <th>id</th>\n",
       "      <th>time</th>\n",
       "      <th>sr_name</th>\n",
       "      <th>author_id</th>\n",
       "      <th>parent_fullname</th>\n",
       "      <th>post_id</th>\n",
       "      <th>upvotes</th>\n",
       "      <th>downvotes</th>\n",
       "      <th>body</th>\n",
       "    </tr>\n",
       "  </thead>\n",
       "  <tbody>\n",
       "    <tr>\n",
       "      <th>0</th>\n",
       "      <td>26151673552</td>\n",
       "      <td>2009-12-31 19:34:47</td>\n",
       "      <td>AskReddit</td>\n",
       "      <td>3qsub</td>\n",
       "      <td>t1_c0i12mx</td>\n",
       "      <td>t3_ake21</td>\n",
       "      <td>1</td>\n",
       "      <td>0</td>\n",
       "      <td>15th</td>\n",
       "    </tr>\n",
       "  </tbody>\n",
       "</table>\n",
       "</div>"
      ],
      "text/plain": [
       "            id                time    sr_name author_id parent_fullname  \\\n",
       "0  26151673552 2009-12-31 19:34:47  AskReddit     3qsub      t1_c0i12mx   \n",
       "\n",
       "    post_id  upvotes  downvotes  body  \n",
       "0  t3_ake21        1          0  15th  "
      ]
     },
     "execution_count": 22,
     "metadata": {},
     "output_type": "execute_result"
    }
   ],
   "source": [
    "# The earliest comment we have\n",
    "df[df[ID] == df[ID].min()]"
   ]
  },
  {
   "cell_type": "code",
   "execution_count": 23,
   "metadata": {},
   "outputs": [
    {
     "data": {
      "text/plain": [
       "<Axes: >"
      ]
     },
     "execution_count": 23,
     "metadata": {},
     "output_type": "execute_result"
    },
    {
     "data": {
      "image/png": "[encoded data removed]",
      "text/plain": [
       "<Figure size 640x480 with 1 Axes>"
      ]
     },
     "metadata": {},
     "output_type": "display_data"
    }
   ],
   "source": [
    "misses.hist()"
   ]
  },
  {
   "cell_type": "code",
   "execution_count": 24,
   "metadata": {},
   "outputs": [
    {
     "data": {
      "text/plain": [
       "<Axes: ylabel='Count'>"
      ]
     },
     "execution_count": 24,
     "metadata": {},
     "output_type": "execute_result"
    },
    {
     "data": {
      "image/png": "[encoded data removed]",
      "text/plain": [
       "<Figure size 1500x500 with 1 Axes>"
      ]
     },
     "metadata": {},
     "output_type": "display_data"
    }
   ],
   "source": [
    "plt.figure(figsize=(15, 5))\n",
    "misses_actual = misses[misses >= first_id_actual]\n",
    "sns.histplot(misses_actual, binwidth=1e8)"
   ]
  },
  {
   "cell_type": "code",
   "execution_count": 25,
   "metadata": {},
   "outputs": [
    {
     "data": {
      "text/plain": [
       "<Axes: ylabel='Count'>"
      ]
     },
     "execution_count": 25,
     "metadata": {},
     "output_type": "execute_result"
    },
    {
     "data": {
      "image/png": "[encoded data removed]",
      "text/plain": [
       "<Figure size 1400x500 with 1 Axes>"
      ]
     },
     "metadata": {},
     "output_type": "display_data"
    }
   ],
   "source": [
    "# Zoom in on the middle\n",
    "# Note: The counts won't match the ones above because the bin width is different\n",
    "\n",
    "# TODO How are you supposed to filter a series?\n",
    "weirdos = misses[lambda id: id <= 3.75e10][lambda id: 3e10 <= id]\n",
    "\n",
    "plt.figure(figsize=(14, 5))\n",
    "sns.histplot(weirdos, binwidth=5e7)"
   ]
  },
  {
   "cell_type": "code",
   "execution_count": 26,
   "metadata": {},
   "outputs": [
    {
     "data": {
      "text/plain": [
       "(0.8475527426160337, 0.8475527426160337)"
      ]
     },
     "execution_count": 26,
     "metadata": {},
     "output_type": "execute_result"
    }
   ],
   "source": [
    "# What portion of the requests we made actually returned something?\n",
    "all = len(df) / (len(df) + len(misses))\n",
    "# Same as above, but don't include requests for comments with IDs that were too low\n",
    "exclude_invalid = len(df) / (len(df) + len(misses_actual))\n",
    "\n",
    "all, exclude_invalid"
   ]
  },
  {
   "cell_type": "code",
   "execution_count": 28,
   "metadata": {},
   "outputs": [
    {
     "data": {
      "text/plain": [
       "<Axes: xlabel='id', ylabel='rate'>"
      ]
     },
     "execution_count": 28,
     "metadata": {},
     "output_type": "execute_result"
    },
    {
     "data": {
      "image/png": "[encoded data removed]",
      "text/plain": [
       "<Figure size 1500x500 with 1 Axes>"
      ]
     },
     "metadata": {},
     "output_type": "display_data"
    }
   ],
   "source": [
    "# Hit rate over time\n",
    "start = first_id_actual\n",
    "end = max(df.iloc[len(df) - 1][ID],\n",
    "          misses.loc[len(misses) - 1])\n",
    "step = int(1e8)\n",
    "\n",
    "def get_rate(curr_id):\n",
    "    next_id = curr_id + step\n",
    "    hits = len(df[(curr_id <= df[ID]) & (df[ID] < next_id)])\n",
    "    num_misses = len(misses[lambda id: curr_id <= id][lambda id: id < next_id])\n",
    "\n",
    "    if num_misses == 0:\n",
    "        return 0\n",
    "    return num_misses / (hits + num_misses)\n",
    "\n",
    "ids = np.arange(start, end, step)\n",
    "rates = np.fromiter(map(get_rate, ids), dtype=np.dtype(np.float64))\n",
    "\n",
    "rate_df = pd.DataFrame({ \"id\": ids, \"rate\": rates })\n",
    "\n",
    "plt.figure(figsize=(15, 5))\n",
    "sns.lineplot(data=rate_df, x=\"id\", y=\"rate\")"
   ]
  },
  {
   "cell_type": "code",
   "execution_count": 29,
   "metadata": {},
   "outputs": [
    {
     "data": {
      "text/html": [
       "<div>\n",
       "<style scoped>\n",
       "    .dataframe tbody tr th:only-of-type {\n",
       "        vertical-align: middle;\n",
       "    }\n",
       "\n",
       "    .dataframe tbody tr th {\n",
       "        vertical-align: top;\n",
       "    }\n",
       "\n",
       "    .dataframe thead th {\n",
       "        text-align: right;\n",
       "    }\n",
       "</style>\n",
       "<table border=\"1\" class=\"dataframe\">\n",
       "  <thead>\n",
       "    <tr style=\"text-align: right;\">\n",
       "      <th></th>\n",
       "      <th>id</th>\n",
       "      <th>time</th>\n",
       "      <th>sr_name</th>\n",
       "      <th>author_id</th>\n",
       "      <th>parent_fullname</th>\n",
       "      <th>post_id</th>\n",
       "      <th>upvotes</th>\n",
       "      <th>downvotes</th>\n",
       "      <th>body</th>\n",
       "    </tr>\n",
       "  </thead>\n",
       "  <tbody>\n",
       "    <tr>\n",
       "      <th>16513</th>\n",
       "      <td>30001215087</td>\n",
       "      <td>2018-01-04 00:04:18</td>\n",
       "      <td>GlobalOffensiveTrade</td>\n",
       "      <td>15oc00</td>\n",
       "      <td>t1_ds4fj0q</td>\n",
       "      <td>t3_7ntstu</td>\n",
       "      <td>1</td>\n",
       "      <td>0</td>\n",
       "      <td>hey /u/theblacketernity, you have been given a...</td>\n",
       "    </tr>\n",
       "    <tr>\n",
       "      <th>16514</th>\n",
       "      <td>30269606656</td>\n",
       "      <td>2018-03-31 20:01:15</td>\n",
       "      <td>flashlight</td>\n",
       "      <td>9bmhp2z</td>\n",
       "      <td>t3_88ew49</td>\n",
       "      <td>t3_88ew49</td>\n",
       "      <td>1</td>\n",
       "      <td>0</td>\n",
       "      <td>look into the maglite c-cell. maglite ml50l, t...</td>\n",
       "    </tr>\n",
       "    <tr>\n",
       "      <th>16515</th>\n",
       "      <td>30269613992</td>\n",
       "      <td>2018-03-31 20:04:21</td>\n",
       "      <td>LosAngeles</td>\n",
       "      <td>10t0dn</td>\n",
       "      <td>t3_88m2br</td>\n",
       "      <td>t3_88m2br</td>\n",
       "      <td>2</td>\n",
       "      <td>0</td>\n",
       "      <td>vincenti in brentwood</td>\n",
       "    </tr>\n",
       "    <tr>\n",
       "      <th>16516</th>\n",
       "      <td>30269615608</td>\n",
       "      <td>2018-03-31 20:05:00</td>\n",
       "      <td>succulents</td>\n",
       "      <td>7iyw6</td>\n",
       "      <td>t3_88mrv2</td>\n",
       "      <td>t3_88mrv2</td>\n",
       "      <td>7</td>\n",
       "      <td>0</td>\n",
       "      <td>i have the same one! you’ll want to move the l...</td>\n",
       "    </tr>\n",
       "    <tr>\n",
       "      <th>16517</th>\n",
       "      <td>30269622522</td>\n",
       "      <td>2018-03-31 20:07:45</td>\n",
       "      <td>redsox</td>\n",
       "      <td>539fl</td>\n",
       "      <td>t1_dwlqy2j</td>\n",
       "      <td>t3_88kwgf</td>\n",
       "      <td>3</td>\n",
       "      <td>0</td>\n",
       "      <td>jesus christ.</td>\n",
       "    </tr>\n",
       "    <tr>\n",
       "      <th>...</th>\n",
       "      <td>...</td>\n",
       "      <td>...</td>\n",
       "      <td>...</td>\n",
       "      <td>...</td>\n",
       "      <td>...</td>\n",
       "      <td>...</td>\n",
       "      <td>...</td>\n",
       "      <td>...</td>\n",
       "      <td>...</td>\n",
       "    </tr>\n",
       "    <tr>\n",
       "      <th>20082</th>\n",
       "      <td>32819689542</td>\n",
       "      <td>2019-10-06 12:07:06</td>\n",
       "      <td>BoomBeach</td>\n",
       "      <td>NaN</td>\n",
       "      <td>t1_f2rzb3u</td>\n",
       "      <td>t3_ddjei6</td>\n",
       "      <td>2</td>\n",
       "      <td>0</td>\n",
       "      <td>just irritating that our task force owner work...</td>\n",
       "    </tr>\n",
       "    <tr>\n",
       "      <th>20083</th>\n",
       "      <td>32822239511</td>\n",
       "      <td>2019-10-06 17:03:06</td>\n",
       "      <td>Cardinals</td>\n",
       "      <td>6vl9o55</td>\n",
       "      <td>t3_de6zzz</td>\n",
       "      <td>t3_de6zzz</td>\n",
       "      <td>9</td>\n",
       "      <td>0</td>\n",
       "      <td>at least he took 3 more pitches than dejong...</td>\n",
       "    </tr>\n",
       "    <tr>\n",
       "      <th>20084</th>\n",
       "      <td>32822995485</td>\n",
       "      <td>2019-10-06 19:02:48</td>\n",
       "      <td>nfl</td>\n",
       "      <td>15gqsb</td>\n",
       "      <td>t1_f2txorq</td>\n",
       "      <td>t3_de8elz</td>\n",
       "      <td>2</td>\n",
       "      <td>0</td>\n",
       "      <td>if ya'll shame the pats, i'm cool with a gulf ...</td>\n",
       "    </tr>\n",
       "    <tr>\n",
       "      <th>20085</th>\n",
       "      <td>32824085316</td>\n",
       "      <td>2019-10-06 23:52:16</td>\n",
       "      <td>nfl</td>\n",
       "      <td>15l21j</td>\n",
       "      <td>t1_f2uldv8</td>\n",
       "      <td>t3_debhfs</td>\n",
       "      <td>1</td>\n",
       "      <td>0</td>\n",
       "      <td>after the last season of mahomes? yeah, it is ...</td>\n",
       "    </tr>\n",
       "    <tr>\n",
       "      <th>20086</th>\n",
       "      <td>32824990906</td>\n",
       "      <td>2019-10-07 07:06:29</td>\n",
       "      <td>GhostRecon</td>\n",
       "      <td>13epw3</td>\n",
       "      <td>t1_f2v5dr1</td>\n",
       "      <td>t3_degopi</td>\n",
       "      <td>1</td>\n",
       "      <td>0</td>\n",
       "      <td>no, i think they're the ones you have to buy. ...</td>\n",
       "    </tr>\n",
       "  </tbody>\n",
       "</table>\n",
       "<p>3574 rows × 9 columns</p>\n",
       "</div>"
      ],
      "text/plain": [
       "                id                time               sr_name author_id  \\\n",
       "16513  30001215087 2018-01-04 00:04:18  GlobalOffensiveTrade    15oc00   \n",
       "16514  30269606656 2018-03-31 20:01:15            flashlight   9bmhp2z   \n",
       "16515  30269613992 2018-03-31 20:04:21            LosAngeles    10t0dn   \n",
       "16516  30269615608 2018-03-31 20:05:00            succulents     7iyw6   \n",
       "16517  30269622522 2018-03-31 20:07:45                redsox     539fl   \n",
       "...            ...                 ...                   ...       ...   \n",
       "20082  32819689542 2019-10-06 12:07:06             BoomBeach       NaN   \n",
       "20083  32822239511 2019-10-06 17:03:06             Cardinals   6vl9o55   \n",
       "20084  32822995485 2019-10-06 19:02:48                   nfl    15gqsb   \n",
       "20085  32824085316 2019-10-06 23:52:16                   nfl    15l21j   \n",
       "20086  32824990906 2019-10-07 07:06:29            GhostRecon    13epw3   \n",
       "\n",
       "      parent_fullname    post_id  upvotes  downvotes  \\\n",
       "16513      t1_ds4fj0q  t3_7ntstu        1          0   \n",
       "16514       t3_88ew49  t3_88ew49        1          0   \n",
       "16515       t3_88m2br  t3_88m2br        2          0   \n",
       "16516       t3_88mrv2  t3_88mrv2        7          0   \n",
       "16517      t1_dwlqy2j  t3_88kwgf        3          0   \n",
       "...               ...        ...      ...        ...   \n",
       "20082      t1_f2rzb3u  t3_ddjei6        2          0   \n",
       "20083       t3_de6zzz  t3_de6zzz        9          0   \n",
       "20084      t1_f2txorq  t3_de8elz        2          0   \n",
       "20085      t1_f2uldv8  t3_debhfs        1          0   \n",
       "20086      t1_f2v5dr1  t3_degopi        1          0   \n",
       "\n",
       "                                                    body  \n",
       "16513  hey /u/theblacketernity, you have been given a...  \n",
       "16514  look into the maglite c-cell. maglite ml50l, t...  \n",
       "16515                              vincenti in brentwood  \n",
       "16516  i have the same one! you’ll want to move the l...  \n",
       "16517                                      jesus christ.  \n",
       "...                                                  ...  \n",
       "20082  just irritating that our task force owner work...  \n",
       "20083     at least he took 3 more pitches than dejong...  \n",
       "20084  if ya'll shame the pats, i'm cool with a gulf ...  \n",
       "20085  after the last season of mahomes? yeah, it is ...  \n",
       "20086  no, i think they're the ones you have to buy. ...  \n",
       "\n",
       "[3574 rows x 9 columns]"
      ]
     },
     "execution_count": 29,
     "metadata": {},
     "output_type": "execute_result"
    }
   ],
   "source": [
    "df[(3e10 <= df[ID]) & (df[ID] < 3.75e10)]"
   ]
  },
  {
   "cell_type": "code",
   "execution_count": 30,
   "metadata": {},
   "outputs": [
    {
     "name": "stdout",
     "output_type": "stream",
     "text": [
      "Misses are probably not normally distributed\n"
     ]
    },
    {
     "data": {
      "text/plain": [
       "KstestResult(statistic=0.12371698624408373, pvalue=1.1753280985896244e-48, statistic_location=-1.1566045254823731, statistic_sign=-1)"
      ]
     },
     "execution_count": 30,
     "metadata": {},
     "output_type": "execute_result"
    }
   ],
   "source": [
    "from scipy import stats\n",
    "\n",
    "# Choose alpha of 0.05\n",
    "\n",
    "misses_normalized = misses_actual.map(\n",
    "    lambda id: (id - misses_actual.mean()) / (misses_actual.std())\n",
    ")\n",
    "res = stats.ks_1samp(misses_normalized, stats.norm.cdf)\n",
    "if res.pvalue < 0.05:\n",
    "    print(\"Misses are probably not normally distributed\")\n",
    "else:\n",
    "    print(\"Misses could be normally distributed\")\n",
    "res"
   ]
  },
  {
   "cell_type": "markdown",
   "metadata": {},
   "source": [
    "## Subreddits"
   ]
  },
  {
   "cell_type": "code",
   "execution_count": 31,
   "metadata": {},
   "outputs": [
    {
     "data": {
      "text/html": [
       "<div>\n",
       "<style scoped>\n",
       "    .dataframe tbody tr th:only-of-type {\n",
       "        vertical-align: middle;\n",
       "    }\n",
       "\n",
       "    .dataframe tbody tr th {\n",
       "        vertical-align: top;\n",
       "    }\n",
       "\n",
       "    .dataframe thead th {\n",
       "        text-align: right;\n",
       "    }\n",
       "</style>\n",
       "<table border=\"1\" class=\"dataframe\">\n",
       "  <thead>\n",
       "    <tr style=\"text-align: right;\">\n",
       "      <th></th>\n",
       "      <th>id</th>\n",
       "      <th>time</th>\n",
       "      <th>sr_name</th>\n",
       "      <th>author_id</th>\n",
       "      <th>parent_fullname</th>\n",
       "      <th>post_id</th>\n",
       "      <th>upvotes</th>\n",
       "      <th>downvotes</th>\n",
       "      <th>body</th>\n",
       "    </tr>\n",
       "  </thead>\n",
       "  <tbody>\n",
       "    <tr>\n",
       "      <th>72</th>\n",
       "      <td>26152075672</td>\n",
       "      <td>2010-01-05 18:28:04</td>\n",
       "      <td>reddit.com</td>\n",
       "      <td>1f0kz</td>\n",
       "      <td>t1_c0i9pzd</td>\n",
       "      <td>t3_alxuf</td>\n",
       "      <td>3</td>\n",
       "      <td>0</td>\n",
       "      <td>my dog was pretty tough, i'm thinking he can f...</td>\n",
       "    </tr>\n",
       "    <tr>\n",
       "      <th>88</th>\n",
       "      <td>26152155904</td>\n",
       "      <td>2010-01-06 15:07:54</td>\n",
       "      <td>reddit.com</td>\n",
       "      <td>39c3v</td>\n",
       "      <td>t3_amc7o</td>\n",
       "      <td>t3_amc7o</td>\n",
       "      <td>1</td>\n",
       "      <td>0</td>\n",
       "      <td>can someone, anyone explain russell brand's se...</td>\n",
       "    </tr>\n",
       "    <tr>\n",
       "      <th>100</th>\n",
       "      <td>26152206094</td>\n",
       "      <td>2010-01-07 02:19:21</td>\n",
       "      <td>reddit.com</td>\n",
       "      <td>359bi</td>\n",
       "      <td>t1_c0icjcp</td>\n",
       "      <td>t3_amkgy</td>\n",
       "      <td>8</td>\n",
       "      <td>0</td>\n",
       "      <td>yessss!</td>\n",
       "    </tr>\n",
       "    <tr>\n",
       "      <th>118</th>\n",
       "      <td>26152304024</td>\n",
       "      <td>2010-01-07 23:51:02</td>\n",
       "      <td>reddit.com</td>\n",
       "      <td>3e38s</td>\n",
       "      <td>t3_amzrt</td>\n",
       "      <td>t3_amzrt</td>\n",
       "      <td>9</td>\n",
       "      <td>0</td>\n",
       "      <td>lolwut?</td>\n",
       "    </tr>\n",
       "    <tr>\n",
       "      <th>130</th>\n",
       "      <td>26152403158</td>\n",
       "      <td>2010-01-08 23:24:12</td>\n",
       "      <td>reddit.com</td>\n",
       "      <td>obfm</td>\n",
       "      <td>t1_c0ig70f</td>\n",
       "      <td>t3_anaky</td>\n",
       "      <td>1</td>\n",
       "      <td>0</td>\n",
       "      <td>leno scheduled himself to retire and then rene...</td>\n",
       "    </tr>\n",
       "    <tr>\n",
       "      <th>...</th>\n",
       "      <td>...</td>\n",
       "      <td>...</td>\n",
       "      <td>...</td>\n",
       "      <td>...</td>\n",
       "      <td>...</td>\n",
       "      <td>...</td>\n",
       "      <td>...</td>\n",
       "      <td>...</td>\n",
       "      <td>...</td>\n",
       "    </tr>\n",
       "    <tr>\n",
       "      <th>3921</th>\n",
       "      <td>26285044822</td>\n",
       "      <td>2011-10-06 17:00:52</td>\n",
       "      <td>reddit.com</td>\n",
       "      <td>5duse</td>\n",
       "      <td>t1_c2pfmh8</td>\n",
       "      <td>t3_ku8ms</td>\n",
       "      <td>0</td>\n",
       "      <td>0</td>\n",
       "      <td>so far, we haven't settled on a definition.\\n\\...</td>\n",
       "    </tr>\n",
       "    <tr>\n",
       "      <th>3922</th>\n",
       "      <td>26285048899</td>\n",
       "      <td>2011-10-06 17:10:47</td>\n",
       "      <td>reddit.com</td>\n",
       "      <td>5n0u9</td>\n",
       "      <td>t1_c2pefn8</td>\n",
       "      <td>t3_l365s</td>\n",
       "      <td>6</td>\n",
       "      <td>0</td>\n",
       "      <td>a sistuh just fittin tah talk about the real o...</td>\n",
       "    </tr>\n",
       "    <tr>\n",
       "      <th>3927</th>\n",
       "      <td>26285078468</td>\n",
       "      <td>2011-10-06 18:24:30</td>\n",
       "      <td>reddit.com</td>\n",
       "      <td>40kcq</td>\n",
       "      <td>t1_c2pg8vj</td>\n",
       "      <td>t3_l3auo</td>\n",
       "      <td>57</td>\n",
       "      <td>0</td>\n",
       "      <td>[obligatory comment about how videos are block...</td>\n",
       "    </tr>\n",
       "    <tr>\n",
       "      <th>3952</th>\n",
       "      <td>26285196009</td>\n",
       "      <td>2011-10-06 23:55:41</td>\n",
       "      <td>reddit.com</td>\n",
       "      <td>4pczt</td>\n",
       "      <td>t3_l3s9i</td>\n",
       "      <td>t3_l3s9i</td>\n",
       "      <td>1</td>\n",
       "      <td>0</td>\n",
       "      <td>[i just created one](http://www.reddit.com/r/urm)</td>\n",
       "    </tr>\n",
       "    <tr>\n",
       "      <th>3989</th>\n",
       "      <td>26285420347</td>\n",
       "      <td>2011-10-07 14:15:25</td>\n",
       "      <td>reddit.com</td>\n",
       "      <td>NaN</td>\n",
       "      <td>t3_l4cwr</td>\n",
       "      <td>t3_l4cwr</td>\n",
       "      <td>1</td>\n",
       "      <td>0</td>\n",
       "      <td>next up:  topeka department of tourism to adve...</td>\n",
       "    </tr>\n",
       "  </tbody>\n",
       "</table>\n",
       "<p>256 rows × 9 columns</p>\n",
       "</div>"
      ],
      "text/plain": [
       "               id                time     sr_name author_id parent_fullname  \\\n",
       "72    26152075672 2010-01-05 18:28:04  reddit.com     1f0kz      t1_c0i9pzd   \n",
       "88    26152155904 2010-01-06 15:07:54  reddit.com     39c3v        t3_amc7o   \n",
       "100   26152206094 2010-01-07 02:19:21  reddit.com     359bi      t1_c0icjcp   \n",
       "118   26152304024 2010-01-07 23:51:02  reddit.com     3e38s        t3_amzrt   \n",
       "130   26152403158 2010-01-08 23:24:12  reddit.com      obfm      t1_c0ig70f   \n",
       "...           ...                 ...         ...       ...             ...   \n",
       "3921  26285044822 2011-10-06 17:00:52  reddit.com     5duse      t1_c2pfmh8   \n",
       "3922  26285048899 2011-10-06 17:10:47  reddit.com     5n0u9      t1_c2pefn8   \n",
       "3927  26285078468 2011-10-06 18:24:30  reddit.com     40kcq      t1_c2pg8vj   \n",
       "3952  26285196009 2011-10-06 23:55:41  reddit.com     4pczt        t3_l3s9i   \n",
       "3989  26285420347 2011-10-07 14:15:25  reddit.com       NaN        t3_l4cwr   \n",
       "\n",
       "       post_id  upvotes  downvotes  \\\n",
       "72    t3_alxuf        3          0   \n",
       "88    t3_amc7o        1          0   \n",
       "100   t3_amkgy        8          0   \n",
       "118   t3_amzrt        9          0   \n",
       "130   t3_anaky        1          0   \n",
       "...        ...      ...        ...   \n",
       "3921  t3_ku8ms        0          0   \n",
       "3922  t3_l365s        6          0   \n",
       "3927  t3_l3auo       57          0   \n",
       "3952  t3_l3s9i        1          0   \n",
       "3989  t3_l4cwr        1          0   \n",
       "\n",
       "                                                   body  \n",
       "72    my dog was pretty tough, i'm thinking he can f...  \n",
       "88    can someone, anyone explain russell brand's se...  \n",
       "100                                             yessss!  \n",
       "118                                             lolwut?  \n",
       "130   leno scheduled himself to retire and then rene...  \n",
       "...                                                 ...  \n",
       "3921  so far, we haven't settled on a definition.\\n\\...  \n",
       "3922  a sistuh just fittin tah talk about the real o...  \n",
       "3927  [obligatory comment about how videos are block...  \n",
       "3952  [i just created one](http://www.reddit.com/r/urm)  \n",
       "3989  next up:  topeka department of tourism to adve...  \n",
       "\n",
       "[256 rows x 9 columns]"
      ]
     },
     "execution_count": 31,
     "metadata": {},
     "output_type": "execute_result"
    }
   ],
   "source": [
    "df[df[SR_NAME] == \"reddit.com\"]"
   ]
  },
  {
   "cell_type": "code",
   "execution_count": 32,
   "metadata": {},
   "outputs": [
    {
     "data": {
      "text/plain": [
       "sr_name\n",
       "AskReddit              2083\n",
       "pics                    605\n",
       "funny                   477\n",
       "politics                377\n",
       "gaming                  356\n",
       "WTF                     260\n",
       "reddit.com              256\n",
       "leagueoflegends         211\n",
       "worldnews               208\n",
       "videos                  205\n",
       "nba                     198\n",
       "IAmA                    189\n",
       "nfl                     183\n",
       "atheism                 181\n",
       "AdviceAnimals           177\n",
       "todayilearned           168\n",
       "CFB                     161\n",
       "trees                   160\n",
       "soccer                  131\n",
       "fffffffuuuuuuuuuuuu     125\n",
       "Name: count, dtype: int64"
      ]
     },
     "execution_count": 32,
     "metadata": {},
     "output_type": "execute_result"
    }
   ],
   "source": [
    "# Most popular subreddits\n",
    "df[SR_NAME].value_counts().nlargest(20)"
   ]
  }
 ],
 "metadata": {
  "kernelspec": {
   "display_name": "Python 3",
   "language": "python",
   "name": "python3"
  },
  "language_info": {
   "codemirror_mode": {
    "name": "ipython",
    "version": 3
   },
   "file_extension": ".py",
   "mimetype": "text/x-python",
   "name": "python",
   "nbconvert_exporter": "python",
   "pygments_lexer": "ipython3",
   "version": "3.11.6"
  }
 },
 "nbformat": 4,
 "nbformat_minor": 2
}
