{
 "cells": [
  {
   "cell_type": "code",
   "execution_count": null,
   "metadata": {},
   "outputs": [],
   "source": [
    "!pip install praw pandas seaborn scipy"
   ]
  },
  {
   "cell_type": "code",
   "execution_count": 5,
   "metadata": {},
   "outputs": [],
   "source": [
    "import csv\n",
    "from datetime import datetime\n",
    "from matplotlib import pyplot as plt\n",
    "import numpy as np\n",
    "import pandas as pd\n",
    "import praw\n",
    "import prawcore\n",
    "import random\n",
    "import seaborn as sns\n",
    "from typing import Callable\n",
    "\n",
    "from utils import *\n",
    "\n",
    "sns.set_theme()"
   ]
  },
  {
   "cell_type": "code",
   "execution_count": 54,
   "metadata": {},
   "outputs": [],
   "source": [
    "import logging\n",
    "\n",
    "# This will log everything\n",
    "LOG = True\n",
    "if LOG:\n",
    "    handler = logging.StreamHandler()\n",
    "    handler.setLevel(logging.DEBUG)\n",
    "    for logger_name in (\"praw\", \"prawcore\"):\n",
    "        logger = logging.getLogger(logger_name)\n",
    "        logger.setLevel(logging.DEBUG)\n",
    "        logger.addHandler(handler)"
   ]
  },
  {
   "cell_type": "code",
   "execution_count": 2,
   "metadata": {},
   "outputs": [],
   "source": [
    "# Create the Reddit instance to do all the API stuff with\n",
    "reddit = init_reddit()"
   ]
  },
  {
   "cell_type": "code",
   "execution_count": 47,
   "metadata": {},
   "outputs": [],
   "source": [
    "keywords = [\n",
    "    \"trauma\",\n",
    "    \"gaslight\",\n",
    "    \"trigger\",\n",
    "    \"toxic\",\n",
    "    \"woke\",\n",
    "    \"manipulat\",\n",
    "    \"microaggression\",\n",
    "    \"autis\",\n",
    "    \"adhd\",\n",
    "    \"ocd\",\n",
    "    \"ptsd\",\n",
    "    \"bipolar\",\n",
    "    \"anxiety\",\n",
    "    \"depress\",\n",
    "    \"psycho\",\n",
    "    \"delusion\",\n",
    "    \"delulu\",\n",
    "    \"solulu\",\n",
    "    \"addict\",\n",
    "    \"abus\",\n",
    "    \"unstable\",\n",
    "    \"narcissis\",\n",
    "    \"addict\",\n",
    "    \"neurodivergen\",\n",
    "]"
   ]
  },
  {
   "cell_type": "markdown",
   "metadata": {},
   "source": [
    "# Searching for posts by keyword\n",
    "\n",
    "This won't find comments with the keyword but whatever, could be useful for giving us an idea of which subreddits have which words"
   ]
  },
  {
   "cell_type": "code",
   "execution_count": 47,
   "metadata": {},
   "outputs": [],
   "source": [
    "keyword_listings = search(\n",
    "    reddit.subreddit(\"all\"),\n",
    "    \" OR \".join(f\"{keyword}~\" for keyword in keywords),\n",
    ")"
   ]
  },
  {
   "cell_type": "code",
   "execution_count": 59,
   "metadata": {},
   "outputs": [],
   "source": [
    "with open(\"search-all-by-keyword.csv\", \"a\") as file:\n",
    "    writer = csv.writer(file, quoting=csv.QUOTE_MINIMAL)\n",
    "\n",
    "    i = 0\n",
    "    for submission in keyword_listings:\n",
    "        writer.writerow(comment_relevant_fields(submission))\n",
    "        i += 1\n",
    "        if i > 10:\n",
    "            break"
   ]
  },
  {
   "cell_type": "markdown",
   "metadata": {},
   "source": [
    "# Getting comments from a post"
   ]
  },
  {
   "cell_type": "code",
   "execution_count": 3,
   "metadata": {},
   "outputs": [
    {
     "name": "stderr",
     "output_type": "stream",
     "text": [
      "Fetching: GET https://oauth.reddit.com/r/unix/search/ at 1706734256.1732607\n",
      "Data: None\n",
      "Params: {'after': 't3_18zyt6g',\n",
      " 'limit': 100,\n",
      " 'q': '*',\n",
      " 'raw_json': 1,\n",
      " 'restrict_sr': True,\n",
      " 'sort': 'relevance',\n",
      " 'syntax': 'lucene',\n",
      " 't': 'all'}\n",
      "Response: 200 (62399 bytes) (rst-177:rem-599.0:used-1 ratelimit) at 1706734258.9487572\n"
     ]
    },
    {
     "data": {
      "text/plain": [
       "[Submission(id='1865xk2'),\n",
       " Submission(id='18qw8g9'),\n",
       " Submission(id='12pol3l'),\n",
       " Submission(id='17nn015'),\n",
       " Submission(id='18m7ea8'),\n",
       " Submission(id='17rre4b'),\n",
       " Submission(id='181hlcv'),\n",
       " Submission(id='zxulj4'),\n",
       " Submission(id='17jgifc'),\n",
       " Submission(id='18argdy'),\n",
       " Submission(id='18k6tli'),\n",
       " Submission(id='17tsw5v'),\n",
       " Submission(id='110nkii'),\n",
       " Submission(id='18jhs81'),\n",
       " Submission(id='17w07g9'),\n",
       " Submission(id='11bs899'),\n",
       " Submission(id='17l0qif'),\n",
       " Submission(id='17e2r50'),\n",
       " Submission(id='189vzyq'),\n",
       " Submission(id='17u0tl6'),\n",
       " Submission(id='18bcwv3'),\n",
       " Submission(id='17l8aq6'),\n",
       " Submission(id='17mtz7p'),\n",
       " Submission(id='17jpid4'),\n",
       " Submission(id='180l0ea'),\n",
       " Submission(id='16fc9dt'),\n",
       " Submission(id='184l9kb'),\n",
       " Submission(id='17lmjmt'),\n",
       " Submission(id='xpb2l8'),\n",
       " Submission(id='1856q95'),\n",
       " Submission(id='17vas0t'),\n",
       " Submission(id='10g0742'),\n",
       " Submission(id='17y11qr'),\n",
       " Submission(id='17tiiw2'),\n",
       " Submission(id='1816txd'),\n",
       " Submission(id='15swuun'),\n",
       " Submission(id='11wnw56'),\n",
       " Submission(id='qx308u'),\n",
       " Submission(id='16idcqk'),\n",
       " Submission(id='17w07d4'),\n",
       " Submission(id='17r9xz6'),\n",
       " Submission(id='17tmj9w'),\n",
       " Submission(id='14d9gan'),\n",
       " Submission(id='17gr6w4'),\n",
       " Submission(id='17gsxt5'),\n",
       " Submission(id='177ejvv'),\n",
       " Submission(id='179wy2s'),\n",
       " Submission(id='158909p'),\n",
       " Submission(id='17f5tlc'),\n",
       " Submission(id='158nxdo'),\n",
       " Submission(id='16u56dg'),\n",
       " Submission(id='16xq780'),\n",
       " Submission(id='14n5u74'),\n",
       " Submission(id='17c18r0'),\n",
       " Submission(id='zbjnt3'),\n",
       " Submission(id='15umeym'),\n",
       " Submission(id='13or8xt'),\n",
       " Submission(id='162wzsp'),\n",
       " Submission(id='14xu58u'),\n",
       " Submission(id='158ce0q'),\n",
       " Submission(id='11gelwn'),\n",
       " Submission(id='15sx5xa'),\n",
       " Submission(id='uwuw85'),\n",
       " Submission(id='11hiilm'),\n",
       " Submission(id='148dlcw'),\n",
       " Submission(id='16h6008'),\n",
       " Submission(id='14riexw'),\n",
       " Submission(id='152hr8c'),\n",
       " Submission(id='16yc565'),\n",
       " Submission(id='160oaqd'),\n",
       " Submission(id='15srq2u'),\n",
       " Submission(id='16wtw9k'),\n",
       " Submission(id='zli8qz'),\n",
       " Submission(id='11wgy5k'),\n",
       " Submission(id='151c54t'),\n",
       " Submission(id='15g7tl1'),\n",
       " Submission(id='10fsfc8'),\n",
       " Submission(id='zpc1ea'),\n",
       " Submission(id='13vl3yd'),\n",
       " Submission(id='15x5nhx'),\n",
       " Submission(id='12zj9c0'),\n",
       " Submission(id='z5o8z4'),\n",
       " Submission(id='147jvd5'),\n",
       " Submission(id='13pof5m'),\n",
       " Submission(id='16ft0tl'),\n",
       " Submission(id='1515tte'),\n",
       " Submission(id='15xuoy8'),\n",
       " Submission(id='10o1smo'),\n",
       " Submission(id='11zfhsy'),\n",
       " Submission(id='15dsu5h'),\n",
       " Submission(id='13344wy'),\n",
       " Submission(id='14djs5a'),\n",
       " Submission(id='166cphx'),\n",
       " Submission(id='14afrgj'),\n",
       " Submission(id='14lbmoq'),\n",
       " Submission(id='yjxjgu'),\n",
       " Submission(id='166y8im'),\n",
       " Submission(id='150v64i'),\n",
       " Submission(id='14yn07w'),\n",
       " Submission(id='163lsdm')]"
      ]
     },
     "execution_count": 3,
     "metadata": {},
     "output_type": "execute_result"
    }
   ],
   "source": [
    "listing = reddit.subreddit(\"unix\").search('*', params={ \"after\": \"t3_18zyt6g\", \"restrict_sr\": True })\n",
    "submissions = list(listing)\n",
    "submissions"
   ]
  },
  {
   "cell_type": "code",
   "execution_count": 8,
   "metadata": {},
   "outputs": [
    {
     "data": {
      "text/plain": [
       "['https://www.reddit.com/r/unix/comments/1865xk2/some_help_with_openssl_fileenc_from_machine_a_to/',\n",
       " 'https://www.idatum.net/upgrading-from-netbsd-51-to-10_rc1.html',\n",
       " 'https://www.reddit.com/r/unix/comments/12pol3l/searching_for_the_most_unusual_desktop_environment/',\n",
       " 'https://www.reddit.com/r/unix/comments/17nn015/beginner_question_how_to_properly_implement_dup2/',\n",
       " 'https://www.delhi-magazine.com/education/overview-of-unix-operating-system/',\n",
       " 'https://www.reddit.com/r/unix/comments/17rre4b/mongoose_not_accepting_callback/',\n",
       " 'https://www.reddit.com/r/unix/comments/181hlcv/new_to_mac/',\n",
       " 'https://www.reddit.com/r/unix/comments/zxulj4/fyi_grexorg_dies_on_2023_apr_15/',\n",
       " 'https://www.reddit.com/r/unix/comments/17jgifc/kali_linux_error/',\n",
       " 'https://byte-sized.de/uncategorized/freebsd-streaming-mit-chromium-moeglich-dank-widevine-support/#english',\n",
       " 'https://freebsdfoundation.org/blog/2024-freebsd-community-survey-is-here/',\n",
       " 'https://i.redd.it/jmkzvzez7zzb1.png',\n",
       " 'https://i.redd.it/1xl4xiwjluha1.jpg',\n",
       " '/r/zfs/comments/18jgcv8/httm_now_directly_supports_time_machine_backups/',\n",
       " 'https://gist.github.com/grdscrc/2d0b0549f48950e12d0386bb0fbd8b4f',\n",
       " 'https://www.reddit.com/r/unix/comments/11bs899/people_who_regularly_use_a_unixlike_system_that/',\n",
       " 'https://www.reddit.com/r/unix/comments/17l0qif/cd_and_pwd/',\n",
       " 'https://www.reddit.com/r/unix/comments/17e2r50/cp_fail_source_and_destination_with_special_fully/',\n",
       " 'https://www.youtube.com/watch?v=8MqBnb3Y9JU',\n",
       " 'https://i.redd.it/wezw7ey5010c1.jpg',\n",
       " 'https://utcc.utoronto.ca/~cks/space/blog/unix/KernelNameCachesWhy',\n",
       " 'https://www.reddit.com/r/unix/comments/17l8aq6/termtris_19_release_with_lots_of_improvements_for/',\n",
       " 'https://www.reddit.com/r/unix/comments/17mtz7p/i_tried_to_create_a_public_domain_statement/',\n",
       " 'https://www.reddit.com/r/unix/comments/17jpid4/syntax_is_pain/',\n",
       " 'https://byte-sized.de/linux-unix/freebsd-jails-mithilfe-von-flavours-in-pot-erstellen/#english',\n",
       " 'https://www.reddit.com/r/unix/comments/16fc9dt/arent_the_passwords_in_unix_salted/',\n",
       " 'https://bentsukun.ch/posts/ramdisk-kernel/',\n",
       " 'https://www.reddit.com/r/unix/comments/17lmjmt/understanding_implementation_and_relationship_of/',\n",
       " 'https://www.reddit.com/r/unix/comments/xpb2l8/unix_is_a_junk_os_designed_by_a_committee_of_phds/',\n",
       " 'https://youtu.be/Iz7CD_uYUPg',\n",
       " 'https://byte-sized.de/linux-unix/task-framework-bsi-installieren-part-1/#english',\n",
       " 'https://www.theregister.com/2023/01/17/unix_is_dead/',\n",
       " 'http://nuclear.mutantstargoat.com/blog/103-vt320_repair.html',\n",
       " 'https://netbsd.org/releases/formal-10/NetBSD-10.0.html',\n",
       " 'https://blog.robertelder.org/intro-to-stty-command/',\n",
       " 'https://www.reddit.com/r/unix/comments/15swuun/why_there_are_some_people_that_hates_js/',\n",
       " 'https://www.reddit.com/r/unix/comments/11wnw56/why_do_people_say_that_systemd_is_against_the/',\n",
       " 'https://www.reddit.com/r/unix/comments/qx308u/is_there_a_name_for_someone_that_will_only_use/',\n",
       " 'https://youtu.be/tuI2wX3ol2o?si=NAWCtEqHmbM819zG',\n",
       " 'https://gist.github.com/grdscrc/2d0b0549f48950e12d0386bb0fbd8b4f',\n",
       " 'https://www.youtube.com/live/K2zIxkxHo-Q?si=UzCmf-S-S10XyrX9',\n",
       " 'https://www.youtube.com/watch?v=NdW4Z8W8yaM',\n",
       " 'https://www.reddit.com/r/unix/comments/14d9gan/any_books_similar_to_lions_commentary_on_unix/',\n",
       " 'https://byte-sized.de/linux-unix/wegwerf-browser-fuer-freebsd-13-2-mit-pot/#english',\n",
       " 'http://phala.isatty.net/~amber/hacks/devfd',\n",
       " 'https://www.reddit.com/r/unix/comments/177ejvv/expected_behavior_of_uniq1_output_file_help_me/',\n",
       " 'https://how2terminal.com/',\n",
       " 'https://www.reddit.com/r/unix/comments/158909p/tldr_im_looking_for_an_answer_that_only_a_rank/',\n",
       " 'https://imil.net/blog/posts/2023/netbsd-as-a-k8s-pod/',\n",
       " 'https://i.redd.it/85ob3d9mezdb1.jpg',\n",
       " 'https://2023.eurobsdcon.org/slides/eurobsdcon2023-taylor_campbell-getstarted.pdf',\n",
       " 'https://www.reddit.com/gallery/16xq780',\n",
       " 'https://www.reddit.com/r/unix/comments/14n5u74/how_different_would_the_opensource_world_be_if/',\n",
       " '/r/LOPSA/comments/17c0yrt/2023_board_election_dates_and_call_for_candidates/',\n",
       " 'https://www.reddit.com/r/unix/comments/zbjnt3/what_is_the_current_ide_or_editor_for_c/',\n",
       " 'https://youtu.be/N_a9FJefxPo',\n",
       " 'https://www.reddit.com/r/unix/comments/13or8xt/why_can_i_cp_to_a_file_but_cannot_mv_to_the_file/',\n",
       " 'https://it-notes.dragas.net/2023/08/27/that-old-netbsd-server-running-since-2010/',\n",
       " 'https://www.reddit.com/r/unix/comments/14xu58u/printing_error/',\n",
       " 'https://www.reddit.com/r/unix/comments/158ce0q/how_to_monitor_a_production_environment/',\n",
       " 'https://www.reddit.com/r/unix/comments/11gelwn/the_open_group/',\n",
       " 'https://www.reddit.com/r/unix/comments/15sx5xa/how_to_find_serial_numbers_on_fresh_installed_unix/',\n",
       " 'https://www.reddit.com/r/unix/comments/uwuw85/how_do_you_pronounce_daemon/',\n",
       " 'https://www.reddit.com/r/unix/comments/11hiilm/is_there_a_free_bootable_nix_that_i_can_checksum/',\n",
       " 'https://www.reddit.com/r/unix/comments/148dlcw/first_ever_rice/',\n",
       " 'https://www.youtube.com/watch?v=YrbjqUIz8ck',\n",
       " 'https://www.reddit.com/r/unix/comments/14riexw/what_do_people_here_think_of_qnx/',\n",
       " 'https://www.reddit.com/r/unix/comments/152hr8c/shebangs_cant_be_used_with_relative_paths_so_i/',\n",
       " '/r/linuxquestions/comments/16yc3yt/stream_just_application_from_macos_to_windows/',\n",
       " 'http://blog.syncpup.com/posts/foreach-derp-with-csh.html',\n",
       " 'https://www.reddit.com/r/unix/comments/15srq2u/is_there_anything_i_can_do_with_these_things/',\n",
       " 'https://www.oreilly.com/openbook/opensources/book/kirkmck.html',\n",
       " 'https://www.reddit.com/r/unix/comments/zli8qz/i_think_minix3_is_dead/',\n",
       " 'https://www.reddit.com/r/unix/comments/11wgy5k/what_is_the_unix_philosophy/',\n",
       " 'https://v.redd.it/dhm4d8e84dcb1',\n",
       " 'https://www.reddit.com/r/unix/comments/15g7tl1/question/',\n",
       " 'https://www.reddit.com/r/unix/comments/10fsfc8/is_oracle_solaris_in_use_anymore/',\n",
       " 'https://www.reddit.com/r/unix/comments/zpc1ea/unixlike_for_lisp_systems/',\n",
       " 'https://www.reddit.com/r/unix/comments/13vl3yd/pure_unix_iso_image_download/',\n",
       " 'https://i.redd.it/d4vxlbh6egjb1.jpg',\n",
       " 'https://www.reddit.com/r/unix/comments/12zj9c0/central_reverseproxy_ssh_access/',\n",
       " 'https://i.redd.it/nmtrwbmdef2a1.jpg',\n",
       " 'https://www.gnu.org/software/hurd/news/2023-06-11-debian_gnu_hurd_2023.html',\n",
       " 'https://www.reddit.com/r/unix/comments/13pof5m/postfix_help/',\n",
       " '/r/linuxquestions/comments/16fe4kc/line_terminal_recommendation/',\n",
       " 'https://www.reddit.com/r/unix/comments/1515tte/ssh_tunnel_manager/',\n",
       " 'https://youtu.be/NqP570dEv5M',\n",
       " 'https://www.reddit.com/r/unix/comments/10o1smo/how_is_ix_pronounced/',\n",
       " 'https://www.reddit.com/r/unix/comments/11zfhsy/unix_for_people_with_0_background_in_programming/',\n",
       " 'https://i.redd.it/rsauvhhvc5fb1.jpg',\n",
       " 'https://www.reddit.com/r/unix/comments/13344wy/someone_please_explain_the_sort_function_to_me/',\n",
       " 'https://www.reddit.com/r/unix/comments/14djs5a/freebsd_turns_30_today/',\n",
       " 'https://byte-sized.de/linux-unix/pot-ein-jail-manager-fuer-freebsd/#english',\n",
       " 'https://www.reddit.com/r/unix/comments/14afrgj/what_does_usrbinenv_do/',\n",
       " 'https://www.reddit.com/r/unix/comments/14lbmoq/octal_info/',\n",
       " 'https://www.reddit.com/r/unix/comments/yjxjgu/the_telnet_effect_youve_never_heard_of_netcat/',\n",
       " 'https://muhammadraza.me/2023/grep-log-analysis/',\n",
       " 'https://www.reddit.com/r/unix/comments/150v64i/help_me_bring_about_freedom_respecting_technology/',\n",
       " 'https://www.reddit.com/r/unix/comments/14yn07w/unable_to_run_commands_in_history_sh_not_found/',\n",
       " 'https://xeiaso.net/talks/unix-philosophy-logical-extreme-wasm']"
      ]
     },
     "execution_count": 8,
     "metadata": {},
     "output_type": "execute_result"
    }
   ],
   "source": [
    "[s.url for s in submissions]"
   ]
  },
  {
   "cell_type": "code",
   "execution_count": 9,
   "metadata": {},
   "outputs": [],
   "source": [
    "comments = submissions[0].comments.list()\n",
    "comments"
   ]
  },
  {
   "cell_type": "code",
   "execution_count": 11,
   "metadata": {},
   "outputs": [
    {
     "data": {
      "text/plain": [
       "'Bash vs zsh won’t make a difference, but Sonoma has LibreSSL 3, and Mojave…doesn’t. I’m not sure what version it does have, but OpenSSL 1.0.2 was contemporary with Mojave so it cant be anything newer. I know for sure there were some breaking changes between 1.0.x and 1.1.x, and more between 1.1.x and 3.0.x.\\n\\nYou need to remember that OpenSSL is a suite of encryption primitives. Presentation will make a huge difference. The `openssl` command is really only intended as a developer/debugging tool for prototyping the library and not really meant to for end user facing purposes.\\n\\nTry these:\\n\\n* `openssl enc -e -aes-256-cbc -salt -a`\\n* `openssl enc -d -aes-256-cbc -salt -a`\\n\\nThe `-a` uses ascii encoding and that may get around the issue you’re having. If not, then you’re probably completely out of luck with using openssl in this case.'"
      ]
     },
     "execution_count": 11,
     "metadata": {},
     "output_type": "execute_result"
    }
   ],
   "source": [
    "comments[0].body"
   ]
  },
  {
   "cell_type": "markdown",
   "metadata": {},
   "source": [
    "# Sampling comments randomly (by ID)\n",
    "\n",
    "Since IDs are sequential, we can just sample them. But this won't guarantee all the keywords we want will show up"
   ]
  },
  {
   "cell_type": "code",
   "execution_count": 3,
   "metadata": {},
   "outputs": [],
   "source": [
    "random.seed(0)\n",
    "\n",
    "first_id = int(\"1000000\", 36)  # todo find the ID of the first post we want to analyze\n",
    "last_id = int(\"k000000\", 36)  # todo find the ID of the last post we want to analyze"
   ]
  },
  {
   "cell_type": "code",
   "execution_count": 31,
   "metadata": {},
   "outputs": [],
   "source": [
    "# Run to restore state\n",
    "with open(\"rand-state.txt\", \"r\") as file:\n",
    "    random.setstate(eval(file.readline())) # todo deserialize properly"
   ]
  },
  {
   "cell_type": "markdown",
   "metadata": {},
   "source": [
    "## Query Comments"
   ]
  },
  {
   "cell_type": "code",
   "execution_count": 32,
   "metadata": {},
   "outputs": [
    {
     "ename": "KeyboardInterrupt",
     "evalue": "",
     "output_type": "error",
     "traceback": [
      "\u001b[0;31m---------------------------------------------------------------------------\u001b[0m",
      "\u001b[0;31mKeyboardInterrupt\u001b[0m                         Traceback (most recent call last)",
      "Cell \u001b[0;32mIn[32], line 13\u001b[0m\n\u001b[1;32m     11\u001b[0m \u001b[38;5;28;01mtry\u001b[39;00m:\n\u001b[1;32m     12\u001b[0m     hits \u001b[38;5;241m=\u001b[39m []\n\u001b[0;32m---> 13\u001b[0m     \u001b[38;5;28;01mfor\u001b[39;00m submission \u001b[38;5;129;01min\u001b[39;00m info:\n\u001b[1;32m     14\u001b[0m         \u001b[38;5;28;01massert\u001b[39;00m submission\u001b[38;5;241m.\u001b[39mname\u001b[38;5;241m.\u001b[39mstartswith(\u001b[38;5;124m\"\u001b[39m\u001b[38;5;124mt1\u001b[39m\u001b[38;5;124m\"\u001b[39m), submission\u001b[38;5;241m.\u001b[39mname\n\u001b[1;32m     15\u001b[0m         hits\u001b[38;5;241m.\u001b[39mappend(submission\u001b[38;5;241m.\u001b[39mname)\n",
      "File \u001b[0;32m~/.virtualenvs/praw-playground/lib/python3.10/site-packages/praw/reddit.py:779\u001b[0m, in \u001b[0;36mReddit.info.<locals>.generator\u001b[0;34m(names)\u001b[0m\n\u001b[1;32m    777\u001b[0m     \u001b[38;5;28;01mbreak\u001b[39;00m\n\u001b[1;32m    778\u001b[0m params \u001b[38;5;241m=\u001b[39m {api_parameter_name: \u001b[38;5;124m\"\u001b[39m\u001b[38;5;124m,\u001b[39m\u001b[38;5;124m\"\u001b[39m\u001b[38;5;241m.\u001b[39mjoin(chunk)}\n\u001b[0;32m--> 779\u001b[0m \u001b[38;5;28;01mfor\u001b[39;00m result \u001b[38;5;129;01min\u001b[39;00m \u001b[38;5;28;43mself\u001b[39;49m\u001b[38;5;241;43m.\u001b[39;49m\u001b[43mget\u001b[49m\u001b[43m(\u001b[49m\u001b[43mAPI_PATH\u001b[49m\u001b[43m[\u001b[49m\u001b[38;5;124;43m\"\u001b[39;49m\u001b[38;5;124;43minfo\u001b[39;49m\u001b[38;5;124;43m\"\u001b[39;49m\u001b[43m]\u001b[49m\u001b[43m,\u001b[49m\u001b[43m \u001b[49m\u001b[43mparams\u001b[49m\u001b[38;5;241;43m=\u001b[39;49m\u001b[43mparams\u001b[49m\u001b[43m)\u001b[49m:\n\u001b[1;32m    780\u001b[0m     \u001b[38;5;28;01myield\u001b[39;00m result\n",
      "File \u001b[0;32m~/.virtualenvs/praw-playground/lib/python3.10/site-packages/praw/util/deprecate_args.py:43\u001b[0m, in \u001b[0;36m_deprecate_args.<locals>.wrapper.<locals>.wrapped\u001b[0;34m(*args, **kwargs)\u001b[0m\n\u001b[1;32m     36\u001b[0m     arg_string \u001b[38;5;241m=\u001b[39m _generate_arg_string(_old_args[: \u001b[38;5;28mlen\u001b[39m(args)])\n\u001b[1;32m     37\u001b[0m     warn(\n\u001b[1;32m     38\u001b[0m         \u001b[38;5;124mf\u001b[39m\u001b[38;5;124m\"\u001b[39m\u001b[38;5;124mPositional arguments for \u001b[39m\u001b[38;5;132;01m{\u001b[39;00mfunc\u001b[38;5;241m.\u001b[39m\u001b[38;5;18m__qualname__\u001b[39m\u001b[38;5;132;01m!r}\u001b[39;00m\u001b[38;5;124m will no longer be\u001b[39m\u001b[38;5;124m\"\u001b[39m\n\u001b[1;32m     39\u001b[0m         \u001b[38;5;124mf\u001b[39m\u001b[38;5;124m\"\u001b[39m\u001b[38;5;124m supported in PRAW 8.\u001b[39m\u001b[38;5;130;01m\\n\u001b[39;00m\u001b[38;5;124mCall this function with \u001b[39m\u001b[38;5;132;01m{\u001b[39;00marg_string\u001b[38;5;132;01m}\u001b[39;00m\u001b[38;5;124m.\u001b[39m\u001b[38;5;124m\"\u001b[39m,\n\u001b[1;32m     40\u001b[0m         \u001b[38;5;167;01mDeprecationWarning\u001b[39;00m,\n\u001b[1;32m     41\u001b[0m         stacklevel\u001b[38;5;241m=\u001b[39m\u001b[38;5;241m2\u001b[39m,\n\u001b[1;32m     42\u001b[0m     )\n\u001b[0;32m---> 43\u001b[0m \u001b[38;5;28;01mreturn\u001b[39;00m \u001b[43mfunc\u001b[49m\u001b[43m(\u001b[49m\u001b[38;5;241;43m*\u001b[39;49m\u001b[38;5;241;43m*\u001b[39;49m\u001b[38;5;28;43mdict\u001b[39;49m\u001b[43m(\u001b[49m\u001b[38;5;28;43mzip\u001b[39;49m\u001b[43m(\u001b[49m\u001b[43m_old_args\u001b[49m\u001b[43m,\u001b[49m\u001b[43m \u001b[49m\u001b[43margs\u001b[49m\u001b[43m)\u001b[49m\u001b[43m)\u001b[49m\u001b[43m,\u001b[49m\u001b[43m \u001b[49m\u001b[38;5;241;43m*\u001b[39;49m\u001b[38;5;241;43m*\u001b[39;49m\u001b[43mkwargs\u001b[49m\u001b[43m)\u001b[49m\n",
      "File \u001b[0;32m~/.virtualenvs/praw-playground/lib/python3.10/site-packages/praw/reddit.py:712\u001b[0m, in \u001b[0;36mReddit.get\u001b[0;34m(self, path, params)\u001b[0m\n\u001b[1;32m    699\u001b[0m \u001b[38;5;129m@_deprecate_args\u001b[39m(\u001b[38;5;124m\"\u001b[39m\u001b[38;5;124mpath\u001b[39m\u001b[38;5;124m\"\u001b[39m, \u001b[38;5;124m\"\u001b[39m\u001b[38;5;124mparams\u001b[39m\u001b[38;5;124m\"\u001b[39m)\n\u001b[1;32m    700\u001b[0m \u001b[38;5;28;01mdef\u001b[39;00m \u001b[38;5;21mget\u001b[39m(\n\u001b[1;32m    701\u001b[0m     \u001b[38;5;28mself\u001b[39m,\n\u001b[0;32m   (...)\u001b[0m\n\u001b[1;32m    704\u001b[0m     params: Optional[Union[\u001b[38;5;28mstr\u001b[39m, Dict[\u001b[38;5;28mstr\u001b[39m, Union[\u001b[38;5;28mstr\u001b[39m, \u001b[38;5;28mint\u001b[39m]]]] \u001b[38;5;241m=\u001b[39m \u001b[38;5;28;01mNone\u001b[39;00m,\n\u001b[1;32m    705\u001b[0m ):\n\u001b[1;32m    706\u001b[0m \u001b[38;5;250m    \u001b[39m\u001b[38;5;124;03m\"\"\"Return parsed objects returned from a GET request to ``path``.\u001b[39;00m\n\u001b[1;32m    707\u001b[0m \n\u001b[1;32m    708\u001b[0m \u001b[38;5;124;03m    :param path: The path to fetch.\u001b[39;00m\n\u001b[1;32m    709\u001b[0m \u001b[38;5;124;03m    :param params: The query parameters to add to the request (default: ``None``).\u001b[39;00m\n\u001b[1;32m    710\u001b[0m \n\u001b[1;32m    711\u001b[0m \u001b[38;5;124;03m    \"\"\"\u001b[39;00m\n\u001b[0;32m--> 712\u001b[0m     \u001b[38;5;28;01mreturn\u001b[39;00m \u001b[38;5;28;43mself\u001b[39;49m\u001b[38;5;241;43m.\u001b[39;49m\u001b[43m_objectify_request\u001b[49m\u001b[43m(\u001b[49m\u001b[43mmethod\u001b[49m\u001b[38;5;241;43m=\u001b[39;49m\u001b[38;5;124;43m\"\u001b[39;49m\u001b[38;5;124;43mGET\u001b[39;49m\u001b[38;5;124;43m\"\u001b[39;49m\u001b[43m,\u001b[49m\u001b[43m \u001b[49m\u001b[43mparams\u001b[49m\u001b[38;5;241;43m=\u001b[39;49m\u001b[43mparams\u001b[49m\u001b[43m,\u001b[49m\u001b[43m \u001b[49m\u001b[43mpath\u001b[49m\u001b[38;5;241;43m=\u001b[39;49m\u001b[43mpath\u001b[49m\u001b[43m)\u001b[49m\n",
      "File \u001b[0;32m~/.virtualenvs/praw-playground/lib/python3.10/site-packages/praw/reddit.py:517\u001b[0m, in \u001b[0;36mReddit._objectify_request\u001b[0;34m(self, data, files, json, method, params, path)\u001b[0m\n\u001b[1;32m    491\u001b[0m \u001b[38;5;28;01mdef\u001b[39;00m \u001b[38;5;21m_objectify_request\u001b[39m(\n\u001b[1;32m    492\u001b[0m     \u001b[38;5;28mself\u001b[39m,\n\u001b[1;32m    493\u001b[0m     \u001b[38;5;241m*\u001b[39m,\n\u001b[0;32m   (...)\u001b[0m\n\u001b[1;32m    499\u001b[0m     path: \u001b[38;5;28mstr\u001b[39m \u001b[38;5;241m=\u001b[39m \u001b[38;5;124m\"\u001b[39m\u001b[38;5;124m\"\u001b[39m,\n\u001b[1;32m    500\u001b[0m ) \u001b[38;5;241m-\u001b[39m\u001b[38;5;241m>\u001b[39m Any:\n\u001b[1;32m    501\u001b[0m \u001b[38;5;250m    \u001b[39m\u001b[38;5;124;03m\"\"\"Run a request through the ``Objector``.\u001b[39;00m\n\u001b[1;32m    502\u001b[0m \n\u001b[1;32m    503\u001b[0m \u001b[38;5;124;03m    :param data: Dictionary, bytes, or file-like object to send in the body of the\u001b[39;00m\n\u001b[0;32m   (...)\u001b[0m\n\u001b[1;32m    514\u001b[0m \n\u001b[1;32m    515\u001b[0m \u001b[38;5;124;03m    \"\"\"\u001b[39;00m\n\u001b[1;32m    516\u001b[0m     \u001b[38;5;28;01mreturn\u001b[39;00m \u001b[38;5;28mself\u001b[39m\u001b[38;5;241m.\u001b[39m_objector\u001b[38;5;241m.\u001b[39mobjectify(\n\u001b[0;32m--> 517\u001b[0m         \u001b[38;5;28;43mself\u001b[39;49m\u001b[38;5;241;43m.\u001b[39;49m\u001b[43mrequest\u001b[49m\u001b[43m(\u001b[49m\n\u001b[1;32m    518\u001b[0m \u001b[43m            \u001b[49m\u001b[43mdata\u001b[49m\u001b[38;5;241;43m=\u001b[39;49m\u001b[43mdata\u001b[49m\u001b[43m,\u001b[49m\n\u001b[1;32m    519\u001b[0m \u001b[43m            \u001b[49m\u001b[43mfiles\u001b[49m\u001b[38;5;241;43m=\u001b[39;49m\u001b[43mfiles\u001b[49m\u001b[43m,\u001b[49m\n\u001b[1;32m    520\u001b[0m \u001b[43m            \u001b[49m\u001b[43mjson\u001b[49m\u001b[38;5;241;43m=\u001b[39;49m\u001b[43mjson\u001b[49m\u001b[43m,\u001b[49m\n\u001b[1;32m    521\u001b[0m \u001b[43m            \u001b[49m\u001b[43mmethod\u001b[49m\u001b[38;5;241;43m=\u001b[39;49m\u001b[43mmethod\u001b[49m\u001b[43m,\u001b[49m\n\u001b[1;32m    522\u001b[0m \u001b[43m            \u001b[49m\u001b[43mparams\u001b[49m\u001b[38;5;241;43m=\u001b[39;49m\u001b[43mparams\u001b[49m\u001b[43m,\u001b[49m\n\u001b[1;32m    523\u001b[0m \u001b[43m            \u001b[49m\u001b[43mpath\u001b[49m\u001b[38;5;241;43m=\u001b[39;49m\u001b[43mpath\u001b[49m\u001b[43m,\u001b[49m\n\u001b[1;32m    524\u001b[0m \u001b[43m        \u001b[49m\u001b[43m)\u001b[49m\n\u001b[1;32m    525\u001b[0m     )\n",
      "File \u001b[0;32m~/.virtualenvs/praw-playground/lib/python3.10/site-packages/praw/util/deprecate_args.py:43\u001b[0m, in \u001b[0;36m_deprecate_args.<locals>.wrapper.<locals>.wrapped\u001b[0;34m(*args, **kwargs)\u001b[0m\n\u001b[1;32m     36\u001b[0m     arg_string \u001b[38;5;241m=\u001b[39m _generate_arg_string(_old_args[: \u001b[38;5;28mlen\u001b[39m(args)])\n\u001b[1;32m     37\u001b[0m     warn(\n\u001b[1;32m     38\u001b[0m         \u001b[38;5;124mf\u001b[39m\u001b[38;5;124m\"\u001b[39m\u001b[38;5;124mPositional arguments for \u001b[39m\u001b[38;5;132;01m{\u001b[39;00mfunc\u001b[38;5;241m.\u001b[39m\u001b[38;5;18m__qualname__\u001b[39m\u001b[38;5;132;01m!r}\u001b[39;00m\u001b[38;5;124m will no longer be\u001b[39m\u001b[38;5;124m\"\u001b[39m\n\u001b[1;32m     39\u001b[0m         \u001b[38;5;124mf\u001b[39m\u001b[38;5;124m\"\u001b[39m\u001b[38;5;124m supported in PRAW 8.\u001b[39m\u001b[38;5;130;01m\\n\u001b[39;00m\u001b[38;5;124mCall this function with \u001b[39m\u001b[38;5;132;01m{\u001b[39;00marg_string\u001b[38;5;132;01m}\u001b[39;00m\u001b[38;5;124m.\u001b[39m\u001b[38;5;124m\"\u001b[39m,\n\u001b[1;32m     40\u001b[0m         \u001b[38;5;167;01mDeprecationWarning\u001b[39;00m,\n\u001b[1;32m     41\u001b[0m         stacklevel\u001b[38;5;241m=\u001b[39m\u001b[38;5;241m2\u001b[39m,\n\u001b[1;32m     42\u001b[0m     )\n\u001b[0;32m---> 43\u001b[0m \u001b[38;5;28;01mreturn\u001b[39;00m \u001b[43mfunc\u001b[49m\u001b[43m(\u001b[49m\u001b[38;5;241;43m*\u001b[39;49m\u001b[38;5;241;43m*\u001b[39;49m\u001b[38;5;28;43mdict\u001b[39;49m\u001b[43m(\u001b[49m\u001b[38;5;28;43mzip\u001b[39;49m\u001b[43m(\u001b[49m\u001b[43m_old_args\u001b[49m\u001b[43m,\u001b[49m\u001b[43m \u001b[49m\u001b[43margs\u001b[49m\u001b[43m)\u001b[49m\u001b[43m)\u001b[49m\u001b[43m,\u001b[49m\u001b[43m \u001b[49m\u001b[38;5;241;43m*\u001b[39;49m\u001b[38;5;241;43m*\u001b[39;49m\u001b[43mkwargs\u001b[49m\u001b[43m)\u001b[49m\n",
      "File \u001b[0;32m~/.virtualenvs/praw-playground/lib/python3.10/site-packages/praw/reddit.py:941\u001b[0m, in \u001b[0;36mReddit.request\u001b[0;34m(self, data, files, json, method, params, path)\u001b[0m\n\u001b[1;32m    939\u001b[0m     \u001b[38;5;28;01mraise\u001b[39;00m ClientException(\u001b[38;5;124m\"\u001b[39m\u001b[38;5;124mAt most one of \u001b[39m\u001b[38;5;124m'\u001b[39m\u001b[38;5;124mdata\u001b[39m\u001b[38;5;124m'\u001b[39m\u001b[38;5;124m or \u001b[39m\u001b[38;5;124m'\u001b[39m\u001b[38;5;124mjson\u001b[39m\u001b[38;5;124m'\u001b[39m\u001b[38;5;124m is supported.\u001b[39m\u001b[38;5;124m\"\u001b[39m)\n\u001b[1;32m    940\u001b[0m \u001b[38;5;28;01mtry\u001b[39;00m:\n\u001b[0;32m--> 941\u001b[0m     \u001b[38;5;28;01mreturn\u001b[39;00m \u001b[38;5;28;43mself\u001b[39;49m\u001b[38;5;241;43m.\u001b[39;49m\u001b[43m_core\u001b[49m\u001b[38;5;241;43m.\u001b[39;49m\u001b[43mrequest\u001b[49m\u001b[43m(\u001b[49m\n\u001b[1;32m    942\u001b[0m \u001b[43m        \u001b[49m\u001b[43mdata\u001b[49m\u001b[38;5;241;43m=\u001b[39;49m\u001b[43mdata\u001b[49m\u001b[43m,\u001b[49m\n\u001b[1;32m    943\u001b[0m \u001b[43m        \u001b[49m\u001b[43mfiles\u001b[49m\u001b[38;5;241;43m=\u001b[39;49m\u001b[43mfiles\u001b[49m\u001b[43m,\u001b[49m\n\u001b[1;32m    944\u001b[0m \u001b[43m        \u001b[49m\u001b[43mjson\u001b[49m\u001b[38;5;241;43m=\u001b[39;49m\u001b[43mjson\u001b[49m\u001b[43m,\u001b[49m\n\u001b[1;32m    945\u001b[0m \u001b[43m        \u001b[49m\u001b[43mmethod\u001b[49m\u001b[38;5;241;43m=\u001b[39;49m\u001b[43mmethod\u001b[49m\u001b[43m,\u001b[49m\n\u001b[1;32m    946\u001b[0m \u001b[43m        \u001b[49m\u001b[43mparams\u001b[49m\u001b[38;5;241;43m=\u001b[39;49m\u001b[43mparams\u001b[49m\u001b[43m,\u001b[49m\n\u001b[1;32m    947\u001b[0m \u001b[43m        \u001b[49m\u001b[43mpath\u001b[49m\u001b[38;5;241;43m=\u001b[39;49m\u001b[43mpath\u001b[49m\u001b[43m,\u001b[49m\n\u001b[1;32m    948\u001b[0m \u001b[43m    \u001b[49m\u001b[43m)\u001b[49m\n\u001b[1;32m    949\u001b[0m \u001b[38;5;28;01mexcept\u001b[39;00m BadRequest \u001b[38;5;28;01mas\u001b[39;00m exception:\n\u001b[1;32m    950\u001b[0m     \u001b[38;5;28;01mtry\u001b[39;00m:\n",
      "File \u001b[0;32m~/.virtualenvs/praw-playground/lib/python3.10/site-packages/prawcore/sessions.py:328\u001b[0m, in \u001b[0;36mSession.request\u001b[0;34m(self, method, path, data, files, json, params, timeout)\u001b[0m\n\u001b[1;32m    326\u001b[0m     json[\u001b[38;5;124m\"\u001b[39m\u001b[38;5;124mapi_type\u001b[39m\u001b[38;5;124m\"\u001b[39m] \u001b[38;5;241m=\u001b[39m \u001b[38;5;124m\"\u001b[39m\u001b[38;5;124mjson\u001b[39m\u001b[38;5;124m\"\u001b[39m\n\u001b[1;32m    327\u001b[0m url \u001b[38;5;241m=\u001b[39m urljoin(\u001b[38;5;28mself\u001b[39m\u001b[38;5;241m.\u001b[39m_requestor\u001b[38;5;241m.\u001b[39moauth_url, path)\n\u001b[0;32m--> 328\u001b[0m \u001b[38;5;28;01mreturn\u001b[39;00m \u001b[38;5;28;43mself\u001b[39;49m\u001b[38;5;241;43m.\u001b[39;49m\u001b[43m_request_with_retries\u001b[49m\u001b[43m(\u001b[49m\n\u001b[1;32m    329\u001b[0m \u001b[43m    \u001b[49m\u001b[43mdata\u001b[49m\u001b[38;5;241;43m=\u001b[39;49m\u001b[43mdata\u001b[49m\u001b[43m,\u001b[49m\n\u001b[1;32m    330\u001b[0m \u001b[43m    \u001b[49m\u001b[43mfiles\u001b[49m\u001b[38;5;241;43m=\u001b[39;49m\u001b[43mfiles\u001b[49m\u001b[43m,\u001b[49m\n\u001b[1;32m    331\u001b[0m \u001b[43m    \u001b[49m\u001b[43mjson\u001b[49m\u001b[38;5;241;43m=\u001b[39;49m\u001b[43mjson\u001b[49m\u001b[43m,\u001b[49m\n\u001b[1;32m    332\u001b[0m \u001b[43m    \u001b[49m\u001b[43mmethod\u001b[49m\u001b[38;5;241;43m=\u001b[39;49m\u001b[43mmethod\u001b[49m\u001b[43m,\u001b[49m\n\u001b[1;32m    333\u001b[0m \u001b[43m    \u001b[49m\u001b[43mparams\u001b[49m\u001b[38;5;241;43m=\u001b[39;49m\u001b[43mparams\u001b[49m\u001b[43m,\u001b[49m\n\u001b[1;32m    334\u001b[0m \u001b[43m    \u001b[49m\u001b[43mtimeout\u001b[49m\u001b[38;5;241;43m=\u001b[39;49m\u001b[43mtimeout\u001b[49m\u001b[43m,\u001b[49m\n\u001b[1;32m    335\u001b[0m \u001b[43m    \u001b[49m\u001b[43murl\u001b[49m\u001b[38;5;241;43m=\u001b[39;49m\u001b[43murl\u001b[49m\u001b[43m,\u001b[49m\n\u001b[1;32m    336\u001b[0m \u001b[43m\u001b[49m\u001b[43m)\u001b[49m\n",
      "File \u001b[0;32m~/.virtualenvs/praw-playground/lib/python3.10/site-packages/prawcore/sessions.py:234\u001b[0m, in \u001b[0;36mSession._request_with_retries\u001b[0;34m(self, data, files, json, method, params, timeout, url, retry_strategy_state)\u001b[0m\n\u001b[1;32m    232\u001b[0m retry_strategy_state\u001b[38;5;241m.\u001b[39msleep()\n\u001b[1;32m    233\u001b[0m \u001b[38;5;28mself\u001b[39m\u001b[38;5;241m.\u001b[39m_log_request(data, method, params, url)\n\u001b[0;32m--> 234\u001b[0m response, saved_exception \u001b[38;5;241m=\u001b[39m \u001b[38;5;28;43mself\u001b[39;49m\u001b[38;5;241;43m.\u001b[39;49m\u001b[43m_make_request\u001b[49m\u001b[43m(\u001b[49m\n\u001b[1;32m    235\u001b[0m \u001b[43m    \u001b[49m\u001b[43mdata\u001b[49m\u001b[43m,\u001b[49m\n\u001b[1;32m    236\u001b[0m \u001b[43m    \u001b[49m\u001b[43mfiles\u001b[49m\u001b[43m,\u001b[49m\n\u001b[1;32m    237\u001b[0m \u001b[43m    \u001b[49m\u001b[43mjson\u001b[49m\u001b[43m,\u001b[49m\n\u001b[1;32m    238\u001b[0m \u001b[43m    \u001b[49m\u001b[43mmethod\u001b[49m\u001b[43m,\u001b[49m\n\u001b[1;32m    239\u001b[0m \u001b[43m    \u001b[49m\u001b[43mparams\u001b[49m\u001b[43m,\u001b[49m\n\u001b[1;32m    240\u001b[0m \u001b[43m    \u001b[49m\u001b[43mretry_strategy_state\u001b[49m\u001b[43m,\u001b[49m\n\u001b[1;32m    241\u001b[0m \u001b[43m    \u001b[49m\u001b[43mtimeout\u001b[49m\u001b[43m,\u001b[49m\n\u001b[1;32m    242\u001b[0m \u001b[43m    \u001b[49m\u001b[43murl\u001b[49m\u001b[43m,\u001b[49m\n\u001b[1;32m    243\u001b[0m \u001b[43m\u001b[49m\u001b[43m)\u001b[49m\n\u001b[1;32m    245\u001b[0m do_retry \u001b[38;5;241m=\u001b[39m \u001b[38;5;28;01mFalse\u001b[39;00m\n\u001b[1;32m    246\u001b[0m \u001b[38;5;28;01mif\u001b[39;00m response \u001b[38;5;129;01mis\u001b[39;00m \u001b[38;5;129;01mnot\u001b[39;00m \u001b[38;5;28;01mNone\u001b[39;00m \u001b[38;5;129;01mand\u001b[39;00m response\u001b[38;5;241m.\u001b[39mstatus_code \u001b[38;5;241m==\u001b[39m codes[\u001b[38;5;124m\"\u001b[39m\u001b[38;5;124munauthorized\u001b[39m\u001b[38;5;124m\"\u001b[39m]:\n",
      "File \u001b[0;32m~/.virtualenvs/praw-playground/lib/python3.10/site-packages/prawcore/sessions.py:186\u001b[0m, in \u001b[0;36mSession._make_request\u001b[0;34m(self, data, files, json, method, params, retry_strategy_state, timeout, url)\u001b[0m\n\u001b[1;32m    174\u001b[0m \u001b[38;5;28;01mdef\u001b[39;00m \u001b[38;5;21m_make_request\u001b[39m(\n\u001b[1;32m    175\u001b[0m     \u001b[38;5;28mself\u001b[39m,\n\u001b[1;32m    176\u001b[0m     data: \u001b[38;5;28mlist\u001b[39m[\u001b[38;5;28mtuple\u001b[39m[\u001b[38;5;28mstr\u001b[39m, Any]],\n\u001b[0;32m   (...)\u001b[0m\n\u001b[1;32m    183\u001b[0m     url: \u001b[38;5;28mstr\u001b[39m,\n\u001b[1;32m    184\u001b[0m ) \u001b[38;5;241m-\u001b[39m\u001b[38;5;241m>\u001b[39m \u001b[38;5;28mtuple\u001b[39m[Response, \u001b[38;5;28;01mNone\u001b[39;00m] \u001b[38;5;241m|\u001b[39m \u001b[38;5;28mtuple\u001b[39m[\u001b[38;5;28;01mNone\u001b[39;00m, \u001b[38;5;167;01mException\u001b[39;00m]:\n\u001b[1;32m    185\u001b[0m     \u001b[38;5;28;01mtry\u001b[39;00m:\n\u001b[0;32m--> 186\u001b[0m         response \u001b[38;5;241m=\u001b[39m \u001b[38;5;28;43mself\u001b[39;49m\u001b[38;5;241;43m.\u001b[39;49m\u001b[43m_rate_limiter\u001b[49m\u001b[38;5;241;43m.\u001b[39;49m\u001b[43mcall\u001b[49m\u001b[43m(\u001b[49m\n\u001b[1;32m    187\u001b[0m \u001b[43m            \u001b[49m\u001b[38;5;28;43mself\u001b[39;49m\u001b[38;5;241;43m.\u001b[39;49m\u001b[43m_requestor\u001b[49m\u001b[38;5;241;43m.\u001b[39;49m\u001b[43mrequest\u001b[49m\u001b[43m,\u001b[49m\n\u001b[1;32m    188\u001b[0m \u001b[43m            \u001b[49m\u001b[38;5;28;43mself\u001b[39;49m\u001b[38;5;241;43m.\u001b[39;49m\u001b[43m_set_header_callback\u001b[49m\u001b[43m,\u001b[49m\n\u001b[1;32m    189\u001b[0m \u001b[43m            \u001b[49m\u001b[43mmethod\u001b[49m\u001b[43m,\u001b[49m\n\u001b[1;32m    190\u001b[0m \u001b[43m            \u001b[49m\u001b[43murl\u001b[49m\u001b[43m,\u001b[49m\n\u001b[1;32m    191\u001b[0m \u001b[43m            \u001b[49m\u001b[43mallow_redirects\u001b[49m\u001b[38;5;241;43m=\u001b[39;49m\u001b[38;5;28;43;01mFalse\u001b[39;49;00m\u001b[43m,\u001b[49m\n\u001b[1;32m    192\u001b[0m \u001b[43m            \u001b[49m\u001b[43mdata\u001b[49m\u001b[38;5;241;43m=\u001b[39;49m\u001b[43mdata\u001b[49m\u001b[43m,\u001b[49m\n\u001b[1;32m    193\u001b[0m \u001b[43m            \u001b[49m\u001b[43mfiles\u001b[49m\u001b[38;5;241;43m=\u001b[39;49m\u001b[43mfiles\u001b[49m\u001b[43m,\u001b[49m\n\u001b[1;32m    194\u001b[0m \u001b[43m            \u001b[49m\u001b[43mjson\u001b[49m\u001b[38;5;241;43m=\u001b[39;49m\u001b[43mjson\u001b[49m\u001b[43m,\u001b[49m\n\u001b[1;32m    195\u001b[0m \u001b[43m            \u001b[49m\u001b[43mparams\u001b[49m\u001b[38;5;241;43m=\u001b[39;49m\u001b[43mparams\u001b[49m\u001b[43m,\u001b[49m\n\u001b[1;32m    196\u001b[0m \u001b[43m            \u001b[49m\u001b[43mtimeout\u001b[49m\u001b[38;5;241;43m=\u001b[39;49m\u001b[43mtimeout\u001b[49m\u001b[43m,\u001b[49m\n\u001b[1;32m    197\u001b[0m \u001b[43m        \u001b[49m\u001b[43m)\u001b[49m\n\u001b[1;32m    198\u001b[0m         log\u001b[38;5;241m.\u001b[39mdebug(\n\u001b[1;32m    199\u001b[0m             \u001b[38;5;124m\"\u001b[39m\u001b[38;5;124mResponse: \u001b[39m\u001b[38;5;132;01m%s\u001b[39;00m\u001b[38;5;124m (\u001b[39m\u001b[38;5;132;01m%s\u001b[39;00m\u001b[38;5;124m bytes) (rst-\u001b[39m\u001b[38;5;132;01m%s\u001b[39;00m\u001b[38;5;124m:rem-\u001b[39m\u001b[38;5;132;01m%s\u001b[39;00m\u001b[38;5;124m:used-\u001b[39m\u001b[38;5;132;01m%s\u001b[39;00m\u001b[38;5;124m ratelimit) at \u001b[39m\u001b[38;5;132;01m%s\u001b[39;00m\u001b[38;5;124m\"\u001b[39m,\n\u001b[1;32m    200\u001b[0m             response\u001b[38;5;241m.\u001b[39mstatus_code,\n\u001b[0;32m   (...)\u001b[0m\n\u001b[1;32m    205\u001b[0m             time\u001b[38;5;241m.\u001b[39mtime(),\n\u001b[1;32m    206\u001b[0m         )\n\u001b[1;32m    207\u001b[0m         \u001b[38;5;28;01mreturn\u001b[39;00m response, \u001b[38;5;28;01mNone\u001b[39;00m\n",
      "File \u001b[0;32m~/.virtualenvs/praw-playground/lib/python3.10/site-packages/prawcore/rate_limit.py:45\u001b[0m, in \u001b[0;36mRateLimiter.call\u001b[0;34m(self, request_function, set_header_callback, *args, **kwargs)\u001b[0m\n\u001b[1;32m     29\u001b[0m \u001b[38;5;28;01mdef\u001b[39;00m \u001b[38;5;21mcall\u001b[39m(\n\u001b[1;32m     30\u001b[0m     \u001b[38;5;28mself\u001b[39m,\n\u001b[1;32m     31\u001b[0m     request_function: Callable[[Any], Response],\n\u001b[0;32m   (...)\u001b[0m\n\u001b[1;32m     34\u001b[0m     \u001b[38;5;241m*\u001b[39m\u001b[38;5;241m*\u001b[39mkwargs: Any,\n\u001b[1;32m     35\u001b[0m ) \u001b[38;5;241m-\u001b[39m\u001b[38;5;241m>\u001b[39m Response:\n\u001b[1;32m     36\u001b[0m \u001b[38;5;250m    \u001b[39m\u001b[38;5;124;03m\"\"\"Rate limit the call to ``request_function``.\u001b[39;00m\n\u001b[1;32m     37\u001b[0m \n\u001b[1;32m     38\u001b[0m \u001b[38;5;124;03m    :param request_function: A function call that returns an HTTP response object.\u001b[39;00m\n\u001b[0;32m   (...)\u001b[0m\n\u001b[1;32m     43\u001b[0m \n\u001b[1;32m     44\u001b[0m \u001b[38;5;124;03m    \"\"\"\u001b[39;00m\n\u001b[0;32m---> 45\u001b[0m     \u001b[38;5;28;43mself\u001b[39;49m\u001b[38;5;241;43m.\u001b[39;49m\u001b[43mdelay\u001b[49m\u001b[43m(\u001b[49m\u001b[43m)\u001b[49m\n\u001b[1;32m     46\u001b[0m     kwargs[\u001b[38;5;124m\"\u001b[39m\u001b[38;5;124mheaders\u001b[39m\u001b[38;5;124m\"\u001b[39m] \u001b[38;5;241m=\u001b[39m set_header_callback()\n\u001b[1;32m     47\u001b[0m     response \u001b[38;5;241m=\u001b[39m request_function(\u001b[38;5;241m*\u001b[39margs, \u001b[38;5;241m*\u001b[39m\u001b[38;5;241m*\u001b[39mkwargs)\n",
      "File \u001b[0;32m~/.virtualenvs/praw-playground/lib/python3.10/site-packages/prawcore/rate_limit.py:60\u001b[0m, in \u001b[0;36mRateLimiter.delay\u001b[0;34m(self)\u001b[0m\n\u001b[1;32m     58\u001b[0m message \u001b[38;5;241m=\u001b[39m \u001b[38;5;124mf\u001b[39m\u001b[38;5;124m\"\u001b[39m\u001b[38;5;124mSleeping: \u001b[39m\u001b[38;5;132;01m{\u001b[39;00msleep_seconds\u001b[38;5;132;01m:\u001b[39;00m\u001b[38;5;124m0.2f\u001b[39m\u001b[38;5;132;01m}\u001b[39;00m\u001b[38;5;124m seconds prior to call\u001b[39m\u001b[38;5;124m\"\u001b[39m\n\u001b[1;32m     59\u001b[0m log\u001b[38;5;241m.\u001b[39mdebug(message)\n\u001b[0;32m---> 60\u001b[0m \u001b[43mtime\u001b[49m\u001b[38;5;241;43m.\u001b[39;49m\u001b[43msleep\u001b[49m\u001b[43m(\u001b[49m\u001b[43msleep_seconds\u001b[49m\u001b[43m)\u001b[49m\n",
      "\u001b[0;31mKeyboardInterrupt\u001b[0m: "
     ]
    }
   ],
   "source": [
    "with open(\"sample-all.csv\", \"a\") as file, open(\"misses.txt\", \"a\") as misses:\n",
    "    writer = csv.writer(file, quoting=csv.QUOTE_MINIMAL)\n",
    "    while True:\n",
    "        # IDs must be in lowercase base 36\n",
    "        ids = [\n",
    "            \"t1_\" + np.base_repr(random.randrange(first_id, last_id), 36).lower()\n",
    "            for _ in range(100)\n",
    "        ]\n",
    "        # Ask for info on 100 IDs at once because PRAW makes batches of 100\n",
    "        info = reddit.info(fullnames=ids)\n",
    "        try:\n",
    "            hits = []\n",
    "            for submission in info:\n",
    "                assert submission.name.startswith(\"t1\"), submission.name\n",
    "                hits.append(submission.name)\n",
    "                # Only keep undeleted comments\n",
    "                if submission.body != \"[removed]\" and submission.body != \"[deleted]\":\n",
    "                    writer.writerow(comment_relevant_fields(submission))\n",
    "            misses.writelines(\n",
    "                id.removeprefix(\"t1_\") + \"\\n\" for id in ids if id not in hits\n",
    "            )\n",
    "        except Exception as e:\n",
    "            print(e, e.__class__, id)\n",
    "            break"
   ]
  },
  {
   "cell_type": "code",
   "execution_count": 33,
   "metadata": {},
   "outputs": [],
   "source": [
    "# Run to save state to pick back up later\n",
    "with open(\"rand-state.txt\", \"w\") as file:\n",
    "    file.write(str(random.getstate())) # todo serialize properly"
   ]
  },
  {
   "cell_type": "markdown",
   "metadata": {},
   "source": [
    "## Load comments"
   ]
  },
  {
   "cell_type": "code",
   "execution_count": 42,
   "metadata": {},
   "outputs": [
    {
     "data": {
      "text/html": [
       "<div>\n",
       "<style scoped>\n",
       "    .dataframe tbody tr th:only-of-type {\n",
       "        vertical-align: middle;\n",
       "    }\n",
       "\n",
       "    .dataframe tbody tr th {\n",
       "        vertical-align: top;\n",
       "    }\n",
       "\n",
       "    .dataframe thead th {\n",
       "        text-align: right;\n",
       "    }\n",
       "</style>\n",
       "<table border=\"1\" class=\"dataframe\">\n",
       "  <thead>\n",
       "    <tr style=\"text-align: right;\">\n",
       "      <th></th>\n",
       "      <th>index</th>\n",
       "      <th>name</th>\n",
       "      <th>subreddit</th>\n",
       "      <th>time</th>\n",
       "      <th>body</th>\n",
       "      <th>id</th>\n",
       "    </tr>\n",
       "  </thead>\n",
       "  <tbody>\n",
       "    <tr>\n",
       "      <th>0</th>\n",
       "      <td>11599</td>\n",
       "      <td>c02dmtj</td>\n",
       "      <td>reddit.com</td>\n",
       "      <td>2007-11-04 21:14:36</td>\n",
       "      <td>Probably the rock ad.  Yeah, definitely the ro...</td>\n",
       "      <td>26125383367</td>\n",
       "    </tr>\n",
       "    <tr>\n",
       "      <th>1</th>\n",
       "      <td>25762</td>\n",
       "      <td>c02jlv0</td>\n",
       "      <td>reddit.com</td>\n",
       "      <td>2007-11-27 16:28:48</td>\n",
       "      <td>I wish people ordering at Tim's would take the...</td>\n",
       "      <td>26125662060</td>\n",
       "    </tr>\n",
       "    <tr>\n",
       "      <th>2</th>\n",
       "      <td>91535</td>\n",
       "      <td>c02m7ii</td>\n",
       "      <td>reddit.com</td>\n",
       "      <td>2007-12-07 11:14:13</td>\n",
       "      <td>London doesn't do it with every street, and th...</td>\n",
       "      <td>26125783434</td>\n",
       "    </tr>\n",
       "    <tr>\n",
       "      <th>3</th>\n",
       "      <td>18821</td>\n",
       "      <td>c02mu8k</td>\n",
       "      <td>reddit.com</td>\n",
       "      <td>2007-12-10 02:45:21</td>\n",
       "      <td>How postmodern of you.</td>\n",
       "      <td>26125812884</td>\n",
       "    </tr>\n",
       "    <tr>\n",
       "      <th>4</th>\n",
       "      <td>51370</td>\n",
       "      <td>c02rclp</td>\n",
       "      <td>politics</td>\n",
       "      <td>2007-12-27 16:27:49</td>\n",
       "      <td>It's a government run insurance program... tha...</td>\n",
       "      <td>26126023309</td>\n",
       "    </tr>\n",
       "    <tr>\n",
       "      <th>...</th>\n",
       "      <td>...</td>\n",
       "      <td>...</td>\n",
       "      <td>...</td>\n",
       "      <td>...</td>\n",
       "      <td>...</td>\n",
       "      <td>...</td>\n",
       "    </tr>\n",
       "    <tr>\n",
       "      <th>104000</th>\n",
       "      <td>19521</td>\n",
       "      <td>jzzi5kx</td>\n",
       "      <td>TroChuyenLinhTinh</td>\n",
       "      <td>2023-09-10 12:47:07</td>\n",
       "      <td>Đẹp hẳn ra Góc cạnh đầy đủ</td>\n",
       "      <td>43534814145</td>\n",
       "    </tr>\n",
       "    <tr>\n",
       "      <th>104001</th>\n",
       "      <td>92568</td>\n",
       "      <td>jzzmcoj</td>\n",
       "      <td>Warthunder</td>\n",
       "      <td>2023-09-10 13:13:06</td>\n",
       "      <td>Before I got really good at making money in wi...</td>\n",
       "      <td>43535009971</td>\n",
       "    </tr>\n",
       "    <tr>\n",
       "      <th>104002</th>\n",
       "      <td>81401</td>\n",
       "      <td>jzzmqgd</td>\n",
       "      <td>StarWars</td>\n",
       "      <td>2023-09-10 13:15:26</td>\n",
       "      <td>all lightsabers should have an internal trigge...</td>\n",
       "      <td>43535027821</td>\n",
       "    </tr>\n",
       "    <tr>\n",
       "      <th>104003</th>\n",
       "      <td>65133</td>\n",
       "      <td>jzzrh9p</td>\n",
       "      <td>DavidBowie</td>\n",
       "      <td>2023-09-10 13:43:05</td>\n",
       "      <td>I’ve always loved 1. Outside. I wish he could ...</td>\n",
       "      <td>43535249197</td>\n",
       "    </tr>\n",
       "    <tr>\n",
       "      <th>104004</th>\n",
       "      <td>82783</td>\n",
       "      <td>jzzum31</td>\n",
       "      <td>IntoTheSpiderverse</td>\n",
       "      <td>2023-09-10 14:00:50</td>\n",
       "      <td>I honestly like this one more than any other v...</td>\n",
       "      <td>43535395405</td>\n",
       "    </tr>\n",
       "  </tbody>\n",
       "</table>\n",
       "<p>104005 rows × 6 columns</p>\n",
       "</div>"
      ],
      "text/plain": [
       "        index     name           subreddit                time  \\\n",
       "0       11599  c02dmtj          reddit.com 2007-11-04 21:14:36   \n",
       "1       25762  c02jlv0          reddit.com 2007-11-27 16:28:48   \n",
       "2       91535  c02m7ii          reddit.com 2007-12-07 11:14:13   \n",
       "3       18821  c02mu8k          reddit.com 2007-12-10 02:45:21   \n",
       "4       51370  c02rclp            politics 2007-12-27 16:27:49   \n",
       "...       ...      ...                 ...                 ...   \n",
       "104000  19521  jzzi5kx   TroChuyenLinhTinh 2023-09-10 12:47:07   \n",
       "104001  92568  jzzmcoj          Warthunder 2023-09-10 13:13:06   \n",
       "104002  81401  jzzmqgd            StarWars 2023-09-10 13:15:26   \n",
       "104003  65133  jzzrh9p          DavidBowie 2023-09-10 13:43:05   \n",
       "104004  82783  jzzum31  IntoTheSpiderverse 2023-09-10 14:00:50   \n",
       "\n",
       "                                                     body           id  \n",
       "0       Probably the rock ad.  Yeah, definitely the ro...  26125383367  \n",
       "1       I wish people ordering at Tim's would take the...  26125662060  \n",
       "2       London doesn't do it with every street, and th...  26125783434  \n",
       "3                                  How postmodern of you.  26125812884  \n",
       "4       It's a government run insurance program... tha...  26126023309  \n",
       "...                                                   ...          ...  \n",
       "104000                         Đẹp hẳn ra Góc cạnh đầy đủ  43534814145  \n",
       "104001  Before I got really good at making money in wi...  43535009971  \n",
       "104002  all lightsabers should have an internal trigge...  43535027821  \n",
       "104003  I’ve always loved 1. Outside. I wish he could ...  43535249197  \n",
       "104004  I honestly like this one more than any other v...  43535395405  \n",
       "\n",
       "[104005 rows x 6 columns]"
      ]
     },
     "execution_count": 42,
     "metadata": {},
     "output_type": "execute_result"
    }
   ],
   "source": [
    "from datetime import datetime\n",
    "\n",
    "df = pd.read_csv(\"sample-all.csv\", names=COMMENT_COLS)\n",
    "df.drop_duplicates(inplace=True)\n",
    "df[\"body\"] = df[\"body\"].map(str)\n",
    "df[\"id\"] = df[\"name\"].map(lambda name: int(name, 36))\n",
    "df[\"time\"] = df[\"time\"].map(lambda ts: datetime.fromtimestamp(ts))\n",
    "\n",
    "# Sort dataframe by ID/time for convenience\n",
    "df.sort_values(by=\"id\", inplace=True)\n",
    "df.reset_index(inplace=True)\n",
    "\n",
    "df"
   ]
  },
  {
   "cell_type": "code",
   "execution_count": 43,
   "metadata": {},
   "outputs": [
    {
     "data": {
      "text/plain": [
       "(26125383367, 'C02DMTJ')"
      ]
     },
     "execution_count": 43,
     "metadata": {},
     "output_type": "execute_result"
    }
   ],
   "source": [
    "# The first ID we actually collected\n",
    "first_id_actual = df[\"id\"].min()\n",
    "first_id_actual, np.base_repr(first_id_actual, 36)"
   ]
  },
  {
   "cell_type": "markdown",
   "metadata": {},
   "source": [
    "#### Sanity checks"
   ]
  },
  {
   "cell_type": "code",
   "execution_count": 44,
   "metadata": {},
   "outputs": [],
   "source": [
    "# Make sure no duplicates got through\n",
    "assert len(df[\"name\"]) == len(df[\"name\"].drop_duplicates())"
   ]
  },
  {
   "cell_type": "code",
   "execution_count": 45,
   "metadata": {},
   "outputs": [],
   "source": [
    "# Make sure the IDs are actually sequential\n",
    "for i in range(len(df) - 1):\n",
    "    curr = df.iloc[i]\n",
    "    next = df.iloc[i + 1]\n",
    "    assert curr.time <= next.time, f\"Found out-of-order ID at {i}\""
   ]
  },
  {
   "cell_type": "markdown",
   "metadata": {},
   "source": [
    "#### Actual analysis"
   ]
  },
  {
   "cell_type": "code",
   "execution_count": 48,
   "metadata": {},
   "outputs": [],
   "source": [
    "def matches(body, keywords=keywords):\n",
    "    for keyword in keywords:\n",
    "        if keyword in body:\n",
    "            return True\n",
    "    return False"
   ]
  },
  {
   "cell_type": "code",
   "execution_count": 49,
   "metadata": {},
   "outputs": [
    {
     "data": {
      "text/html": [
       "<div>\n",
       "<style scoped>\n",
       "    .dataframe tbody tr th:only-of-type {\n",
       "        vertical-align: middle;\n",
       "    }\n",
       "\n",
       "    .dataframe tbody tr th {\n",
       "        vertical-align: top;\n",
       "    }\n",
       "\n",
       "    .dataframe thead th {\n",
       "        text-align: right;\n",
       "    }\n",
       "</style>\n",
       "<table border=\"1\" class=\"dataframe\">\n",
       "  <thead>\n",
       "    <tr style=\"text-align: right;\">\n",
       "      <th></th>\n",
       "      <th>index</th>\n",
       "      <th>name</th>\n",
       "      <th>subreddit</th>\n",
       "      <th>time</th>\n",
       "      <th>body</th>\n",
       "      <th>id</th>\n",
       "    </tr>\n",
       "  </thead>\n",
       "  <tbody>\n",
       "    <tr>\n",
       "      <th>18</th>\n",
       "      <td>2019</td>\n",
       "      <td>c03vbh4</td>\n",
       "      <td>usa</td>\n",
       "      <td>2008-04-30 13:07:08</td>\n",
       "      <td>what the trauma to the poor child being taken ...</td>\n",
       "      <td>26127888088</td>\n",
       "    </tr>\n",
       "    <tr>\n",
       "      <th>34</th>\n",
       "      <td>87349</td>\n",
       "      <td>c04q72l</td>\n",
       "      <td>AskReddit</td>\n",
       "      <td>2008-07-17 12:39:37</td>\n",
       "      <td>word up.  people are addicted to feeling stron...</td>\n",
       "      <td>26129328717</td>\n",
       "    </tr>\n",
       "    <tr>\n",
       "      <th>59</th>\n",
       "      <td>99228</td>\n",
       "      <td>c06to96</td>\n",
       "      <td>reddit.com</td>\n",
       "      <td>2008-12-14 16:50:33</td>\n",
       "      <td>if you say that it is easier to pull a bag ove...</td>\n",
       "      <td>26132850186</td>\n",
       "    </tr>\n",
       "    <tr>\n",
       "      <th>242</th>\n",
       "      <td>53456</td>\n",
       "      <td>c0njvod</td>\n",
       "      <td>politics</td>\n",
       "      <td>2010-04-05 20:15:57</td>\n",
       "      <td>the crucial issue is on what side the folks be...</td>\n",
       "      <td>26160946717</td>\n",
       "    </tr>\n",
       "    <tr>\n",
       "      <th>467</th>\n",
       "      <td>88342</td>\n",
       "      <td>c18hj7s</td>\n",
       "      <td>IAmA</td>\n",
       "      <td>2010-12-09 19:14:41</td>\n",
       "      <td>&gt;thanks for this reply!  any time!  i suppose ...</td>\n",
       "      <td>26196109192</td>\n",
       "    </tr>\n",
       "    <tr>\n",
       "      <th>...</th>\n",
       "      <td>...</td>\n",
       "      <td>...</td>\n",
       "      <td>...</td>\n",
       "      <td>...</td>\n",
       "      <td>...</td>\n",
       "      <td>...</td>\n",
       "    </tr>\n",
       "    <tr>\n",
       "      <th>103766</th>\n",
       "      <td>87105</td>\n",
       "      <td>jzfocjf</td>\n",
       "      <td>SFGiants</td>\n",
       "      <td>2023-09-06 16:57:46</td>\n",
       "      <td>i think that rings especially true because we ...</td>\n",
       "      <td>43501510779</td>\n",
       "    </tr>\n",
       "    <tr>\n",
       "      <th>103896</th>\n",
       "      <td>60735</td>\n",
       "      <td>jzqqpmx</td>\n",
       "      <td>AutisticPride</td>\n",
       "      <td>2023-09-08 19:06:32</td>\n",
       "      <td>for the full implementation of autistic repres...</td>\n",
       "      <td>43520096841</td>\n",
       "    </tr>\n",
       "    <tr>\n",
       "      <th>103932</th>\n",
       "      <td>19488</td>\n",
       "      <td>jztla0k</td>\n",
       "      <td>AmItheAsshole</td>\n",
       "      <td>2023-09-09 10:55:46</td>\n",
       "      <td>in order to ensure that services are being use...</td>\n",
       "      <td>43524882164</td>\n",
       "    </tr>\n",
       "    <tr>\n",
       "      <th>103981</th>\n",
       "      <td>3398</td>\n",
       "      <td>jzxu4ln</td>\n",
       "      <td>askSouthAfrica</td>\n",
       "      <td>2023-09-10 05:37:02</td>\n",
       "      <td>honestly, i think there are many different psy...</td>\n",
       "      <td>43532013515</td>\n",
       "    </tr>\n",
       "    <tr>\n",
       "      <th>104002</th>\n",
       "      <td>81401</td>\n",
       "      <td>jzzmqgd</td>\n",
       "      <td>StarWars</td>\n",
       "      <td>2023-09-10 13:15:26</td>\n",
       "      <td>all lightsabers should have an internal trigge...</td>\n",
       "      <td>43535027821</td>\n",
       "    </tr>\n",
       "  </tbody>\n",
       "</table>\n",
       "<p>1662 rows × 6 columns</p>\n",
       "</div>"
      ],
      "text/plain": [
       "        index     name       subreddit                time  \\\n",
       "18       2019  c03vbh4             usa 2008-04-30 13:07:08   \n",
       "34      87349  c04q72l       AskReddit 2008-07-17 12:39:37   \n",
       "59      99228  c06to96      reddit.com 2008-12-14 16:50:33   \n",
       "242     53456  c0njvod        politics 2010-04-05 20:15:57   \n",
       "467     88342  c18hj7s            IAmA 2010-12-09 19:14:41   \n",
       "...       ...      ...             ...                 ...   \n",
       "103766  87105  jzfocjf        SFGiants 2023-09-06 16:57:46   \n",
       "103896  60735  jzqqpmx   AutisticPride 2023-09-08 19:06:32   \n",
       "103932  19488  jztla0k   AmItheAsshole 2023-09-09 10:55:46   \n",
       "103981   3398  jzxu4ln  askSouthAfrica 2023-09-10 05:37:02   \n",
       "104002  81401  jzzmqgd        StarWars 2023-09-10 13:15:26   \n",
       "\n",
       "                                                     body           id  \n",
       "18      what the trauma to the poor child being taken ...  26127888088  \n",
       "34      word up.  people are addicted to feeling stron...  26129328717  \n",
       "59      if you say that it is easier to pull a bag ove...  26132850186  \n",
       "242     the crucial issue is on what side the folks be...  26160946717  \n",
       "467     >thanks for this reply!  any time!  i suppose ...  26196109192  \n",
       "...                                                   ...          ...  \n",
       "103766  i think that rings especially true because we ...  43501510779  \n",
       "103896  for the full implementation of autistic repres...  43520096841  \n",
       "103932  in order to ensure that services are being use...  43524882164  \n",
       "103981  honestly, i think there are many different psy...  43532013515  \n",
       "104002  all lightsabers should have an internal trigge...  43535027821  \n",
       "\n",
       "[1662 rows x 6 columns]"
      ]
     },
     "execution_count": 49,
     "metadata": {},
     "output_type": "execute_result"
    }
   ],
   "source": [
    "df[\"body\"] = df[\"body\"].map(lambda body: body.lower().strip())\n",
    "matched_rows = df[df[\"body\"].map(matches)]\n",
    "matched_rows"
   ]
  },
  {
   "cell_type": "code",
   "execution_count": 50,
   "metadata": {},
   "outputs": [
    {
     "data": {
      "text/plain": [
       "69885     that's my experience at the moment. i have adh...\n",
       "93307     being perpetually confused by neurotypical hum...\n",
       "103896    for the full implementation of autistic repres...\n",
       "Name: body, dtype: object"
      ]
     },
     "execution_count": 50,
     "metadata": {},
     "output_type": "execute_result"
    }
   ],
   "source": [
    "df[df[\"body\"].map(lambda text: matches(text, keywords=[\"neurodiverge\"]))][\"body\"]"
   ]
  },
  {
   "cell_type": "code",
   "execution_count": 51,
   "metadata": {},
   "outputs": [
    {
     "data": {
      "text/plain": [
       "{'trauma': 88,\n",
       " 'gaslight': 21,\n",
       " 'trigger': 169,\n",
       " 'toxic': 137,\n",
       " 'woke': 74,\n",
       " 'manipulat': 97,\n",
       " 'microaggression': 0,\n",
       " 'autis': 54,\n",
       " 'adhd': 42,\n",
       " 'ocd': 21,\n",
       " 'ptsd': 33,\n",
       " 'bipolar': 12,\n",
       " 'anxiety': 145,\n",
       " 'depress': 204,\n",
       " 'psycho': 148,\n",
       " 'delusion': 61,\n",
       " 'delulu': 0,\n",
       " 'solulu': 0,\n",
       " 'addict': 179,\n",
       " 'abus': 287,\n",
       " 'unstable': 25,\n",
       " 'narcissis': 51,\n",
       " 'neurodivergen': 3}"
      ]
     },
     "execution_count": 51,
     "metadata": {},
     "output_type": "execute_result"
    }
   ],
   "source": [
    "{\n",
    "    keyword: len(matched_rows[matched_rows[\"body\"].map(lambda body: keyword in body)])\n",
    "    for keyword in keywords\n",
    "}"
   ]
  },
  {
   "cell_type": "code",
   "execution_count": 53,
   "metadata": {},
   "outputs": [
    {
     "data": {
      "image/png": "[encoded data removed]",
      "text/plain": [
       "<Figure size 640x480 with 1 Axes>"
      ]
     },
     "metadata": {},
     "output_type": "display_data"
    }
   ],
   "source": [
    "lengths = df[\"body\"].map(len)\n",
    "ax = sns.histplot(\n",
    "    lengths[lengths <= 10000],\n",
    "    binwidth=200,\n",
    "    # log_scale=True\n",
    ")\n",
    "ax.set(xlabel = \"Body length (characters)\")\n",
    "ax.set(yscale = \"log\");"
   ]
  },
  {
   "cell_type": "code",
   "execution_count": 55,
   "metadata": {},
   "outputs": [
    {
     "data": {
      "text/html": [
       "<div>\n",
       "<style scoped>\n",
       "    .dataframe tbody tr th:only-of-type {\n",
       "        vertical-align: middle;\n",
       "    }\n",
       "\n",
       "    .dataframe tbody tr th {\n",
       "        vertical-align: top;\n",
       "    }\n",
       "\n",
       "    .dataframe thead th {\n",
       "        text-align: right;\n",
       "    }\n",
       "</style>\n",
       "<table border=\"1\" class=\"dataframe\">\n",
       "  <thead>\n",
       "    <tr style=\"text-align: right;\">\n",
       "      <th></th>\n",
       "      <th>index</th>\n",
       "      <th>name</th>\n",
       "      <th>subreddit</th>\n",
       "      <th>time</th>\n",
       "      <th>body</th>\n",
       "      <th>id</th>\n",
       "    </tr>\n",
       "  </thead>\n",
       "  <tbody>\n",
       "    <tr>\n",
       "      <th>3874</th>\n",
       "      <td>36385</td>\n",
       "      <td>ca06ttw</td>\n",
       "      <td>mindcrack</td>\n",
       "      <td>2013-05-16 17:51:52</td>\n",
       "      <td>there you go ya bot. okay: will sobriety get k...</td>\n",
       "      <td>26726368388</td>\n",
       "    </tr>\n",
       "    <tr>\n",
       "      <th>16124</th>\n",
       "      <td>84499</td>\n",
       "      <td>d5r64yf</td>\n",
       "      <td>Thread_crawler</td>\n",
       "      <td>2016-07-26 02:35:58</td>\n",
       "      <td>mcjfafgb/8v8qrv8n2wcshmgd1wkrjfbex2b7u0u8t8gvi...</td>\n",
       "      <td>28646137239</td>\n",
       "    </tr>\n",
       "  </tbody>\n",
       "</table>\n",
       "</div>"
      ],
      "text/plain": [
       "       index     name       subreddit                time  \\\n",
       "3874   36385  ca06ttw       mindcrack 2013-05-16 17:51:52   \n",
       "16124  84499  d5r64yf  Thread_crawler 2016-07-26 02:35:58   \n",
       "\n",
       "                                                    body           id  \n",
       "3874   there you go ya bot. okay: will sobriety get k...  26726368388  \n",
       "16124  mcjfafgb/8v8qrv8n2wcshmgd1wkrjfbex2b7u0u8t8gvi...  28646137239  "
      ]
     },
     "execution_count": 55,
     "metadata": {},
     "output_type": "execute_result"
    }
   ],
   "source": [
    "df[lengths >= 10000]"
   ]
  },
  {
   "cell_type": "markdown",
   "metadata": {},
   "source": [
    "### Graphing distribution over time"
   ]
  },
  {
   "cell_type": "code",
   "execution_count": 61,
   "metadata": {},
   "outputs": [
    {
     "data": {
      "text/plain": [
       "<Axes: xlabel='time', ylabel='Count'>"
      ]
     },
     "execution_count": 61,
     "metadata": {},
     "output_type": "execute_result"
    },
    {
     "data": {
      "image/png": "[encoded data removed]",
      "text/plain": [
       "<Figure size 1300x500 with 1 Axes>"
      ]
     },
     "metadata": {},
     "output_type": "display_data"
    }
   ],
   "source": [
    "from datetime import timedelta\n",
    "\n",
    "plt.figure(figsize=(13, 5))\n",
    "# TODO figure out how to get binwidth to work with timedeltas\n",
    "sns.histplot(data=df, x=\"time\") #, binwidth=timedelta(days=30))"
   ]
  },
  {
   "cell_type": "code",
   "execution_count": 62,
   "metadata": {},
   "outputs": [
    {
     "data": {
      "text/plain": [
       "<Axes: xlabel='time', ylabel='Count'>"
      ]
     },
     "execution_count": 62,
     "metadata": {},
     "output_type": "execute_result"
    },
    {
     "data": {
      "image/png": "[encoded data removed]",
      "text/plain": [
       "<Figure size 1400x500 with 1 Axes>"
      ]
     },
     "metadata": {},
     "output_type": "display_data"
    }
   ],
   "source": [
    "# Number of comments by day of year\n",
    "plt.figure(figsize=(14, 5))\n",
    "sns.histplot(data=df[\"time\"].apply(lambda t: int(t.strftime(\"%j\"))))"
   ]
  },
  {
   "cell_type": "code",
   "execution_count": 63,
   "metadata": {},
   "outputs": [
    {
     "data": {
      "image/png": "[encoded data removed]",
      "text/plain": [
       "<Figure size 640x480 with 1 Axes>"
      ]
     },
     "metadata": {},
     "output_type": "display_data"
    }
   ],
   "source": [
    "# Number of comments by day of week (0 = Monday)\n",
    "g = sns.barplot(data=df[\"time\"].apply(lambda t: t.weekday()).value_counts())\n",
    "g.set_xticks(\n",
    "    g.get_xticks(),\n",
    "    labels=[\n",
    "        [\"Mon\", \"Tue\", \"Wed\", \"Thur\", \"Fri\", \"Sat\", \"Sun\"][tick]\n",
    "        for tick in g.get_xticks()\n",
    "    ],\n",
    ");"
   ]
  },
  {
   "cell_type": "markdown",
   "metadata": {},
   "source": [
    "### Are the IDs uniformly distributed?\n",
    "\n",
    "Figure out if the IDs are uniformly distributed using the Kolmogorov-Smirnov test\n",
    "\n",
    "TODO check if KS is the right test to use here. Alternatives (not sure if any of these are even applicable):\n",
    "- Chi-square (we don't have a normal distribution though)\n",
    "- Mann-Whitney U test\n",
    "- Anderson-Darling\n",
    "\n",
    "The fact that we're taking the first gotten comment as the start rather than the actual requested\n",
    "start ID might screw things up but whatever"
   ]
  },
  {
   "cell_type": "code",
   "execution_count": 64,
   "metadata": {},
   "outputs": [
    {
     "data": {
      "text/plain": [
       "<Axes: xlabel='id', ylabel='Count'>"
      ]
     },
     "execution_count": 64,
     "metadata": {},
     "output_type": "execute_result"
    },
    {
     "data": {
      "image/png": "[encoded data removed]",
      "text/plain": [
       "<Figure size 1300x500 with 1 Axes>"
      ]
     },
     "metadata": {},
     "output_type": "display_data"
    }
   ],
   "source": [
    "# Distribution of IDs\n",
    "\n",
    "plt.figure(figsize=(13, 5))\n",
    "sns.histplot(data=df[\"id\"])"
   ]
  },
  {
   "cell_type": "code",
   "execution_count": 65,
   "metadata": {},
   "outputs": [
    {
     "name": "stdout",
     "output_type": "stream",
     "text": [
      "IDs are uniformly distributed! (probably)\n"
     ]
    },
    {
     "data": {
      "text/plain": [
       "KstestResult(statistic=0.017808790224994153, pvalue=4.39617281117819e-29, statistic_location=0.5903485719662566, statistic_sign=-1)"
      ]
     },
     "execution_count": 65,
     "metadata": {},
     "output_type": "execute_result"
    }
   ],
   "source": [
    "from scipy import stats\n",
    "\n",
    "# Choose alpha of 0.05\n",
    "\n",
    "ids_normalized = df[\"id\"].map(lambda id: (id - first_id_actual) / (last_id - first_id_actual))\n",
    "res = stats.ks_1samp(ids_normalized, stats.uniform.cdf)\n",
    "if res.pvalue < 0.05:\n",
    "    print(\"IDs are uniformly distributed! (probably)\")\n",
    "else:\n",
    "    print(\"Cannot assume distribution of IDs is uniform :(\")\n",
    "res"
   ]
  },
  {
   "cell_type": "code",
   "execution_count": 66,
   "metadata": {},
   "outputs": [
    {
     "data": {
      "text/html": [
       "<div>\n",
       "<style scoped>\n",
       "    .dataframe tbody tr th:only-of-type {\n",
       "        vertical-align: middle;\n",
       "    }\n",
       "\n",
       "    .dataframe tbody tr th {\n",
       "        vertical-align: top;\n",
       "    }\n",
       "\n",
       "    .dataframe thead th {\n",
       "        text-align: right;\n",
       "    }\n",
       "</style>\n",
       "<table border=\"1\" class=\"dataframe\">\n",
       "  <thead>\n",
       "    <tr style=\"text-align: right;\">\n",
       "      <th></th>\n",
       "      <th>index</th>\n",
       "      <th>name</th>\n",
       "      <th>subreddit</th>\n",
       "      <th>time</th>\n",
       "      <th>body</th>\n",
       "      <th>id</th>\n",
       "    </tr>\n",
       "  </thead>\n",
       "  <tbody>\n",
       "    <tr>\n",
       "      <th>0</th>\n",
       "      <td>11599</td>\n",
       "      <td>c02dmtj</td>\n",
       "      <td>reddit.com</td>\n",
       "      <td>2007-11-04 21:14:36</td>\n",
       "      <td>probably the rock ad.  yeah, definitely the ro...</td>\n",
       "      <td>26125383367</td>\n",
       "    </tr>\n",
       "  </tbody>\n",
       "</table>\n",
       "</div>"
      ],
      "text/plain": [
       "   index     name   subreddit                time  \\\n",
       "0  11599  c02dmtj  reddit.com 2007-11-04 21:14:36   \n",
       "\n",
       "                                                body           id  \n",
       "0  probably the rock ad.  yeah, definitely the ro...  26125383367  "
      ]
     },
     "execution_count": 66,
     "metadata": {},
     "output_type": "execute_result"
    }
   ],
   "source": [
    "# The earliest comment we have\n",
    "df[df[\"id\"] == df[\"id\"].min()]"
   ]
  },
  {
   "cell_type": "code",
   "execution_count": 67,
   "metadata": {},
   "outputs": [
    {
     "data": {
      "text/plain": [
       "0          3983123541\n",
       "1         25698587140\n",
       "2         18961999379\n",
       "3         12934330486\n",
       "4         11977201267\n",
       "             ...     \n",
       "190972     8072155589\n",
       "190973    20945959943\n",
       "190974    14946264288\n",
       "190975    18901790547\n",
       "190976     2805712958\n",
       "Length: 190977, dtype: int64"
      ]
     },
     "execution_count": 67,
     "metadata": {},
     "output_type": "execute_result"
    }
   ],
   "source": [
    "misses = pd.Series(int(id, 36) for id in open(\"misses.txt\", \"r\"))\n",
    "misses"
   ]
  },
  {
   "cell_type": "code",
   "execution_count": 68,
   "metadata": {},
   "outputs": [
    {
     "data": {
      "text/plain": [
       "<Axes: >"
      ]
     },
     "execution_count": 68,
     "metadata": {},
     "output_type": "execute_result"
    },
    {
     "data": {
      "image/png": "[encoded data removed]",
      "text/plain": [
       "<Figure size 640x480 with 1 Axes>"
      ]
     },
     "metadata": {},
     "output_type": "display_data"
    }
   ],
   "source": [
    "misses.hist()"
   ]
  },
  {
   "cell_type": "code",
   "execution_count": 69,
   "metadata": {},
   "outputs": [
    {
     "data": {
      "text/plain": [
       "<Axes: ylabel='Count'>"
      ]
     },
     "execution_count": 69,
     "metadata": {},
     "output_type": "execute_result"
    },
    {
     "data": {
      "image/png": "[encoded data removed]",
      "text/plain": [
       "<Figure size 1500x500 with 1 Axes>"
      ]
     },
     "metadata": {},
     "output_type": "display_data"
    }
   ],
   "source": [
    "plt.figure(figsize=(15, 5))\n",
    "misses_actual = misses[misses >= first_id_actual]\n",
    "sns.histplot(misses_actual, binwidth=1e8)"
   ]
  },
  {
   "cell_type": "code",
   "execution_count": 71,
   "metadata": {},
   "outputs": [
    {
     "data": {
      "text/plain": [
       "<Axes: ylabel='Count'>"
      ]
     },
     "execution_count": 71,
     "metadata": {},
     "output_type": "execute_result"
    },
    {
     "data": {
      "image/png": "[encoded data removed]",
      "text/plain": [
       "<Figure size 1400x500 with 1 Axes>"
      ]
     },
     "metadata": {},
     "output_type": "display_data"
    }
   ],
   "source": [
    "# Zoom in on the middle\n",
    "# Note: The counts won't match the ones above because the bin width is different\n",
    "\n",
    "# TODO How are you supposed to filter a series?\n",
    "weirdos = misses[lambda id: id <= 3.75e10][lambda id: 3e10 <= id]\n",
    "\n",
    "plt.figure(figsize=(14, 5))\n",
    "sns.histplot(weirdos, binwidth=5e7)"
   ]
  },
  {
   "cell_type": "code",
   "execution_count": 72,
   "metadata": {},
   "outputs": [
    {
     "data": {
      "text/plain": [
       "(0.35258083544080654, 0.8900194254516204)"
      ]
     },
     "execution_count": 72,
     "metadata": {},
     "output_type": "execute_result"
    }
   ],
   "source": [
    "# What portion of the requests we made actually returned something?\n",
    "all = len(df) / (len(df) + len(misses))\n",
    "# Same as above, but don't include requests for comments with IDs that were too low\n",
    "exclude_invalid = len(df) / (len(df) + len(misses_actual))\n",
    "\n",
    "all, exclude_invalid"
   ]
  },
  {
   "cell_type": "code",
   "execution_count": 73,
   "metadata": {},
   "outputs": [
    {
     "data": {
      "text/plain": [
       "<Axes: xlabel='id', ylabel='rate'>"
      ]
     },
     "execution_count": 73,
     "metadata": {},
     "output_type": "execute_result"
    },
    {
     "data": {
      "image/png": "[encoded data removed]",
      "text/plain": [
       "<Figure size 1500x500 with 1 Axes>"
      ]
     },
     "metadata": {},
     "output_type": "display_data"
    }
   ],
   "source": [
    "# Hit rate over time\n",
    "start = first_id_actual\n",
    "end = max(df.loc[len(df) - 1][\"id\"], misses.loc[len(misses) - 1])\n",
    "step = int(1e8)\n",
    "\n",
    "def get_rate(curr_id):\n",
    "    next_id = curr_id + step\n",
    "    hits = len(df[(curr_id <= df[\"id\"]) & (df[\"id\"] < next_id)])\n",
    "    num_misses = len(misses[lambda id: curr_id <= id][lambda id: id < next_id])\n",
    "\n",
    "    if hits == 0:\n",
    "        return 0\n",
    "    return hits / (hits + num_misses)\n",
    "\n",
    "ids = np.arange(start, end, step)\n",
    "rates = np.fromiter(map(get_rate, ids), dtype=np.dtype(np.float64))\n",
    "\n",
    "rate_df = pd.DataFrame({ \"id\": ids, \"rate\": rates })\n",
    "\n",
    "plt.figure(figsize=(15, 5))\n",
    "sns.scatterplot(data=rate_df, x=\"id\", y=\"rate\")"
   ]
  },
  {
   "cell_type": "code",
   "execution_count": 74,
   "metadata": {},
   "outputs": [
    {
     "data": {
      "text/html": [
       "<div>\n",
       "<style scoped>\n",
       "    .dataframe tbody tr th:only-of-type {\n",
       "        vertical-align: middle;\n",
       "    }\n",
       "\n",
       "    .dataframe tbody tr th {\n",
       "        vertical-align: top;\n",
       "    }\n",
       "\n",
       "    .dataframe thead th {\n",
       "        text-align: right;\n",
       "    }\n",
       "</style>\n",
       "<table border=\"1\" class=\"dataframe\">\n",
       "  <thead>\n",
       "    <tr style=\"text-align: right;\">\n",
       "      <th></th>\n",
       "      <th>index</th>\n",
       "      <th>name</th>\n",
       "      <th>subreddit</th>\n",
       "      <th>time</th>\n",
       "      <th>body</th>\n",
       "      <th>id</th>\n",
       "    </tr>\n",
       "  </thead>\n",
       "  <tbody>\n",
       "    <tr>\n",
       "      <th>24492</th>\n",
       "      <td>73379</td>\n",
       "      <td>ds58nip</td>\n",
       "      <td>streetwear</td>\n",
       "      <td>2018-01-03 15:55:01</td>\n",
       "      <td>but /u/robonoodle looks much much less like a ...</td>\n",
       "      <td>30000025105</td>\n",
       "    </tr>\n",
       "    <tr>\n",
       "      <th>24493</th>\n",
       "      <td>76167</td>\n",
       "      <td>ds5aaqf</td>\n",
       "      <td>sex</td>\n",
       "      <td>2018-01-03 16:21:04</td>\n",
       "      <td>until death...</td>\n",
       "      <td>30000101847</td>\n",
       "    </tr>\n",
       "    <tr>\n",
       "      <th>24494</th>\n",
       "      <td>73308</td>\n",
       "      <td>ds5ewhf</td>\n",
       "      <td>ockytop</td>\n",
       "      <td>2018-01-03 17:37:27</td>\n",
       "      <td>kamara consistently called out, had signature ...</td>\n",
       "      <td>30000316659</td>\n",
       "    </tr>\n",
       "    <tr>\n",
       "      <th>24495</th>\n",
       "      <td>43293</td>\n",
       "      <td>ds5lihp</td>\n",
       "      <td>EDC</td>\n",
       "      <td>2018-01-03 19:42:40</td>\n",
       "      <td>that's awesome, good eye for a cool use!</td>\n",
       "      <td>30000625117</td>\n",
       "    </tr>\n",
       "    <tr>\n",
       "      <th>24496</th>\n",
       "      <td>52500</td>\n",
       "      <td>ds5m8wm</td>\n",
       "      <td>harrypotter</td>\n",
       "      <td>2018-01-03 19:57:16</td>\n",
       "      <td>i like that reason though, it feels a little m...</td>\n",
       "      <td>30000659350</td>\n",
       "    </tr>\n",
       "    <tr>\n",
       "      <th>...</th>\n",
       "      <td>...</td>\n",
       "      <td>...</td>\n",
       "      <td>...</td>\n",
       "      <td>...</td>\n",
       "      <td>...</td>\n",
       "      <td>...</td>\n",
       "    </tr>\n",
       "    <tr>\n",
       "      <th>66230</th>\n",
       "      <td>80848</td>\n",
       "      <td>h868wzx</td>\n",
       "      <td>prettyaltgirls</td>\n",
       "      <td>2021-08-08 10:37:43</td>\n",
       "      <td>;)</td>\n",
       "      <td>37499522829</td>\n",
       "    </tr>\n",
       "    <tr>\n",
       "      <th>66231</th>\n",
       "      <td>4858</td>\n",
       "      <td>h86ad6z</td>\n",
       "      <td>miraculousladybug</td>\n",
       "      <td>2021-08-08 10:49:38</td>\n",
       "      <td>stormy weather and evillustrator had cool designs</td>\n",
       "      <td>37499590475</td>\n",
       "    </tr>\n",
       "    <tr>\n",
       "      <th>66232</th>\n",
       "      <td>31901</td>\n",
       "      <td>h86as66</td>\n",
       "      <td>Gunners</td>\n",
       "      <td>2021-08-08 10:53:01</td>\n",
       "      <td>saliba sees the way out now, he is happy</td>\n",
       "      <td>37499609886</td>\n",
       "    </tr>\n",
       "    <tr>\n",
       "      <th>66233</th>\n",
       "      <td>34074</td>\n",
       "      <td>h86c5oi</td>\n",
       "      <td>serbia</td>\n",
       "      <td>2021-08-08 11:04:13</td>\n",
       "      <td>nedeljom je drugačiji raspored vožnje, moguće ...</td>\n",
       "      <td>37499674050</td>\n",
       "    </tr>\n",
       "    <tr>\n",
       "      <th>66234</th>\n",
       "      <td>65613</td>\n",
       "      <td>h86ghcw</td>\n",
       "      <td>askSingapore</td>\n",
       "      <td>2021-08-08 11:39:25</td>\n",
       "      <td>for ilp, you can get better advice on r/singap...</td>\n",
       "      <td>37499875808</td>\n",
       "    </tr>\n",
       "  </tbody>\n",
       "</table>\n",
       "<p>41743 rows × 6 columns</p>\n",
       "</div>"
      ],
      "text/plain": [
       "       index     name          subreddit                time  \\\n",
       "24492  73379  ds58nip         streetwear 2018-01-03 15:55:01   \n",
       "24493  76167  ds5aaqf                sex 2018-01-03 16:21:04   \n",
       "24494  73308  ds5ewhf            ockytop 2018-01-03 17:37:27   \n",
       "24495  43293  ds5lihp                EDC 2018-01-03 19:42:40   \n",
       "24496  52500  ds5m8wm        harrypotter 2018-01-03 19:57:16   \n",
       "...      ...      ...                ...                 ...   \n",
       "66230  80848  h868wzx     prettyaltgirls 2021-08-08 10:37:43   \n",
       "66231   4858  h86ad6z  miraculousladybug 2021-08-08 10:49:38   \n",
       "66232  31901  h86as66            Gunners 2021-08-08 10:53:01   \n",
       "66233  34074  h86c5oi             serbia 2021-08-08 11:04:13   \n",
       "66234  65613  h86ghcw       askSingapore 2021-08-08 11:39:25   \n",
       "\n",
       "                                                    body           id  \n",
       "24492  but /u/robonoodle looks much much less like a ...  30000025105  \n",
       "24493                                     until death...  30000101847  \n",
       "24494  kamara consistently called out, had signature ...  30000316659  \n",
       "24495           that's awesome, good eye for a cool use!  30000625117  \n",
       "24496  i like that reason though, it feels a little m...  30000659350  \n",
       "...                                                  ...          ...  \n",
       "66230                                                 ;)  37499522829  \n",
       "66231  stormy weather and evillustrator had cool designs  37499590475  \n",
       "66232           saliba sees the way out now, he is happy  37499609886  \n",
       "66233  nedeljom je drugačiji raspored vožnje, moguće ...  37499674050  \n",
       "66234  for ilp, you can get better advice on r/singap...  37499875808  \n",
       "\n",
       "[41743 rows x 6 columns]"
      ]
     },
     "execution_count": 74,
     "metadata": {},
     "output_type": "execute_result"
    }
   ],
   "source": [
    "df[(3e10 <= df[\"id\"]) & (df[\"id\"] < 3.75e10)]"
   ]
  },
  {
   "cell_type": "code",
   "execution_count": 75,
   "metadata": {},
   "outputs": [
    {
     "name": "stdout",
     "output_type": "stream",
     "text": [
      "Misses are normally distributed! (probably)\n"
     ]
    },
    {
     "data": {
      "text/plain": [
       "KstestResult(statistic=0.11491448863880943, pvalue=2.641976708126364e-148, statistic_location=-0.22638444321828452, statistic_sign=1)"
      ]
     },
     "execution_count": 75,
     "metadata": {},
     "output_type": "execute_result"
    }
   ],
   "source": [
    "from scipy import stats\n",
    "\n",
    "# Choose alpha of 0.05\n",
    "\n",
    "misses_normalized = misses_actual.map(\n",
    "    lambda id: (id - misses_actual.mean()) / (misses_actual.std())\n",
    ")\n",
    "res = stats.ks_1samp(misses_normalized, stats.norm.cdf)\n",
    "if res.pvalue < 0.05:\n",
    "    print(\"Misses are normally distributed! (probably)\")\n",
    "else:\n",
    "    print(\"Cannot assume distribution of IDs is normal :(\")\n",
    "res"
   ]
  },
  {
   "cell_type": "markdown",
   "metadata": {},
   "source": [
    "## Re-query Misses"
   ]
  },
  {
   "cell_type": "code",
   "execution_count": 16,
   "metadata": {},
   "outputs": [
    {
     "data": {
      "text/plain": [
       "92648"
      ]
     },
     "execution_count": 16,
     "metadata": {},
     "output_type": "execute_result"
    }
   ],
   "source": [
    "len(misses)"
   ]
  },
  {
   "cell_type": "code",
   "execution_count": 29,
   "metadata": {},
   "outputs": [],
   "source": [
    "MISS_REQUERY_START = int(\"c000000\", 36)\n",
    "\n",
    "\n",
    "def requery(\n",
    "    reddit_type: str,\n",
    "    input_file: str,\n",
    "    hit_file: str,\n",
    "    miss_file: str,\n",
    "    get_relevant_fields: Callable[[object], list[str]],\n",
    "):\n",
    "    \"\"\"Requery IDs that turned out to be the wrong type before\n",
    "\n",
    "    # Parameters\n",
    "    - `reddit_type`: The type to query as (e.g. t2 for accounts)\n",
    "    - `input_file`: Text file to get misses from (just a list of IDs (no type))\n",
    "    - `hit_file`: CSV file to write hits to (will be overwritten)\n",
    "    - `miss_file`: Text file to write misses to (will be overwritten) (just a list of IDs (no type))\n",
    "    - `get_relevant_fields`: Get a list of values from the document PRAW returns,\n",
    "                             to be written as a row in `hit_file`\"\"\"\n",
    "\n",
    "    prev_misses = []\n",
    "    with open(input_file) as f:\n",
    "        for line in f.readlines():\n",
    "            line = line.strip()\n",
    "            # Don't requery missed IDs that we know are too low\n",
    "            id = int(line, 36)\n",
    "            if id > MISS_REQUERY_START:\n",
    "                prev_misses.append(line)\n",
    "\n",
    "    with open(hit_file, \"w\") as hit_file, open(miss_file, \"w\") as misses:\n",
    "        writer = csv.writer(hit_file, quoting=csv.QUOTE_MINIMAL)\n",
    "        for i in range(0, len(prev_misses), 100):\n",
    "            ids = [f\"{reddit_type}_{id}\" for id in prev_misses[i : i + 100]]\n",
    "            info = reddit.info(fullnames=ids)\n",
    "            try:\n",
    "                hits = []\n",
    "                for submission in info:\n",
    "                    assert submission.name.startswith(reddit_type), submission.name\n",
    "                    hits.append(submission.name)\n",
    "                    writer.writerow(get_relevant_fields(submission))\n",
    "                misses.writelines(\n",
    "                    id.removeprefix(f\"{reddit_type}_\") + \"\\n\"\n",
    "                    for id in ids\n",
    "                    if id not in hits\n",
    "                )\n",
    "            except Exception as e:\n",
    "                print(e, e.__class__, id)\n",
    "                break"
   ]
  },
  {
   "cell_type": "code",
   "execution_count": null,
   "metadata": {},
   "outputs": [],
   "source": [
    "# Re-query links (t3)\n",
    "requery(\n",
    "    \"t3\",\n",
    "    input_file=\"misses.txt\",\n",
    "    hit_file=\"requeried-accounts.csv\",\n",
    "    miss_file=\"misses-t1-t3.txt\",\n",
    "    get_relevant_fields=lambda submission: [\n",
    "        submission.name,\n",
    "        submission.created_utc,\n",
    "        submission.title,\n",
    "        submission.permalink,\n",
    "    ],\n",
    ")"
   ]
  },
  {
   "cell_type": "code",
   "execution_count": 30,
   "metadata": {},
   "outputs": [],
   "source": [
    "# Re-query subreddits (t5)\n",
    "requery(\n",
    "    \"t5\",\n",
    "    input_file=\"misses-t1-t3.txt\",\n",
    "    hit_file=\"requeried-subreddits.csv\",\n",
    "    miss_file=\"misses-t1-t3-t5.txt\",\n",
    "    get_relevant_fields=lambda subreddit: [\n",
    "        subreddit.name,\n",
    "        subreddit.display_name,\n",
    "        subreddit.created_utc,\n",
    "    ],\n",
    ")"
   ]
  },
  {
   "cell_type": "markdown",
   "metadata": {},
   "source": [
    "# `random()` Endpoint"
   ]
  },
  {
   "cell_type": "code",
   "execution_count": 59,
   "metadata": {},
   "outputs": [
    {
     "ename": "KeyboardInterrupt",
     "evalue": "",
     "output_type": "error",
     "traceback": [
      "\u001b[0;31m---------------------------------------------------------------------------\u001b[0m",
      "\u001b[0;31mKeyboardInterrupt\u001b[0m                         Traceback (most recent call last)",
      "Cell \u001b[0;32mIn[59], line 7\u001b[0m\n\u001b[1;32m      5\u001b[0m \u001b[38;5;28;01mtry\u001b[39;00m:\n\u001b[1;32m      6\u001b[0m     post \u001b[38;5;241m=\u001b[39m all_sr\u001b[38;5;241m.\u001b[39mrandom()\n\u001b[0;32m----> 7\u001b[0m     writer\u001b[38;5;241m.\u001b[39mwriterow(\u001b[43mpost_relevant_fields\u001b[49m\u001b[43m(\u001b[49m\u001b[43mpost\u001b[49m\u001b[43m)\u001b[49m)\n\u001b[1;32m      8\u001b[0m \u001b[38;5;28;01mexcept\u001b[39;00m \u001b[38;5;167;01mException\u001b[39;00m \u001b[38;5;28;01mas\u001b[39;00m e:\n\u001b[1;32m      9\u001b[0m     \u001b[38;5;28mprint\u001b[39m(e, e\u001b[38;5;241m.\u001b[39m\u001b[38;5;18m__class__\u001b[39m, \u001b[38;5;28mid\u001b[39m)\n",
      "File \u001b[0;32m~/cyberlang-learning/praw-comments-script/utils.py:94\u001b[0m, in \u001b[0;36mpost_relevant_fields\u001b[0;34m(post)\u001b[0m\n\u001b[1;32m     90\u001b[0m \u001b[38;5;28;01mdef\u001b[39;00m \u001b[38;5;21mpost_relevant_fields\u001b[39m(post: praw\u001b[38;5;241m.\u001b[39mmodels\u001b[38;5;241m.\u001b[39mSubmission):\n\u001b[1;32m     91\u001b[0m \u001b[38;5;250m    \u001b[39m\u001b[38;5;124;03m\"\"\"\u001b[39;00m\n\u001b[1;32m     92\u001b[0m \u001b[38;5;124;03m    Extract the relevant fields of a post, to be saved in a CSV\u001b[39;00m\n\u001b[1;32m     93\u001b[0m \u001b[38;5;124;03m    \"\"\"\u001b[39;00m\n\u001b[0;32m---> 94\u001b[0m     sr_match \u001b[38;5;241m=\u001b[39m re\u001b[38;5;241m.\u001b[39msearch(\u001b[38;5;124m\"\u001b[39m\u001b[38;5;124mr/([^/]+)\u001b[39m\u001b[38;5;124m\"\u001b[39m, \u001b[43mpost\u001b[49m\u001b[38;5;241;43m.\u001b[39;49m\u001b[43mpermalink\u001b[49m)\n\u001b[1;32m     95\u001b[0m     \u001b[38;5;28;01mif\u001b[39;00m sr_match \u001b[38;5;129;01mis\u001b[39;00m \u001b[38;5;28;01mNone\u001b[39;00m:\n\u001b[1;32m     96\u001b[0m         sr_name \u001b[38;5;241m=\u001b[39m post\u001b[38;5;241m.\u001b[39mpermalink\n",
      "File \u001b[0;32m~/.virtualenvs/praw-playground/lib/python3.10/site-packages/praw/models/reddit/base.py:35\u001b[0m, in \u001b[0;36mRedditBase.__getattr__\u001b[0;34m(self, attribute)\u001b[0m\n\u001b[1;32m     33\u001b[0m \u001b[38;5;250m\u001b[39m\u001b[38;5;124;03m\"\"\"Return the value of ``attribute``.\"\"\"\u001b[39;00m\n\u001b[1;32m     34\u001b[0m \u001b[38;5;28;01mif\u001b[39;00m \u001b[38;5;129;01mnot\u001b[39;00m attribute\u001b[38;5;241m.\u001b[39mstartswith(\u001b[38;5;124m\"\u001b[39m\u001b[38;5;124m_\u001b[39m\u001b[38;5;124m\"\u001b[39m) \u001b[38;5;129;01mand\u001b[39;00m \u001b[38;5;129;01mnot\u001b[39;00m \u001b[38;5;28mself\u001b[39m\u001b[38;5;241m.\u001b[39m_fetched:\n\u001b[0;32m---> 35\u001b[0m     \u001b[38;5;28;43mself\u001b[39;49m\u001b[38;5;241;43m.\u001b[39;49m\u001b[43m_fetch\u001b[49m\u001b[43m(\u001b[49m\u001b[43m)\u001b[49m\n\u001b[1;32m     36\u001b[0m     \u001b[38;5;28;01mreturn\u001b[39;00m \u001b[38;5;28mgetattr\u001b[39m(\u001b[38;5;28mself\u001b[39m, attribute)\n\u001b[1;32m     37\u001b[0m \u001b[38;5;28;01mraise\u001b[39;00m \u001b[38;5;167;01mAttributeError\u001b[39;00m(\n\u001b[1;32m     38\u001b[0m     \u001b[38;5;124mf\u001b[39m\u001b[38;5;124m\"\u001b[39m\u001b[38;5;132;01m{\u001b[39;00m\u001b[38;5;28mself\u001b[39m\u001b[38;5;241m.\u001b[39m\u001b[38;5;18m__class__\u001b[39m\u001b[38;5;241m.\u001b[39m\u001b[38;5;18m__name__\u001b[39m\u001b[38;5;132;01m!r}\u001b[39;00m\u001b[38;5;124m object has no attribute \u001b[39m\u001b[38;5;132;01m{\u001b[39;00mattribute\u001b[38;5;132;01m!r}\u001b[39;00m\u001b[38;5;124m\"\u001b[39m\n\u001b[1;32m     39\u001b[0m )\n",
      "File \u001b[0;32m~/.virtualenvs/praw-playground/lib/python3.10/site-packages/praw/models/reddit/submission.py:712\u001b[0m, in \u001b[0;36mSubmission._fetch\u001b[0;34m(self)\u001b[0m\n\u001b[1;32m    711\u001b[0m \u001b[38;5;28;01mdef\u001b[39;00m \u001b[38;5;21m_fetch\u001b[39m(\u001b[38;5;28mself\u001b[39m):\n\u001b[0;32m--> 712\u001b[0m     data \u001b[38;5;241m=\u001b[39m \u001b[38;5;28;43mself\u001b[39;49m\u001b[38;5;241;43m.\u001b[39;49m\u001b[43m_fetch_data\u001b[49m\u001b[43m(\u001b[49m\u001b[43m)\u001b[49m\n\u001b[1;32m    713\u001b[0m     submission_listing, comment_listing \u001b[38;5;241m=\u001b[39m data\n\u001b[1;32m    714\u001b[0m     comment_listing \u001b[38;5;241m=\u001b[39m Listing(\u001b[38;5;28mself\u001b[39m\u001b[38;5;241m.\u001b[39m_reddit, _data\u001b[38;5;241m=\u001b[39mcomment_listing[\u001b[38;5;124m\"\u001b[39m\u001b[38;5;124mdata\u001b[39m\u001b[38;5;124m\"\u001b[39m])\n",
      "File \u001b[0;32m~/.virtualenvs/praw-playground/lib/python3.10/site-packages/praw/models/reddit/submission.py:731\u001b[0m, in \u001b[0;36mSubmission._fetch_data\u001b[0;34m(self)\u001b[0m\n\u001b[1;32m    729\u001b[0m params\u001b[38;5;241m.\u001b[39mupdate(\u001b[38;5;28mself\u001b[39m\u001b[38;5;241m.\u001b[39m_additional_fetch_params\u001b[38;5;241m.\u001b[39mcopy())\n\u001b[1;32m    730\u001b[0m path \u001b[38;5;241m=\u001b[39m API_PATH[name]\u001b[38;5;241m.\u001b[39mformat(\u001b[38;5;241m*\u001b[39m\u001b[38;5;241m*\u001b[39mfields)\n\u001b[0;32m--> 731\u001b[0m \u001b[38;5;28;01mreturn\u001b[39;00m \u001b[38;5;28;43mself\u001b[39;49m\u001b[38;5;241;43m.\u001b[39;49m\u001b[43m_reddit\u001b[49m\u001b[38;5;241;43m.\u001b[39;49m\u001b[43mrequest\u001b[49m\u001b[43m(\u001b[49m\u001b[43mmethod\u001b[49m\u001b[38;5;241;43m=\u001b[39;49m\u001b[38;5;124;43m\"\u001b[39;49m\u001b[38;5;124;43mGET\u001b[39;49m\u001b[38;5;124;43m\"\u001b[39;49m\u001b[43m,\u001b[49m\u001b[43m \u001b[49m\u001b[43mparams\u001b[49m\u001b[38;5;241;43m=\u001b[39;49m\u001b[43mparams\u001b[49m\u001b[43m,\u001b[49m\u001b[43m \u001b[49m\u001b[43mpath\u001b[49m\u001b[38;5;241;43m=\u001b[39;49m\u001b[43mpath\u001b[49m\u001b[43m)\u001b[49m\n",
      "File \u001b[0;32m~/.virtualenvs/praw-playground/lib/python3.10/site-packages/praw/util/deprecate_args.py:43\u001b[0m, in \u001b[0;36m_deprecate_args.<locals>.wrapper.<locals>.wrapped\u001b[0;34m(*args, **kwargs)\u001b[0m\n\u001b[1;32m     36\u001b[0m     arg_string \u001b[38;5;241m=\u001b[39m _generate_arg_string(_old_args[: \u001b[38;5;28mlen\u001b[39m(args)])\n\u001b[1;32m     37\u001b[0m     warn(\n\u001b[1;32m     38\u001b[0m         \u001b[38;5;124mf\u001b[39m\u001b[38;5;124m\"\u001b[39m\u001b[38;5;124mPositional arguments for \u001b[39m\u001b[38;5;132;01m{\u001b[39;00mfunc\u001b[38;5;241m.\u001b[39m\u001b[38;5;18m__qualname__\u001b[39m\u001b[38;5;132;01m!r}\u001b[39;00m\u001b[38;5;124m will no longer be\u001b[39m\u001b[38;5;124m\"\u001b[39m\n\u001b[1;32m     39\u001b[0m         \u001b[38;5;124mf\u001b[39m\u001b[38;5;124m\"\u001b[39m\u001b[38;5;124m supported in PRAW 8.\u001b[39m\u001b[38;5;130;01m\\n\u001b[39;00m\u001b[38;5;124mCall this function with \u001b[39m\u001b[38;5;132;01m{\u001b[39;00marg_string\u001b[38;5;132;01m}\u001b[39;00m\u001b[38;5;124m.\u001b[39m\u001b[38;5;124m\"\u001b[39m,\n\u001b[1;32m     40\u001b[0m         \u001b[38;5;167;01mDeprecationWarning\u001b[39;00m,\n\u001b[1;32m     41\u001b[0m         stacklevel\u001b[38;5;241m=\u001b[39m\u001b[38;5;241m2\u001b[39m,\n\u001b[1;32m     42\u001b[0m     )\n\u001b[0;32m---> 43\u001b[0m \u001b[38;5;28;01mreturn\u001b[39;00m \u001b[43mfunc\u001b[49m\u001b[43m(\u001b[49m\u001b[38;5;241;43m*\u001b[39;49m\u001b[38;5;241;43m*\u001b[39;49m\u001b[38;5;28;43mdict\u001b[39;49m\u001b[43m(\u001b[49m\u001b[38;5;28;43mzip\u001b[39;49m\u001b[43m(\u001b[49m\u001b[43m_old_args\u001b[49m\u001b[43m,\u001b[49m\u001b[43m \u001b[49m\u001b[43margs\u001b[49m\u001b[43m)\u001b[49m\u001b[43m)\u001b[49m\u001b[43m,\u001b[49m\u001b[43m \u001b[49m\u001b[38;5;241;43m*\u001b[39;49m\u001b[38;5;241;43m*\u001b[39;49m\u001b[43mkwargs\u001b[49m\u001b[43m)\u001b[49m\n",
      "File \u001b[0;32m~/.virtualenvs/praw-playground/lib/python3.10/site-packages/praw/reddit.py:941\u001b[0m, in \u001b[0;36mReddit.request\u001b[0;34m(self, data, files, json, method, params, path)\u001b[0m\n\u001b[1;32m    939\u001b[0m     \u001b[38;5;28;01mraise\u001b[39;00m ClientException(\u001b[38;5;124m\"\u001b[39m\u001b[38;5;124mAt most one of \u001b[39m\u001b[38;5;124m'\u001b[39m\u001b[38;5;124mdata\u001b[39m\u001b[38;5;124m'\u001b[39m\u001b[38;5;124m or \u001b[39m\u001b[38;5;124m'\u001b[39m\u001b[38;5;124mjson\u001b[39m\u001b[38;5;124m'\u001b[39m\u001b[38;5;124m is supported.\u001b[39m\u001b[38;5;124m\"\u001b[39m)\n\u001b[1;32m    940\u001b[0m \u001b[38;5;28;01mtry\u001b[39;00m:\n\u001b[0;32m--> 941\u001b[0m     \u001b[38;5;28;01mreturn\u001b[39;00m \u001b[38;5;28;43mself\u001b[39;49m\u001b[38;5;241;43m.\u001b[39;49m\u001b[43m_core\u001b[49m\u001b[38;5;241;43m.\u001b[39;49m\u001b[43mrequest\u001b[49m\u001b[43m(\u001b[49m\n\u001b[1;32m    942\u001b[0m \u001b[43m        \u001b[49m\u001b[43mdata\u001b[49m\u001b[38;5;241;43m=\u001b[39;49m\u001b[43mdata\u001b[49m\u001b[43m,\u001b[49m\n\u001b[1;32m    943\u001b[0m \u001b[43m        \u001b[49m\u001b[43mfiles\u001b[49m\u001b[38;5;241;43m=\u001b[39;49m\u001b[43mfiles\u001b[49m\u001b[43m,\u001b[49m\n\u001b[1;32m    944\u001b[0m \u001b[43m        \u001b[49m\u001b[43mjson\u001b[49m\u001b[38;5;241;43m=\u001b[39;49m\u001b[43mjson\u001b[49m\u001b[43m,\u001b[49m\n\u001b[1;32m    945\u001b[0m \u001b[43m        \u001b[49m\u001b[43mmethod\u001b[49m\u001b[38;5;241;43m=\u001b[39;49m\u001b[43mmethod\u001b[49m\u001b[43m,\u001b[49m\n\u001b[1;32m    946\u001b[0m \u001b[43m        \u001b[49m\u001b[43mparams\u001b[49m\u001b[38;5;241;43m=\u001b[39;49m\u001b[43mparams\u001b[49m\u001b[43m,\u001b[49m\n\u001b[1;32m    947\u001b[0m \u001b[43m        \u001b[49m\u001b[43mpath\u001b[49m\u001b[38;5;241;43m=\u001b[39;49m\u001b[43mpath\u001b[49m\u001b[43m,\u001b[49m\n\u001b[1;32m    948\u001b[0m \u001b[43m    \u001b[49m\u001b[43m)\u001b[49m\n\u001b[1;32m    949\u001b[0m \u001b[38;5;28;01mexcept\u001b[39;00m BadRequest \u001b[38;5;28;01mas\u001b[39;00m exception:\n\u001b[1;32m    950\u001b[0m     \u001b[38;5;28;01mtry\u001b[39;00m:\n",
      "File \u001b[0;32m~/.virtualenvs/praw-playground/lib/python3.10/site-packages/prawcore/sessions.py:328\u001b[0m, in \u001b[0;36mSession.request\u001b[0;34m(self, method, path, data, files, json, params, timeout)\u001b[0m\n\u001b[1;32m    326\u001b[0m     json[\u001b[38;5;124m\"\u001b[39m\u001b[38;5;124mapi_type\u001b[39m\u001b[38;5;124m\"\u001b[39m] \u001b[38;5;241m=\u001b[39m \u001b[38;5;124m\"\u001b[39m\u001b[38;5;124mjson\u001b[39m\u001b[38;5;124m\"\u001b[39m\n\u001b[1;32m    327\u001b[0m url \u001b[38;5;241m=\u001b[39m urljoin(\u001b[38;5;28mself\u001b[39m\u001b[38;5;241m.\u001b[39m_requestor\u001b[38;5;241m.\u001b[39moauth_url, path)\n\u001b[0;32m--> 328\u001b[0m \u001b[38;5;28;01mreturn\u001b[39;00m \u001b[38;5;28;43mself\u001b[39;49m\u001b[38;5;241;43m.\u001b[39;49m\u001b[43m_request_with_retries\u001b[49m\u001b[43m(\u001b[49m\n\u001b[1;32m    329\u001b[0m \u001b[43m    \u001b[49m\u001b[43mdata\u001b[49m\u001b[38;5;241;43m=\u001b[39;49m\u001b[43mdata\u001b[49m\u001b[43m,\u001b[49m\n\u001b[1;32m    330\u001b[0m \u001b[43m    \u001b[49m\u001b[43mfiles\u001b[49m\u001b[38;5;241;43m=\u001b[39;49m\u001b[43mfiles\u001b[49m\u001b[43m,\u001b[49m\n\u001b[1;32m    331\u001b[0m \u001b[43m    \u001b[49m\u001b[43mjson\u001b[49m\u001b[38;5;241;43m=\u001b[39;49m\u001b[43mjson\u001b[49m\u001b[43m,\u001b[49m\n\u001b[1;32m    332\u001b[0m \u001b[43m    \u001b[49m\u001b[43mmethod\u001b[49m\u001b[38;5;241;43m=\u001b[39;49m\u001b[43mmethod\u001b[49m\u001b[43m,\u001b[49m\n\u001b[1;32m    333\u001b[0m \u001b[43m    \u001b[49m\u001b[43mparams\u001b[49m\u001b[38;5;241;43m=\u001b[39;49m\u001b[43mparams\u001b[49m\u001b[43m,\u001b[49m\n\u001b[1;32m    334\u001b[0m \u001b[43m    \u001b[49m\u001b[43mtimeout\u001b[49m\u001b[38;5;241;43m=\u001b[39;49m\u001b[43mtimeout\u001b[49m\u001b[43m,\u001b[49m\n\u001b[1;32m    335\u001b[0m \u001b[43m    \u001b[49m\u001b[43murl\u001b[49m\u001b[38;5;241;43m=\u001b[39;49m\u001b[43murl\u001b[49m\u001b[43m,\u001b[49m\n\u001b[1;32m    336\u001b[0m \u001b[43m\u001b[49m\u001b[43m)\u001b[49m\n",
      "File \u001b[0;32m~/.virtualenvs/praw-playground/lib/python3.10/site-packages/prawcore/sessions.py:234\u001b[0m, in \u001b[0;36mSession._request_with_retries\u001b[0;34m(self, data, files, json, method, params, timeout, url, retry_strategy_state)\u001b[0m\n\u001b[1;32m    232\u001b[0m retry_strategy_state\u001b[38;5;241m.\u001b[39msleep()\n\u001b[1;32m    233\u001b[0m \u001b[38;5;28mself\u001b[39m\u001b[38;5;241m.\u001b[39m_log_request(data, method, params, url)\n\u001b[0;32m--> 234\u001b[0m response, saved_exception \u001b[38;5;241m=\u001b[39m \u001b[38;5;28;43mself\u001b[39;49m\u001b[38;5;241;43m.\u001b[39;49m\u001b[43m_make_request\u001b[49m\u001b[43m(\u001b[49m\n\u001b[1;32m    235\u001b[0m \u001b[43m    \u001b[49m\u001b[43mdata\u001b[49m\u001b[43m,\u001b[49m\n\u001b[1;32m    236\u001b[0m \u001b[43m    \u001b[49m\u001b[43mfiles\u001b[49m\u001b[43m,\u001b[49m\n\u001b[1;32m    237\u001b[0m \u001b[43m    \u001b[49m\u001b[43mjson\u001b[49m\u001b[43m,\u001b[49m\n\u001b[1;32m    238\u001b[0m \u001b[43m    \u001b[49m\u001b[43mmethod\u001b[49m\u001b[43m,\u001b[49m\n\u001b[1;32m    239\u001b[0m \u001b[43m    \u001b[49m\u001b[43mparams\u001b[49m\u001b[43m,\u001b[49m\n\u001b[1;32m    240\u001b[0m \u001b[43m    \u001b[49m\u001b[43mretry_strategy_state\u001b[49m\u001b[43m,\u001b[49m\n\u001b[1;32m    241\u001b[0m \u001b[43m    \u001b[49m\u001b[43mtimeout\u001b[49m\u001b[43m,\u001b[49m\n\u001b[1;32m    242\u001b[0m \u001b[43m    \u001b[49m\u001b[43murl\u001b[49m\u001b[43m,\u001b[49m\n\u001b[1;32m    243\u001b[0m \u001b[43m\u001b[49m\u001b[43m)\u001b[49m\n\u001b[1;32m    245\u001b[0m do_retry \u001b[38;5;241m=\u001b[39m \u001b[38;5;28;01mFalse\u001b[39;00m\n\u001b[1;32m    246\u001b[0m \u001b[38;5;28;01mif\u001b[39;00m response \u001b[38;5;129;01mis\u001b[39;00m \u001b[38;5;129;01mnot\u001b[39;00m \u001b[38;5;28;01mNone\u001b[39;00m \u001b[38;5;129;01mand\u001b[39;00m response\u001b[38;5;241m.\u001b[39mstatus_code \u001b[38;5;241m==\u001b[39m codes[\u001b[38;5;124m\"\u001b[39m\u001b[38;5;124munauthorized\u001b[39m\u001b[38;5;124m\"\u001b[39m]:\n",
      "File \u001b[0;32m~/.virtualenvs/praw-playground/lib/python3.10/site-packages/prawcore/sessions.py:186\u001b[0m, in \u001b[0;36mSession._make_request\u001b[0;34m(self, data, files, json, method, params, retry_strategy_state, timeout, url)\u001b[0m\n\u001b[1;32m    174\u001b[0m \u001b[38;5;28;01mdef\u001b[39;00m \u001b[38;5;21m_make_request\u001b[39m(\n\u001b[1;32m    175\u001b[0m     \u001b[38;5;28mself\u001b[39m,\n\u001b[1;32m    176\u001b[0m     data: \u001b[38;5;28mlist\u001b[39m[\u001b[38;5;28mtuple\u001b[39m[\u001b[38;5;28mstr\u001b[39m, Any]],\n\u001b[0;32m   (...)\u001b[0m\n\u001b[1;32m    183\u001b[0m     url: \u001b[38;5;28mstr\u001b[39m,\n\u001b[1;32m    184\u001b[0m ) \u001b[38;5;241m-\u001b[39m\u001b[38;5;241m>\u001b[39m \u001b[38;5;28mtuple\u001b[39m[Response, \u001b[38;5;28;01mNone\u001b[39;00m] \u001b[38;5;241m|\u001b[39m \u001b[38;5;28mtuple\u001b[39m[\u001b[38;5;28;01mNone\u001b[39;00m, \u001b[38;5;167;01mException\u001b[39;00m]:\n\u001b[1;32m    185\u001b[0m     \u001b[38;5;28;01mtry\u001b[39;00m:\n\u001b[0;32m--> 186\u001b[0m         response \u001b[38;5;241m=\u001b[39m \u001b[38;5;28;43mself\u001b[39;49m\u001b[38;5;241;43m.\u001b[39;49m\u001b[43m_rate_limiter\u001b[49m\u001b[38;5;241;43m.\u001b[39;49m\u001b[43mcall\u001b[49m\u001b[43m(\u001b[49m\n\u001b[1;32m    187\u001b[0m \u001b[43m            \u001b[49m\u001b[38;5;28;43mself\u001b[39;49m\u001b[38;5;241;43m.\u001b[39;49m\u001b[43m_requestor\u001b[49m\u001b[38;5;241;43m.\u001b[39;49m\u001b[43mrequest\u001b[49m\u001b[43m,\u001b[49m\n\u001b[1;32m    188\u001b[0m \u001b[43m            \u001b[49m\u001b[38;5;28;43mself\u001b[39;49m\u001b[38;5;241;43m.\u001b[39;49m\u001b[43m_set_header_callback\u001b[49m\u001b[43m,\u001b[49m\n\u001b[1;32m    189\u001b[0m \u001b[43m            \u001b[49m\u001b[43mmethod\u001b[49m\u001b[43m,\u001b[49m\n\u001b[1;32m    190\u001b[0m \u001b[43m            \u001b[49m\u001b[43murl\u001b[49m\u001b[43m,\u001b[49m\n\u001b[1;32m    191\u001b[0m \u001b[43m            \u001b[49m\u001b[43mallow_redirects\u001b[49m\u001b[38;5;241;43m=\u001b[39;49m\u001b[38;5;28;43;01mFalse\u001b[39;49;00m\u001b[43m,\u001b[49m\n\u001b[1;32m    192\u001b[0m \u001b[43m            \u001b[49m\u001b[43mdata\u001b[49m\u001b[38;5;241;43m=\u001b[39;49m\u001b[43mdata\u001b[49m\u001b[43m,\u001b[49m\n\u001b[1;32m    193\u001b[0m \u001b[43m            \u001b[49m\u001b[43mfiles\u001b[49m\u001b[38;5;241;43m=\u001b[39;49m\u001b[43mfiles\u001b[49m\u001b[43m,\u001b[49m\n\u001b[1;32m    194\u001b[0m \u001b[43m            \u001b[49m\u001b[43mjson\u001b[49m\u001b[38;5;241;43m=\u001b[39;49m\u001b[43mjson\u001b[49m\u001b[43m,\u001b[49m\n\u001b[1;32m    195\u001b[0m \u001b[43m            \u001b[49m\u001b[43mparams\u001b[49m\u001b[38;5;241;43m=\u001b[39;49m\u001b[43mparams\u001b[49m\u001b[43m,\u001b[49m\n\u001b[1;32m    196\u001b[0m \u001b[43m            \u001b[49m\u001b[43mtimeout\u001b[49m\u001b[38;5;241;43m=\u001b[39;49m\u001b[43mtimeout\u001b[49m\u001b[43m,\u001b[49m\n\u001b[1;32m    197\u001b[0m \u001b[43m        \u001b[49m\u001b[43m)\u001b[49m\n\u001b[1;32m    198\u001b[0m         log\u001b[38;5;241m.\u001b[39mdebug(\n\u001b[1;32m    199\u001b[0m             \u001b[38;5;124m\"\u001b[39m\u001b[38;5;124mResponse: \u001b[39m\u001b[38;5;132;01m%s\u001b[39;00m\u001b[38;5;124m (\u001b[39m\u001b[38;5;132;01m%s\u001b[39;00m\u001b[38;5;124m bytes) (rst-\u001b[39m\u001b[38;5;132;01m%s\u001b[39;00m\u001b[38;5;124m:rem-\u001b[39m\u001b[38;5;132;01m%s\u001b[39;00m\u001b[38;5;124m:used-\u001b[39m\u001b[38;5;132;01m%s\u001b[39;00m\u001b[38;5;124m ratelimit) at \u001b[39m\u001b[38;5;132;01m%s\u001b[39;00m\u001b[38;5;124m\"\u001b[39m,\n\u001b[1;32m    200\u001b[0m             response\u001b[38;5;241m.\u001b[39mstatus_code,\n\u001b[0;32m   (...)\u001b[0m\n\u001b[1;32m    205\u001b[0m             time\u001b[38;5;241m.\u001b[39mtime(),\n\u001b[1;32m    206\u001b[0m         )\n\u001b[1;32m    207\u001b[0m         \u001b[38;5;28;01mreturn\u001b[39;00m response, \u001b[38;5;28;01mNone\u001b[39;00m\n",
      "File \u001b[0;32m~/.virtualenvs/praw-playground/lib/python3.10/site-packages/prawcore/rate_limit.py:47\u001b[0m, in \u001b[0;36mRateLimiter.call\u001b[0;34m(self, request_function, set_header_callback, *args, **kwargs)\u001b[0m\n\u001b[1;32m     45\u001b[0m \u001b[38;5;28mself\u001b[39m\u001b[38;5;241m.\u001b[39mdelay()\n\u001b[1;32m     46\u001b[0m kwargs[\u001b[38;5;124m\"\u001b[39m\u001b[38;5;124mheaders\u001b[39m\u001b[38;5;124m\"\u001b[39m] \u001b[38;5;241m=\u001b[39m set_header_callback()\n\u001b[0;32m---> 47\u001b[0m response \u001b[38;5;241m=\u001b[39m \u001b[43mrequest_function\u001b[49m\u001b[43m(\u001b[49m\u001b[38;5;241;43m*\u001b[39;49m\u001b[43margs\u001b[49m\u001b[43m,\u001b[49m\u001b[43m \u001b[49m\u001b[38;5;241;43m*\u001b[39;49m\u001b[38;5;241;43m*\u001b[39;49m\u001b[43mkwargs\u001b[49m\u001b[43m)\u001b[49m\n\u001b[1;32m     48\u001b[0m \u001b[38;5;28mself\u001b[39m\u001b[38;5;241m.\u001b[39mupdate(response\u001b[38;5;241m.\u001b[39mheaders)\n\u001b[1;32m     49\u001b[0m \u001b[38;5;28;01mreturn\u001b[39;00m response\n",
      "File \u001b[0;32m~/.virtualenvs/praw-playground/lib/python3.10/site-packages/prawcore/requestor.py:68\u001b[0m, in \u001b[0;36mRequestor.request\u001b[0;34m(self, timeout, *args, **kwargs)\u001b[0m\n\u001b[1;32m     66\u001b[0m \u001b[38;5;250m\u001b[39m\u001b[38;5;124;03m\"\"\"Issue the HTTP request capturing any errors that may occur.\"\"\"\u001b[39;00m\n\u001b[1;32m     67\u001b[0m \u001b[38;5;28;01mtry\u001b[39;00m:\n\u001b[0;32m---> 68\u001b[0m     \u001b[38;5;28;01mreturn\u001b[39;00m \u001b[38;5;28;43mself\u001b[39;49m\u001b[38;5;241;43m.\u001b[39;49m\u001b[43m_http\u001b[49m\u001b[38;5;241;43m.\u001b[39;49m\u001b[43mrequest\u001b[49m\u001b[43m(\u001b[49m\u001b[38;5;241;43m*\u001b[39;49m\u001b[43margs\u001b[49m\u001b[43m,\u001b[49m\u001b[43m \u001b[49m\u001b[43mtimeout\u001b[49m\u001b[38;5;241;43m=\u001b[39;49m\u001b[43mtimeout\u001b[49m\u001b[43m \u001b[49m\u001b[38;5;129;43;01mor\u001b[39;49;00m\u001b[43m \u001b[49m\u001b[38;5;28;43mself\u001b[39;49m\u001b[38;5;241;43m.\u001b[39;49m\u001b[43mtimeout\u001b[49m\u001b[43m,\u001b[49m\u001b[43m \u001b[49m\u001b[38;5;241;43m*\u001b[39;49m\u001b[38;5;241;43m*\u001b[39;49m\u001b[43mkwargs\u001b[49m\u001b[43m)\u001b[49m\n\u001b[1;32m     69\u001b[0m \u001b[38;5;28;01mexcept\u001b[39;00m \u001b[38;5;167;01mException\u001b[39;00m \u001b[38;5;28;01mas\u001b[39;00m exc:  \u001b[38;5;66;03m# noqa: BLE001\u001b[39;00m\n\u001b[1;32m     70\u001b[0m     \u001b[38;5;28;01mraise\u001b[39;00m RequestException(exc, args, kwargs) \u001b[38;5;28;01mfrom\u001b[39;00m \u001b[38;5;28;01mNone\u001b[39;00m\n",
      "File \u001b[0;32m~/.virtualenvs/praw-playground/lib/python3.10/site-packages/requests/sessions.py:589\u001b[0m, in \u001b[0;36mSession.request\u001b[0;34m(self, method, url, params, data, headers, cookies, files, auth, timeout, allow_redirects, proxies, hooks, stream, verify, cert, json)\u001b[0m\n\u001b[1;32m    584\u001b[0m send_kwargs \u001b[38;5;241m=\u001b[39m {\n\u001b[1;32m    585\u001b[0m     \u001b[38;5;124m\"\u001b[39m\u001b[38;5;124mtimeout\u001b[39m\u001b[38;5;124m\"\u001b[39m: timeout,\n\u001b[1;32m    586\u001b[0m     \u001b[38;5;124m\"\u001b[39m\u001b[38;5;124mallow_redirects\u001b[39m\u001b[38;5;124m\"\u001b[39m: allow_redirects,\n\u001b[1;32m    587\u001b[0m }\n\u001b[1;32m    588\u001b[0m send_kwargs\u001b[38;5;241m.\u001b[39mupdate(settings)\n\u001b[0;32m--> 589\u001b[0m resp \u001b[38;5;241m=\u001b[39m \u001b[38;5;28;43mself\u001b[39;49m\u001b[38;5;241;43m.\u001b[39;49m\u001b[43msend\u001b[49m\u001b[43m(\u001b[49m\u001b[43mprep\u001b[49m\u001b[43m,\u001b[49m\u001b[43m \u001b[49m\u001b[38;5;241;43m*\u001b[39;49m\u001b[38;5;241;43m*\u001b[39;49m\u001b[43msend_kwargs\u001b[49m\u001b[43m)\u001b[49m\n\u001b[1;32m    591\u001b[0m \u001b[38;5;28;01mreturn\u001b[39;00m resp\n",
      "File \u001b[0;32m~/.virtualenvs/praw-playground/lib/python3.10/site-packages/requests/sessions.py:703\u001b[0m, in \u001b[0;36mSession.send\u001b[0;34m(self, request, **kwargs)\u001b[0m\n\u001b[1;32m    700\u001b[0m start \u001b[38;5;241m=\u001b[39m preferred_clock()\n\u001b[1;32m    702\u001b[0m \u001b[38;5;66;03m# Send the request\u001b[39;00m\n\u001b[0;32m--> 703\u001b[0m r \u001b[38;5;241m=\u001b[39m \u001b[43madapter\u001b[49m\u001b[38;5;241;43m.\u001b[39;49m\u001b[43msend\u001b[49m\u001b[43m(\u001b[49m\u001b[43mrequest\u001b[49m\u001b[43m,\u001b[49m\u001b[43m \u001b[49m\u001b[38;5;241;43m*\u001b[39;49m\u001b[38;5;241;43m*\u001b[39;49m\u001b[43mkwargs\u001b[49m\u001b[43m)\u001b[49m\n\u001b[1;32m    705\u001b[0m \u001b[38;5;66;03m# Total elapsed time of the request (approximately)\u001b[39;00m\n\u001b[1;32m    706\u001b[0m elapsed \u001b[38;5;241m=\u001b[39m preferred_clock() \u001b[38;5;241m-\u001b[39m start\n",
      "File \u001b[0;32m~/.virtualenvs/praw-playground/lib/python3.10/site-packages/requests/adapters.py:486\u001b[0m, in \u001b[0;36mHTTPAdapter.send\u001b[0;34m(self, request, stream, timeout, verify, cert, proxies)\u001b[0m\n\u001b[1;32m    483\u001b[0m     timeout \u001b[38;5;241m=\u001b[39m TimeoutSauce(connect\u001b[38;5;241m=\u001b[39mtimeout, read\u001b[38;5;241m=\u001b[39mtimeout)\n\u001b[1;32m    485\u001b[0m \u001b[38;5;28;01mtry\u001b[39;00m:\n\u001b[0;32m--> 486\u001b[0m     resp \u001b[38;5;241m=\u001b[39m \u001b[43mconn\u001b[49m\u001b[38;5;241;43m.\u001b[39;49m\u001b[43murlopen\u001b[49m\u001b[43m(\u001b[49m\n\u001b[1;32m    487\u001b[0m \u001b[43m        \u001b[49m\u001b[43mmethod\u001b[49m\u001b[38;5;241;43m=\u001b[39;49m\u001b[43mrequest\u001b[49m\u001b[38;5;241;43m.\u001b[39;49m\u001b[43mmethod\u001b[49m\u001b[43m,\u001b[49m\n\u001b[1;32m    488\u001b[0m \u001b[43m        \u001b[49m\u001b[43murl\u001b[49m\u001b[38;5;241;43m=\u001b[39;49m\u001b[43murl\u001b[49m\u001b[43m,\u001b[49m\n\u001b[1;32m    489\u001b[0m \u001b[43m        \u001b[49m\u001b[43mbody\u001b[49m\u001b[38;5;241;43m=\u001b[39;49m\u001b[43mrequest\u001b[49m\u001b[38;5;241;43m.\u001b[39;49m\u001b[43mbody\u001b[49m\u001b[43m,\u001b[49m\n\u001b[1;32m    490\u001b[0m \u001b[43m        \u001b[49m\u001b[43mheaders\u001b[49m\u001b[38;5;241;43m=\u001b[39;49m\u001b[43mrequest\u001b[49m\u001b[38;5;241;43m.\u001b[39;49m\u001b[43mheaders\u001b[49m\u001b[43m,\u001b[49m\n\u001b[1;32m    491\u001b[0m \u001b[43m        \u001b[49m\u001b[43mredirect\u001b[49m\u001b[38;5;241;43m=\u001b[39;49m\u001b[38;5;28;43;01mFalse\u001b[39;49;00m\u001b[43m,\u001b[49m\n\u001b[1;32m    492\u001b[0m \u001b[43m        \u001b[49m\u001b[43massert_same_host\u001b[49m\u001b[38;5;241;43m=\u001b[39;49m\u001b[38;5;28;43;01mFalse\u001b[39;49;00m\u001b[43m,\u001b[49m\n\u001b[1;32m    493\u001b[0m \u001b[43m        \u001b[49m\u001b[43mpreload_content\u001b[49m\u001b[38;5;241;43m=\u001b[39;49m\u001b[38;5;28;43;01mFalse\u001b[39;49;00m\u001b[43m,\u001b[49m\n\u001b[1;32m    494\u001b[0m \u001b[43m        \u001b[49m\u001b[43mdecode_content\u001b[49m\u001b[38;5;241;43m=\u001b[39;49m\u001b[38;5;28;43;01mFalse\u001b[39;49;00m\u001b[43m,\u001b[49m\n\u001b[1;32m    495\u001b[0m \u001b[43m        \u001b[49m\u001b[43mretries\u001b[49m\u001b[38;5;241;43m=\u001b[39;49m\u001b[38;5;28;43mself\u001b[39;49m\u001b[38;5;241;43m.\u001b[39;49m\u001b[43mmax_retries\u001b[49m\u001b[43m,\u001b[49m\n\u001b[1;32m    496\u001b[0m \u001b[43m        \u001b[49m\u001b[43mtimeout\u001b[49m\u001b[38;5;241;43m=\u001b[39;49m\u001b[43mtimeout\u001b[49m\u001b[43m,\u001b[49m\n\u001b[1;32m    497\u001b[0m \u001b[43m        \u001b[49m\u001b[43mchunked\u001b[49m\u001b[38;5;241;43m=\u001b[39;49m\u001b[43mchunked\u001b[49m\u001b[43m,\u001b[49m\n\u001b[1;32m    498\u001b[0m \u001b[43m    \u001b[49m\u001b[43m)\u001b[49m\n\u001b[1;32m    500\u001b[0m \u001b[38;5;28;01mexcept\u001b[39;00m (ProtocolError, \u001b[38;5;167;01mOSError\u001b[39;00m) \u001b[38;5;28;01mas\u001b[39;00m err:\n\u001b[1;32m    501\u001b[0m     \u001b[38;5;28;01mraise\u001b[39;00m \u001b[38;5;167;01mConnectionError\u001b[39;00m(err, request\u001b[38;5;241m=\u001b[39mrequest)\n",
      "File \u001b[0;32m~/.virtualenvs/praw-playground/lib/python3.10/site-packages/urllib3/connectionpool.py:790\u001b[0m, in \u001b[0;36mHTTPConnectionPool.urlopen\u001b[0;34m(self, method, url, body, headers, retries, redirect, assert_same_host, timeout, pool_timeout, release_conn, chunked, body_pos, preload_content, decode_content, **response_kw)\u001b[0m\n\u001b[1;32m    787\u001b[0m response_conn \u001b[38;5;241m=\u001b[39m conn \u001b[38;5;28;01mif\u001b[39;00m \u001b[38;5;129;01mnot\u001b[39;00m release_conn \u001b[38;5;28;01melse\u001b[39;00m \u001b[38;5;28;01mNone\u001b[39;00m\n\u001b[1;32m    789\u001b[0m \u001b[38;5;66;03m# Make the request on the HTTPConnection object\u001b[39;00m\n\u001b[0;32m--> 790\u001b[0m response \u001b[38;5;241m=\u001b[39m \u001b[38;5;28;43mself\u001b[39;49m\u001b[38;5;241;43m.\u001b[39;49m\u001b[43m_make_request\u001b[49m\u001b[43m(\u001b[49m\n\u001b[1;32m    791\u001b[0m \u001b[43m    \u001b[49m\u001b[43mconn\u001b[49m\u001b[43m,\u001b[49m\n\u001b[1;32m    792\u001b[0m \u001b[43m    \u001b[49m\u001b[43mmethod\u001b[49m\u001b[43m,\u001b[49m\n\u001b[1;32m    793\u001b[0m \u001b[43m    \u001b[49m\u001b[43murl\u001b[49m\u001b[43m,\u001b[49m\n\u001b[1;32m    794\u001b[0m \u001b[43m    \u001b[49m\u001b[43mtimeout\u001b[49m\u001b[38;5;241;43m=\u001b[39;49m\u001b[43mtimeout_obj\u001b[49m\u001b[43m,\u001b[49m\n\u001b[1;32m    795\u001b[0m \u001b[43m    \u001b[49m\u001b[43mbody\u001b[49m\u001b[38;5;241;43m=\u001b[39;49m\u001b[43mbody\u001b[49m\u001b[43m,\u001b[49m\n\u001b[1;32m    796\u001b[0m \u001b[43m    \u001b[49m\u001b[43mheaders\u001b[49m\u001b[38;5;241;43m=\u001b[39;49m\u001b[43mheaders\u001b[49m\u001b[43m,\u001b[49m\n\u001b[1;32m    797\u001b[0m \u001b[43m    \u001b[49m\u001b[43mchunked\u001b[49m\u001b[38;5;241;43m=\u001b[39;49m\u001b[43mchunked\u001b[49m\u001b[43m,\u001b[49m\n\u001b[1;32m    798\u001b[0m \u001b[43m    \u001b[49m\u001b[43mretries\u001b[49m\u001b[38;5;241;43m=\u001b[39;49m\u001b[43mretries\u001b[49m\u001b[43m,\u001b[49m\n\u001b[1;32m    799\u001b[0m \u001b[43m    \u001b[49m\u001b[43mresponse_conn\u001b[49m\u001b[38;5;241;43m=\u001b[39;49m\u001b[43mresponse_conn\u001b[49m\u001b[43m,\u001b[49m\n\u001b[1;32m    800\u001b[0m \u001b[43m    \u001b[49m\u001b[43mpreload_content\u001b[49m\u001b[38;5;241;43m=\u001b[39;49m\u001b[43mpreload_content\u001b[49m\u001b[43m,\u001b[49m\n\u001b[1;32m    801\u001b[0m \u001b[43m    \u001b[49m\u001b[43mdecode_content\u001b[49m\u001b[38;5;241;43m=\u001b[39;49m\u001b[43mdecode_content\u001b[49m\u001b[43m,\u001b[49m\n\u001b[1;32m    802\u001b[0m \u001b[43m    \u001b[49m\u001b[38;5;241;43m*\u001b[39;49m\u001b[38;5;241;43m*\u001b[39;49m\u001b[43mresponse_kw\u001b[49m\u001b[43m,\u001b[49m\n\u001b[1;32m    803\u001b[0m \u001b[43m\u001b[49m\u001b[43m)\u001b[49m\n\u001b[1;32m    805\u001b[0m \u001b[38;5;66;03m# Everything went great!\u001b[39;00m\n\u001b[1;32m    806\u001b[0m clean_exit \u001b[38;5;241m=\u001b[39m \u001b[38;5;28;01mTrue\u001b[39;00m\n",
      "File \u001b[0;32m~/.virtualenvs/praw-playground/lib/python3.10/site-packages/urllib3/connectionpool.py:536\u001b[0m, in \u001b[0;36mHTTPConnectionPool._make_request\u001b[0;34m(self, conn, method, url, body, headers, retries, timeout, chunked, response_conn, preload_content, decode_content, enforce_content_length)\u001b[0m\n\u001b[1;32m    534\u001b[0m \u001b[38;5;66;03m# Receive the response from the server\u001b[39;00m\n\u001b[1;32m    535\u001b[0m \u001b[38;5;28;01mtry\u001b[39;00m:\n\u001b[0;32m--> 536\u001b[0m     response \u001b[38;5;241m=\u001b[39m \u001b[43mconn\u001b[49m\u001b[38;5;241;43m.\u001b[39;49m\u001b[43mgetresponse\u001b[49m\u001b[43m(\u001b[49m\u001b[43m)\u001b[49m\n\u001b[1;32m    537\u001b[0m \u001b[38;5;28;01mexcept\u001b[39;00m (BaseSSLError, \u001b[38;5;167;01mOSError\u001b[39;00m) \u001b[38;5;28;01mas\u001b[39;00m e:\n\u001b[1;32m    538\u001b[0m     \u001b[38;5;28mself\u001b[39m\u001b[38;5;241m.\u001b[39m_raise_timeout(err\u001b[38;5;241m=\u001b[39me, url\u001b[38;5;241m=\u001b[39murl, timeout_value\u001b[38;5;241m=\u001b[39mread_timeout)\n",
      "File \u001b[0;32m~/.virtualenvs/praw-playground/lib/python3.10/site-packages/urllib3/connection.py:461\u001b[0m, in \u001b[0;36mHTTPConnection.getresponse\u001b[0;34m(self)\u001b[0m\n\u001b[1;32m    458\u001b[0m \u001b[38;5;28;01mfrom\u001b[39;00m \u001b[38;5;21;01m.\u001b[39;00m\u001b[38;5;21;01mresponse\u001b[39;00m \u001b[38;5;28;01mimport\u001b[39;00m HTTPResponse\n\u001b[1;32m    460\u001b[0m \u001b[38;5;66;03m# Get the response from http.client.HTTPConnection\u001b[39;00m\n\u001b[0;32m--> 461\u001b[0m httplib_response \u001b[38;5;241m=\u001b[39m \u001b[38;5;28;43msuper\u001b[39;49m\u001b[43m(\u001b[49m\u001b[43m)\u001b[49m\u001b[38;5;241;43m.\u001b[39;49m\u001b[43mgetresponse\u001b[49m\u001b[43m(\u001b[49m\u001b[43m)\u001b[49m\n\u001b[1;32m    463\u001b[0m \u001b[38;5;28;01mtry\u001b[39;00m:\n\u001b[1;32m    464\u001b[0m     assert_header_parsing(httplib_response\u001b[38;5;241m.\u001b[39mmsg)\n",
      "File \u001b[0;32m/usr/lib/python3.10/http/client.py:1375\u001b[0m, in \u001b[0;36mHTTPConnection.getresponse\u001b[0;34m(self)\u001b[0m\n\u001b[1;32m   1373\u001b[0m \u001b[38;5;28;01mtry\u001b[39;00m:\n\u001b[1;32m   1374\u001b[0m     \u001b[38;5;28;01mtry\u001b[39;00m:\n\u001b[0;32m-> 1375\u001b[0m         \u001b[43mresponse\u001b[49m\u001b[38;5;241;43m.\u001b[39;49m\u001b[43mbegin\u001b[49m\u001b[43m(\u001b[49m\u001b[43m)\u001b[49m\n\u001b[1;32m   1376\u001b[0m     \u001b[38;5;28;01mexcept\u001b[39;00m \u001b[38;5;167;01mConnectionError\u001b[39;00m:\n\u001b[1;32m   1377\u001b[0m         \u001b[38;5;28mself\u001b[39m\u001b[38;5;241m.\u001b[39mclose()\n",
      "File \u001b[0;32m/usr/lib/python3.10/http/client.py:318\u001b[0m, in \u001b[0;36mHTTPResponse.begin\u001b[0;34m(self)\u001b[0m\n\u001b[1;32m    316\u001b[0m \u001b[38;5;66;03m# read until we get a non-100 response\u001b[39;00m\n\u001b[1;32m    317\u001b[0m \u001b[38;5;28;01mwhile\u001b[39;00m \u001b[38;5;28;01mTrue\u001b[39;00m:\n\u001b[0;32m--> 318\u001b[0m     version, status, reason \u001b[38;5;241m=\u001b[39m \u001b[38;5;28;43mself\u001b[39;49m\u001b[38;5;241;43m.\u001b[39;49m\u001b[43m_read_status\u001b[49m\u001b[43m(\u001b[49m\u001b[43m)\u001b[49m\n\u001b[1;32m    319\u001b[0m     \u001b[38;5;28;01mif\u001b[39;00m status \u001b[38;5;241m!=\u001b[39m CONTINUE:\n\u001b[1;32m    320\u001b[0m         \u001b[38;5;28;01mbreak\u001b[39;00m\n",
      "File \u001b[0;32m/usr/lib/python3.10/http/client.py:279\u001b[0m, in \u001b[0;36mHTTPResponse._read_status\u001b[0;34m(self)\u001b[0m\n\u001b[1;32m    278\u001b[0m \u001b[38;5;28;01mdef\u001b[39;00m \u001b[38;5;21m_read_status\u001b[39m(\u001b[38;5;28mself\u001b[39m):\n\u001b[0;32m--> 279\u001b[0m     line \u001b[38;5;241m=\u001b[39m \u001b[38;5;28mstr\u001b[39m(\u001b[38;5;28;43mself\u001b[39;49m\u001b[38;5;241;43m.\u001b[39;49m\u001b[43mfp\u001b[49m\u001b[38;5;241;43m.\u001b[39;49m\u001b[43mreadline\u001b[49m\u001b[43m(\u001b[49m\u001b[43m_MAXLINE\u001b[49m\u001b[43m \u001b[49m\u001b[38;5;241;43m+\u001b[39;49m\u001b[43m \u001b[49m\u001b[38;5;241;43m1\u001b[39;49m\u001b[43m)\u001b[49m, \u001b[38;5;124m\"\u001b[39m\u001b[38;5;124miso-8859-1\u001b[39m\u001b[38;5;124m\"\u001b[39m)\n\u001b[1;32m    280\u001b[0m     \u001b[38;5;28;01mif\u001b[39;00m \u001b[38;5;28mlen\u001b[39m(line) \u001b[38;5;241m>\u001b[39m _MAXLINE:\n\u001b[1;32m    281\u001b[0m         \u001b[38;5;28;01mraise\u001b[39;00m LineTooLong(\u001b[38;5;124m\"\u001b[39m\u001b[38;5;124mstatus line\u001b[39m\u001b[38;5;124m\"\u001b[39m)\n",
      "File \u001b[0;32m/usr/lib/python3.10/socket.py:705\u001b[0m, in \u001b[0;36mSocketIO.readinto\u001b[0;34m(self, b)\u001b[0m\n\u001b[1;32m    703\u001b[0m \u001b[38;5;28;01mwhile\u001b[39;00m \u001b[38;5;28;01mTrue\u001b[39;00m:\n\u001b[1;32m    704\u001b[0m     \u001b[38;5;28;01mtry\u001b[39;00m:\n\u001b[0;32m--> 705\u001b[0m         \u001b[38;5;28;01mreturn\u001b[39;00m \u001b[38;5;28;43mself\u001b[39;49m\u001b[38;5;241;43m.\u001b[39;49m\u001b[43m_sock\u001b[49m\u001b[38;5;241;43m.\u001b[39;49m\u001b[43mrecv_into\u001b[49m\u001b[43m(\u001b[49m\u001b[43mb\u001b[49m\u001b[43m)\u001b[49m\n\u001b[1;32m    706\u001b[0m     \u001b[38;5;28;01mexcept\u001b[39;00m timeout:\n\u001b[1;32m    707\u001b[0m         \u001b[38;5;28mself\u001b[39m\u001b[38;5;241m.\u001b[39m_timeout_occurred \u001b[38;5;241m=\u001b[39m \u001b[38;5;28;01mTrue\u001b[39;00m\n",
      "File \u001b[0;32m/usr/lib/python3.10/ssl.py:1303\u001b[0m, in \u001b[0;36mSSLSocket.recv_into\u001b[0;34m(self, buffer, nbytes, flags)\u001b[0m\n\u001b[1;32m   1299\u001b[0m     \u001b[38;5;28;01mif\u001b[39;00m flags \u001b[38;5;241m!=\u001b[39m \u001b[38;5;241m0\u001b[39m:\n\u001b[1;32m   1300\u001b[0m         \u001b[38;5;28;01mraise\u001b[39;00m \u001b[38;5;167;01mValueError\u001b[39;00m(\n\u001b[1;32m   1301\u001b[0m           \u001b[38;5;124m\"\u001b[39m\u001b[38;5;124mnon-zero flags not allowed in calls to recv_into() on \u001b[39m\u001b[38;5;132;01m%s\u001b[39;00m\u001b[38;5;124m\"\u001b[39m \u001b[38;5;241m%\u001b[39m\n\u001b[1;32m   1302\u001b[0m           \u001b[38;5;28mself\u001b[39m\u001b[38;5;241m.\u001b[39m\u001b[38;5;18m__class__\u001b[39m)\n\u001b[0;32m-> 1303\u001b[0m     \u001b[38;5;28;01mreturn\u001b[39;00m \u001b[38;5;28;43mself\u001b[39;49m\u001b[38;5;241;43m.\u001b[39;49m\u001b[43mread\u001b[49m\u001b[43m(\u001b[49m\u001b[43mnbytes\u001b[49m\u001b[43m,\u001b[49m\u001b[43m \u001b[49m\u001b[43mbuffer\u001b[49m\u001b[43m)\u001b[49m\n\u001b[1;32m   1304\u001b[0m \u001b[38;5;28;01melse\u001b[39;00m:\n\u001b[1;32m   1305\u001b[0m     \u001b[38;5;28;01mreturn\u001b[39;00m \u001b[38;5;28msuper\u001b[39m()\u001b[38;5;241m.\u001b[39mrecv_into(buffer, nbytes, flags)\n",
      "File \u001b[0;32m/usr/lib/python3.10/ssl.py:1159\u001b[0m, in \u001b[0;36mSSLSocket.read\u001b[0;34m(self, len, buffer)\u001b[0m\n\u001b[1;32m   1157\u001b[0m \u001b[38;5;28;01mtry\u001b[39;00m:\n\u001b[1;32m   1158\u001b[0m     \u001b[38;5;28;01mif\u001b[39;00m buffer \u001b[38;5;129;01mis\u001b[39;00m \u001b[38;5;129;01mnot\u001b[39;00m \u001b[38;5;28;01mNone\u001b[39;00m:\n\u001b[0;32m-> 1159\u001b[0m         \u001b[38;5;28;01mreturn\u001b[39;00m \u001b[38;5;28;43mself\u001b[39;49m\u001b[38;5;241;43m.\u001b[39;49m\u001b[43m_sslobj\u001b[49m\u001b[38;5;241;43m.\u001b[39;49m\u001b[43mread\u001b[49m\u001b[43m(\u001b[49m\u001b[38;5;28;43mlen\u001b[39;49m\u001b[43m,\u001b[49m\u001b[43m \u001b[49m\u001b[43mbuffer\u001b[49m\u001b[43m)\u001b[49m\n\u001b[1;32m   1160\u001b[0m     \u001b[38;5;28;01melse\u001b[39;00m:\n\u001b[1;32m   1161\u001b[0m         \u001b[38;5;28;01mreturn\u001b[39;00m \u001b[38;5;28mself\u001b[39m\u001b[38;5;241m.\u001b[39m_sslobj\u001b[38;5;241m.\u001b[39mread(\u001b[38;5;28mlen\u001b[39m)\n",
      "\u001b[0;31mKeyboardInterrupt\u001b[0m: "
     ]
    }
   ],
   "source": [
    "all_sr = reddit.subreddit(\"all\")\n",
    "with open(\"random-posts.csv\", \"a\") as file:\n",
    "    writer = csv.writer(file, quoting=csv.QUOTE_MINIMAL)\n",
    "    while True:\n",
    "        try:\n",
    "            post = all_sr.random()\n",
    "            writer.writerow(post_relevant_fields(post))\n",
    "        except Exception as e:\n",
    "            print(e, e.__class__, id)\n",
    "            break"
   ]
  },
  {
   "cell_type": "markdown",
   "metadata": {},
   "source": [
    "### Loading posts"
   ]
  },
  {
   "cell_type": "code",
   "execution_count": 60,
   "metadata": {},
   "outputs": [
    {
     "data": {
      "text/html": [
       "<div>\n",
       "<style scoped>\n",
       "    .dataframe tbody tr th:only-of-type {\n",
       "        vertical-align: middle;\n",
       "    }\n",
       "\n",
       "    .dataframe tbody tr th {\n",
       "        vertical-align: top;\n",
       "    }\n",
       "\n",
       "    .dataframe thead th {\n",
       "        text-align: right;\n",
       "    }\n",
       "</style>\n",
       "<table border=\"1\" class=\"dataframe\">\n",
       "  <thead>\n",
       "    <tr style=\"text-align: right;\">\n",
       "      <th></th>\n",
       "      <th>id</th>\n",
       "      <th>time</th>\n",
       "      <th>subreddit</th>\n",
       "      <th>author</th>\n",
       "      <th>title</th>\n",
       "      <th>body</th>\n",
       "      <th>num_comments</th>\n",
       "    </tr>\n",
       "  </thead>\n",
       "  <tbody>\n",
       "    <tr>\n",
       "      <th>0</th>\n",
       "      <td>1cdirkn</td>\n",
       "      <td>2024-04-26</td>\n",
       "      <td>StupidFood</td>\n",
       "      <td>zi6xd</td>\n",
       "      <td>Hot cold drink 🤦</td>\n",
       "      <td></td>\n",
       "      <td>411</td>\n",
       "    </tr>\n",
       "    <tr>\n",
       "      <th>1</th>\n",
       "      <td>1cdvq9s</td>\n",
       "      <td>2024-04-26</td>\n",
       "      <td>psychedelicrock</td>\n",
       "      <td>ProjectConfident8584</td>\n",
       "      <td>Supertramp - Try Again</td>\n",
       "      <td></td>\n",
       "      <td>0</td>\n",
       "    </tr>\n",
       "    <tr>\n",
       "      <th>2</th>\n",
       "      <td>1cdvqiy</td>\n",
       "      <td>2024-04-26</td>\n",
       "      <td>BrandonDE</td>\n",
       "      <td>HelicopterFar6349</td>\n",
       "      <td>Whoever supporting Dan Kuso are fucking stupid</td>\n",
       "      <td>Hate this guy</td>\n",
       "      <td>0</td>\n",
       "    </tr>\n",
       "    <tr>\n",
       "      <th>3</th>\n",
       "      <td>1cdvqah</td>\n",
       "      <td>2024-04-26</td>\n",
       "      <td>geometrydash</td>\n",
       "      <td>insane_demon_real</td>\n",
       "      <td>How different would the gd community be if Mic...</td>\n",
       "      <td></td>\n",
       "      <td>0</td>\n",
       "    </tr>\n",
       "    <tr>\n",
       "      <th>4</th>\n",
       "      <td>1cdn255</td>\n",
       "      <td>2024-04-26</td>\n",
       "      <td>Grimdank</td>\n",
       "      <td>hydraphantom</td>\n",
       "      <td>Recent lore made Dark Eldars even more fucked up.</td>\n",
       "      <td></td>\n",
       "      <td>154</td>\n",
       "    </tr>\n",
       "    <tr>\n",
       "      <th>...</th>\n",
       "      <td>...</td>\n",
       "      <td>...</td>\n",
       "      <td>...</td>\n",
       "      <td>...</td>\n",
       "      <td>...</td>\n",
       "      <td>...</td>\n",
       "      <td>...</td>\n",
       "    </tr>\n",
       "    <tr>\n",
       "      <th>127</th>\n",
       "      <td>1cdwhiw</td>\n",
       "      <td>2024-04-26</td>\n",
       "      <td>ShareYourSelfie</td>\n",
       "      <td>UnswornApproach78</td>\n",
       "      <td>Sharing my selfie, can you describe it in a si...</td>\n",
       "      <td></td>\n",
       "      <td>0</td>\n",
       "    </tr>\n",
       "    <tr>\n",
       "      <th>128</th>\n",
       "      <td>1cde9cz</td>\n",
       "      <td>2024-04-26</td>\n",
       "      <td>lgbt</td>\n",
       "      <td>AdamBladeTaylor</td>\n",
       "      <td>Warhammer is for everyone!</td>\n",
       "      <td></td>\n",
       "      <td>422</td>\n",
       "    </tr>\n",
       "    <tr>\n",
       "      <th>129</th>\n",
       "      <td>1cdwhjv</td>\n",
       "      <td>2024-04-26</td>\n",
       "      <td>pokeplush</td>\n",
       "      <td>Even_Possession4614</td>\n",
       "      <td>Sitting Cuties from the restocks!!</td>\n",
       "      <td></td>\n",
       "      <td>0</td>\n",
       "    </tr>\n",
       "    <tr>\n",
       "      <th>130</th>\n",
       "      <td>1cdulgr</td>\n",
       "      <td>2024-04-26</td>\n",
       "      <td>LiverpoolFC</td>\n",
       "      <td>Hoodxd</td>\n",
       "      <td>[Paul Joyce] Liverpool and Feyenoord have now ...</td>\n",
       "      <td></td>\n",
       "      <td>234</td>\n",
       "    </tr>\n",
       "    <tr>\n",
       "      <th>131</th>\n",
       "      <td>1cdpymv</td>\n",
       "      <td>2024-04-26</td>\n",
       "      <td>HermitCraft</td>\n",
       "      <td>SierraSerene6</td>\n",
       "      <td>10 Hermits in MCC!!!</td>\n",
       "      <td></td>\n",
       "      <td>96</td>\n",
       "    </tr>\n",
       "  </tbody>\n",
       "</table>\n",
       "<p>122 rows × 7 columns</p>\n",
       "</div>"
      ],
      "text/plain": [
       "          id        time        subreddit                author  \\\n",
       "0    1cdirkn  2024-04-26       StupidFood                 zi6xd   \n",
       "1    1cdvq9s  2024-04-26  psychedelicrock  ProjectConfident8584   \n",
       "2    1cdvqiy  2024-04-26        BrandonDE     HelicopterFar6349   \n",
       "3    1cdvqah  2024-04-26     geometrydash     insane_demon_real   \n",
       "4    1cdn255  2024-04-26         Grimdank          hydraphantom   \n",
       "..       ...         ...              ...                   ...   \n",
       "127  1cdwhiw  2024-04-26  ShareYourSelfie     UnswornApproach78   \n",
       "128  1cde9cz  2024-04-26             lgbt       AdamBladeTaylor   \n",
       "129  1cdwhjv  2024-04-26        pokeplush   Even_Possession4614   \n",
       "130  1cdulgr  2024-04-26      LiverpoolFC                Hoodxd   \n",
       "131  1cdpymv  2024-04-26      HermitCraft         SierraSerene6   \n",
       "\n",
       "                                                 title           body  \\\n",
       "0                                     Hot cold drink 🤦                  \n",
       "1                               Supertramp - Try Again                  \n",
       "2       Whoever supporting Dan Kuso are fucking stupid  Hate this guy   \n",
       "3    How different would the gd community be if Mic...                  \n",
       "4    Recent lore made Dark Eldars even more fucked up.                  \n",
       "..                                                 ...            ...   \n",
       "127  Sharing my selfie, can you describe it in a si...                  \n",
       "128                         Warhammer is for everyone!                  \n",
       "129                 Sitting Cuties from the restocks!!                  \n",
       "130  [Paul Joyce] Liverpool and Feyenoord have now ...                  \n",
       "131                               10 Hermits in MCC!!!                  \n",
       "\n",
       "     num_comments  \n",
       "0             411  \n",
       "1               0  \n",
       "2               0  \n",
       "3               0  \n",
       "4             154  \n",
       "..            ...  \n",
       "127             0  \n",
       "128           422  \n",
       "129             0  \n",
       "130           234  \n",
       "131            96  \n",
       "\n",
       "[122 rows x 7 columns]"
      ]
     },
     "execution_count": 60,
     "metadata": {},
     "output_type": "execute_result"
    }
   ],
   "source": [
    "df = pd.read_csv(\"random-posts.csv\", names=POST_COLS)\n",
    "\n",
    "df.drop_duplicates(subset=[\"id\"], inplace=True)\n",
    "df[\"time\"] = df[\"time\"].map(lambda ts: datetime.fromtimestamp(ts).date())\n",
    "df[\"body\"] = df[\"body\"].fillna(\"\")\n",
    "assert not df.isna().values.any()\n",
    "\n",
    "df"
   ]
  },
  {
   "cell_type": "code",
   "execution_count": 61,
   "metadata": {},
   "outputs": [
    {
     "data": {
      "text/plain": [
       "count    1.220000e+02\n",
       "mean     2.925511e+09\n",
       "std      2.593835e+05\n",
       "min      2.924877e+09\n",
       "25%      2.925278e+09\n",
       "50%      2.925696e+09\n",
       "75%      2.925718e+09\n",
       "max      2.925727e+09\n",
       "Name: id, dtype: float64"
      ]
     },
     "execution_count": 61,
     "metadata": {},
     "output_type": "execute_result"
    }
   ],
   "source": [
    "ids = df[\"id\"].apply(lambda id: int(id, 36))\n",
    "ids.describe()"
   ]
  },
  {
   "cell_type": "code",
   "execution_count": 62,
   "metadata": {},
   "outputs": [
    {
     "data": {
      "image/png": "[encoded data removed]",
      "text/plain": [
       "<Figure size 640x480 with 1 Axes>"
      ]
     },
     "metadata": {},
     "output_type": "display_data"
    }
   ],
   "source": [
    "g = sns.boxplot(ids)\n",
    "g.set_yticks(g.get_yticks(), labels=[np.base_repr(int(id), 36) for id in g.get_yticks()]);"
   ]
  },
  {
   "cell_type": "markdown",
   "metadata": {},
   "source": [
    "# Distributed Sampling?"
   ]
  },
  {
   "cell_type": "code",
   "execution_count": 2,
   "metadata": {},
   "outputs": [],
   "source": [
    "class Generator:\n",
    "    def __init__(\n",
    "        self,\n",
    "        seed: int,\n",
    "        end: int,\n",
    "        step: int,\n",
    "        iter_num: int = 0,\n",
    "        id: Optional[int] = None,\n",
    "    ):\n",
    "        \"\"\"\n",
    "        # Parameters\n",
    "        * `seed` - Seed to shuffle starts\n",
    "        * `end` - Where the generator ends\n",
    "        * `step` - Step size\n",
    "        * `iter_num` - How many times we've reached `end` (0 for very start)\n",
    "        * `id` - The last generated id\"\"\"\n",
    "\n",
    "        self.end = end\n",
    "        self.step = step\n",
    "\n",
    "        rand = random.Random(seed)\n",
    "        self.all_starts = list(range(step))\n",
    "        rand.shuffle(self.all_starts)\n",
    "\n",
    "        for _ in range(iter_num):\n",
    "            self.all_starts.pop()\n",
    "\n",
    "        if id is not None:\n",
    "            self.id = id\n",
    "        else:\n",
    "            self.id = self.all_starts.pop() - step\n",
    "\n",
    "    def get_state(self):\n",
    "        iter_num = self.step - len(self.all_starts)\n",
    "        return (self.seed, self.end, self.step, iter_num, self.id)\n",
    "\n",
    "    def __next__(self):\n",
    "        self.id = self.id + self.step\n",
    "        if self.id <= self.end:\n",
    "            return self.id\n",
    "\n",
    "        self.id = self.all_starts.pop()\n",
    "        return self.id"
   ]
  },
  {
   "cell_type": "code",
   "execution_count": 54,
   "metadata": {},
   "outputs": [
    {
     "data": {
      "image/png": "[encoded data removed]",
      "text/plain": [
       "<Figure size 2300x200 with 2 Axes>"
      ]
     },
     "metadata": {},
     "output_type": "display_data"
    }
   ],
   "source": [
    "import matplotlib.pyplot as plt\n",
    "import matplotlib.animation as animation\n",
    "import seaborn as sns\n",
    "\n",
    "\n",
    "num_comps = 3\n",
    "end = num_comps**4  # 81 IDs in all\n",
    "gens = [\n",
    "    Generator(seed=i, end=end // num_comps - 1, step=num_comps * num_comps)\n",
    "    for i in range(num_comps)\n",
    "]\n",
    "\n",
    "mat = [[0 for _ in range(end // num_comps)] for _ in range(num_comps)]\n",
    "ids = [[j * num_comps + i for j in range(end // num_comps)] for i in range(num_comps)]\n",
    "\n",
    "fig = plt.figure(figsize=(23, 2))\n",
    "\n",
    "def init():\n",
    "    sns.heatmap(\n",
    "        mat,\n",
    "        vmin=0,\n",
    "        vmax=len(gens),\n",
    "        cbar_kws={\"ticks\": list(range(len(gens) + 1))},\n",
    "        cmap=sns.color_palette(\"Set2\"),\n",
    "        annot=ids,\n",
    "        fmt=\"02d\",\n",
    "        # square=True,\n",
    "    )\n",
    "\n",
    "\n",
    "def animate(i):\n",
    "    for i, gen in enumerate(gens):\n",
    "        id = next(gen)\n",
    "        assert mat[i][id] == 0\n",
    "        mat[i][id] = i + 1\n",
    "    sns.heatmap(mat, cbar=False, cmap=sns.color_palette(\"Set2\"))\n",
    "\n",
    "\n",
    "anim = animation.FuncAnimation(\n",
    "    fig, animate, init_func=init, repeat=False, frames=end // num_comps,\n",
    ")\n",
    "anim.save(\"foo.mp4\")\n",
    "plt.show()"
   ]
  }
 ],
 "metadata": {
  "kernelspec": {
   "display_name": "Python 3",
   "language": "python",
   "name": "python3"
  },
  "language_info": {
   "codemirror_mode": {
    "name": "ipython",
    "version": 3
   },
   "file_extension": ".py",
   "mimetype": "text/x-python",
   "name": "python",
   "nbconvert_exporter": "python",
   "pygments_lexer": "ipython3",
   "version": "3.10.12"
  }
 },
 "nbformat": 4,
 "nbformat_minor": 2
}
