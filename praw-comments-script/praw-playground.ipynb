{
 "cells": [
  {
   "cell_type": "code",
   "execution_count": 1,
   "metadata": {},
   "outputs": [
    {
     "name": "stdout",
     "output_type": "stream",
     "text": [
      "Requirement already satisfied: praw in /home/ysthakur/.virtualenvs/praw-playground/lib/python3.10/site-packages (7.7.1)\n",
      "Requirement already satisfied: prawcore<3,>=2.1 in /home/ysthakur/.virtualenvs/praw-playground/lib/python3.10/site-packages (from praw) (2.4.0)\n",
      "Requirement already satisfied: update-checker>=0.18 in /home/ysthakur/.virtualenvs/praw-playground/lib/python3.10/site-packages (from praw) (0.18.0)\n",
      "Requirement already satisfied: websocket-client>=0.54.0 in /home/ysthakur/.virtualenvs/praw-playground/lib/python3.10/site-packages (from praw) (1.7.0)\n",
      "Requirement already satisfied: requests<3.0,>=2.6.0 in /home/ysthakur/.virtualenvs/praw-playground/lib/python3.10/site-packages (from prawcore<3,>=2.1->praw) (2.31.0)\n",
      "Requirement already satisfied: charset-normalizer<4,>=2 in /home/ysthakur/.virtualenvs/praw-playground/lib/python3.10/site-packages (from requests<3.0,>=2.6.0->prawcore<3,>=2.1->praw) (3.3.2)\n",
      "Requirement already satisfied: idna<4,>=2.5 in /home/ysthakur/.virtualenvs/praw-playground/lib/python3.10/site-packages (from requests<3.0,>=2.6.0->prawcore<3,>=2.1->praw) (3.6)\n",
      "Requirement already satisfied: urllib3<3,>=1.21.1 in /home/ysthakur/.virtualenvs/praw-playground/lib/python3.10/site-packages (from requests<3.0,>=2.6.0->prawcore<3,>=2.1->praw) (2.1.0)\n",
      "Requirement already satisfied: certifi>=2017.4.17 in /home/ysthakur/.virtualenvs/praw-playground/lib/python3.10/site-packages (from requests<3.0,>=2.6.0->prawcore<3,>=2.1->praw) (2023.11.17)\n"
     ]
    }
   ],
   "source": [
    "!pip install praw"
   ]
  },
  {
   "cell_type": "code",
   "execution_count": 1,
   "metadata": {},
   "outputs": [],
   "source": [
    "import logging\n",
    "\n",
    "# This will log everything\n",
    "LOG = True\n",
    "if LOG:\n",
    "    handler = logging.StreamHandler()\n",
    "    handler.setLevel(logging.DEBUG)\n",
    "    for logger_name in (\"praw\", \"prawcore\"):\n",
    "        logger = logging.getLogger(logger_name)\n",
    "        logger.setLevel(logging.DEBUG)\n",
    "        logger.addHandler(handler)"
   ]
  },
  {
   "cell_type": "code",
   "execution_count": 2,
   "metadata": {},
   "outputs": [],
   "source": [
    "# Copied from CommentCollector in main.py made by Oliver\n",
    "\n",
    "import configparser\n",
    "import praw\n",
    "\n",
    "config = configparser.ConfigParser()\n",
    "config.read(\"config.ini\")\n",
    "\n",
    "reddit = praw.Reddit(\n",
    "    client_id=config[\"REDDIT\"][\"app_uid\"],\n",
    "    client_secret=config[\"REDDIT\"][\"app_secret\"],\n",
    "    username=config[\"REDDIT\"][\"user_name\"],\n",
    "    password=config[\"REDDIT\"][\"user_pass\"],\n",
    "    user_agent=config[\"REDDIT\"][\"user_agent\"],\n",
    ")"
   ]
  },
  {
   "cell_type": "code",
   "execution_count": 4,
   "metadata": {},
   "outputs": [],
   "source": [
    "def sample_posts(subreddit, year):\n",
    "    subreddit = reddit.subreddit(subreddit)\n",
    "\n",
    "    for submission in subreddit.search(\"*\", sort=\"relevance\", syntax=\"lucene\", time_filter=\"\"):\n",
    "        print(submission.title)"
   ]
  },
  {
   "cell_type": "code",
   "execution_count": 3,
   "metadata": {},
   "outputs": [
    {
     "name": "stderr",
     "output_type": "stream",
     "text": [
      "Fetching: GET https://oauth.reddit.com/r/unix/search/ at 1706734256.1732607\n",
      "Data: None\n",
      "Params: {'after': 't3_18zyt6g',\n",
      " 'limit': 100,\n",
      " 'q': '*',\n",
      " 'raw_json': 1,\n",
      " 'restrict_sr': True,\n",
      " 'sort': 'relevance',\n",
      " 'syntax': 'lucene',\n",
      " 't': 'all'}\n",
      "Response: 200 (62399 bytes) (rst-177:rem-599.0:used-1 ratelimit) at 1706734258.9487572\n"
     ]
    },
    {
     "data": {
      "text/plain": [
       "[Submission(id='1865xk2'),\n",
       " Submission(id='18qw8g9'),\n",
       " Submission(id='12pol3l'),\n",
       " Submission(id='17nn015'),\n",
       " Submission(id='18m7ea8'),\n",
       " Submission(id='17rre4b'),\n",
       " Submission(id='181hlcv'),\n",
       " Submission(id='zxulj4'),\n",
       " Submission(id='17jgifc'),\n",
       " Submission(id='18argdy'),\n",
       " Submission(id='18k6tli'),\n",
       " Submission(id='17tsw5v'),\n",
       " Submission(id='110nkii'),\n",
       " Submission(id='18jhs81'),\n",
       " Submission(id='17w07g9'),\n",
       " Submission(id='11bs899'),\n",
       " Submission(id='17l0qif'),\n",
       " Submission(id='17e2r50'),\n",
       " Submission(id='189vzyq'),\n",
       " Submission(id='17u0tl6'),\n",
       " Submission(id='18bcwv3'),\n",
       " Submission(id='17l8aq6'),\n",
       " Submission(id='17mtz7p'),\n",
       " Submission(id='17jpid4'),\n",
       " Submission(id='180l0ea'),\n",
       " Submission(id='16fc9dt'),\n",
       " Submission(id='184l9kb'),\n",
       " Submission(id='17lmjmt'),\n",
       " Submission(id='xpb2l8'),\n",
       " Submission(id='1856q95'),\n",
       " Submission(id='17vas0t'),\n",
       " Submission(id='10g0742'),\n",
       " Submission(id='17y11qr'),\n",
       " Submission(id='17tiiw2'),\n",
       " Submission(id='1816txd'),\n",
       " Submission(id='15swuun'),\n",
       " Submission(id='11wnw56'),\n",
       " Submission(id='qx308u'),\n",
       " Submission(id='16idcqk'),\n",
       " Submission(id='17w07d4'),\n",
       " Submission(id='17r9xz6'),\n",
       " Submission(id='17tmj9w'),\n",
       " Submission(id='14d9gan'),\n",
       " Submission(id='17gr6w4'),\n",
       " Submission(id='17gsxt5'),\n",
       " Submission(id='177ejvv'),\n",
       " Submission(id='179wy2s'),\n",
       " Submission(id='158909p'),\n",
       " Submission(id='17f5tlc'),\n",
       " Submission(id='158nxdo'),\n",
       " Submission(id='16u56dg'),\n",
       " Submission(id='16xq780'),\n",
       " Submission(id='14n5u74'),\n",
       " Submission(id='17c18r0'),\n",
       " Submission(id='zbjnt3'),\n",
       " Submission(id='15umeym'),\n",
       " Submission(id='13or8xt'),\n",
       " Submission(id='162wzsp'),\n",
       " Submission(id='14xu58u'),\n",
       " Submission(id='158ce0q'),\n",
       " Submission(id='11gelwn'),\n",
       " Submission(id='15sx5xa'),\n",
       " Submission(id='uwuw85'),\n",
       " Submission(id='11hiilm'),\n",
       " Submission(id='148dlcw'),\n",
       " Submission(id='16h6008'),\n",
       " Submission(id='14riexw'),\n",
       " Submission(id='152hr8c'),\n",
       " Submission(id='16yc565'),\n",
       " Submission(id='160oaqd'),\n",
       " Submission(id='15srq2u'),\n",
       " Submission(id='16wtw9k'),\n",
       " Submission(id='zli8qz'),\n",
       " Submission(id='11wgy5k'),\n",
       " Submission(id='151c54t'),\n",
       " Submission(id='15g7tl1'),\n",
       " Submission(id='10fsfc8'),\n",
       " Submission(id='zpc1ea'),\n",
       " Submission(id='13vl3yd'),\n",
       " Submission(id='15x5nhx'),\n",
       " Submission(id='12zj9c0'),\n",
       " Submission(id='z5o8z4'),\n",
       " Submission(id='147jvd5'),\n",
       " Submission(id='13pof5m'),\n",
       " Submission(id='16ft0tl'),\n",
       " Submission(id='1515tte'),\n",
       " Submission(id='15xuoy8'),\n",
       " Submission(id='10o1smo'),\n",
       " Submission(id='11zfhsy'),\n",
       " Submission(id='15dsu5h'),\n",
       " Submission(id='13344wy'),\n",
       " Submission(id='14djs5a'),\n",
       " Submission(id='166cphx'),\n",
       " Submission(id='14afrgj'),\n",
       " Submission(id='14lbmoq'),\n",
       " Submission(id='yjxjgu'),\n",
       " Submission(id='166y8im'),\n",
       " Submission(id='150v64i'),\n",
       " Submission(id='14yn07w'),\n",
       " Submission(id='163lsdm')]"
      ]
     },
     "execution_count": 3,
     "metadata": {},
     "output_type": "execute_result"
    }
   ],
   "source": [
    "listing = reddit.subreddit(\"unix\").search('*', params={ \"after\": \"t3_18zyt6g\", \"restrict_sr\": True })\n",
    "submissions = list(listing)\n",
    "submissions"
   ]
  },
  {
   "cell_type": "code",
   "execution_count": 8,
   "metadata": {},
   "outputs": [
    {
     "data": {
      "text/plain": [
       "['https://www.reddit.com/r/unix/comments/1865xk2/some_help_with_openssl_fileenc_from_machine_a_to/',\n",
       " 'https://www.idatum.net/upgrading-from-netbsd-51-to-10_rc1.html',\n",
       " 'https://www.reddit.com/r/unix/comments/12pol3l/searching_for_the_most_unusual_desktop_environment/',\n",
       " 'https://www.reddit.com/r/unix/comments/17nn015/beginner_question_how_to_properly_implement_dup2/',\n",
       " 'https://www.delhi-magazine.com/education/overview-of-unix-operating-system/',\n",
       " 'https://www.reddit.com/r/unix/comments/17rre4b/mongoose_not_accepting_callback/',\n",
       " 'https://www.reddit.com/r/unix/comments/181hlcv/new_to_mac/',\n",
       " 'https://www.reddit.com/r/unix/comments/zxulj4/fyi_grexorg_dies_on_2023_apr_15/',\n",
       " 'https://www.reddit.com/r/unix/comments/17jgifc/kali_linux_error/',\n",
       " 'https://byte-sized.de/uncategorized/freebsd-streaming-mit-chromium-moeglich-dank-widevine-support/#english',\n",
       " 'https://freebsdfoundation.org/blog/2024-freebsd-community-survey-is-here/',\n",
       " 'https://i.redd.it/jmkzvzez7zzb1.png',\n",
       " 'https://i.redd.it/1xl4xiwjluha1.jpg',\n",
       " '/r/zfs/comments/18jgcv8/httm_now_directly_supports_time_machine_backups/',\n",
       " 'https://gist.github.com/grdscrc/2d0b0549f48950e12d0386bb0fbd8b4f',\n",
       " 'https://www.reddit.com/r/unix/comments/11bs899/people_who_regularly_use_a_unixlike_system_that/',\n",
       " 'https://www.reddit.com/r/unix/comments/17l0qif/cd_and_pwd/',\n",
       " 'https://www.reddit.com/r/unix/comments/17e2r50/cp_fail_source_and_destination_with_special_fully/',\n",
       " 'https://www.youtube.com/watch?v=8MqBnb3Y9JU',\n",
       " 'https://i.redd.it/wezw7ey5010c1.jpg',\n",
       " 'https://utcc.utoronto.ca/~cks/space/blog/unix/KernelNameCachesWhy',\n",
       " 'https://www.reddit.com/r/unix/comments/17l8aq6/termtris_19_release_with_lots_of_improvements_for/',\n",
       " 'https://www.reddit.com/r/unix/comments/17mtz7p/i_tried_to_create_a_public_domain_statement/',\n",
       " 'https://www.reddit.com/r/unix/comments/17jpid4/syntax_is_pain/',\n",
       " 'https://byte-sized.de/linux-unix/freebsd-jails-mithilfe-von-flavours-in-pot-erstellen/#english',\n",
       " 'https://www.reddit.com/r/unix/comments/16fc9dt/arent_the_passwords_in_unix_salted/',\n",
       " 'https://bentsukun.ch/posts/ramdisk-kernel/',\n",
       " 'https://www.reddit.com/r/unix/comments/17lmjmt/understanding_implementation_and_relationship_of/',\n",
       " 'https://www.reddit.com/r/unix/comments/xpb2l8/unix_is_a_junk_os_designed_by_a_committee_of_phds/',\n",
       " 'https://youtu.be/Iz7CD_uYUPg',\n",
       " 'https://byte-sized.de/linux-unix/task-framework-bsi-installieren-part-1/#english',\n",
       " 'https://www.theregister.com/2023/01/17/unix_is_dead/',\n",
       " 'http://nuclear.mutantstargoat.com/blog/103-vt320_repair.html',\n",
       " 'https://netbsd.org/releases/formal-10/NetBSD-10.0.html',\n",
       " 'https://blog.robertelder.org/intro-to-stty-command/',\n",
       " 'https://www.reddit.com/r/unix/comments/15swuun/why_there_are_some_people_that_hates_js/',\n",
       " 'https://www.reddit.com/r/unix/comments/11wnw56/why_do_people_say_that_systemd_is_against_the/',\n",
       " 'https://www.reddit.com/r/unix/comments/qx308u/is_there_a_name_for_someone_that_will_only_use/',\n",
       " 'https://youtu.be/tuI2wX3ol2o?si=NAWCtEqHmbM819zG',\n",
       " 'https://gist.github.com/grdscrc/2d0b0549f48950e12d0386bb0fbd8b4f',\n",
       " 'https://www.youtube.com/live/K2zIxkxHo-Q?si=UzCmf-S-S10XyrX9',\n",
       " 'https://www.youtube.com/watch?v=NdW4Z8W8yaM',\n",
       " 'https://www.reddit.com/r/unix/comments/14d9gan/any_books_similar_to_lions_commentary_on_unix/',\n",
       " 'https://byte-sized.de/linux-unix/wegwerf-browser-fuer-freebsd-13-2-mit-pot/#english',\n",
       " 'http://phala.isatty.net/~amber/hacks/devfd',\n",
       " 'https://www.reddit.com/r/unix/comments/177ejvv/expected_behavior_of_uniq1_output_file_help_me/',\n",
       " 'https://how2terminal.com/',\n",
       " 'https://www.reddit.com/r/unix/comments/158909p/tldr_im_looking_for_an_answer_that_only_a_rank/',\n",
       " 'https://imil.net/blog/posts/2023/netbsd-as-a-k8s-pod/',\n",
       " 'https://i.redd.it/85ob3d9mezdb1.jpg',\n",
       " 'https://2023.eurobsdcon.org/slides/eurobsdcon2023-taylor_campbell-getstarted.pdf',\n",
       " 'https://www.reddit.com/gallery/16xq780',\n",
       " 'https://www.reddit.com/r/unix/comments/14n5u74/how_different_would_the_opensource_world_be_if/',\n",
       " '/r/LOPSA/comments/17c0yrt/2023_board_election_dates_and_call_for_candidates/',\n",
       " 'https://www.reddit.com/r/unix/comments/zbjnt3/what_is_the_current_ide_or_editor_for_c/',\n",
       " 'https://youtu.be/N_a9FJefxPo',\n",
       " 'https://www.reddit.com/r/unix/comments/13or8xt/why_can_i_cp_to_a_file_but_cannot_mv_to_the_file/',\n",
       " 'https://it-notes.dragas.net/2023/08/27/that-old-netbsd-server-running-since-2010/',\n",
       " 'https://www.reddit.com/r/unix/comments/14xu58u/printing_error/',\n",
       " 'https://www.reddit.com/r/unix/comments/158ce0q/how_to_monitor_a_production_environment/',\n",
       " 'https://www.reddit.com/r/unix/comments/11gelwn/the_open_group/',\n",
       " 'https://www.reddit.com/r/unix/comments/15sx5xa/how_to_find_serial_numbers_on_fresh_installed_unix/',\n",
       " 'https://www.reddit.com/r/unix/comments/uwuw85/how_do_you_pronounce_daemon/',\n",
       " 'https://www.reddit.com/r/unix/comments/11hiilm/is_there_a_free_bootable_nix_that_i_can_checksum/',\n",
       " 'https://www.reddit.com/r/unix/comments/148dlcw/first_ever_rice/',\n",
       " 'https://www.youtube.com/watch?v=YrbjqUIz8ck',\n",
       " 'https://www.reddit.com/r/unix/comments/14riexw/what_do_people_here_think_of_qnx/',\n",
       " 'https://www.reddit.com/r/unix/comments/152hr8c/shebangs_cant_be_used_with_relative_paths_so_i/',\n",
       " '/r/linuxquestions/comments/16yc3yt/stream_just_application_from_macos_to_windows/',\n",
       " 'http://blog.syncpup.com/posts/foreach-derp-with-csh.html',\n",
       " 'https://www.reddit.com/r/unix/comments/15srq2u/is_there_anything_i_can_do_with_these_things/',\n",
       " 'https://www.oreilly.com/openbook/opensources/book/kirkmck.html',\n",
       " 'https://www.reddit.com/r/unix/comments/zli8qz/i_think_minix3_is_dead/',\n",
       " 'https://www.reddit.com/r/unix/comments/11wgy5k/what_is_the_unix_philosophy/',\n",
       " 'https://v.redd.it/dhm4d8e84dcb1',\n",
       " 'https://www.reddit.com/r/unix/comments/15g7tl1/question/',\n",
       " 'https://www.reddit.com/r/unix/comments/10fsfc8/is_oracle_solaris_in_use_anymore/',\n",
       " 'https://www.reddit.com/r/unix/comments/zpc1ea/unixlike_for_lisp_systems/',\n",
       " 'https://www.reddit.com/r/unix/comments/13vl3yd/pure_unix_iso_image_download/',\n",
       " 'https://i.redd.it/d4vxlbh6egjb1.jpg',\n",
       " 'https://www.reddit.com/r/unix/comments/12zj9c0/central_reverseproxy_ssh_access/',\n",
       " 'https://i.redd.it/nmtrwbmdef2a1.jpg',\n",
       " 'https://www.gnu.org/software/hurd/news/2023-06-11-debian_gnu_hurd_2023.html',\n",
       " 'https://www.reddit.com/r/unix/comments/13pof5m/postfix_help/',\n",
       " '/r/linuxquestions/comments/16fe4kc/line_terminal_recommendation/',\n",
       " 'https://www.reddit.com/r/unix/comments/1515tte/ssh_tunnel_manager/',\n",
       " 'https://youtu.be/NqP570dEv5M',\n",
       " 'https://www.reddit.com/r/unix/comments/10o1smo/how_is_ix_pronounced/',\n",
       " 'https://www.reddit.com/r/unix/comments/11zfhsy/unix_for_people_with_0_background_in_programming/',\n",
       " 'https://i.redd.it/rsauvhhvc5fb1.jpg',\n",
       " 'https://www.reddit.com/r/unix/comments/13344wy/someone_please_explain_the_sort_function_to_me/',\n",
       " 'https://www.reddit.com/r/unix/comments/14djs5a/freebsd_turns_30_today/',\n",
       " 'https://byte-sized.de/linux-unix/pot-ein-jail-manager-fuer-freebsd/#english',\n",
       " 'https://www.reddit.com/r/unix/comments/14afrgj/what_does_usrbinenv_do/',\n",
       " 'https://www.reddit.com/r/unix/comments/14lbmoq/octal_info/',\n",
       " 'https://www.reddit.com/r/unix/comments/yjxjgu/the_telnet_effect_youve_never_heard_of_netcat/',\n",
       " 'https://muhammadraza.me/2023/grep-log-analysis/',\n",
       " 'https://www.reddit.com/r/unix/comments/150v64i/help_me_bring_about_freedom_respecting_technology/',\n",
       " 'https://www.reddit.com/r/unix/comments/14yn07w/unable_to_run_commands_in_history_sh_not_found/',\n",
       " 'https://xeiaso.net/talks/unix-philosophy-logical-extreme-wasm']"
      ]
     },
     "execution_count": 8,
     "metadata": {},
     "output_type": "execute_result"
    }
   ],
   "source": [
    "[s.url for s in submissions]"
   ]
  },
  {
   "cell_type": "code",
   "execution_count": 9,
   "metadata": {},
   "outputs": [],
   "source": [
    "comments = submissions[0].comments.list()\n",
    "comments"
   ]
  },
  {
   "cell_type": "code",
   "execution_count": 11,
   "metadata": {},
   "outputs": [
    {
     "data": {
      "text/plain": [
       "'Bash vs zsh won’t make a difference, but Sonoma has LibreSSL 3, and Mojave…doesn’t. I’m not sure what version it does have, but OpenSSL 1.0.2 was contemporary with Mojave so it cant be anything newer. I know for sure there were some breaking changes between 1.0.x and 1.1.x, and more between 1.1.x and 3.0.x.\\n\\nYou need to remember that OpenSSL is a suite of encryption primitives. Presentation will make a huge difference. The `openssl` command is really only intended as a developer/debugging tool for prototyping the library and not really meant to for end user facing purposes.\\n\\nTry these:\\n\\n* `openssl enc -e -aes-256-cbc -salt -a`\\n* `openssl enc -d -aes-256-cbc -salt -a`\\n\\nThe `-a` uses ascii encoding and that may get around the issue you’re having. If not, then you’re probably completely out of luck with using openssl in this case.'"
      ]
     },
     "execution_count": 11,
     "metadata": {},
     "output_type": "execute_result"
    }
   ],
   "source": [
    "comments[0].body"
   ]
  }
 ],
 "metadata": {
  "kernelspec": {
   "display_name": "Python 3",
   "language": "python",
   "name": "python3"
  },
  "language_info": {
   "codemirror_mode": {
    "name": "ipython",
    "version": 3
   },
   "file_extension": ".py",
   "mimetype": "text/x-python",
   "name": "python",
   "nbconvert_exporter": "python",
   "pygments_lexer": "ipython3",
   "version": "3.10.12"
  }
 },
 "nbformat": 4,
 "nbformat_minor": 2
}
