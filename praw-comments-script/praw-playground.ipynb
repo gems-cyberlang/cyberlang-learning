{
 "cells": [
  {
   "cell_type": "code",
   "execution_count": null,
   "metadata": {},
   "outputs": [],
   "source": [
    "!pip install praw pandas seaborn"
   ]
  },
  {
   "cell_type": "code",
   "execution_count": 5,
   "metadata": {},
   "outputs": [],
   "source": [
    "import csv\n",
    "from matplotlib import pyplot as plt\n",
    "import numpy as np\n",
    "import pandas as pd\n",
    "import praw\n",
    "import prawcore\n",
    "import random\n",
    "import seaborn as sns\n",
    "\n",
    "from utils import *\n",
    "\n",
    "sns.set_theme()"
   ]
  },
  {
   "cell_type": "code",
   "execution_count": 6,
   "metadata": {},
   "outputs": [],
   "source": [
    "import logging\n",
    "\n",
    "# This will log everything\n",
    "LOG = True\n",
    "if LOG:\n",
    "    handler = logging.StreamHandler()\n",
    "    handler.setLevel(logging.DEBUG)\n",
    "    for logger_name in (\"praw\", \"prawcore\"):\n",
    "        logger = logging.getLogger(logger_name)\n",
    "        logger.setLevel(logging.DEBUG)\n",
    "        logger.addHandler(handler)"
   ]
  },
  {
   "cell_type": "code",
   "execution_count": 2,
   "metadata": {},
   "outputs": [],
   "source": [
    "# Create the Reddit instance to do all the API stuff with\n",
    "reddit = init_reddit()"
   ]
  },
  {
   "cell_type": "code",
   "execution_count": 2,
   "metadata": {},
   "outputs": [],
   "source": [
    "keywords = [\n",
    "    \"trauma\",\n",
    "    \"gaslight\",\n",
    "    \"trigger\",\n",
    "    \"toxic\",\n",
    "    \"woke\",\n",
    "    \"manipulat\",\n",
    "    \"microaggression\",\n",
    "    \"autis\",\n",
    "    \"adhd\",\n",
    "    \"ocd\",\n",
    "    \"ptsd\",\n",
    "    \"bipolar\",\n",
    "    \"anxiety\",\n",
    "    \"depress\",\n",
    "    \"psycho\",\n",
    "    \"delusion\",\n",
    "    \"delulu\",\n",
    "    \"solulu\",\n",
    "    \"addict\",\n",
    "    \"abus\",\n",
    "    \"unstable\",\n",
    "    \"narcissis\",\n",
    "    \"addict\",\n",
    "    \"neurodivergen\",\n",
    "]"
   ]
  },
  {
   "cell_type": "markdown",
   "metadata": {},
   "source": [
    "# Searching for posts by keyword\n",
    "\n",
    "This won't find comments with the keyword but whatever, could be useful for giving us an idea of which subreddits have which words"
   ]
  },
  {
   "cell_type": "code",
   "execution_count": 47,
   "metadata": {},
   "outputs": [],
   "source": [
    "keyword_listings = search(\n",
    "    reddit.subreddit(\"all\"),\n",
    "    \" OR \".join(f\"{keyword}~\" for keyword in keywords),\n",
    ")"
   ]
  },
  {
   "cell_type": "code",
   "execution_count": 59,
   "metadata": {},
   "outputs": [],
   "source": [
    "with open(\"search-all-by-keyword.csv\", \"a\") as file:\n",
    "    writer = csv.writer(file, quoting=csv.QUOTE_MINIMAL)\n",
    "\n",
    "    i = 0\n",
    "    for submission in keyword_listings:\n",
    "        writer.writerow(comment_relevant_fields(submission))\n",
    "        i += 1\n",
    "        if i > 10:\n",
    "            break"
   ]
  },
  {
   "cell_type": "markdown",
   "metadata": {},
   "source": [
    "# Getting comments from a post"
   ]
  },
  {
   "cell_type": "code",
   "execution_count": 3,
   "metadata": {},
   "outputs": [
    {
     "name": "stderr",
     "output_type": "stream",
     "text": [
      "Fetching: GET https://oauth.reddit.com/r/unix/search/ at 1706734256.1732607\n",
      "Data: None\n",
      "Params: {'after': 't3_18zyt6g',\n",
      " 'limit': 100,\n",
      " 'q': '*',\n",
      " 'raw_json': 1,\n",
      " 'restrict_sr': True,\n",
      " 'sort': 'relevance',\n",
      " 'syntax': 'lucene',\n",
      " 't': 'all'}\n",
      "Response: 200 (62399 bytes) (rst-177:rem-599.0:used-1 ratelimit) at 1706734258.9487572\n"
     ]
    },
    {
     "data": {
      "text/plain": [
       "[Submission(id='1865xk2'),\n",
       " Submission(id='18qw8g9'),\n",
       " Submission(id='12pol3l'),\n",
       " Submission(id='17nn015'),\n",
       " Submission(id='18m7ea8'),\n",
       " Submission(id='17rre4b'),\n",
       " Submission(id='181hlcv'),\n",
       " Submission(id='zxulj4'),\n",
       " Submission(id='17jgifc'),\n",
       " Submission(id='18argdy'),\n",
       " Submission(id='18k6tli'),\n",
       " Submission(id='17tsw5v'),\n",
       " Submission(id='110nkii'),\n",
       " Submission(id='18jhs81'),\n",
       " Submission(id='17w07g9'),\n",
       " Submission(id='11bs899'),\n",
       " Submission(id='17l0qif'),\n",
       " Submission(id='17e2r50'),\n",
       " Submission(id='189vzyq'),\n",
       " Submission(id='17u0tl6'),\n",
       " Submission(id='18bcwv3'),\n",
       " Submission(id='17l8aq6'),\n",
       " Submission(id='17mtz7p'),\n",
       " Submission(id='17jpid4'),\n",
       " Submission(id='180l0ea'),\n",
       " Submission(id='16fc9dt'),\n",
       " Submission(id='184l9kb'),\n",
       " Submission(id='17lmjmt'),\n",
       " Submission(id='xpb2l8'),\n",
       " Submission(id='1856q95'),\n",
       " Submission(id='17vas0t'),\n",
       " Submission(id='10g0742'),\n",
       " Submission(id='17y11qr'),\n",
       " Submission(id='17tiiw2'),\n",
       " Submission(id='1816txd'),\n",
       " Submission(id='15swuun'),\n",
       " Submission(id='11wnw56'),\n",
       " Submission(id='qx308u'),\n",
       " Submission(id='16idcqk'),\n",
       " Submission(id='17w07d4'),\n",
       " Submission(id='17r9xz6'),\n",
       " Submission(id='17tmj9w'),\n",
       " Submission(id='14d9gan'),\n",
       " Submission(id='17gr6w4'),\n",
       " Submission(id='17gsxt5'),\n",
       " Submission(id='177ejvv'),\n",
       " Submission(id='179wy2s'),\n",
       " Submission(id='158909p'),\n",
       " Submission(id='17f5tlc'),\n",
       " Submission(id='158nxdo'),\n",
       " Submission(id='16u56dg'),\n",
       " Submission(id='16xq780'),\n",
       " Submission(id='14n5u74'),\n",
       " Submission(id='17c18r0'),\n",
       " Submission(id='zbjnt3'),\n",
       " Submission(id='15umeym'),\n",
       " Submission(id='13or8xt'),\n",
       " Submission(id='162wzsp'),\n",
       " Submission(id='14xu58u'),\n",
       " Submission(id='158ce0q'),\n",
       " Submission(id='11gelwn'),\n",
       " Submission(id='15sx5xa'),\n",
       " Submission(id='uwuw85'),\n",
       " Submission(id='11hiilm'),\n",
       " Submission(id='148dlcw'),\n",
       " Submission(id='16h6008'),\n",
       " Submission(id='14riexw'),\n",
       " Submission(id='152hr8c'),\n",
       " Submission(id='16yc565'),\n",
       " Submission(id='160oaqd'),\n",
       " Submission(id='15srq2u'),\n",
       " Submission(id='16wtw9k'),\n",
       " Submission(id='zli8qz'),\n",
       " Submission(id='11wgy5k'),\n",
       " Submission(id='151c54t'),\n",
       " Submission(id='15g7tl1'),\n",
       " Submission(id='10fsfc8'),\n",
       " Submission(id='zpc1ea'),\n",
       " Submission(id='13vl3yd'),\n",
       " Submission(id='15x5nhx'),\n",
       " Submission(id='12zj9c0'),\n",
       " Submission(id='z5o8z4'),\n",
       " Submission(id='147jvd5'),\n",
       " Submission(id='13pof5m'),\n",
       " Submission(id='16ft0tl'),\n",
       " Submission(id='1515tte'),\n",
       " Submission(id='15xuoy8'),\n",
       " Submission(id='10o1smo'),\n",
       " Submission(id='11zfhsy'),\n",
       " Submission(id='15dsu5h'),\n",
       " Submission(id='13344wy'),\n",
       " Submission(id='14djs5a'),\n",
       " Submission(id='166cphx'),\n",
       " Submission(id='14afrgj'),\n",
       " Submission(id='14lbmoq'),\n",
       " Submission(id='yjxjgu'),\n",
       " Submission(id='166y8im'),\n",
       " Submission(id='150v64i'),\n",
       " Submission(id='14yn07w'),\n",
       " Submission(id='163lsdm')]"
      ]
     },
     "execution_count": 3,
     "metadata": {},
     "output_type": "execute_result"
    }
   ],
   "source": [
    "listing = reddit.subreddit(\"unix\").search('*', params={ \"after\": \"t3_18zyt6g\", \"restrict_sr\": True })\n",
    "submissions = list(listing)\n",
    "submissions"
   ]
  },
  {
   "cell_type": "code",
   "execution_count": 8,
   "metadata": {},
   "outputs": [
    {
     "data": {
      "text/plain": [
       "['https://www.reddit.com/r/unix/comments/1865xk2/some_help_with_openssl_fileenc_from_machine_a_to/',\n",
       " 'https://www.idatum.net/upgrading-from-netbsd-51-to-10_rc1.html',\n",
       " 'https://www.reddit.com/r/unix/comments/12pol3l/searching_for_the_most_unusual_desktop_environment/',\n",
       " 'https://www.reddit.com/r/unix/comments/17nn015/beginner_question_how_to_properly_implement_dup2/',\n",
       " 'https://www.delhi-magazine.com/education/overview-of-unix-operating-system/',\n",
       " 'https://www.reddit.com/r/unix/comments/17rre4b/mongoose_not_accepting_callback/',\n",
       " 'https://www.reddit.com/r/unix/comments/181hlcv/new_to_mac/',\n",
       " 'https://www.reddit.com/r/unix/comments/zxulj4/fyi_grexorg_dies_on_2023_apr_15/',\n",
       " 'https://www.reddit.com/r/unix/comments/17jgifc/kali_linux_error/',\n",
       " 'https://byte-sized.de/uncategorized/freebsd-streaming-mit-chromium-moeglich-dank-widevine-support/#english',\n",
       " 'https://freebsdfoundation.org/blog/2024-freebsd-community-survey-is-here/',\n",
       " 'https://i.redd.it/jmkzvzez7zzb1.png',\n",
       " 'https://i.redd.it/1xl4xiwjluha1.jpg',\n",
       " '/r/zfs/comments/18jgcv8/httm_now_directly_supports_time_machine_backups/',\n",
       " 'https://gist.github.com/grdscrc/2d0b0549f48950e12d0386bb0fbd8b4f',\n",
       " 'https://www.reddit.com/r/unix/comments/11bs899/people_who_regularly_use_a_unixlike_system_that/',\n",
       " 'https://www.reddit.com/r/unix/comments/17l0qif/cd_and_pwd/',\n",
       " 'https://www.reddit.com/r/unix/comments/17e2r50/cp_fail_source_and_destination_with_special_fully/',\n",
       " 'https://www.youtube.com/watch?v=8MqBnb3Y9JU',\n",
       " 'https://i.redd.it/wezw7ey5010c1.jpg',\n",
       " 'https://utcc.utoronto.ca/~cks/space/blog/unix/KernelNameCachesWhy',\n",
       " 'https://www.reddit.com/r/unix/comments/17l8aq6/termtris_19_release_with_lots_of_improvements_for/',\n",
       " 'https://www.reddit.com/r/unix/comments/17mtz7p/i_tried_to_create_a_public_domain_statement/',\n",
       " 'https://www.reddit.com/r/unix/comments/17jpid4/syntax_is_pain/',\n",
       " 'https://byte-sized.de/linux-unix/freebsd-jails-mithilfe-von-flavours-in-pot-erstellen/#english',\n",
       " 'https://www.reddit.com/r/unix/comments/16fc9dt/arent_the_passwords_in_unix_salted/',\n",
       " 'https://bentsukun.ch/posts/ramdisk-kernel/',\n",
       " 'https://www.reddit.com/r/unix/comments/17lmjmt/understanding_implementation_and_relationship_of/',\n",
       " 'https://www.reddit.com/r/unix/comments/xpb2l8/unix_is_a_junk_os_designed_by_a_committee_of_phds/',\n",
       " 'https://youtu.be/Iz7CD_uYUPg',\n",
       " 'https://byte-sized.de/linux-unix/task-framework-bsi-installieren-part-1/#english',\n",
       " 'https://www.theregister.com/2023/01/17/unix_is_dead/',\n",
       " 'http://nuclear.mutantstargoat.com/blog/103-vt320_repair.html',\n",
       " 'https://netbsd.org/releases/formal-10/NetBSD-10.0.html',\n",
       " 'https://blog.robertelder.org/intro-to-stty-command/',\n",
       " 'https://www.reddit.com/r/unix/comments/15swuun/why_there_are_some_people_that_hates_js/',\n",
       " 'https://www.reddit.com/r/unix/comments/11wnw56/why_do_people_say_that_systemd_is_against_the/',\n",
       " 'https://www.reddit.com/r/unix/comments/qx308u/is_there_a_name_for_someone_that_will_only_use/',\n",
       " 'https://youtu.be/tuI2wX3ol2o?si=NAWCtEqHmbM819zG',\n",
       " 'https://gist.github.com/grdscrc/2d0b0549f48950e12d0386bb0fbd8b4f',\n",
       " 'https://www.youtube.com/live/K2zIxkxHo-Q?si=UzCmf-S-S10XyrX9',\n",
       " 'https://www.youtube.com/watch?v=NdW4Z8W8yaM',\n",
       " 'https://www.reddit.com/r/unix/comments/14d9gan/any_books_similar_to_lions_commentary_on_unix/',\n",
       " 'https://byte-sized.de/linux-unix/wegwerf-browser-fuer-freebsd-13-2-mit-pot/#english',\n",
       " 'http://phala.isatty.net/~amber/hacks/devfd',\n",
       " 'https://www.reddit.com/r/unix/comments/177ejvv/expected_behavior_of_uniq1_output_file_help_me/',\n",
       " 'https://how2terminal.com/',\n",
       " 'https://www.reddit.com/r/unix/comments/158909p/tldr_im_looking_for_an_answer_that_only_a_rank/',\n",
       " 'https://imil.net/blog/posts/2023/netbsd-as-a-k8s-pod/',\n",
       " 'https://i.redd.it/85ob3d9mezdb1.jpg',\n",
       " 'https://2023.eurobsdcon.org/slides/eurobsdcon2023-taylor_campbell-getstarted.pdf',\n",
       " 'https://www.reddit.com/gallery/16xq780',\n",
       " 'https://www.reddit.com/r/unix/comments/14n5u74/how_different_would_the_opensource_world_be_if/',\n",
       " '/r/LOPSA/comments/17c0yrt/2023_board_election_dates_and_call_for_candidates/',\n",
       " 'https://www.reddit.com/r/unix/comments/zbjnt3/what_is_the_current_ide_or_editor_for_c/',\n",
       " 'https://youtu.be/N_a9FJefxPo',\n",
       " 'https://www.reddit.com/r/unix/comments/13or8xt/why_can_i_cp_to_a_file_but_cannot_mv_to_the_file/',\n",
       " 'https://it-notes.dragas.net/2023/08/27/that-old-netbsd-server-running-since-2010/',\n",
       " 'https://www.reddit.com/r/unix/comments/14xu58u/printing_error/',\n",
       " 'https://www.reddit.com/r/unix/comments/158ce0q/how_to_monitor_a_production_environment/',\n",
       " 'https://www.reddit.com/r/unix/comments/11gelwn/the_open_group/',\n",
       " 'https://www.reddit.com/r/unix/comments/15sx5xa/how_to_find_serial_numbers_on_fresh_installed_unix/',\n",
       " 'https://www.reddit.com/r/unix/comments/uwuw85/how_do_you_pronounce_daemon/',\n",
       " 'https://www.reddit.com/r/unix/comments/11hiilm/is_there_a_free_bootable_nix_that_i_can_checksum/',\n",
       " 'https://www.reddit.com/r/unix/comments/148dlcw/first_ever_rice/',\n",
       " 'https://www.youtube.com/watch?v=YrbjqUIz8ck',\n",
       " 'https://www.reddit.com/r/unix/comments/14riexw/what_do_people_here_think_of_qnx/',\n",
       " 'https://www.reddit.com/r/unix/comments/152hr8c/shebangs_cant_be_used_with_relative_paths_so_i/',\n",
       " '/r/linuxquestions/comments/16yc3yt/stream_just_application_from_macos_to_windows/',\n",
       " 'http://blog.syncpup.com/posts/foreach-derp-with-csh.html',\n",
       " 'https://www.reddit.com/r/unix/comments/15srq2u/is_there_anything_i_can_do_with_these_things/',\n",
       " 'https://www.oreilly.com/openbook/opensources/book/kirkmck.html',\n",
       " 'https://www.reddit.com/r/unix/comments/zli8qz/i_think_minix3_is_dead/',\n",
       " 'https://www.reddit.com/r/unix/comments/11wgy5k/what_is_the_unix_philosophy/',\n",
       " 'https://v.redd.it/dhm4d8e84dcb1',\n",
       " 'https://www.reddit.com/r/unix/comments/15g7tl1/question/',\n",
       " 'https://www.reddit.com/r/unix/comments/10fsfc8/is_oracle_solaris_in_use_anymore/',\n",
       " 'https://www.reddit.com/r/unix/comments/zpc1ea/unixlike_for_lisp_systems/',\n",
       " 'https://www.reddit.com/r/unix/comments/13vl3yd/pure_unix_iso_image_download/',\n",
       " 'https://i.redd.it/d4vxlbh6egjb1.jpg',\n",
       " 'https://www.reddit.com/r/unix/comments/12zj9c0/central_reverseproxy_ssh_access/',\n",
       " 'https://i.redd.it/nmtrwbmdef2a1.jpg',\n",
       " 'https://www.gnu.org/software/hurd/news/2023-06-11-debian_gnu_hurd_2023.html',\n",
       " 'https://www.reddit.com/r/unix/comments/13pof5m/postfix_help/',\n",
       " '/r/linuxquestions/comments/16fe4kc/line_terminal_recommendation/',\n",
       " 'https://www.reddit.com/r/unix/comments/1515tte/ssh_tunnel_manager/',\n",
       " 'https://youtu.be/NqP570dEv5M',\n",
       " 'https://www.reddit.com/r/unix/comments/10o1smo/how_is_ix_pronounced/',\n",
       " 'https://www.reddit.com/r/unix/comments/11zfhsy/unix_for_people_with_0_background_in_programming/',\n",
       " 'https://i.redd.it/rsauvhhvc5fb1.jpg',\n",
       " 'https://www.reddit.com/r/unix/comments/13344wy/someone_please_explain_the_sort_function_to_me/',\n",
       " 'https://www.reddit.com/r/unix/comments/14djs5a/freebsd_turns_30_today/',\n",
       " 'https://byte-sized.de/linux-unix/pot-ein-jail-manager-fuer-freebsd/#english',\n",
       " 'https://www.reddit.com/r/unix/comments/14afrgj/what_does_usrbinenv_do/',\n",
       " 'https://www.reddit.com/r/unix/comments/14lbmoq/octal_info/',\n",
       " 'https://www.reddit.com/r/unix/comments/yjxjgu/the_telnet_effect_youve_never_heard_of_netcat/',\n",
       " 'https://muhammadraza.me/2023/grep-log-analysis/',\n",
       " 'https://www.reddit.com/r/unix/comments/150v64i/help_me_bring_about_freedom_respecting_technology/',\n",
       " 'https://www.reddit.com/r/unix/comments/14yn07w/unable_to_run_commands_in_history_sh_not_found/',\n",
       " 'https://xeiaso.net/talks/unix-philosophy-logical-extreme-wasm']"
      ]
     },
     "execution_count": 8,
     "metadata": {},
     "output_type": "execute_result"
    }
   ],
   "source": [
    "[s.url for s in submissions]"
   ]
  },
  {
   "cell_type": "code",
   "execution_count": 9,
   "metadata": {},
   "outputs": [],
   "source": [
    "comments = submissions[0].comments.list()\n",
    "comments"
   ]
  },
  {
   "cell_type": "code",
   "execution_count": 11,
   "metadata": {},
   "outputs": [
    {
     "data": {
      "text/plain": [
       "'Bash vs zsh won’t make a difference, but Sonoma has LibreSSL 3, and Mojave…doesn’t. I’m not sure what version it does have, but OpenSSL 1.0.2 was contemporary with Mojave so it cant be anything newer. I know for sure there were some breaking changes between 1.0.x and 1.1.x, and more between 1.1.x and 3.0.x.\\n\\nYou need to remember that OpenSSL is a suite of encryption primitives. Presentation will make a huge difference. The `openssl` command is really only intended as a developer/debugging tool for prototyping the library and not really meant to for end user facing purposes.\\n\\nTry these:\\n\\n* `openssl enc -e -aes-256-cbc -salt -a`\\n* `openssl enc -d -aes-256-cbc -salt -a`\\n\\nThe `-a` uses ascii encoding and that may get around the issue you’re having. If not, then you’re probably completely out of luck with using openssl in this case.'"
      ]
     },
     "execution_count": 11,
     "metadata": {},
     "output_type": "execute_result"
    }
   ],
   "source": [
    "comments[0].body"
   ]
  },
  {
   "cell_type": "markdown",
   "metadata": {},
   "source": [
    "# Sampling comments randomly (by ID)\n",
    "\n",
    "Since IDs are sequential, we can just sample them. But this won't guarantee all the keywords we want will show up"
   ]
  },
  {
   "cell_type": "code",
   "execution_count": 4,
   "metadata": {},
   "outputs": [],
   "source": [
    "random.seed(0)"
   ]
  },
  {
   "cell_type": "code",
   "execution_count": 5,
   "metadata": {},
   "outputs": [],
   "source": [
    "# Run to restore state\n",
    "with open(\"rand-state.txt\", \"r\") as file:\n",
    "    random.setstate(eval(file.readline())) # todo deserialize properly"
   ]
  },
  {
   "cell_type": "code",
   "execution_count": 8,
   "metadata": {},
   "outputs": [
    {
     "ename": "KeyboardInterrupt",
     "evalue": "",
     "output_type": "error",
     "traceback": [
      "\u001b[0;31m---------------------------------------------------------------------------\u001b[0m",
      "\u001b[0;31mKeyboardInterrupt\u001b[0m                         Traceback (most recent call last)",
      "Cell \u001b[0;32mIn[8], line 15\u001b[0m\n\u001b[1;32m     13\u001b[0m \u001b[38;5;28;01mtry\u001b[39;00m:\n\u001b[1;32m     14\u001b[0m     hits \u001b[38;5;241m=\u001b[39m []\n\u001b[0;32m---> 15\u001b[0m     \u001b[38;5;28;01mfor\u001b[39;00m submission \u001b[38;5;129;01min\u001b[39;00m info:\n\u001b[1;32m     16\u001b[0m         \u001b[38;5;28;01massert\u001b[39;00m submission\u001b[38;5;241m.\u001b[39mname\u001b[38;5;241m.\u001b[39mstartswith(\u001b[38;5;124m\"\u001b[39m\u001b[38;5;124mt1\u001b[39m\u001b[38;5;124m\"\u001b[39m)\n\u001b[1;32m     17\u001b[0m         hits\u001b[38;5;241m.\u001b[39mappend(submission\u001b[38;5;241m.\u001b[39mname)\n",
      "File \u001b[0;32m~/.virtualenvs/praw-playground/lib/python3.10/site-packages/praw/reddit.py:779\u001b[0m, in \u001b[0;36mReddit.info.<locals>.generator\u001b[0;34m(names)\u001b[0m\n\u001b[1;32m    777\u001b[0m     \u001b[38;5;28;01mbreak\u001b[39;00m\n\u001b[1;32m    778\u001b[0m params \u001b[38;5;241m=\u001b[39m {api_parameter_name: \u001b[38;5;124m\"\u001b[39m\u001b[38;5;124m,\u001b[39m\u001b[38;5;124m\"\u001b[39m\u001b[38;5;241m.\u001b[39mjoin(chunk)}\n\u001b[0;32m--> 779\u001b[0m \u001b[38;5;28;01mfor\u001b[39;00m result \u001b[38;5;129;01min\u001b[39;00m \u001b[38;5;28;43mself\u001b[39;49m\u001b[38;5;241;43m.\u001b[39;49m\u001b[43mget\u001b[49m\u001b[43m(\u001b[49m\u001b[43mAPI_PATH\u001b[49m\u001b[43m[\u001b[49m\u001b[38;5;124;43m\"\u001b[39;49m\u001b[38;5;124;43minfo\u001b[39;49m\u001b[38;5;124;43m\"\u001b[39;49m\u001b[43m]\u001b[49m\u001b[43m,\u001b[49m\u001b[43m \u001b[49m\u001b[43mparams\u001b[49m\u001b[38;5;241;43m=\u001b[39;49m\u001b[43mparams\u001b[49m\u001b[43m)\u001b[49m:\n\u001b[1;32m    780\u001b[0m     \u001b[38;5;28;01myield\u001b[39;00m result\n",
      "File \u001b[0;32m~/.virtualenvs/praw-playground/lib/python3.10/site-packages/praw/util/deprecate_args.py:43\u001b[0m, in \u001b[0;36m_deprecate_args.<locals>.wrapper.<locals>.wrapped\u001b[0;34m(*args, **kwargs)\u001b[0m\n\u001b[1;32m     36\u001b[0m     arg_string \u001b[38;5;241m=\u001b[39m _generate_arg_string(_old_args[: \u001b[38;5;28mlen\u001b[39m(args)])\n\u001b[1;32m     37\u001b[0m     warn(\n\u001b[1;32m     38\u001b[0m         \u001b[38;5;124mf\u001b[39m\u001b[38;5;124m\"\u001b[39m\u001b[38;5;124mPositional arguments for \u001b[39m\u001b[38;5;132;01m{\u001b[39;00mfunc\u001b[38;5;241m.\u001b[39m\u001b[38;5;18m__qualname__\u001b[39m\u001b[38;5;132;01m!r}\u001b[39;00m\u001b[38;5;124m will no longer be\u001b[39m\u001b[38;5;124m\"\u001b[39m\n\u001b[1;32m     39\u001b[0m         \u001b[38;5;124mf\u001b[39m\u001b[38;5;124m\"\u001b[39m\u001b[38;5;124m supported in PRAW 8.\u001b[39m\u001b[38;5;130;01m\\n\u001b[39;00m\u001b[38;5;124mCall this function with \u001b[39m\u001b[38;5;132;01m{\u001b[39;00marg_string\u001b[38;5;132;01m}\u001b[39;00m\u001b[38;5;124m.\u001b[39m\u001b[38;5;124m\"\u001b[39m,\n\u001b[1;32m     40\u001b[0m         \u001b[38;5;167;01mDeprecationWarning\u001b[39;00m,\n\u001b[1;32m     41\u001b[0m         stacklevel\u001b[38;5;241m=\u001b[39m\u001b[38;5;241m2\u001b[39m,\n\u001b[1;32m     42\u001b[0m     )\n\u001b[0;32m---> 43\u001b[0m \u001b[38;5;28;01mreturn\u001b[39;00m \u001b[43mfunc\u001b[49m\u001b[43m(\u001b[49m\u001b[38;5;241;43m*\u001b[39;49m\u001b[38;5;241;43m*\u001b[39;49m\u001b[38;5;28;43mdict\u001b[39;49m\u001b[43m(\u001b[49m\u001b[38;5;28;43mzip\u001b[39;49m\u001b[43m(\u001b[49m\u001b[43m_old_args\u001b[49m\u001b[43m,\u001b[49m\u001b[43m \u001b[49m\u001b[43margs\u001b[49m\u001b[43m)\u001b[49m\u001b[43m)\u001b[49m\u001b[43m,\u001b[49m\u001b[43m \u001b[49m\u001b[38;5;241;43m*\u001b[39;49m\u001b[38;5;241;43m*\u001b[39;49m\u001b[43mkwargs\u001b[49m\u001b[43m)\u001b[49m\n",
      "File \u001b[0;32m~/.virtualenvs/praw-playground/lib/python3.10/site-packages/praw/reddit.py:712\u001b[0m, in \u001b[0;36mReddit.get\u001b[0;34m(self, path, params)\u001b[0m\n\u001b[1;32m    699\u001b[0m \u001b[38;5;129m@_deprecate_args\u001b[39m(\u001b[38;5;124m\"\u001b[39m\u001b[38;5;124mpath\u001b[39m\u001b[38;5;124m\"\u001b[39m, \u001b[38;5;124m\"\u001b[39m\u001b[38;5;124mparams\u001b[39m\u001b[38;5;124m\"\u001b[39m)\n\u001b[1;32m    700\u001b[0m \u001b[38;5;28;01mdef\u001b[39;00m \u001b[38;5;21mget\u001b[39m(\n\u001b[1;32m    701\u001b[0m     \u001b[38;5;28mself\u001b[39m,\n\u001b[0;32m   (...)\u001b[0m\n\u001b[1;32m    704\u001b[0m     params: Optional[Union[\u001b[38;5;28mstr\u001b[39m, Dict[\u001b[38;5;28mstr\u001b[39m, Union[\u001b[38;5;28mstr\u001b[39m, \u001b[38;5;28mint\u001b[39m]]]] \u001b[38;5;241m=\u001b[39m \u001b[38;5;28;01mNone\u001b[39;00m,\n\u001b[1;32m    705\u001b[0m ):\n\u001b[1;32m    706\u001b[0m \u001b[38;5;250m    \u001b[39m\u001b[38;5;124;03m\"\"\"Return parsed objects returned from a GET request to ``path``.\u001b[39;00m\n\u001b[1;32m    707\u001b[0m \n\u001b[1;32m    708\u001b[0m \u001b[38;5;124;03m    :param path: The path to fetch.\u001b[39;00m\n\u001b[1;32m    709\u001b[0m \u001b[38;5;124;03m    :param params: The query parameters to add to the request (default: ``None``).\u001b[39;00m\n\u001b[1;32m    710\u001b[0m \n\u001b[1;32m    711\u001b[0m \u001b[38;5;124;03m    \"\"\"\u001b[39;00m\n\u001b[0;32m--> 712\u001b[0m     \u001b[38;5;28;01mreturn\u001b[39;00m \u001b[38;5;28;43mself\u001b[39;49m\u001b[38;5;241;43m.\u001b[39;49m\u001b[43m_objectify_request\u001b[49m\u001b[43m(\u001b[49m\u001b[43mmethod\u001b[49m\u001b[38;5;241;43m=\u001b[39;49m\u001b[38;5;124;43m\"\u001b[39;49m\u001b[38;5;124;43mGET\u001b[39;49m\u001b[38;5;124;43m\"\u001b[39;49m\u001b[43m,\u001b[49m\u001b[43m \u001b[49m\u001b[43mparams\u001b[49m\u001b[38;5;241;43m=\u001b[39;49m\u001b[43mparams\u001b[49m\u001b[43m,\u001b[49m\u001b[43m \u001b[49m\u001b[43mpath\u001b[49m\u001b[38;5;241;43m=\u001b[39;49m\u001b[43mpath\u001b[49m\u001b[43m)\u001b[49m\n",
      "File \u001b[0;32m~/.virtualenvs/praw-playground/lib/python3.10/site-packages/praw/reddit.py:517\u001b[0m, in \u001b[0;36mReddit._objectify_request\u001b[0;34m(self, data, files, json, method, params, path)\u001b[0m\n\u001b[1;32m    491\u001b[0m \u001b[38;5;28;01mdef\u001b[39;00m \u001b[38;5;21m_objectify_request\u001b[39m(\n\u001b[1;32m    492\u001b[0m     \u001b[38;5;28mself\u001b[39m,\n\u001b[1;32m    493\u001b[0m     \u001b[38;5;241m*\u001b[39m,\n\u001b[0;32m   (...)\u001b[0m\n\u001b[1;32m    499\u001b[0m     path: \u001b[38;5;28mstr\u001b[39m \u001b[38;5;241m=\u001b[39m \u001b[38;5;124m\"\u001b[39m\u001b[38;5;124m\"\u001b[39m,\n\u001b[1;32m    500\u001b[0m ) \u001b[38;5;241m-\u001b[39m\u001b[38;5;241m>\u001b[39m Any:\n\u001b[1;32m    501\u001b[0m \u001b[38;5;250m    \u001b[39m\u001b[38;5;124;03m\"\"\"Run a request through the ``Objector``.\u001b[39;00m\n\u001b[1;32m    502\u001b[0m \n\u001b[1;32m    503\u001b[0m \u001b[38;5;124;03m    :param data: Dictionary, bytes, or file-like object to send in the body of the\u001b[39;00m\n\u001b[0;32m   (...)\u001b[0m\n\u001b[1;32m    514\u001b[0m \n\u001b[1;32m    515\u001b[0m \u001b[38;5;124;03m    \"\"\"\u001b[39;00m\n\u001b[1;32m    516\u001b[0m     \u001b[38;5;28;01mreturn\u001b[39;00m \u001b[38;5;28mself\u001b[39m\u001b[38;5;241m.\u001b[39m_objector\u001b[38;5;241m.\u001b[39mobjectify(\n\u001b[0;32m--> 517\u001b[0m         \u001b[38;5;28;43mself\u001b[39;49m\u001b[38;5;241;43m.\u001b[39;49m\u001b[43mrequest\u001b[49m\u001b[43m(\u001b[49m\n\u001b[1;32m    518\u001b[0m \u001b[43m            \u001b[49m\u001b[43mdata\u001b[49m\u001b[38;5;241;43m=\u001b[39;49m\u001b[43mdata\u001b[49m\u001b[43m,\u001b[49m\n\u001b[1;32m    519\u001b[0m \u001b[43m            \u001b[49m\u001b[43mfiles\u001b[49m\u001b[38;5;241;43m=\u001b[39;49m\u001b[43mfiles\u001b[49m\u001b[43m,\u001b[49m\n\u001b[1;32m    520\u001b[0m \u001b[43m            \u001b[49m\u001b[43mjson\u001b[49m\u001b[38;5;241;43m=\u001b[39;49m\u001b[43mjson\u001b[49m\u001b[43m,\u001b[49m\n\u001b[1;32m    521\u001b[0m \u001b[43m            \u001b[49m\u001b[43mmethod\u001b[49m\u001b[38;5;241;43m=\u001b[39;49m\u001b[43mmethod\u001b[49m\u001b[43m,\u001b[49m\n\u001b[1;32m    522\u001b[0m \u001b[43m            \u001b[49m\u001b[43mparams\u001b[49m\u001b[38;5;241;43m=\u001b[39;49m\u001b[43mparams\u001b[49m\u001b[43m,\u001b[49m\n\u001b[1;32m    523\u001b[0m \u001b[43m            \u001b[49m\u001b[43mpath\u001b[49m\u001b[38;5;241;43m=\u001b[39;49m\u001b[43mpath\u001b[49m\u001b[43m,\u001b[49m\n\u001b[1;32m    524\u001b[0m \u001b[43m        \u001b[49m\u001b[43m)\u001b[49m\n\u001b[1;32m    525\u001b[0m     )\n",
      "File \u001b[0;32m~/.virtualenvs/praw-playground/lib/python3.10/site-packages/praw/util/deprecate_args.py:43\u001b[0m, in \u001b[0;36m_deprecate_args.<locals>.wrapper.<locals>.wrapped\u001b[0;34m(*args, **kwargs)\u001b[0m\n\u001b[1;32m     36\u001b[0m     arg_string \u001b[38;5;241m=\u001b[39m _generate_arg_string(_old_args[: \u001b[38;5;28mlen\u001b[39m(args)])\n\u001b[1;32m     37\u001b[0m     warn(\n\u001b[1;32m     38\u001b[0m         \u001b[38;5;124mf\u001b[39m\u001b[38;5;124m\"\u001b[39m\u001b[38;5;124mPositional arguments for \u001b[39m\u001b[38;5;132;01m{\u001b[39;00mfunc\u001b[38;5;241m.\u001b[39m\u001b[38;5;18m__qualname__\u001b[39m\u001b[38;5;132;01m!r}\u001b[39;00m\u001b[38;5;124m will no longer be\u001b[39m\u001b[38;5;124m\"\u001b[39m\n\u001b[1;32m     39\u001b[0m         \u001b[38;5;124mf\u001b[39m\u001b[38;5;124m\"\u001b[39m\u001b[38;5;124m supported in PRAW 8.\u001b[39m\u001b[38;5;130;01m\\n\u001b[39;00m\u001b[38;5;124mCall this function with \u001b[39m\u001b[38;5;132;01m{\u001b[39;00marg_string\u001b[38;5;132;01m}\u001b[39;00m\u001b[38;5;124m.\u001b[39m\u001b[38;5;124m\"\u001b[39m,\n\u001b[1;32m     40\u001b[0m         \u001b[38;5;167;01mDeprecationWarning\u001b[39;00m,\n\u001b[1;32m     41\u001b[0m         stacklevel\u001b[38;5;241m=\u001b[39m\u001b[38;5;241m2\u001b[39m,\n\u001b[1;32m     42\u001b[0m     )\n\u001b[0;32m---> 43\u001b[0m \u001b[38;5;28;01mreturn\u001b[39;00m \u001b[43mfunc\u001b[49m\u001b[43m(\u001b[49m\u001b[38;5;241;43m*\u001b[39;49m\u001b[38;5;241;43m*\u001b[39;49m\u001b[38;5;28;43mdict\u001b[39;49m\u001b[43m(\u001b[49m\u001b[38;5;28;43mzip\u001b[39;49m\u001b[43m(\u001b[49m\u001b[43m_old_args\u001b[49m\u001b[43m,\u001b[49m\u001b[43m \u001b[49m\u001b[43margs\u001b[49m\u001b[43m)\u001b[49m\u001b[43m)\u001b[49m\u001b[43m,\u001b[49m\u001b[43m \u001b[49m\u001b[38;5;241;43m*\u001b[39;49m\u001b[38;5;241;43m*\u001b[39;49m\u001b[43mkwargs\u001b[49m\u001b[43m)\u001b[49m\n",
      "File \u001b[0;32m~/.virtualenvs/praw-playground/lib/python3.10/site-packages/praw/reddit.py:941\u001b[0m, in \u001b[0;36mReddit.request\u001b[0;34m(self, data, files, json, method, params, path)\u001b[0m\n\u001b[1;32m    939\u001b[0m     \u001b[38;5;28;01mraise\u001b[39;00m ClientException(\u001b[38;5;124m\"\u001b[39m\u001b[38;5;124mAt most one of \u001b[39m\u001b[38;5;124m'\u001b[39m\u001b[38;5;124mdata\u001b[39m\u001b[38;5;124m'\u001b[39m\u001b[38;5;124m or \u001b[39m\u001b[38;5;124m'\u001b[39m\u001b[38;5;124mjson\u001b[39m\u001b[38;5;124m'\u001b[39m\u001b[38;5;124m is supported.\u001b[39m\u001b[38;5;124m\"\u001b[39m)\n\u001b[1;32m    940\u001b[0m \u001b[38;5;28;01mtry\u001b[39;00m:\n\u001b[0;32m--> 941\u001b[0m     \u001b[38;5;28;01mreturn\u001b[39;00m \u001b[38;5;28;43mself\u001b[39;49m\u001b[38;5;241;43m.\u001b[39;49m\u001b[43m_core\u001b[49m\u001b[38;5;241;43m.\u001b[39;49m\u001b[43mrequest\u001b[49m\u001b[43m(\u001b[49m\n\u001b[1;32m    942\u001b[0m \u001b[43m        \u001b[49m\u001b[43mdata\u001b[49m\u001b[38;5;241;43m=\u001b[39;49m\u001b[43mdata\u001b[49m\u001b[43m,\u001b[49m\n\u001b[1;32m    943\u001b[0m \u001b[43m        \u001b[49m\u001b[43mfiles\u001b[49m\u001b[38;5;241;43m=\u001b[39;49m\u001b[43mfiles\u001b[49m\u001b[43m,\u001b[49m\n\u001b[1;32m    944\u001b[0m \u001b[43m        \u001b[49m\u001b[43mjson\u001b[49m\u001b[38;5;241;43m=\u001b[39;49m\u001b[43mjson\u001b[49m\u001b[43m,\u001b[49m\n\u001b[1;32m    945\u001b[0m \u001b[43m        \u001b[49m\u001b[43mmethod\u001b[49m\u001b[38;5;241;43m=\u001b[39;49m\u001b[43mmethod\u001b[49m\u001b[43m,\u001b[49m\n\u001b[1;32m    946\u001b[0m \u001b[43m        \u001b[49m\u001b[43mparams\u001b[49m\u001b[38;5;241;43m=\u001b[39;49m\u001b[43mparams\u001b[49m\u001b[43m,\u001b[49m\n\u001b[1;32m    947\u001b[0m \u001b[43m        \u001b[49m\u001b[43mpath\u001b[49m\u001b[38;5;241;43m=\u001b[39;49m\u001b[43mpath\u001b[49m\u001b[43m,\u001b[49m\n\u001b[1;32m    948\u001b[0m \u001b[43m    \u001b[49m\u001b[43m)\u001b[49m\n\u001b[1;32m    949\u001b[0m \u001b[38;5;28;01mexcept\u001b[39;00m BadRequest \u001b[38;5;28;01mas\u001b[39;00m exception:\n\u001b[1;32m    950\u001b[0m     \u001b[38;5;28;01mtry\u001b[39;00m:\n",
      "File \u001b[0;32m~/.virtualenvs/praw-playground/lib/python3.10/site-packages/prawcore/sessions.py:328\u001b[0m, in \u001b[0;36mSession.request\u001b[0;34m(self, method, path, data, files, json, params, timeout)\u001b[0m\n\u001b[1;32m    326\u001b[0m     json[\u001b[38;5;124m\"\u001b[39m\u001b[38;5;124mapi_type\u001b[39m\u001b[38;5;124m\"\u001b[39m] \u001b[38;5;241m=\u001b[39m \u001b[38;5;124m\"\u001b[39m\u001b[38;5;124mjson\u001b[39m\u001b[38;5;124m\"\u001b[39m\n\u001b[1;32m    327\u001b[0m url \u001b[38;5;241m=\u001b[39m urljoin(\u001b[38;5;28mself\u001b[39m\u001b[38;5;241m.\u001b[39m_requestor\u001b[38;5;241m.\u001b[39moauth_url, path)\n\u001b[0;32m--> 328\u001b[0m \u001b[38;5;28;01mreturn\u001b[39;00m \u001b[38;5;28;43mself\u001b[39;49m\u001b[38;5;241;43m.\u001b[39;49m\u001b[43m_request_with_retries\u001b[49m\u001b[43m(\u001b[49m\n\u001b[1;32m    329\u001b[0m \u001b[43m    \u001b[49m\u001b[43mdata\u001b[49m\u001b[38;5;241;43m=\u001b[39;49m\u001b[43mdata\u001b[49m\u001b[43m,\u001b[49m\n\u001b[1;32m    330\u001b[0m \u001b[43m    \u001b[49m\u001b[43mfiles\u001b[49m\u001b[38;5;241;43m=\u001b[39;49m\u001b[43mfiles\u001b[49m\u001b[43m,\u001b[49m\n\u001b[1;32m    331\u001b[0m \u001b[43m    \u001b[49m\u001b[43mjson\u001b[49m\u001b[38;5;241;43m=\u001b[39;49m\u001b[43mjson\u001b[49m\u001b[43m,\u001b[49m\n\u001b[1;32m    332\u001b[0m \u001b[43m    \u001b[49m\u001b[43mmethod\u001b[49m\u001b[38;5;241;43m=\u001b[39;49m\u001b[43mmethod\u001b[49m\u001b[43m,\u001b[49m\n\u001b[1;32m    333\u001b[0m \u001b[43m    \u001b[49m\u001b[43mparams\u001b[49m\u001b[38;5;241;43m=\u001b[39;49m\u001b[43mparams\u001b[49m\u001b[43m,\u001b[49m\n\u001b[1;32m    334\u001b[0m \u001b[43m    \u001b[49m\u001b[43mtimeout\u001b[49m\u001b[38;5;241;43m=\u001b[39;49m\u001b[43mtimeout\u001b[49m\u001b[43m,\u001b[49m\n\u001b[1;32m    335\u001b[0m \u001b[43m    \u001b[49m\u001b[43murl\u001b[49m\u001b[38;5;241;43m=\u001b[39;49m\u001b[43murl\u001b[49m\u001b[43m,\u001b[49m\n\u001b[1;32m    336\u001b[0m \u001b[43m\u001b[49m\u001b[43m)\u001b[49m\n",
      "File \u001b[0;32m~/.virtualenvs/praw-playground/lib/python3.10/site-packages/prawcore/sessions.py:234\u001b[0m, in \u001b[0;36mSession._request_with_retries\u001b[0;34m(self, data, files, json, method, params, timeout, url, retry_strategy_state)\u001b[0m\n\u001b[1;32m    232\u001b[0m retry_strategy_state\u001b[38;5;241m.\u001b[39msleep()\n\u001b[1;32m    233\u001b[0m \u001b[38;5;28mself\u001b[39m\u001b[38;5;241m.\u001b[39m_log_request(data, method, params, url)\n\u001b[0;32m--> 234\u001b[0m response, saved_exception \u001b[38;5;241m=\u001b[39m \u001b[38;5;28;43mself\u001b[39;49m\u001b[38;5;241;43m.\u001b[39;49m\u001b[43m_make_request\u001b[49m\u001b[43m(\u001b[49m\n\u001b[1;32m    235\u001b[0m \u001b[43m    \u001b[49m\u001b[43mdata\u001b[49m\u001b[43m,\u001b[49m\n\u001b[1;32m    236\u001b[0m \u001b[43m    \u001b[49m\u001b[43mfiles\u001b[49m\u001b[43m,\u001b[49m\n\u001b[1;32m    237\u001b[0m \u001b[43m    \u001b[49m\u001b[43mjson\u001b[49m\u001b[43m,\u001b[49m\n\u001b[1;32m    238\u001b[0m \u001b[43m    \u001b[49m\u001b[43mmethod\u001b[49m\u001b[43m,\u001b[49m\n\u001b[1;32m    239\u001b[0m \u001b[43m    \u001b[49m\u001b[43mparams\u001b[49m\u001b[43m,\u001b[49m\n\u001b[1;32m    240\u001b[0m \u001b[43m    \u001b[49m\u001b[43mretry_strategy_state\u001b[49m\u001b[43m,\u001b[49m\n\u001b[1;32m    241\u001b[0m \u001b[43m    \u001b[49m\u001b[43mtimeout\u001b[49m\u001b[43m,\u001b[49m\n\u001b[1;32m    242\u001b[0m \u001b[43m    \u001b[49m\u001b[43murl\u001b[49m\u001b[43m,\u001b[49m\n\u001b[1;32m    243\u001b[0m \u001b[43m\u001b[49m\u001b[43m)\u001b[49m\n\u001b[1;32m    245\u001b[0m do_retry \u001b[38;5;241m=\u001b[39m \u001b[38;5;28;01mFalse\u001b[39;00m\n\u001b[1;32m    246\u001b[0m \u001b[38;5;28;01mif\u001b[39;00m response \u001b[38;5;129;01mis\u001b[39;00m \u001b[38;5;129;01mnot\u001b[39;00m \u001b[38;5;28;01mNone\u001b[39;00m \u001b[38;5;129;01mand\u001b[39;00m response\u001b[38;5;241m.\u001b[39mstatus_code \u001b[38;5;241m==\u001b[39m codes[\u001b[38;5;124m\"\u001b[39m\u001b[38;5;124munauthorized\u001b[39m\u001b[38;5;124m\"\u001b[39m]:\n",
      "File \u001b[0;32m~/.virtualenvs/praw-playground/lib/python3.10/site-packages/prawcore/sessions.py:186\u001b[0m, in \u001b[0;36mSession._make_request\u001b[0;34m(self, data, files, json, method, params, retry_strategy_state, timeout, url)\u001b[0m\n\u001b[1;32m    174\u001b[0m \u001b[38;5;28;01mdef\u001b[39;00m \u001b[38;5;21m_make_request\u001b[39m(\n\u001b[1;32m    175\u001b[0m     \u001b[38;5;28mself\u001b[39m,\n\u001b[1;32m    176\u001b[0m     data: \u001b[38;5;28mlist\u001b[39m[\u001b[38;5;28mtuple\u001b[39m[\u001b[38;5;28mstr\u001b[39m, Any]],\n\u001b[0;32m   (...)\u001b[0m\n\u001b[1;32m    183\u001b[0m     url: \u001b[38;5;28mstr\u001b[39m,\n\u001b[1;32m    184\u001b[0m ) \u001b[38;5;241m-\u001b[39m\u001b[38;5;241m>\u001b[39m \u001b[38;5;28mtuple\u001b[39m[Response, \u001b[38;5;28;01mNone\u001b[39;00m] \u001b[38;5;241m|\u001b[39m \u001b[38;5;28mtuple\u001b[39m[\u001b[38;5;28;01mNone\u001b[39;00m, \u001b[38;5;167;01mException\u001b[39;00m]:\n\u001b[1;32m    185\u001b[0m     \u001b[38;5;28;01mtry\u001b[39;00m:\n\u001b[0;32m--> 186\u001b[0m         response \u001b[38;5;241m=\u001b[39m \u001b[38;5;28;43mself\u001b[39;49m\u001b[38;5;241;43m.\u001b[39;49m\u001b[43m_rate_limiter\u001b[49m\u001b[38;5;241;43m.\u001b[39;49m\u001b[43mcall\u001b[49m\u001b[43m(\u001b[49m\n\u001b[1;32m    187\u001b[0m \u001b[43m            \u001b[49m\u001b[38;5;28;43mself\u001b[39;49m\u001b[38;5;241;43m.\u001b[39;49m\u001b[43m_requestor\u001b[49m\u001b[38;5;241;43m.\u001b[39;49m\u001b[43mrequest\u001b[49m\u001b[43m,\u001b[49m\n\u001b[1;32m    188\u001b[0m \u001b[43m            \u001b[49m\u001b[38;5;28;43mself\u001b[39;49m\u001b[38;5;241;43m.\u001b[39;49m\u001b[43m_set_header_callback\u001b[49m\u001b[43m,\u001b[49m\n\u001b[1;32m    189\u001b[0m \u001b[43m            \u001b[49m\u001b[43mmethod\u001b[49m\u001b[43m,\u001b[49m\n\u001b[1;32m    190\u001b[0m \u001b[43m            \u001b[49m\u001b[43murl\u001b[49m\u001b[43m,\u001b[49m\n\u001b[1;32m    191\u001b[0m \u001b[43m            \u001b[49m\u001b[43mallow_redirects\u001b[49m\u001b[38;5;241;43m=\u001b[39;49m\u001b[38;5;28;43;01mFalse\u001b[39;49;00m\u001b[43m,\u001b[49m\n\u001b[1;32m    192\u001b[0m \u001b[43m            \u001b[49m\u001b[43mdata\u001b[49m\u001b[38;5;241;43m=\u001b[39;49m\u001b[43mdata\u001b[49m\u001b[43m,\u001b[49m\n\u001b[1;32m    193\u001b[0m \u001b[43m            \u001b[49m\u001b[43mfiles\u001b[49m\u001b[38;5;241;43m=\u001b[39;49m\u001b[43mfiles\u001b[49m\u001b[43m,\u001b[49m\n\u001b[1;32m    194\u001b[0m \u001b[43m            \u001b[49m\u001b[43mjson\u001b[49m\u001b[38;5;241;43m=\u001b[39;49m\u001b[43mjson\u001b[49m\u001b[43m,\u001b[49m\n\u001b[1;32m    195\u001b[0m \u001b[43m            \u001b[49m\u001b[43mparams\u001b[49m\u001b[38;5;241;43m=\u001b[39;49m\u001b[43mparams\u001b[49m\u001b[43m,\u001b[49m\n\u001b[1;32m    196\u001b[0m \u001b[43m            \u001b[49m\u001b[43mtimeout\u001b[49m\u001b[38;5;241;43m=\u001b[39;49m\u001b[43mtimeout\u001b[49m\u001b[43m,\u001b[49m\n\u001b[1;32m    197\u001b[0m \u001b[43m        \u001b[49m\u001b[43m)\u001b[49m\n\u001b[1;32m    198\u001b[0m         log\u001b[38;5;241m.\u001b[39mdebug(\n\u001b[1;32m    199\u001b[0m             \u001b[38;5;124m\"\u001b[39m\u001b[38;5;124mResponse: \u001b[39m\u001b[38;5;132;01m%s\u001b[39;00m\u001b[38;5;124m (\u001b[39m\u001b[38;5;132;01m%s\u001b[39;00m\u001b[38;5;124m bytes) (rst-\u001b[39m\u001b[38;5;132;01m%s\u001b[39;00m\u001b[38;5;124m:rem-\u001b[39m\u001b[38;5;132;01m%s\u001b[39;00m\u001b[38;5;124m:used-\u001b[39m\u001b[38;5;132;01m%s\u001b[39;00m\u001b[38;5;124m ratelimit) at \u001b[39m\u001b[38;5;132;01m%s\u001b[39;00m\u001b[38;5;124m\"\u001b[39m,\n\u001b[1;32m    200\u001b[0m             response\u001b[38;5;241m.\u001b[39mstatus_code,\n\u001b[0;32m   (...)\u001b[0m\n\u001b[1;32m    205\u001b[0m             time\u001b[38;5;241m.\u001b[39mtime(),\n\u001b[1;32m    206\u001b[0m         )\n\u001b[1;32m    207\u001b[0m         \u001b[38;5;28;01mreturn\u001b[39;00m response, \u001b[38;5;28;01mNone\u001b[39;00m\n",
      "File \u001b[0;32m~/.virtualenvs/praw-playground/lib/python3.10/site-packages/prawcore/rate_limit.py:47\u001b[0m, in \u001b[0;36mRateLimiter.call\u001b[0;34m(self, request_function, set_header_callback, *args, **kwargs)\u001b[0m\n\u001b[1;32m     45\u001b[0m \u001b[38;5;28mself\u001b[39m\u001b[38;5;241m.\u001b[39mdelay()\n\u001b[1;32m     46\u001b[0m kwargs[\u001b[38;5;124m\"\u001b[39m\u001b[38;5;124mheaders\u001b[39m\u001b[38;5;124m\"\u001b[39m] \u001b[38;5;241m=\u001b[39m set_header_callback()\n\u001b[0;32m---> 47\u001b[0m response \u001b[38;5;241m=\u001b[39m \u001b[43mrequest_function\u001b[49m\u001b[43m(\u001b[49m\u001b[38;5;241;43m*\u001b[39;49m\u001b[43margs\u001b[49m\u001b[43m,\u001b[49m\u001b[43m \u001b[49m\u001b[38;5;241;43m*\u001b[39;49m\u001b[38;5;241;43m*\u001b[39;49m\u001b[43mkwargs\u001b[49m\u001b[43m)\u001b[49m\n\u001b[1;32m     48\u001b[0m \u001b[38;5;28mself\u001b[39m\u001b[38;5;241m.\u001b[39mupdate(response\u001b[38;5;241m.\u001b[39mheaders)\n\u001b[1;32m     49\u001b[0m \u001b[38;5;28;01mreturn\u001b[39;00m response\n",
      "File \u001b[0;32m~/.virtualenvs/praw-playground/lib/python3.10/site-packages/prawcore/requestor.py:68\u001b[0m, in \u001b[0;36mRequestor.request\u001b[0;34m(self, timeout, *args, **kwargs)\u001b[0m\n\u001b[1;32m     66\u001b[0m \u001b[38;5;250m\u001b[39m\u001b[38;5;124;03m\"\"\"Issue the HTTP request capturing any errors that may occur.\"\"\"\u001b[39;00m\n\u001b[1;32m     67\u001b[0m \u001b[38;5;28;01mtry\u001b[39;00m:\n\u001b[0;32m---> 68\u001b[0m     \u001b[38;5;28;01mreturn\u001b[39;00m \u001b[38;5;28;43mself\u001b[39;49m\u001b[38;5;241;43m.\u001b[39;49m\u001b[43m_http\u001b[49m\u001b[38;5;241;43m.\u001b[39;49m\u001b[43mrequest\u001b[49m\u001b[43m(\u001b[49m\u001b[38;5;241;43m*\u001b[39;49m\u001b[43margs\u001b[49m\u001b[43m,\u001b[49m\u001b[43m \u001b[49m\u001b[43mtimeout\u001b[49m\u001b[38;5;241;43m=\u001b[39;49m\u001b[43mtimeout\u001b[49m\u001b[43m \u001b[49m\u001b[38;5;129;43;01mor\u001b[39;49;00m\u001b[43m \u001b[49m\u001b[38;5;28;43mself\u001b[39;49m\u001b[38;5;241;43m.\u001b[39;49m\u001b[43mtimeout\u001b[49m\u001b[43m,\u001b[49m\u001b[43m \u001b[49m\u001b[38;5;241;43m*\u001b[39;49m\u001b[38;5;241;43m*\u001b[39;49m\u001b[43mkwargs\u001b[49m\u001b[43m)\u001b[49m\n\u001b[1;32m     69\u001b[0m \u001b[38;5;28;01mexcept\u001b[39;00m \u001b[38;5;167;01mException\u001b[39;00m \u001b[38;5;28;01mas\u001b[39;00m exc:  \u001b[38;5;66;03m# noqa: BLE001\u001b[39;00m\n\u001b[1;32m     70\u001b[0m     \u001b[38;5;28;01mraise\u001b[39;00m RequestException(exc, args, kwargs) \u001b[38;5;28;01mfrom\u001b[39;00m \u001b[38;5;28;01mNone\u001b[39;00m\n",
      "File \u001b[0;32m~/.virtualenvs/praw-playground/lib/python3.10/site-packages/requests/sessions.py:589\u001b[0m, in \u001b[0;36mSession.request\u001b[0;34m(self, method, url, params, data, headers, cookies, files, auth, timeout, allow_redirects, proxies, hooks, stream, verify, cert, json)\u001b[0m\n\u001b[1;32m    584\u001b[0m send_kwargs \u001b[38;5;241m=\u001b[39m {\n\u001b[1;32m    585\u001b[0m     \u001b[38;5;124m\"\u001b[39m\u001b[38;5;124mtimeout\u001b[39m\u001b[38;5;124m\"\u001b[39m: timeout,\n\u001b[1;32m    586\u001b[0m     \u001b[38;5;124m\"\u001b[39m\u001b[38;5;124mallow_redirects\u001b[39m\u001b[38;5;124m\"\u001b[39m: allow_redirects,\n\u001b[1;32m    587\u001b[0m }\n\u001b[1;32m    588\u001b[0m send_kwargs\u001b[38;5;241m.\u001b[39mupdate(settings)\n\u001b[0;32m--> 589\u001b[0m resp \u001b[38;5;241m=\u001b[39m \u001b[38;5;28;43mself\u001b[39;49m\u001b[38;5;241;43m.\u001b[39;49m\u001b[43msend\u001b[49m\u001b[43m(\u001b[49m\u001b[43mprep\u001b[49m\u001b[43m,\u001b[49m\u001b[43m \u001b[49m\u001b[38;5;241;43m*\u001b[39;49m\u001b[38;5;241;43m*\u001b[39;49m\u001b[43msend_kwargs\u001b[49m\u001b[43m)\u001b[49m\n\u001b[1;32m    591\u001b[0m \u001b[38;5;28;01mreturn\u001b[39;00m resp\n",
      "File \u001b[0;32m~/.virtualenvs/praw-playground/lib/python3.10/site-packages/requests/sessions.py:703\u001b[0m, in \u001b[0;36mSession.send\u001b[0;34m(self, request, **kwargs)\u001b[0m\n\u001b[1;32m    700\u001b[0m start \u001b[38;5;241m=\u001b[39m preferred_clock()\n\u001b[1;32m    702\u001b[0m \u001b[38;5;66;03m# Send the request\u001b[39;00m\n\u001b[0;32m--> 703\u001b[0m r \u001b[38;5;241m=\u001b[39m \u001b[43madapter\u001b[49m\u001b[38;5;241;43m.\u001b[39;49m\u001b[43msend\u001b[49m\u001b[43m(\u001b[49m\u001b[43mrequest\u001b[49m\u001b[43m,\u001b[49m\u001b[43m \u001b[49m\u001b[38;5;241;43m*\u001b[39;49m\u001b[38;5;241;43m*\u001b[39;49m\u001b[43mkwargs\u001b[49m\u001b[43m)\u001b[49m\n\u001b[1;32m    705\u001b[0m \u001b[38;5;66;03m# Total elapsed time of the request (approximately)\u001b[39;00m\n\u001b[1;32m    706\u001b[0m elapsed \u001b[38;5;241m=\u001b[39m preferred_clock() \u001b[38;5;241m-\u001b[39m start\n",
      "File \u001b[0;32m~/.virtualenvs/praw-playground/lib/python3.10/site-packages/requests/adapters.py:486\u001b[0m, in \u001b[0;36mHTTPAdapter.send\u001b[0;34m(self, request, stream, timeout, verify, cert, proxies)\u001b[0m\n\u001b[1;32m    483\u001b[0m     timeout \u001b[38;5;241m=\u001b[39m TimeoutSauce(connect\u001b[38;5;241m=\u001b[39mtimeout, read\u001b[38;5;241m=\u001b[39mtimeout)\n\u001b[1;32m    485\u001b[0m \u001b[38;5;28;01mtry\u001b[39;00m:\n\u001b[0;32m--> 486\u001b[0m     resp \u001b[38;5;241m=\u001b[39m \u001b[43mconn\u001b[49m\u001b[38;5;241;43m.\u001b[39;49m\u001b[43murlopen\u001b[49m\u001b[43m(\u001b[49m\n\u001b[1;32m    487\u001b[0m \u001b[43m        \u001b[49m\u001b[43mmethod\u001b[49m\u001b[38;5;241;43m=\u001b[39;49m\u001b[43mrequest\u001b[49m\u001b[38;5;241;43m.\u001b[39;49m\u001b[43mmethod\u001b[49m\u001b[43m,\u001b[49m\n\u001b[1;32m    488\u001b[0m \u001b[43m        \u001b[49m\u001b[43murl\u001b[49m\u001b[38;5;241;43m=\u001b[39;49m\u001b[43murl\u001b[49m\u001b[43m,\u001b[49m\n\u001b[1;32m    489\u001b[0m \u001b[43m        \u001b[49m\u001b[43mbody\u001b[49m\u001b[38;5;241;43m=\u001b[39;49m\u001b[43mrequest\u001b[49m\u001b[38;5;241;43m.\u001b[39;49m\u001b[43mbody\u001b[49m\u001b[43m,\u001b[49m\n\u001b[1;32m    490\u001b[0m \u001b[43m        \u001b[49m\u001b[43mheaders\u001b[49m\u001b[38;5;241;43m=\u001b[39;49m\u001b[43mrequest\u001b[49m\u001b[38;5;241;43m.\u001b[39;49m\u001b[43mheaders\u001b[49m\u001b[43m,\u001b[49m\n\u001b[1;32m    491\u001b[0m \u001b[43m        \u001b[49m\u001b[43mredirect\u001b[49m\u001b[38;5;241;43m=\u001b[39;49m\u001b[38;5;28;43;01mFalse\u001b[39;49;00m\u001b[43m,\u001b[49m\n\u001b[1;32m    492\u001b[0m \u001b[43m        \u001b[49m\u001b[43massert_same_host\u001b[49m\u001b[38;5;241;43m=\u001b[39;49m\u001b[38;5;28;43;01mFalse\u001b[39;49;00m\u001b[43m,\u001b[49m\n\u001b[1;32m    493\u001b[0m \u001b[43m        \u001b[49m\u001b[43mpreload_content\u001b[49m\u001b[38;5;241;43m=\u001b[39;49m\u001b[38;5;28;43;01mFalse\u001b[39;49;00m\u001b[43m,\u001b[49m\n\u001b[1;32m    494\u001b[0m \u001b[43m        \u001b[49m\u001b[43mdecode_content\u001b[49m\u001b[38;5;241;43m=\u001b[39;49m\u001b[38;5;28;43;01mFalse\u001b[39;49;00m\u001b[43m,\u001b[49m\n\u001b[1;32m    495\u001b[0m \u001b[43m        \u001b[49m\u001b[43mretries\u001b[49m\u001b[38;5;241;43m=\u001b[39;49m\u001b[38;5;28;43mself\u001b[39;49m\u001b[38;5;241;43m.\u001b[39;49m\u001b[43mmax_retries\u001b[49m\u001b[43m,\u001b[49m\n\u001b[1;32m    496\u001b[0m \u001b[43m        \u001b[49m\u001b[43mtimeout\u001b[49m\u001b[38;5;241;43m=\u001b[39;49m\u001b[43mtimeout\u001b[49m\u001b[43m,\u001b[49m\n\u001b[1;32m    497\u001b[0m \u001b[43m        \u001b[49m\u001b[43mchunked\u001b[49m\u001b[38;5;241;43m=\u001b[39;49m\u001b[43mchunked\u001b[49m\u001b[43m,\u001b[49m\n\u001b[1;32m    498\u001b[0m \u001b[43m    \u001b[49m\u001b[43m)\u001b[49m\n\u001b[1;32m    500\u001b[0m \u001b[38;5;28;01mexcept\u001b[39;00m (ProtocolError, \u001b[38;5;167;01mOSError\u001b[39;00m) \u001b[38;5;28;01mas\u001b[39;00m err:\n\u001b[1;32m    501\u001b[0m     \u001b[38;5;28;01mraise\u001b[39;00m \u001b[38;5;167;01mConnectionError\u001b[39;00m(err, request\u001b[38;5;241m=\u001b[39mrequest)\n",
      "File \u001b[0;32m~/.virtualenvs/praw-playground/lib/python3.10/site-packages/urllib3/connectionpool.py:790\u001b[0m, in \u001b[0;36mHTTPConnectionPool.urlopen\u001b[0;34m(self, method, url, body, headers, retries, redirect, assert_same_host, timeout, pool_timeout, release_conn, chunked, body_pos, preload_content, decode_content, **response_kw)\u001b[0m\n\u001b[1;32m    787\u001b[0m response_conn \u001b[38;5;241m=\u001b[39m conn \u001b[38;5;28;01mif\u001b[39;00m \u001b[38;5;129;01mnot\u001b[39;00m release_conn \u001b[38;5;28;01melse\u001b[39;00m \u001b[38;5;28;01mNone\u001b[39;00m\n\u001b[1;32m    789\u001b[0m \u001b[38;5;66;03m# Make the request on the HTTPConnection object\u001b[39;00m\n\u001b[0;32m--> 790\u001b[0m response \u001b[38;5;241m=\u001b[39m \u001b[38;5;28;43mself\u001b[39;49m\u001b[38;5;241;43m.\u001b[39;49m\u001b[43m_make_request\u001b[49m\u001b[43m(\u001b[49m\n\u001b[1;32m    791\u001b[0m \u001b[43m    \u001b[49m\u001b[43mconn\u001b[49m\u001b[43m,\u001b[49m\n\u001b[1;32m    792\u001b[0m \u001b[43m    \u001b[49m\u001b[43mmethod\u001b[49m\u001b[43m,\u001b[49m\n\u001b[1;32m    793\u001b[0m \u001b[43m    \u001b[49m\u001b[43murl\u001b[49m\u001b[43m,\u001b[49m\n\u001b[1;32m    794\u001b[0m \u001b[43m    \u001b[49m\u001b[43mtimeout\u001b[49m\u001b[38;5;241;43m=\u001b[39;49m\u001b[43mtimeout_obj\u001b[49m\u001b[43m,\u001b[49m\n\u001b[1;32m    795\u001b[0m \u001b[43m    \u001b[49m\u001b[43mbody\u001b[49m\u001b[38;5;241;43m=\u001b[39;49m\u001b[43mbody\u001b[49m\u001b[43m,\u001b[49m\n\u001b[1;32m    796\u001b[0m \u001b[43m    \u001b[49m\u001b[43mheaders\u001b[49m\u001b[38;5;241;43m=\u001b[39;49m\u001b[43mheaders\u001b[49m\u001b[43m,\u001b[49m\n\u001b[1;32m    797\u001b[0m \u001b[43m    \u001b[49m\u001b[43mchunked\u001b[49m\u001b[38;5;241;43m=\u001b[39;49m\u001b[43mchunked\u001b[49m\u001b[43m,\u001b[49m\n\u001b[1;32m    798\u001b[0m \u001b[43m    \u001b[49m\u001b[43mretries\u001b[49m\u001b[38;5;241;43m=\u001b[39;49m\u001b[43mretries\u001b[49m\u001b[43m,\u001b[49m\n\u001b[1;32m    799\u001b[0m \u001b[43m    \u001b[49m\u001b[43mresponse_conn\u001b[49m\u001b[38;5;241;43m=\u001b[39;49m\u001b[43mresponse_conn\u001b[49m\u001b[43m,\u001b[49m\n\u001b[1;32m    800\u001b[0m \u001b[43m    \u001b[49m\u001b[43mpreload_content\u001b[49m\u001b[38;5;241;43m=\u001b[39;49m\u001b[43mpreload_content\u001b[49m\u001b[43m,\u001b[49m\n\u001b[1;32m    801\u001b[0m \u001b[43m    \u001b[49m\u001b[43mdecode_content\u001b[49m\u001b[38;5;241;43m=\u001b[39;49m\u001b[43mdecode_content\u001b[49m\u001b[43m,\u001b[49m\n\u001b[1;32m    802\u001b[0m \u001b[43m    \u001b[49m\u001b[38;5;241;43m*\u001b[39;49m\u001b[38;5;241;43m*\u001b[39;49m\u001b[43mresponse_kw\u001b[49m\u001b[43m,\u001b[49m\n\u001b[1;32m    803\u001b[0m \u001b[43m\u001b[49m\u001b[43m)\u001b[49m\n\u001b[1;32m    805\u001b[0m \u001b[38;5;66;03m# Everything went great!\u001b[39;00m\n\u001b[1;32m    806\u001b[0m clean_exit \u001b[38;5;241m=\u001b[39m \u001b[38;5;28;01mTrue\u001b[39;00m\n",
      "File \u001b[0;32m~/.virtualenvs/praw-playground/lib/python3.10/site-packages/urllib3/connectionpool.py:536\u001b[0m, in \u001b[0;36mHTTPConnectionPool._make_request\u001b[0;34m(self, conn, method, url, body, headers, retries, timeout, chunked, response_conn, preload_content, decode_content, enforce_content_length)\u001b[0m\n\u001b[1;32m    534\u001b[0m \u001b[38;5;66;03m# Receive the response from the server\u001b[39;00m\n\u001b[1;32m    535\u001b[0m \u001b[38;5;28;01mtry\u001b[39;00m:\n\u001b[0;32m--> 536\u001b[0m     response \u001b[38;5;241m=\u001b[39m \u001b[43mconn\u001b[49m\u001b[38;5;241;43m.\u001b[39;49m\u001b[43mgetresponse\u001b[49m\u001b[43m(\u001b[49m\u001b[43m)\u001b[49m\n\u001b[1;32m    537\u001b[0m \u001b[38;5;28;01mexcept\u001b[39;00m (BaseSSLError, \u001b[38;5;167;01mOSError\u001b[39;00m) \u001b[38;5;28;01mas\u001b[39;00m e:\n\u001b[1;32m    538\u001b[0m     \u001b[38;5;28mself\u001b[39m\u001b[38;5;241m.\u001b[39m_raise_timeout(err\u001b[38;5;241m=\u001b[39me, url\u001b[38;5;241m=\u001b[39murl, timeout_value\u001b[38;5;241m=\u001b[39mread_timeout)\n",
      "File \u001b[0;32m~/.virtualenvs/praw-playground/lib/python3.10/site-packages/urllib3/connection.py:461\u001b[0m, in \u001b[0;36mHTTPConnection.getresponse\u001b[0;34m(self)\u001b[0m\n\u001b[1;32m    458\u001b[0m \u001b[38;5;28;01mfrom\u001b[39;00m \u001b[38;5;21;01m.\u001b[39;00m\u001b[38;5;21;01mresponse\u001b[39;00m \u001b[38;5;28;01mimport\u001b[39;00m HTTPResponse\n\u001b[1;32m    460\u001b[0m \u001b[38;5;66;03m# Get the response from http.client.HTTPConnection\u001b[39;00m\n\u001b[0;32m--> 461\u001b[0m httplib_response \u001b[38;5;241m=\u001b[39m \u001b[38;5;28;43msuper\u001b[39;49m\u001b[43m(\u001b[49m\u001b[43m)\u001b[49m\u001b[38;5;241;43m.\u001b[39;49m\u001b[43mgetresponse\u001b[49m\u001b[43m(\u001b[49m\u001b[43m)\u001b[49m\n\u001b[1;32m    463\u001b[0m \u001b[38;5;28;01mtry\u001b[39;00m:\n\u001b[1;32m    464\u001b[0m     assert_header_parsing(httplib_response\u001b[38;5;241m.\u001b[39mmsg)\n",
      "File \u001b[0;32m/usr/lib/python3.10/http/client.py:1375\u001b[0m, in \u001b[0;36mHTTPConnection.getresponse\u001b[0;34m(self)\u001b[0m\n\u001b[1;32m   1373\u001b[0m \u001b[38;5;28;01mtry\u001b[39;00m:\n\u001b[1;32m   1374\u001b[0m     \u001b[38;5;28;01mtry\u001b[39;00m:\n\u001b[0;32m-> 1375\u001b[0m         \u001b[43mresponse\u001b[49m\u001b[38;5;241;43m.\u001b[39;49m\u001b[43mbegin\u001b[49m\u001b[43m(\u001b[49m\u001b[43m)\u001b[49m\n\u001b[1;32m   1376\u001b[0m     \u001b[38;5;28;01mexcept\u001b[39;00m \u001b[38;5;167;01mConnectionError\u001b[39;00m:\n\u001b[1;32m   1377\u001b[0m         \u001b[38;5;28mself\u001b[39m\u001b[38;5;241m.\u001b[39mclose()\n",
      "File \u001b[0;32m/usr/lib/python3.10/http/client.py:318\u001b[0m, in \u001b[0;36mHTTPResponse.begin\u001b[0;34m(self)\u001b[0m\n\u001b[1;32m    316\u001b[0m \u001b[38;5;66;03m# read until we get a non-100 response\u001b[39;00m\n\u001b[1;32m    317\u001b[0m \u001b[38;5;28;01mwhile\u001b[39;00m \u001b[38;5;28;01mTrue\u001b[39;00m:\n\u001b[0;32m--> 318\u001b[0m     version, status, reason \u001b[38;5;241m=\u001b[39m \u001b[38;5;28;43mself\u001b[39;49m\u001b[38;5;241;43m.\u001b[39;49m\u001b[43m_read_status\u001b[49m\u001b[43m(\u001b[49m\u001b[43m)\u001b[49m\n\u001b[1;32m    319\u001b[0m     \u001b[38;5;28;01mif\u001b[39;00m status \u001b[38;5;241m!=\u001b[39m CONTINUE:\n\u001b[1;32m    320\u001b[0m         \u001b[38;5;28;01mbreak\u001b[39;00m\n",
      "File \u001b[0;32m/usr/lib/python3.10/http/client.py:279\u001b[0m, in \u001b[0;36mHTTPResponse._read_status\u001b[0;34m(self)\u001b[0m\n\u001b[1;32m    278\u001b[0m \u001b[38;5;28;01mdef\u001b[39;00m \u001b[38;5;21m_read_status\u001b[39m(\u001b[38;5;28mself\u001b[39m):\n\u001b[0;32m--> 279\u001b[0m     line \u001b[38;5;241m=\u001b[39m \u001b[38;5;28mstr\u001b[39m(\u001b[38;5;28;43mself\u001b[39;49m\u001b[38;5;241;43m.\u001b[39;49m\u001b[43mfp\u001b[49m\u001b[38;5;241;43m.\u001b[39;49m\u001b[43mreadline\u001b[49m\u001b[43m(\u001b[49m\u001b[43m_MAXLINE\u001b[49m\u001b[43m \u001b[49m\u001b[38;5;241;43m+\u001b[39;49m\u001b[43m \u001b[49m\u001b[38;5;241;43m1\u001b[39;49m\u001b[43m)\u001b[49m, \u001b[38;5;124m\"\u001b[39m\u001b[38;5;124miso-8859-1\u001b[39m\u001b[38;5;124m\"\u001b[39m)\n\u001b[1;32m    280\u001b[0m     \u001b[38;5;28;01mif\u001b[39;00m \u001b[38;5;28mlen\u001b[39m(line) \u001b[38;5;241m>\u001b[39m _MAXLINE:\n\u001b[1;32m    281\u001b[0m         \u001b[38;5;28;01mraise\u001b[39;00m LineTooLong(\u001b[38;5;124m\"\u001b[39m\u001b[38;5;124mstatus line\u001b[39m\u001b[38;5;124m\"\u001b[39m)\n",
      "File \u001b[0;32m/usr/lib/python3.10/socket.py:705\u001b[0m, in \u001b[0;36mSocketIO.readinto\u001b[0;34m(self, b)\u001b[0m\n\u001b[1;32m    703\u001b[0m \u001b[38;5;28;01mwhile\u001b[39;00m \u001b[38;5;28;01mTrue\u001b[39;00m:\n\u001b[1;32m    704\u001b[0m     \u001b[38;5;28;01mtry\u001b[39;00m:\n\u001b[0;32m--> 705\u001b[0m         \u001b[38;5;28;01mreturn\u001b[39;00m \u001b[38;5;28;43mself\u001b[39;49m\u001b[38;5;241;43m.\u001b[39;49m\u001b[43m_sock\u001b[49m\u001b[38;5;241;43m.\u001b[39;49m\u001b[43mrecv_into\u001b[49m\u001b[43m(\u001b[49m\u001b[43mb\u001b[49m\u001b[43m)\u001b[49m\n\u001b[1;32m    706\u001b[0m     \u001b[38;5;28;01mexcept\u001b[39;00m timeout:\n\u001b[1;32m    707\u001b[0m         \u001b[38;5;28mself\u001b[39m\u001b[38;5;241m.\u001b[39m_timeout_occurred \u001b[38;5;241m=\u001b[39m \u001b[38;5;28;01mTrue\u001b[39;00m\n",
      "File \u001b[0;32m/usr/lib/python3.10/ssl.py:1303\u001b[0m, in \u001b[0;36mSSLSocket.recv_into\u001b[0;34m(self, buffer, nbytes, flags)\u001b[0m\n\u001b[1;32m   1299\u001b[0m     \u001b[38;5;28;01mif\u001b[39;00m flags \u001b[38;5;241m!=\u001b[39m \u001b[38;5;241m0\u001b[39m:\n\u001b[1;32m   1300\u001b[0m         \u001b[38;5;28;01mraise\u001b[39;00m \u001b[38;5;167;01mValueError\u001b[39;00m(\n\u001b[1;32m   1301\u001b[0m           \u001b[38;5;124m\"\u001b[39m\u001b[38;5;124mnon-zero flags not allowed in calls to recv_into() on \u001b[39m\u001b[38;5;132;01m%s\u001b[39;00m\u001b[38;5;124m\"\u001b[39m \u001b[38;5;241m%\u001b[39m\n\u001b[1;32m   1302\u001b[0m           \u001b[38;5;28mself\u001b[39m\u001b[38;5;241m.\u001b[39m\u001b[38;5;18m__class__\u001b[39m)\n\u001b[0;32m-> 1303\u001b[0m     \u001b[38;5;28;01mreturn\u001b[39;00m \u001b[38;5;28;43mself\u001b[39;49m\u001b[38;5;241;43m.\u001b[39;49m\u001b[43mread\u001b[49m\u001b[43m(\u001b[49m\u001b[43mnbytes\u001b[49m\u001b[43m,\u001b[49m\u001b[43m \u001b[49m\u001b[43mbuffer\u001b[49m\u001b[43m)\u001b[49m\n\u001b[1;32m   1304\u001b[0m \u001b[38;5;28;01melse\u001b[39;00m:\n\u001b[1;32m   1305\u001b[0m     \u001b[38;5;28;01mreturn\u001b[39;00m \u001b[38;5;28msuper\u001b[39m()\u001b[38;5;241m.\u001b[39mrecv_into(buffer, nbytes, flags)\n",
      "File \u001b[0;32m/usr/lib/python3.10/ssl.py:1159\u001b[0m, in \u001b[0;36mSSLSocket.read\u001b[0;34m(self, len, buffer)\u001b[0m\n\u001b[1;32m   1157\u001b[0m \u001b[38;5;28;01mtry\u001b[39;00m:\n\u001b[1;32m   1158\u001b[0m     \u001b[38;5;28;01mif\u001b[39;00m buffer \u001b[38;5;129;01mis\u001b[39;00m \u001b[38;5;129;01mnot\u001b[39;00m \u001b[38;5;28;01mNone\u001b[39;00m:\n\u001b[0;32m-> 1159\u001b[0m         \u001b[38;5;28;01mreturn\u001b[39;00m \u001b[38;5;28;43mself\u001b[39;49m\u001b[38;5;241;43m.\u001b[39;49m\u001b[43m_sslobj\u001b[49m\u001b[38;5;241;43m.\u001b[39;49m\u001b[43mread\u001b[49m\u001b[43m(\u001b[49m\u001b[38;5;28;43mlen\u001b[39;49m\u001b[43m,\u001b[49m\u001b[43m \u001b[49m\u001b[43mbuffer\u001b[49m\u001b[43m)\u001b[49m\n\u001b[1;32m   1160\u001b[0m     \u001b[38;5;28;01melse\u001b[39;00m:\n\u001b[1;32m   1161\u001b[0m         \u001b[38;5;28;01mreturn\u001b[39;00m \u001b[38;5;28mself\u001b[39m\u001b[38;5;241m.\u001b[39m_sslobj\u001b[38;5;241m.\u001b[39mread(\u001b[38;5;28mlen\u001b[39m)\n",
      "\u001b[0;31mKeyboardInterrupt\u001b[0m: "
     ]
    }
   ],
   "source": [
    "first_id = int(\"1000000\", 36)  # todo find the ID of the first post we want to analyze\n",
    "last_id = int(\"k000000\", 36)  # todo find the ID of the last post we want to analyze\n",
    "with open(\"sample-all.csv\", \"a\") as file, open(\"misses.txt\", \"a\") as misses:\n",
    "    writer = csv.writer(file, quoting=csv.QUOTE_MINIMAL)\n",
    "    while True:\n",
    "        # IDs must be in lowercase base 36\n",
    "        ids = [\n",
    "            \"t1_\" + np.base_repr(random.randrange(first_id, last_id), 36).lower()\n",
    "            for _ in range(100)\n",
    "        ]\n",
    "        # Ask for info on 100 IDs at once because PRAW makes batches of 100\n",
    "        info = reddit.info(fullnames=ids)\n",
    "        try:\n",
    "            hits = []\n",
    "            for submission in info:\n",
    "                assert submission.name.startswith(\"t1\")\n",
    "                hits.append(submission.name)\n",
    "                # Only keep undeleted comments\n",
    "                if submission.body != \"[removed]\" and submission.body != \"[deleted]\":\n",
    "                    writer.writerow(comment_relevant_fields(submission))\n",
    "            misses.writelines(\n",
    "                id.removeprefix(\"t1_\") + \"\\n\" for id in ids if id not in hits\n",
    "            )\n",
    "        except Exception as e:\n",
    "            print(e, e.__class__, id)\n",
    "            break"
   ]
  },
  {
   "cell_type": "code",
   "execution_count": 9,
   "metadata": {},
   "outputs": [],
   "source": [
    "# Run to save state to pick back up later\n",
    "with open(\"rand-state.txt\", \"w\") as file:\n",
    "    file.write(str(random.getstate())) # todo serialize properly"
   ]
  },
  {
   "cell_type": "markdown",
   "metadata": {},
   "source": [
    "## Load comments"
   ]
  },
  {
   "cell_type": "code",
   "execution_count": 7,
   "metadata": {},
   "outputs": [
    {
     "data": {
      "text/html": [
       "<div>\n",
       "<style scoped>\n",
       "    .dataframe tbody tr th:only-of-type {\n",
       "        vertical-align: middle;\n",
       "    }\n",
       "\n",
       "    .dataframe tbody tr th {\n",
       "        vertical-align: top;\n",
       "    }\n",
       "\n",
       "    .dataframe thead th {\n",
       "        text-align: right;\n",
       "    }\n",
       "</style>\n",
       "<table border=\"1\" class=\"dataframe\">\n",
       "  <thead>\n",
       "    <tr style=\"text-align: right;\">\n",
       "      <th></th>\n",
       "      <th>name</th>\n",
       "      <th>subreddit</th>\n",
       "      <th>time</th>\n",
       "      <th>body</th>\n",
       "    </tr>\n",
       "  </thead>\n",
       "  <tbody>\n",
       "    <tr>\n",
       "      <th>0</th>\n",
       "      <td>ei5yh1p</td>\n",
       "      <td>Granblue_en</td>\n",
       "      <td>2019-03-09</td>\n",
       "      <td>Thank you! So it was working as intended. And ...</td>\n",
       "    </tr>\n",
       "    <tr>\n",
       "      <th>1</th>\n",
       "      <td>ftj6bfm</td>\n",
       "      <td>worldnews</td>\n",
       "      <td>2020-06-09</td>\n",
       "      <td>I am having a productive discussion by calling...</td>\n",
       "    </tr>\n",
       "    <tr>\n",
       "      <th>2</th>\n",
       "      <td>ikv838q</td>\n",
       "      <td>baseballcards</td>\n",
       "      <td>2022-08-18</td>\n",
       "      <td>I bought a box of NFL cards at a card show las...</td>\n",
       "    </tr>\n",
       "    <tr>\n",
       "      <th>3</th>\n",
       "      <td>c7ql4x6</td>\n",
       "      <td>gonewildcurvy</td>\n",
       "      <td>2013-01-03</td>\n",
       "      <td>How could I gorget that gorgeous body and that...</td>\n",
       "    </tr>\n",
       "    <tr>\n",
       "      <th>4</th>\n",
       "      <td>hps8193</td>\n",
       "      <td>dankmemes</td>\n",
       "      <td>2021-12-24</td>\n",
       "      <td>downvote this comment if the meme sucks. upvot...</td>\n",
       "    </tr>\n",
       "    <tr>\n",
       "      <th>...</th>\n",
       "      <td>...</td>\n",
       "      <td>...</td>\n",
       "      <td>...</td>\n",
       "      <td>...</td>\n",
       "    </tr>\n",
       "    <tr>\n",
       "      <th>50650</th>\n",
       "      <td>jogftzm</td>\n",
       "      <td>thickwhitegirls</td>\n",
       "      <td>2023-06-17</td>\n",
       "      <td>Just added you</td>\n",
       "    </tr>\n",
       "    <tr>\n",
       "      <th>50651</th>\n",
       "      <td>j6q59ku</td>\n",
       "      <td>BiggerThanYouThought</td>\n",
       "      <td>2023-01-31</td>\n",
       "      <td>Our subreddit has specific guidelines about th...</td>\n",
       "    </tr>\n",
       "    <tr>\n",
       "      <th>50652</th>\n",
       "      <td>jssxqfz</td>\n",
       "      <td>Antipsychiatry</td>\n",
       "      <td>2023-07-20</td>\n",
       "      <td>Yep, they certainly can. I was diagnosed with ...</td>\n",
       "    </tr>\n",
       "    <tr>\n",
       "      <th>50653</th>\n",
       "      <td>culh6jg</td>\n",
       "      <td>elderscrollsonline</td>\n",
       "      <td>2015-08-30</td>\n",
       "      <td>IC? What does that mean?</td>\n",
       "    </tr>\n",
       "    <tr>\n",
       "      <th>50654</th>\n",
       "      <td>hvwwfz7</td>\n",
       "      <td>martialarts</td>\n",
       "      <td>2022-02-07</td>\n",
       "      <td>Maybe not *that* often, but definitely a majority</td>\n",
       "    </tr>\n",
       "  </tbody>\n",
       "</table>\n",
       "<p>50655 rows × 4 columns</p>\n",
       "</div>"
      ],
      "text/plain": [
       "          name             subreddit        time  \\\n",
       "0      ei5yh1p           Granblue_en  2019-03-09   \n",
       "1      ftj6bfm             worldnews  2020-06-09   \n",
       "2      ikv838q         baseballcards  2022-08-18   \n",
       "3      c7ql4x6         gonewildcurvy  2013-01-03   \n",
       "4      hps8193             dankmemes  2021-12-24   \n",
       "...        ...                   ...         ...   \n",
       "50650  jogftzm       thickwhitegirls  2023-06-17   \n",
       "50651  j6q59ku  BiggerThanYouThought  2023-01-31   \n",
       "50652  jssxqfz        Antipsychiatry  2023-07-20   \n",
       "50653  culh6jg    elderscrollsonline  2015-08-30   \n",
       "50654  hvwwfz7           martialarts  2022-02-07   \n",
       "\n",
       "                                                    body  \n",
       "0      Thank you! So it was working as intended. And ...  \n",
       "1      I am having a productive discussion by calling...  \n",
       "2      I bought a box of NFL cards at a card show las...  \n",
       "3      How could I gorget that gorgeous body and that...  \n",
       "4      downvote this comment if the meme sucks. upvot...  \n",
       "...                                                  ...  \n",
       "50650                                     Just added you  \n",
       "50651  Our subreddit has specific guidelines about th...  \n",
       "50652  Yep, they certainly can. I was diagnosed with ...  \n",
       "50653                           IC? What does that mean?  \n",
       "50654  Maybe not *that* often, but definitely a majority  \n",
       "\n",
       "[50655 rows x 4 columns]"
      ]
     },
     "execution_count": 7,
     "metadata": {},
     "output_type": "execute_result"
    }
   ],
   "source": [
    "from datetime import datetime\n",
    "\n",
    "df = pd.read_csv(\"sample-all.csv\", names=COMMENT_COLS)\n",
    "df.drop_duplicates(inplace=True)\n",
    "df[\"body\"] = df[\"body\"].map(str)\n",
    "df[\"time\"] = df[\"time\"].map(lambda ts: datetime.fromtimestamp(ts).date())\n",
    "df"
   ]
  },
  {
   "cell_type": "code",
   "execution_count": 12,
   "metadata": {},
   "outputs": [],
   "source": [
    "def matches(body, keywords=keywords):\n",
    "    for keyword in keywords:\n",
    "        if keyword in body:\n",
    "            return True\n",
    "    return False"
   ]
  },
  {
   "cell_type": "code",
   "execution_count": 8,
   "metadata": {},
   "outputs": [
    {
     "data": {
      "text/html": [
       "<div>\n",
       "<style scoped>\n",
       "    .dataframe tbody tr th:only-of-type {\n",
       "        vertical-align: middle;\n",
       "    }\n",
       "\n",
       "    .dataframe tbody tr th {\n",
       "        vertical-align: top;\n",
       "    }\n",
       "\n",
       "    .dataframe thead th {\n",
       "        text-align: right;\n",
       "    }\n",
       "</style>\n",
       "<table border=\"1\" class=\"dataframe\">\n",
       "  <thead>\n",
       "    <tr style=\"text-align: right;\">\n",
       "      <th></th>\n",
       "      <th>name</th>\n",
       "      <th>subreddit</th>\n",
       "      <th>time</th>\n",
       "      <th>body</th>\n",
       "    </tr>\n",
       "  </thead>\n",
       "  <tbody>\n",
       "    <tr>\n",
       "      <th>21</th>\n",
       "      <td>fszn69a</td>\n",
       "      <td>Showerthoughts</td>\n",
       "      <td>2020-06-05</td>\n",
       "      <td>i think it’s actually the massive amounts of m...</td>\n",
       "    </tr>\n",
       "    <tr>\n",
       "      <th>54</th>\n",
       "      <td>ei0m7ng</td>\n",
       "      <td>Granblue_en</td>\n",
       "      <td>2019-03-07</td>\n",
       "      <td>yeah, i actually really like how they didn't j...</td>\n",
       "    </tr>\n",
       "    <tr>\n",
       "      <th>108</th>\n",
       "      <td>i1bmnrr</td>\n",
       "      <td>u/jesterboyd</td>\n",
       "      <td>2022-03-19</td>\n",
       "      <td>one of the problems is that people on the far-...</td>\n",
       "    </tr>\n",
       "    <tr>\n",
       "      <th>191</th>\n",
       "      <td>icu1wl8</td>\n",
       "      <td>Damnthatsinteresting</td>\n",
       "      <td>2022-06-18</td>\n",
       "      <td>yes new york is so beautiful so many homeless ...</td>\n",
       "    </tr>\n",
       "    <tr>\n",
       "      <th>330</th>\n",
       "      <td>g139g81</td>\n",
       "      <td>AmItheAsshole</td>\n",
       "      <td>2020-08-11</td>\n",
       "      <td>yta. shaming people for their weight doesn’t w...</td>\n",
       "    </tr>\n",
       "    <tr>\n",
       "      <th>...</th>\n",
       "      <td>...</td>\n",
       "      <td>...</td>\n",
       "      <td>...</td>\n",
       "      <td>...</td>\n",
       "    </tr>\n",
       "    <tr>\n",
       "      <th>50351</th>\n",
       "      <td>houl0tj</td>\n",
       "      <td>WaterCoolerWednesday</td>\n",
       "      <td>2021-12-16</td>\n",
       "      <td>raiders fans getting ptsd hearing nick mullens...</td>\n",
       "    </tr>\n",
       "    <tr>\n",
       "      <th>50509</th>\n",
       "      <td>f85mc24</td>\n",
       "      <td>Parenting</td>\n",
       "      <td>2019-11-20</td>\n",
       "      <td>as someone who works with abusers i understand...</td>\n",
       "    </tr>\n",
       "    <tr>\n",
       "      <th>50547</th>\n",
       "      <td>jlg1bns</td>\n",
       "      <td>AskMen</td>\n",
       "      <td>2023-05-24</td>\n",
       "      <td>no it is not. if your partner did hard drugs o...</td>\n",
       "    </tr>\n",
       "    <tr>\n",
       "      <th>50618</th>\n",
       "      <td>ge69kzz</td>\n",
       "      <td>AskReddit</td>\n",
       "      <td>2020-11-30</td>\n",
       "      <td>many of my friends have gotten addicted to che...</td>\n",
       "    </tr>\n",
       "    <tr>\n",
       "      <th>50652</th>\n",
       "      <td>jssxqfz</td>\n",
       "      <td>Antipsychiatry</td>\n",
       "      <td>2023-07-20</td>\n",
       "      <td>yep, they certainly can. i was diagnosed with ...</td>\n",
       "    </tr>\n",
       "  </tbody>\n",
       "</table>\n",
       "<p>804 rows × 4 columns</p>\n",
       "</div>"
      ],
      "text/plain": [
       "          name             subreddit        time  \\\n",
       "21     fszn69a        Showerthoughts  2020-06-05   \n",
       "54     ei0m7ng           Granblue_en  2019-03-07   \n",
       "108    i1bmnrr          u/jesterboyd  2022-03-19   \n",
       "191    icu1wl8  Damnthatsinteresting  2022-06-18   \n",
       "330    g139g81         AmItheAsshole  2020-08-11   \n",
       "...        ...                   ...         ...   \n",
       "50351  houl0tj  WaterCoolerWednesday  2021-12-16   \n",
       "50509  f85mc24             Parenting  2019-11-20   \n",
       "50547  jlg1bns                AskMen  2023-05-24   \n",
       "50618  ge69kzz             AskReddit  2020-11-30   \n",
       "50652  jssxqfz        Antipsychiatry  2023-07-20   \n",
       "\n",
       "                                                    body  \n",
       "21     i think it’s actually the massive amounts of m...  \n",
       "54     yeah, i actually really like how they didn't j...  \n",
       "108    one of the problems is that people on the far-...  \n",
       "191    yes new york is so beautiful so many homeless ...  \n",
       "330    yta. shaming people for their weight doesn’t w...  \n",
       "...                                                  ...  \n",
       "50351  raiders fans getting ptsd hearing nick mullens...  \n",
       "50509  as someone who works with abusers i understand...  \n",
       "50547  no it is not. if your partner did hard drugs o...  \n",
       "50618  many of my friends have gotten addicted to che...  \n",
       "50652  yep, they certainly can. i was diagnosed with ...  \n",
       "\n",
       "[804 rows x 4 columns]"
      ]
     },
     "execution_count": 8,
     "metadata": {},
     "output_type": "execute_result"
    }
   ],
   "source": [
    "df[\"body\"] = df[\"body\"].map(lambda body: body.lower().strip())\n",
    "matched_rows = df[df[\"body\"].map(matches)]\n",
    "matched_rows"
   ]
  },
  {
   "cell_type": "code",
   "execution_count": 33,
   "metadata": {},
   "outputs": [
    {
     "data": {
      "text/plain": [
       "21438    being perpetually confused by neurotypical hum...\n",
       "48970    that's my experience at the moment. i have adh...\n",
       "Name: body, dtype: object"
      ]
     },
     "execution_count": 33,
     "metadata": {},
     "output_type": "execute_result"
    }
   ],
   "source": [
    "df[df[\"body\"].map(lambda text: matches(text, keywords=[\"neurodiverge\"]))][\"body\"]"
   ]
  },
  {
   "cell_type": "code",
   "execution_count": 30,
   "metadata": {},
   "outputs": [
    {
     "data": {
      "text/plain": [
       "{'trauma': 46,\n",
       " 'gaslight': 10,\n",
       " 'trigger': 90,\n",
       " 'toxic': 63,\n",
       " 'woke': 37,\n",
       " 'manipulat': 54,\n",
       " 'microaggression': 0,\n",
       " 'autis': 22,\n",
       " 'adhd': 22,\n",
       " 'ocd': 11,\n",
       " 'ptsd': 16,\n",
       " 'bipolar': 6,\n",
       " 'anxiety': 70,\n",
       " 'depress': 83,\n",
       " 'psycho': 69,\n",
       " 'delusion': 30,\n",
       " 'delulu': 0,\n",
       " 'solulu': 0,\n",
       " 'addict': 89,\n",
       " 'abus': 138,\n",
       " 'unstable': 10,\n",
       " 'narcissis': 23,\n",
       " 'neurodivergen': 1}"
      ]
     },
     "execution_count": 30,
     "metadata": {},
     "output_type": "execute_result"
    }
   ],
   "source": [
    "{\n",
    "    keyword: len(matched_rows[matched_rows[\"body\"].map(lambda body: keyword in body)])\n",
    "    for keyword in keywords\n",
    "}"
   ]
  },
  {
   "cell_type": "code",
   "execution_count": 31,
   "metadata": {},
   "outputs": [
    {
     "data": {
      "text/html": [
       "<div>\n",
       "<style scoped>\n",
       "    .dataframe tbody tr th:only-of-type {\n",
       "        vertical-align: middle;\n",
       "    }\n",
       "\n",
       "    .dataframe tbody tr th {\n",
       "        vertical-align: top;\n",
       "    }\n",
       "\n",
       "    .dataframe thead th {\n",
       "        text-align: right;\n",
       "    }\n",
       "</style>\n",
       "<table border=\"1\" class=\"dataframe\">\n",
       "  <thead>\n",
       "    <tr style=\"text-align: right;\">\n",
       "      <th></th>\n",
       "      <th>name</th>\n",
       "      <th>subreddit</th>\n",
       "      <th>time</th>\n",
       "      <th>body</th>\n",
       "    </tr>\n",
       "  </thead>\n",
       "  <tbody>\n",
       "    <tr>\n",
       "      <th>36385</th>\n",
       "      <td>ca06ttw</td>\n",
       "      <td>mindcrack</td>\n",
       "      <td>2013-05-16</td>\n",
       "      <td>There you go ya bot. Okay: Will Sobriety get K...</td>\n",
       "    </tr>\n",
       "  </tbody>\n",
       "</table>\n",
       "</div>"
      ],
      "text/plain": [
       "          name  subreddit        time  \\\n",
       "36385  ca06ttw  mindcrack  2013-05-16   \n",
       "\n",
       "                                                    body  \n",
       "36385  There you go ya bot. Okay: Will Sobriety get K...  "
      ]
     },
     "execution_count": 31,
     "metadata": {},
     "output_type": "execute_result"
    }
   ],
   "source": [
    "df[lengths > 10000]"
   ]
  },
  {
   "cell_type": "code",
   "execution_count": 32,
   "metadata": {},
   "outputs": [
    {
     "data": {
      "text/plain": [
       "[None]"
      ]
     },
     "execution_count": 32,
     "metadata": {},
     "output_type": "execute_result"
    },
    {
     "data": {
      "image/png": "[encoded data removed]",
      "text/plain": [
       "<Figure size 640x480 with 1 Axes>"
      ]
     },
     "metadata": {},
     "output_type": "display_data"
    }
   ],
   "source": [
    "lengths = df[\"body\"].map(len)\n",
    "ax = sns.histplot(\n",
    "    lengths[lengths <= 10000],\n",
    "    binwidth=200,\n",
    "    # log_scale=True\n",
    ")\n",
    "ax.set(xlabel = \"Body length (characters)\")\n",
    "ax.set(yscale = \"log\")"
   ]
  },
  {
   "cell_type": "code",
   "execution_count": 17,
   "metadata": {},
   "outputs": [
    {
     "data": {
      "text/plain": [
       "<Axes: xlabel='time', ylabel='Count'>"
      ]
     },
     "execution_count": 17,
     "metadata": {},
     "output_type": "execute_result"
    },
    {
     "data": {
      "image/png": "[encoded data removed]",
      "text/plain": [
       "<Figure size 1300x500 with 1 Axes>"
      ]
     },
     "metadata": {},
     "output_type": "display_data"
    }
   ],
   "source": [
    "from datetime import timedelta\n",
    "\n",
    "plt.figure(figsize=(13, 5))\n",
    "sns.histplot(data=df, x=\"time\", binwidth=timedelta(days=30))"
   ]
  },
  {
   "cell_type": "markdown",
   "metadata": {},
   "source": [
    "# Distributed Sampling?"
   ]
  },
  {
   "cell_type": "code",
   "execution_count": 2,
   "metadata": {},
   "outputs": [],
   "source": [
    "class Generator:\n",
    "    def __init__(\n",
    "        self,\n",
    "        seed: int,\n",
    "        end: int,\n",
    "        step: int,\n",
    "        iter_num: int = 0,\n",
    "        id: Optional[int] = None,\n",
    "    ):\n",
    "        \"\"\"\n",
    "        # Parameters\n",
    "        * `seed` - Seed to shuffle starts\n",
    "        * `end` - Where the generator ends\n",
    "        * `step` - Step size\n",
    "        * `iter_num` - How many times we've reached `end` (0 for very start)\n",
    "        * `id` - The last generated id\"\"\"\n",
    "\n",
    "        self.end = end\n",
    "        self.step = step\n",
    "\n",
    "        rand = random.Random(seed)\n",
    "        self.all_starts = list(range(step))\n",
    "        rand.shuffle(self.all_starts)\n",
    "\n",
    "        for _ in range(iter_num):\n",
    "            self.all_starts.pop()\n",
    "\n",
    "        if id is not None:\n",
    "            self.id = id\n",
    "        else:\n",
    "            self.id = self.all_starts.pop() - step\n",
    "\n",
    "    def get_state(self):\n",
    "        iter_num = self.step - len(self.all_starts)\n",
    "        return (self.seed, self.end, self.step, iter_num, self.id)\n",
    "\n",
    "    def __next__(self):\n",
    "        self.id = self.id + self.step\n",
    "        if self.id <= self.end:\n",
    "            return self.id\n",
    "\n",
    "        self.id = self.all_starts.pop()\n",
    "        return self.id"
   ]
  },
  {
   "cell_type": "code",
   "execution_count": 54,
   "metadata": {},
   "outputs": [
    {
     "data": {
      "image/png": "[encoded data removed]",
      "text/plain": [
       "<Figure size 2300x200 with 2 Axes>"
      ]
     },
     "metadata": {},
     "output_type": "display_data"
    }
   ],
   "source": [
    "import matplotlib.pyplot as plt\n",
    "import matplotlib.animation as animation\n",
    "import seaborn as sns\n",
    "\n",
    "\n",
    "num_comps = 3\n",
    "end = num_comps**4  # 81 IDs in all\n",
    "gens = [\n",
    "    Generator(seed=i, end=end // num_comps - 1, step=num_comps * num_comps)\n",
    "    for i in range(num_comps)\n",
    "]\n",
    "\n",
    "mat = [[0 for _ in range(end // num_comps)] for _ in range(num_comps)]\n",
    "ids = [[j * num_comps + i for j in range(end // num_comps)] for i in range(num_comps)]\n",
    "\n",
    "fig = plt.figure(figsize=(23, 2))\n",
    "\n",
    "def init():\n",
    "    sns.heatmap(\n",
    "        mat,\n",
    "        vmin=0,\n",
    "        vmax=len(gens),\n",
    "        cbar_kws={\"ticks\": list(range(len(gens) + 1))},\n",
    "        cmap=sns.color_palette(\"Set2\"),\n",
    "        annot=ids,\n",
    "        fmt=\"02d\",\n",
    "        # square=True,\n",
    "    )\n",
    "\n",
    "\n",
    "def animate(i):\n",
    "    for i, gen in enumerate(gens):\n",
    "        id = next(gen)\n",
    "        assert mat[i][id] == 0\n",
    "        mat[i][id] = i + 1\n",
    "    sns.heatmap(mat, cbar=False, cmap=sns.color_palette(\"Set2\"))\n",
    "\n",
    "\n",
    "anim = animation.FuncAnimation(\n",
    "    fig, animate, init_func=init, repeat=False, frames=end // num_comps,\n",
    ")\n",
    "anim.save(\"foo.mp4\")\n",
    "plt.show()"
   ]
  }
 ],
 "metadata": {
  "kernelspec": {
   "display_name": "Python 3",
   "language": "python",
   "name": "python3"
  },
  "language_info": {
   "codemirror_mode": {
    "name": "ipython",
    "version": 3
   },
   "file_extension": ".py",
   "mimetype": "text/x-python",
   "name": "python",
   "nbconvert_exporter": "python",
   "pygments_lexer": "ipython3",
   "version": "3.10.12"
  }
 },
 "nbformat": 4,
 "nbformat_minor": 2
}
